{
 "cells": [
  {
   "cell_type": "markdown",
   "metadata": {},
   "source": [
    "# Phase 3 Code Challenge Review\n",
    "\n",
    "Made using resources from the Seattle team - thanks y'all."
   ]
  },
  {
   "cell_type": "markdown",
   "metadata": {},
   "source": [
    "## Overview\n",
    "\n",
    "* Gradient Descent\n",
    "* Logistic Regression\n",
    "* Classification Metrics\n",
    "* Decision Trees"
   ]
  },
  {
   "cell_type": "code",
<<<<<<< HEAD
   "execution_count": 85,
=======
   "execution_count": 20,
>>>>>>> upstream/master
   "metadata": {},
   "outputs": [],
   "source": [
    "# Imports\n",
    "import pandas as pd\n",
    "import numpy as np\n",
    "\n",
    "import matplotlib.pyplot as plt\n",
    "import seaborn as sns\n",
    "\n",
    "from sklearn.preprocessing import StandardScaler\n",
    "from sklearn.linear_model import LogisticRegression\n",
    "from sklearn.tree import DecisionTreeClassifier\n",
    "from sklearn.model_selection import train_test_split\n",
    "from sklearn.metrics import accuracy_score, recall_score, precision_score, f1_score\n",
    "from sklearn.metrics import plot_confusion_matrix\n",
    "from sklearn.metrics import roc_auc_score, plot_roc_curve\n",
    "from sklearn.tree import export_graphviz"
   ]
  },
  {
   "cell_type": "code",
<<<<<<< HEAD
   "execution_count": 11,
=======
   "execution_count": 21,
>>>>>>> upstream/master
   "metadata": {},
   "outputs": [],
   "source": [
    "from src.call import call_on_students"
   ]
  },
  {
   "cell_type": "markdown",
   "metadata": {},
   "source": [
    "## Part 1: Gradient Descent"
   ]
  },
  {
   "cell_type": "markdown",
   "metadata": {},
   "source": [
    "### Set Up"
   ]
  },
  {
   "cell_type": "code",
<<<<<<< HEAD
   "execution_count": 12,
=======
   "execution_count": 22,
>>>>>>> upstream/master
   "metadata": {},
   "outputs": [],
   "source": [
    "# Grab the data from 'auto-mpg.csv'\n",
    "mpg_df = pd.read_csv(\"data/auto-mpg.csv\")"
   ]
  },
  {
   "cell_type": "code",
<<<<<<< HEAD
   "execution_count": 13,
=======
   "execution_count": 23,
>>>>>>> upstream/master
   "metadata": {},
   "outputs": [
    {
     "data": {
      "text/html": [
       "<div>\n",
       "<style scoped>\n",
       "    .dataframe tbody tr th:only-of-type {\n",
       "        vertical-align: middle;\n",
       "    }\n",
       "\n",
       "    .dataframe tbody tr th {\n",
       "        vertical-align: top;\n",
       "    }\n",
       "\n",
       "    .dataframe thead th {\n",
       "        text-align: right;\n",
       "    }\n",
       "</style>\n",
       "<table border=\"1\" class=\"dataframe\">\n",
       "  <thead>\n",
       "    <tr style=\"text-align: right;\">\n",
       "      <th></th>\n",
       "      <th>mpg</th>\n",
       "      <th>cylinders</th>\n",
       "      <th>displacement</th>\n",
       "      <th>horsepower</th>\n",
       "      <th>weight</th>\n",
       "      <th>acceleration</th>\n",
       "      <th>model year</th>\n",
       "      <th>origin</th>\n",
       "      <th>car name</th>\n",
       "    </tr>\n",
       "  </thead>\n",
       "  <tbody>\n",
       "    <tr>\n",
       "      <th>0</th>\n",
       "      <td>18.0</td>\n",
       "      <td>8</td>\n",
       "      <td>307.0</td>\n",
       "      <td>130</td>\n",
       "      <td>3504</td>\n",
       "      <td>12.0</td>\n",
       "      <td>70</td>\n",
       "      <td>1</td>\n",
       "      <td>chevrolet chevelle malibu</td>\n",
       "    </tr>\n",
       "    <tr>\n",
       "      <th>1</th>\n",
       "      <td>15.0</td>\n",
       "      <td>8</td>\n",
       "      <td>350.0</td>\n",
       "      <td>165</td>\n",
       "      <td>3693</td>\n",
       "      <td>11.5</td>\n",
       "      <td>70</td>\n",
       "      <td>1</td>\n",
       "      <td>buick skylark 320</td>\n",
       "    </tr>\n",
       "    <tr>\n",
       "      <th>2</th>\n",
       "      <td>18.0</td>\n",
       "      <td>8</td>\n",
       "      <td>318.0</td>\n",
       "      <td>150</td>\n",
       "      <td>3436</td>\n",
       "      <td>11.0</td>\n",
       "      <td>70</td>\n",
       "      <td>1</td>\n",
       "      <td>plymouth satellite</td>\n",
       "    </tr>\n",
       "    <tr>\n",
       "      <th>3</th>\n",
       "      <td>16.0</td>\n",
       "      <td>8</td>\n",
       "      <td>304.0</td>\n",
       "      <td>150</td>\n",
       "      <td>3433</td>\n",
       "      <td>12.0</td>\n",
       "      <td>70</td>\n",
       "      <td>1</td>\n",
       "      <td>amc rebel sst</td>\n",
       "    </tr>\n",
       "    <tr>\n",
       "      <th>4</th>\n",
       "      <td>17.0</td>\n",
       "      <td>8</td>\n",
       "      <td>302.0</td>\n",
       "      <td>140</td>\n",
       "      <td>3449</td>\n",
       "      <td>10.5</td>\n",
       "      <td>70</td>\n",
       "      <td>1</td>\n",
       "      <td>ford torino</td>\n",
       "    </tr>\n",
       "  </tbody>\n",
       "</table>\n",
       "</div>"
      ],
      "text/plain": [
       "    mpg  cylinders  displacement  horsepower  weight  acceleration  \\\n",
       "0  18.0          8         307.0         130    3504          12.0   \n",
       "1  15.0          8         350.0         165    3693          11.5   \n",
       "2  18.0          8         318.0         150    3436          11.0   \n",
       "3  16.0          8         304.0         150    3433          12.0   \n",
       "4  17.0          8         302.0         140    3449          10.5   \n",
       "\n",
       "   model year  origin                   car name  \n",
       "0          70       1  chevrolet chevelle malibu  \n",
       "1          70       1          buick skylark 320  \n",
       "2          70       1         plymouth satellite  \n",
       "3          70       1              amc rebel sst  \n",
       "4          70       1                ford torino  "
      ]
     },
<<<<<<< HEAD
     "execution_count": 13,
=======
     "execution_count": 23,
>>>>>>> upstream/master
     "metadata": {},
     "output_type": "execute_result"
    }
   ],
   "source": [
    "# Explore the data\n",
    "mpg_df.head()"
   ]
  },
  {
   "cell_type": "code",
<<<<<<< HEAD
   "execution_count": 14,
=======
   "execution_count": 24,
>>>>>>> upstream/master
   "metadata": {},
   "outputs": [
    {
     "data": {
<<<<<<< HEAD
      "image/png": "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\n",
=======
      "image/png": "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\n",
>>>>>>> upstream/master
      "text/plain": [
       "<Figure size 576x432 with 1 Axes>"
      ]
     },
     "metadata": {
      "needs_background": "light"
     },
     "output_type": "display_data"
    }
   ],
   "source": [
    "# Let's plot a simple linear regression line using just the horsepower column\n",
    "plt.figure(figsize=(8, 6))\n",
    "sns.regplot(x='horsepower', y='mpg', data=mpg_df, line_kws={\"color\":\"orange\"})\n",
    "plt.title('Relationship Between Horsepower and MPG')\n",
    "plt.xlim(0, 250)\n",
    "plt.show()"
   ]
  },
  {
   "cell_type": "markdown",
   "metadata": {},
   "source": [
    "The above graph shows an approximate best fit line for the relationship between `horsepower` and `mpg` in our data.\n"
   ]
  },
  {
   "cell_type": "markdown",
   "metadata": {},
   "source": [
    "### 1) Describe the below chart: What is it showing? What does it tell us?\n",
    "\n",
    "![Slope-RSS relationship image](images/slope-rss-relationship.png)"
   ]
  },
  {
   "cell_type": "code",
<<<<<<< HEAD
   "execution_count": 29,
=======
   "execution_count": 25,
>>>>>>> upstream/master
   "metadata": {},
   "outputs": [
    {
     "name": "stdout",
     "output_type": "stream",
     "text": [
      "['Musa']\n"
     ]
    }
   ],
   "source": [
    "call_on_students(1)"
   ]
  },
  {
   "cell_type": "markdown",
   "metadata": {},
   "source": [
    "#### Answer: \n",
    "\n",
    " - variance between regression line and data points\n",
    " - where cost function is a \n"
   ]
  },
  {
   "cell_type": "markdown",
   "metadata": {},
   "source": [
    "### 2) Imagine that you're starting at a slope towards the top upper left corner. Using Zoom's annotate feature, demonstrate how gradient descent would work "
   ]
  },
  {
   "cell_type": "code",
<<<<<<< HEAD
   "execution_count": 16,
=======
   "execution_count": 26,
>>>>>>> upstream/master
   "metadata": {},
   "outputs": [
    {
     "name": "stdout",
     "output_type": "stream",
     "text": [
      "['Jalil']\n"
     ]
    }
   ],
   "source": [
    "call_on_students(1)"
   ]
  },
  {
   "cell_type": "markdown",
   "metadata": {},
   "source": [
    "### 3) What is a step size when talking about gradient descent? How does learning rate regulate step size?"
   ]
  },
  {
   "cell_type": "code",
<<<<<<< HEAD
   "execution_count": 17,
=======
   "execution_count": 27,
>>>>>>> upstream/master
   "metadata": {},
   "outputs": [
    {
     "name": "stdout",
     "output_type": "stream",
     "text": [
      "['Trystan']\n"
     ]
    }
   ],
   "source": [
    "call_on_students(1)"
   ]
  },
  {
   "cell_type": "markdown",
   "metadata": {},
   "source": [
    "#### Answer: \n",
    "\n",
    "- gradient * learning rate = step size\n",
    "\n"
   ]
  },
  {
   "cell_type": "markdown",
   "metadata": {},
   "source": [
    "## Part 2: Logistic Regression"
   ]
  },
  {
   "cell_type": "markdown",
   "metadata": {},
   "source": [
    "### 4) Describe a logistic regression model:\n",
    "\n",
    "- What kind of target is a logistic regression model used for?\n",
    "- What are the predictions that a logistic regression model outputs?\n",
    "- How is it different from linear regression?\n",
    "- Is it a parametric or non-parametric model?"
   ]
  },
  {
   "cell_type": "code",
<<<<<<< HEAD
   "execution_count": 18,
=======
   "execution_count": 28,
>>>>>>> upstream/master
   "metadata": {},
   "outputs": [
    {
     "name": "stdout",
     "output_type": "stream",
     "text": [
      "['Jeff']\n"
     ]
    }
   ],
   "source": [
    "call_on_students(1)"
   ]
  },
  {
   "cell_type": "markdown",
   "metadata": {},
   "source": [
    "#### Answer: \n",
    "\n",
    "- \n"
   ]
  },
  {
   "cell_type": "markdown",
   "metadata": {},
   "source": [
    "### 5) Compare a logistic regression model to any of the other model types we've learned:\n",
    "\n",
    "- List one benefit of logistic regression when compared to the other model type\n",
    "- List one reason the other model type might be more useful"
   ]
  },
  {
   "cell_type": "code",
<<<<<<< HEAD
   "execution_count": 19,
=======
   "execution_count": 30,
>>>>>>> upstream/master
   "metadata": {},
   "outputs": [
    {
     "name": "stdout",
     "output_type": "stream",
     "text": [
      "['Pedro']\n"
     ]
    }
   ],
   "source": [
    "call_on_students(1)"
   ]
  },
  {
   "cell_type": "markdown",
   "metadata": {},
   "source": [
    "#### Answer: \n",
    "\n",
    "- KNN is prone to overfitting and very slow. \n",
    "+ KNN is very simple to understand, it can model complex boundaries very easily\n"
   ]
  },
  {
   "cell_type": "markdown",
   "metadata": {},
   "source": [
    "## Part 3: Logistic Regression and Classification Metrics with Code\n",
    "\n",
    "### Set Up"
   ]
  },
  {
   "cell_type": "code",
<<<<<<< HEAD
   "execution_count": 20,
=======
   "execution_count": 31,
>>>>>>> upstream/master
   "metadata": {},
   "outputs": [],
   "source": [
    "# Let's use the same data, but now with a classification target\n",
    "mpg_class = pd.read_csv('data/auto-mpg-classification.csv')"
   ]
  },
  {
   "cell_type": "code",
<<<<<<< HEAD
   "execution_count": 21,
   "metadata": {
    "scrolled": true
   },
=======
   "execution_count": 32,
   "metadata": {},
>>>>>>> upstream/master
   "outputs": [
    {
     "data": {
      "text/html": [
       "<div>\n",
       "<style scoped>\n",
       "    .dataframe tbody tr th:only-of-type {\n",
       "        vertical-align: middle;\n",
       "    }\n",
       "\n",
       "    .dataframe tbody tr th {\n",
       "        vertical-align: top;\n",
       "    }\n",
       "\n",
       "    .dataframe thead th {\n",
       "        text-align: right;\n",
       "    }\n",
       "</style>\n",
       "<table border=\"1\" class=\"dataframe\">\n",
       "  <thead>\n",
       "    <tr style=\"text-align: right;\">\n",
       "      <th></th>\n",
       "      <th>cylinders</th>\n",
       "      <th>displacement</th>\n",
       "      <th>horsepower</th>\n",
       "      <th>weight</th>\n",
       "      <th>acceleration</th>\n",
       "      <th>model year</th>\n",
       "      <th>origin</th>\n",
       "      <th>target</th>\n",
       "    </tr>\n",
       "  </thead>\n",
       "  <tbody>\n",
       "    <tr>\n",
       "      <th>0</th>\n",
       "      <td>8</td>\n",
       "      <td>307.0</td>\n",
       "      <td>130</td>\n",
       "      <td>3504</td>\n",
       "      <td>12.0</td>\n",
       "      <td>70</td>\n",
       "      <td>1</td>\n",
       "      <td>0</td>\n",
       "    </tr>\n",
       "    <tr>\n",
       "      <th>1</th>\n",
       "      <td>8</td>\n",
       "      <td>350.0</td>\n",
       "      <td>165</td>\n",
       "      <td>3693</td>\n",
       "      <td>11.5</td>\n",
       "      <td>70</td>\n",
       "      <td>1</td>\n",
       "      <td>1</td>\n",
       "    </tr>\n",
       "    <tr>\n",
       "      <th>2</th>\n",
       "      <td>8</td>\n",
       "      <td>318.0</td>\n",
       "      <td>150</td>\n",
       "      <td>3436</td>\n",
       "      <td>11.0</td>\n",
       "      <td>70</td>\n",
       "      <td>1</td>\n",
       "      <td>0</td>\n",
       "    </tr>\n",
       "    <tr>\n",
       "      <th>3</th>\n",
       "      <td>8</td>\n",
       "      <td>304.0</td>\n",
       "      <td>150</td>\n",
       "      <td>3433</td>\n",
       "      <td>12.0</td>\n",
       "      <td>70</td>\n",
       "      <td>1</td>\n",
       "      <td>1</td>\n",
       "    </tr>\n",
       "    <tr>\n",
       "      <th>4</th>\n",
       "      <td>8</td>\n",
       "      <td>302.0</td>\n",
       "      <td>140</td>\n",
       "      <td>3449</td>\n",
       "      <td>10.5</td>\n",
       "      <td>70</td>\n",
       "      <td>1</td>\n",
       "      <td>1</td>\n",
       "    </tr>\n",
       "  </tbody>\n",
       "</table>\n",
       "</div>"
      ],
      "text/plain": [
       "   cylinders  displacement  horsepower  weight  acceleration  model year  \\\n",
       "0          8         307.0         130    3504          12.0          70   \n",
       "1          8         350.0         165    3693          11.5          70   \n",
       "2          8         318.0         150    3436          11.0          70   \n",
       "3          8         304.0         150    3433          12.0          70   \n",
       "4          8         302.0         140    3449          10.5          70   \n",
       "\n",
       "   origin  target  \n",
       "0       1       0  \n",
       "1       1       1  \n",
       "2       1       0  \n",
       "3       1       1  \n",
       "4       1       1  "
      ]
     },
<<<<<<< HEAD
     "execution_count": 21,
=======
     "execution_count": 32,
>>>>>>> upstream/master
     "metadata": {},
     "output_type": "execute_result"
    }
   ],
   "source": [
    "# Check this new dataframe out\n",
    "mpg_class.head()"
   ]
  },
  {
   "cell_type": "code",
   "execution_count": 28,
   "metadata": {},
   "outputs": [
    {
     "name": "stdout",
     "output_type": "stream",
     "text": [
      "<class 'pandas.core.frame.DataFrame'>\n",
      "RangeIndex: 392 entries, 0 to 391\n",
      "Data columns (total 8 columns):\n",
      " #   Column        Non-Null Count  Dtype  \n",
      "---  ------        --------------  -----  \n",
      " 0   cylinders     392 non-null    int64  \n",
      " 1   displacement  392 non-null    float64\n",
      " 2   horsepower    392 non-null    int64  \n",
      " 3   weight        392 non-null    int64  \n",
      " 4   acceleration  392 non-null    float64\n",
      " 5   model year    392 non-null    int64  \n",
      " 6   origin        392 non-null    int64  \n",
      " 7   target        392 non-null    int64  \n",
      "dtypes: float64(2), int64(6)\n",
      "memory usage: 24.6 KB\n"
     ]
    }
   ],
   "source": [
    "mpg_class.info()"
   ]
  },
  {
   "cell_type": "markdown",
   "metadata": {},
   "source": [
    "### 6) Prepare our data for modeling:\n",
    "\n",
    "1. Perform a train/test split\n",
    "2. Scale the inputs\n"
   ]
  },
  {
   "cell_type": "code",
<<<<<<< HEAD
   "execution_count": 22,
=======
   "execution_count": 33,
>>>>>>> upstream/master
   "metadata": {},
   "outputs": [
    {
     "name": "stdout",
     "output_type": "stream",
     "text": [
      "['Danielle']\n"
     ]
    }
   ],
   "source": [
    "call_on_students(1)"
   ]
  },
  {
   "cell_type": "code",
<<<<<<< HEAD
   "execution_count": 45,
=======
   "execution_count": 36,
>>>>>>> upstream/master
   "metadata": {},
   "outputs": [],
   "source": [
    "# Train-test split\n",
    "# Set test_size=0.33 and random_state=42\n",
<<<<<<< HEAD
    "X = mpg_class.drop(columns = ['target'])\n",
    "y = mpg_class['target']\n",
    "X_train, X_test, y_train, y_test = train_test_split(X, y, test_size=0.33, random_state=42)"
=======
    "\n",
    "X = mpg_class.drop(columns= ['target'])\n",
    "y = mpg_class['target']\n",
    "X_train, X_test, y_train, y_test = train_test_split(X, y, test_size=0.33, random_state=42)\n",
    "\n"
>>>>>>> upstream/master
   ]
  },
  {
   "cell_type": "code",
<<<<<<< HEAD
   "execution_count": 46,
   "metadata": {
    "scrolled": true
   },
   "outputs": [],
   "source": [
    "# Scale the data\n",
    "scaler = StandardScaler()\n",
    "X_train_scaled = scaler.fit_transform(X_train)\n",
    "X_test_scaled = scaler.transform(X_test)"
=======
   "execution_count": 55,
   "metadata": {},
   "outputs": [],
   "source": [
    "# Scale the data\n",
    "scale = StandardScaler()\n",
    "X_train_scaled = scale.fit_transform(X_train)\n",
    "X_test_scaled = scale.transform(X_test)"
>>>>>>> upstream/master
   ]
  },
  {
   "cell_type": "markdown",
   "metadata": {},
   "source": [
    "### 7) Explore the `target` column and our model-less baseline\n",
    "\n",
    "1. What is the breakdown of the `target` column in our training data?\n",
    "2. What would a model-less baseline look like in this context?\n",
    "3. How accurate would that model-less understanding be on our test data?"
   ]
  },
  {
   "cell_type": "code",
<<<<<<< HEAD
   "execution_count": 47,
   "metadata": {
    "scrolled": true
   },
   "outputs": [
    {
     "data": {
      "text/plain": [
       "0    195\n",
       "1     67\n",
       "Name: target, dtype: int64"
      ]
     },
     "execution_count": 47,
     "metadata": {},
     "output_type": "execute_result"
    }
   ],
   "source": [
    "# call_on_students(1)\n",
    "y_train.unique()\n",
    "y_train.value_counts()"
   ]
  },
  {
   "cell_type": "code",
   "execution_count": 52,
   "metadata": {},
   "outputs": [
    {
     "name": "stderr",
     "output_type": "stream",
     "text": [
      "/Users/javm/opt/anaconda3/envs/learn-env/lib/python3.8/site-packages/sklearn/dummy.py:131: FutureWarning: The default value of strategy will change from stratified to prior in 0.24.\n",
      "  warnings.warn(\"The default value of strategy will change from \"\n"
     ]
    },
    {
     "data": {
      "text/plain": [
       "DummyClassifier()"
      ]
     },
     "execution_count": 52,
     "metadata": {},
     "output_type": "execute_result"
    }
   ],
   "source": [
    "from sklearn.dummy import DummyClassifier\n",
    "dummy_clf = DummyClassifier()\n",
    "dummy_clf.fit(X_train_scaled, y_train)"
=======
   "execution_count": 56,
   "metadata": {},
   "outputs": [
    {
     "name": "stdout",
     "output_type": "stream",
     "text": [
      "['Danielle']\n"
     ]
    }
   ],
   "source": [
    "call_on_students(1)"
>>>>>>> upstream/master
   ]
  },
  {
   "cell_type": "markdown",
   "metadata": {},
   "source": [
    "#### Part 1: explore the target column breakdown in train data"
   ]
  },
  {
   "cell_type": "code",
<<<<<<< HEAD
   "execution_count": 53,
=======
   "execution_count": 57,
   "metadata": {},
   "outputs": [
    {
     "data": {
      "text/plain": [
       "0    195\n",
       "1     67\n",
       "Name: target, dtype: int64"
      ]
     },
     "execution_count": 57,
     "metadata": {},
     "output_type": "execute_result"
    }
   ],
   "source": [
    "# Code to explore\n",
    "y_train.unique()\n",
    "y_train.value_counts()\n"
   ]
  },
  {
   "cell_type": "code",
   "execution_count": 58,
>>>>>>> upstream/master
   "metadata": {},
   "outputs": [],
   "source": [
    "from sklearn.dummy import DummyClassifier"
   ]
  },
  {
   "cell_type": "code",
   "execution_count": 59,
   "metadata": {},
   "outputs": [],
   "source": [
    "dummy_clf = DummyClassifier()"
   ]
  },
  {
   "cell_type": "code",
   "execution_count": 63,
   "metadata": {},
   "outputs": [
    {
     "data": {
      "text/plain": [
       "DummyClassifier()"
      ]
     },
     "execution_count": 63,
     "metadata": {},
     "output_type": "execute_result"
    }
   ],
   "source": [
    "dummy_clf.fit(X_train_scaled, y_train)"
   ]
  },
  {
   "cell_type": "markdown",
   "metadata": {},
   "source": [
    "#### Answer:\n",
    "\n",
    "- \n"
   ]
  },
  {
   "cell_type": "markdown",
   "metadata": {},
   "source": [
    "#### Part 2: What would a model-less baseline look like in this context?\n",
    "\n",
    "#### Answer:\n",
    "\n",
    "- \n"
   ]
  },
  {
   "cell_type": "markdown",
   "metadata": {},
   "source": [
    "#### Part 3: How accurate would that baseline be on test data?\n"
   ]
  },
  {
   "cell_type": "code",
<<<<<<< HEAD
   "execution_count": 54,
=======
   "execution_count": 61,
>>>>>>> upstream/master
   "metadata": {
    "scrolled": false
   },
   "outputs": [
    {
     "data": {
      "text/html": [
       "<div>\n",
       "<style scoped>\n",
       "    .dataframe tbody tr th:only-of-type {\n",
       "        vertical-align: middle;\n",
       "    }\n",
       "\n",
       "    .dataframe tbody tr th {\n",
       "        vertical-align: top;\n",
       "    }\n",
       "\n",
       "    .dataframe thead th {\n",
       "        text-align: right;\n",
       "    }\n",
       "</style>\n",
       "<table border=\"1\" class=\"dataframe\">\n",
       "  <thead>\n",
       "    <tr style=\"text-align: right;\">\n",
       "      <th></th>\n",
       "      <th>cylinders</th>\n",
       "      <th>displacement</th>\n",
       "      <th>horsepower</th>\n",
       "      <th>weight</th>\n",
       "      <th>acceleration</th>\n",
       "      <th>model year</th>\n",
       "      <th>origin</th>\n",
       "    </tr>\n",
       "  </thead>\n",
       "  <tbody>\n",
       "    <tr>\n",
       "      <th>78</th>\n",
       "      <td>4</td>\n",
       "      <td>96.0</td>\n",
       "      <td>69</td>\n",
       "      <td>2189</td>\n",
       "      <td>18.0</td>\n",
       "      <td>72</td>\n",
       "      <td>2</td>\n",
       "    </tr>\n",
       "    <tr>\n",
       "      <th>274</th>\n",
       "      <td>4</td>\n",
       "      <td>121.0</td>\n",
       "      <td>115</td>\n",
       "      <td>2795</td>\n",
       "      <td>15.7</td>\n",
       "      <td>78</td>\n",
       "      <td>2</td>\n",
       "    </tr>\n",
       "    <tr>\n",
       "      <th>246</th>\n",
       "      <td>4</td>\n",
       "      <td>91.0</td>\n",
       "      <td>60</td>\n",
       "      <td>1800</td>\n",
       "      <td>16.4</td>\n",
       "      <td>78</td>\n",
       "      <td>3</td>\n",
       "    </tr>\n",
       "    <tr>\n",
       "      <th>55</th>\n",
       "      <td>4</td>\n",
       "      <td>91.0</td>\n",
       "      <td>70</td>\n",
       "      <td>1955</td>\n",
       "      <td>20.5</td>\n",
       "      <td>71</td>\n",
       "      <td>1</td>\n",
       "    </tr>\n",
       "    <tr>\n",
       "      <th>387</th>\n",
       "      <td>4</td>\n",
       "      <td>140.0</td>\n",
       "      <td>86</td>\n",
       "      <td>2790</td>\n",
       "      <td>15.6</td>\n",
       "      <td>82</td>\n",
       "      <td>1</td>\n",
       "    </tr>\n",
       "    <tr>\n",
       "      <th>...</th>\n",
       "      <td>...</td>\n",
       "      <td>...</td>\n",
       "      <td>...</td>\n",
       "      <td>...</td>\n",
       "      <td>...</td>\n",
       "      <td>...</td>\n",
       "      <td>...</td>\n",
       "    </tr>\n",
       "    <tr>\n",
       "      <th>232</th>\n",
       "      <td>4</td>\n",
       "      <td>151.0</td>\n",
       "      <td>88</td>\n",
       "      <td>2740</td>\n",
       "      <td>16.0</td>\n",
       "      <td>77</td>\n",
       "      <td>1</td>\n",
       "    </tr>\n",
       "    <tr>\n",
       "      <th>193</th>\n",
       "      <td>4</td>\n",
       "      <td>85.0</td>\n",
       "      <td>52</td>\n",
       "      <td>2035</td>\n",
       "      <td>22.2</td>\n",
       "      <td>76</td>\n",
       "      <td>1</td>\n",
       "    </tr>\n",
       "    <tr>\n",
       "      <th>238</th>\n",
       "      <td>4</td>\n",
       "      <td>97.0</td>\n",
       "      <td>78</td>\n",
       "      <td>2190</td>\n",
       "      <td>14.1</td>\n",
       "      <td>77</td>\n",
       "      <td>2</td>\n",
       "    </tr>\n",
       "    <tr>\n",
       "      <th>152</th>\n",
       "      <td>6</td>\n",
       "      <td>250.0</td>\n",
       "      <td>72</td>\n",
       "      <td>3432</td>\n",
       "      <td>21.0</td>\n",
       "      <td>75</td>\n",
       "      <td>1</td>\n",
       "    </tr>\n",
       "    <tr>\n",
       "      <th>346</th>\n",
       "      <td>4</td>\n",
       "      <td>105.0</td>\n",
       "      <td>63</td>\n",
       "      <td>2215</td>\n",
       "      <td>14.9</td>\n",
       "      <td>81</td>\n",
       "      <td>1</td>\n",
       "    </tr>\n",
       "  </tbody>\n",
       "</table>\n",
       "<p>130 rows × 7 columns</p>\n",
       "</div>"
      ],
      "text/plain": [
       "     cylinders  displacement  horsepower  weight  acceleration  model year  \\\n",
       "78           4          96.0          69    2189          18.0          72   \n",
       "274          4         121.0         115    2795          15.7          78   \n",
       "246          4          91.0          60    1800          16.4          78   \n",
       "55           4          91.0          70    1955          20.5          71   \n",
       "387          4         140.0          86    2790          15.6          82   \n",
       "..         ...           ...         ...     ...           ...         ...   \n",
       "232          4         151.0          88    2740          16.0          77   \n",
       "193          4          85.0          52    2035          22.2          76   \n",
       "238          4          97.0          78    2190          14.1          77   \n",
       "152          6         250.0          72    3432          21.0          75   \n",
       "346          4         105.0          63    2215          14.9          81   \n",
       "\n",
       "     origin  \n",
       "78        2  \n",
       "274       2  \n",
       "246       3  \n",
       "55        1  \n",
       "387       1  \n",
       "..      ...  \n",
       "232       1  \n",
       "193       1  \n",
       "238       2  \n",
       "152       1  \n",
       "346       1  \n",
       "\n",
       "[130 rows x 7 columns]"
      ]
     },
<<<<<<< HEAD
     "execution_count": 54,
=======
     "execution_count": 61,
>>>>>>> upstream/master
     "metadata": {},
     "output_type": "execute_result"
    }
   ],
   "source": [
<<<<<<< HEAD
    "# Code to find the answer\n",
=======
>>>>>>> upstream/master
    "X_test"
   ]
  },
  {
   "cell_type": "code",
<<<<<<< HEAD
   "execution_count": 55,
=======
   "execution_count": 64,
>>>>>>> upstream/master
   "metadata": {},
   "outputs": [
    {
     "data": {
      "text/plain": [
<<<<<<< HEAD
       "array([0, 0, 0, 0, 1, 1, 1, 0, 0, 0, 0, 0, 0, 0, 0, 0, 1, 0, 1, 0, 0, 0,\n",
       "       0, 0, 0, 0, 0, 0, 0, 1, 0, 0, 0, 0, 1, 0, 0, 0, 0, 1, 0, 1, 0, 0,\n",
       "       1, 1, 0, 0, 0, 1, 0, 0, 1, 0, 0, 0, 0, 0, 0, 0, 1, 0, 0, 0, 0, 0,\n",
       "       0, 0, 0, 1, 0, 1, 0, 0, 0, 0, 1, 0, 1, 0, 0, 0, 0, 0, 0, 0, 0, 0,\n",
       "       0, 0, 0, 0, 0, 0, 1, 0, 0, 0, 0, 0, 0, 0, 1, 0, 0, 1, 0, 0, 1, 1,\n",
       "       0, 1, 0, 0, 0, 0, 1, 0, 0, 0, 1, 0, 0, 0, 1, 0, 0, 1, 0, 0])"
      ]
     },
     "execution_count": 55,
=======
       "array([0, 0, 0, 0, 0, 0, 0, 0, 0, 0, 0, 0, 0, 0, 0, 0, 0, 0, 0, 0, 0, 0,\n",
       "       0, 0, 0, 0, 0, 0, 0, 0, 0, 0, 0, 0, 0, 0, 0, 0, 0, 0, 0, 0, 0, 0,\n",
       "       0, 0, 0, 0, 0, 0, 0, 0, 0, 0, 0, 0, 0, 0, 0, 0, 0, 0, 0, 0, 0, 0,\n",
       "       0, 0, 0, 0, 0, 0, 0, 0, 0, 0, 0, 0, 0, 0, 0, 0, 0, 0, 0, 0, 0, 0,\n",
       "       0, 0, 0, 0, 0, 0, 0, 0, 0, 0, 0, 0, 0, 0, 0, 0, 0, 0, 0, 0, 0, 0,\n",
       "       0, 0, 0, 0, 0, 0, 0, 0, 0, 0, 0, 0, 0, 0, 0, 0, 0, 0, 0, 0],\n",
       "      dtype=int64)"
      ]
     },
     "execution_count": 64,
>>>>>>> upstream/master
     "metadata": {},
     "output_type": "execute_result"
    }
   ],
   "source": [
<<<<<<< HEAD
=======
    "# Code to find the answer\n",
>>>>>>> upstream/master
    "dummy_clf.predict(X_test_scaled)"
   ]
  },
  {
   "cell_type": "markdown",
   "metadata": {},
   "source": [
    "#### Answer:\n",
    "\n",
    "- \n"
   ]
  },
  {
   "cell_type": "markdown",
   "metadata": {},
   "source": [
    "### 8) What is one problem you could foresee based on this breakdown, and what is one strategy you could employ to address that problem?"
   ]
  },
  {
   "cell_type": "code",
   "execution_count": null,
   "metadata": {},
   "outputs": [],
   "source": [
    "call_on_students(1)"
   ]
  },
  {
   "cell_type": "markdown",
   "metadata": {},
   "source": [
    "#### Answer:\n",
    "\n",
    "- USE FEATURES\n"
   ]
  },
  {
   "cell_type": "markdown",
   "metadata": {},
   "source": [
    "### 9) Fit a logistic regression model, and plot a confusion matrix of the results on our test set"
   ]
  },
  {
   "cell_type": "code",
   "execution_count": 65,
   "metadata": {},
   "outputs": [
    {
     "name": "stdout",
     "output_type": "stream",
     "text": [
      "['Trystan']\n"
     ]
    }
   ],
   "source": [
    "call_on_students(1)"
   ]
  },
  {
   "cell_type": "code",
<<<<<<< HEAD
   "execution_count": 67,
=======
   "execution_count": 76,
>>>>>>> upstream/master
   "metadata": {},
   "outputs": [],
   "source": [
    "# Fit a logistic regression model\n",
    "# Name the model `logreg` and set random_state = 42\n",
    "logreg = LogisticRegression(random_state = 42)\n",
    "logreg.fit(X_train_scaled, y_train)\n",
    "y_pred = logreg.predict(X_test_scaled)"
   ]
  },
  {
   "cell_type": "code",
<<<<<<< HEAD
   "execution_count": 68,
=======
   "execution_count": 67,
>>>>>>> upstream/master
   "metadata": {},
   "outputs": [
    {
     "data": {
<<<<<<< HEAD
      "text/plain": [
       "<sklearn.metrics._plot.confusion_matrix.ConfusionMatrixDisplay at 0x7f99301c5970>"
      ]
     },
     "execution_count": 68,
     "metadata": {},
     "output_type": "execute_result"
    },
    {
     "data": {
      "image/png": "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\n",
=======
      "image/png": "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\n",
>>>>>>> upstream/master
      "text/plain": [
       "<Figure size 432x288 with 2 Axes>"
      ]
     },
     "metadata": {
      "needs_background": "light"
     },
     "output_type": "display_data"
    }
   ],
   "source": [
    "# Plot a confusion matrix on the test data\n",
<<<<<<< HEAD
    "plot_confusion_matrix(logreg, X_test_scaled, y_test)"
=======
    "plot_confusion_matrix(logreg, X_test_scaled, y_test)\n",
    "plt.show()"
>>>>>>> upstream/master
   ]
  },
  {
   "cell_type": "markdown",
   "metadata": {},
   "source": [
    "### 10) Calculate the accuracy, precision, recall and f1-score for the test set\n",
    "\n",
    "You can use the confusion matrix above, or sklearn functions"
   ]
  },
  {
   "cell_type": "code",
<<<<<<< HEAD
   "execution_count": 69,
=======
   "execution_count": 88,
   "metadata": {},
   "outputs": [
    {
     "name": "stdout",
     "output_type": "stream",
     "text": [
      "['Musa']\n"
     ]
    }
   ],
   "source": [
    "call_on_students(1)"
   ]
  },
  {
   "cell_type": "code",
   "execution_count": 86,
>>>>>>> upstream/master
   "metadata": {},
   "outputs": [],
   "source": [
    "# Accuracy\n",
    "from sklearn.metrics import precision_score, recall_score, accuracy_score, f1_score"
   ]
  },
  {
   "cell_type": "code",
   "execution_count": 83,
   "metadata": {},
   "outputs": [
    {
     "name": "stdout",
     "output_type": "stream",
     "text": [
      "Test Accuracy 0.9230769230769231\n"
     ]
    }
   ],
   "source": [
    "print(\"Test Accuracy\", accuracy_score(y_test, y_pred))"
   ]
  },
  {
   "cell_type": "code",
   "execution_count": 89,
   "metadata": {},
   "outputs": [
    {
     "data": {
      "text/plain": [
       "0.9230769230769231"
      ]
     },
     "execution_count": 89,
     "metadata": {},
     "output_type": "execute_result"
    }
   ],
   "source": [
    "(23+97)/(97+1+9+23)"
   ]
  },
  {
   "cell_type": "code",
   "execution_count": 70,
   "metadata": {},
<<<<<<< HEAD
=======
   "outputs": [],
   "source": []
  },
  {
   "cell_type": "code",
   "execution_count": 82,
   "metadata": {},
>>>>>>> upstream/master
   "outputs": [
    {
     "name": "stdout",
     "output_type": "stream",
     "text": [
<<<<<<< HEAD
      "Test Accuracy 0.9230769230769231\n"
=======
      "Precision 0.9583333333333334\n"
>>>>>>> upstream/master
     ]
    }
   ],
   "source": [
<<<<<<< HEAD
    "# Accuracy\n",
    "from sklearn.metrics import precision_score, recall_score, accuracy_score, f1_score\n",
    "print(\"Test Accuracy\", accuracy_score(y_test,y_pred))"
=======
    "# Precision\n",
    "print(\"Precision\", precision_score(y_test, y_pred))"
>>>>>>> upstream/master
   ]
  },
  {
   "cell_type": "code",
<<<<<<< HEAD
   "execution_count": 71,
=======
   "execution_count": 93,
>>>>>>> upstream/master
   "metadata": {},
   "outputs": [
    {
     "name": "stdout",
     "output_type": "stream",
     "text": [
      "Precision 0.9583333333333334\n"
     ]
    }
   ],
   "source": [
<<<<<<< HEAD
    "# Precision\n",
    "print(\"Precision\", precision_score(y_test,y_pred))"
=======
    "precision = 23/(23+1)"
>>>>>>> upstream/master
   ]
  },
  {
   "cell_type": "code",
<<<<<<< HEAD
   "execution_count": 72,
=======
   "execution_count": 84,
>>>>>>> upstream/master
   "metadata": {},
   "outputs": [
    {
     "name": "stdout",
     "output_type": "stream",
     "text": [
      "Recall 0.71875\n"
     ]
    }
   ],
   "source": [
    "# Recall\n",
<<<<<<< HEAD
    "print(\"Recall\", recall_score(y_test,y_pred))"
=======
    "print(\"Recall\", recall_score(y_test, y_pred))"
>>>>>>> upstream/master
   ]
  },
  {
   "cell_type": "code",
<<<<<<< HEAD
   "execution_count": 73,
=======
   "execution_count": 94,
>>>>>>> upstream/master
   "metadata": {},
   "outputs": [
    {
     "name": "stdout",
     "output_type": "stream",
     "text": [
      "F1 0.8214285714285714\n"
     ]
    }
   ],
   "source": [
<<<<<<< HEAD
    "# F1-Score\n",
    "print(\"F1\", f1_score(y_test,y_pred))"
=======
    "recall = 23/(23+9)"
   ]
  },
  {
   "cell_type": "code",
   "execution_count": 81,
   "metadata": {},
   "outputs": [
    {
     "name": "stdout",
     "output_type": "stream",
     "text": [
      "F1 Score 0.8214285714285714\n"
     ]
    }
   ],
   "source": [
    "# F1-Score\n",
    "print(\"F1 Score\", f1_score(y_test, y_pred))"
   ]
  },
  {
   "cell_type": "code",
   "execution_count": 95,
   "metadata": {},
   "outputs": [
    {
     "data": {
      "text/plain": [
       "0.8214285714285714"
      ]
     },
     "execution_count": 95,
     "metadata": {},
     "output_type": "execute_result"
    }
   ],
   "source": [
    "2 * recall * precision / (recall + precision)"
>>>>>>> upstream/master
   ]
  },
  {
   "cell_type": "markdown",
   "metadata": {},
   "source": [
    "### 11) Calculate the ROC-AUC on the test set, and plot the ROC curve\n",
    "\n",
    "For this you'll definitely want to use the sklearn functions!"
   ]
  },
  {
   "cell_type": "code",
   "execution_count": 99,
   "metadata": {},
   "outputs": [
    {
     "name": "stdout",
     "output_type": "stream",
     "text": [
      "['Javi']\n"
     ]
    }
   ],
   "source": [
    "call_on_students(1)"
   ]
  },
  {
   "cell_type": "code",
<<<<<<< HEAD
   "execution_count": 75,
   "metadata": {},
   "outputs": [],
   "source": [
    "from sklearn.metrics import roc_curve, auc\n",
=======
   "execution_count": 104,
   "metadata": {},
   "outputs": [],
   "source": [
    "# Calculate roc-auc\n",
    "from sklearn.metrics import roc_curve\n",
>>>>>>> upstream/master
    "from sklearn.metrics import roc_auc_score\n",
    "from sklearn.metrics import plot_roc_curve"
   ]
  },
  {
   "cell_type": "code",
<<<<<<< HEAD
   "execution_count": 79,
=======
   "execution_count": 107,
>>>>>>> upstream/master
   "metadata": {},
   "outputs": [],
   "source": [
    "y_hat = logreg.predict_proba(X_test_scaled)[:,1]"
   ]
  },
  {
   "cell_type": "code",
<<<<<<< HEAD
   "execution_count": 80,
=======
   "execution_count": 108,
>>>>>>> upstream/master
   "metadata": {},
   "outputs": [
    {
     "data": {
      "text/plain": [
       "0.9811862244897959"
      ]
     },
<<<<<<< HEAD
     "execution_count": 80,
=======
     "execution_count": 108,
>>>>>>> upstream/master
     "metadata": {},
     "output_type": "execute_result"
    }
   ],
   "source": [
<<<<<<< HEAD
    "roc_auc_score(y_test,y_hat)"
   ]
  },
  {
   "cell_type": "code",
   "execution_count": 81,
   "metadata": {},
   "outputs": [
    {
     "data": {
      "text/plain": [
       "<sklearn.metrics._plot.roc_curve.RocCurveDisplay at 0x7f9930d51220>"
      ]
     },
     "execution_count": 81,
     "metadata": {},
     "output_type": "execute_result"
    },
    {
     "data": {
      "image/png": "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\n",
      "text/plain": [
       "<Figure size 432x288 with 1 Axes>"
      ]
     },
     "metadata": {
      "needs_background": "light"
     },
     "output_type": "display_data"
    }
   ],
   "source": [
    "# Plot the ROC curve\n",
    "plot_roc_curve(logreg, X_test_scaled, y_test)"
=======
    "# Plot the ROC curve\n",
    "roc_auc_score(y_test, y_hat)"
>>>>>>> upstream/master
   ]
  },
  {
   "cell_type": "markdown",
   "metadata": {},
   "source": [
    "### 12) Evaluate! Based on the metrics of our test data, how is our model doing?"
   ]
  },
  {
   "cell_type": "code",
   "execution_count": 102,
   "metadata": {},
   "outputs": [
    {
     "data": {
      "text/plain": [
       "<sklearn.metrics._plot.roc_curve.RocCurveDisplay at 0x1dfd80f9dc0>"
      ]
     },
     "execution_count": 102,
     "metadata": {},
     "output_type": "execute_result"
    },
    {
     "data": {
      "image/png": "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\n",
      "text/plain": [
       "<Figure size 432x288 with 1 Axes>"
      ]
     },
     "metadata": {
      "needs_background": "light"
     },
     "output_type": "display_data"
    }
   ],
   "source": [
    "# call_on_students(1)\n",
    "plot_roc_curve(logreg, X_test_scaled, y_test)"
   ]
  },
  {
   "cell_type": "markdown",
   "metadata": {},
   "source": [
    "#### Answer:\n",
    "\n",
    "- \n"
   ]
  },
  {
   "cell_type": "markdown",
   "metadata": {},
   "source": [
    "## Part 4: Decision Trees\n",
    "\n",
    "### Set Up\n",
    "\n",
    "NOTE! This code might not work for you! The images these generate are already prepopulated below because of that."
   ]
  },
  {
   "cell_type": "code",
<<<<<<< HEAD
   "execution_count": 82,
=======
   "execution_count": 109,
>>>>>>> upstream/master
   "metadata": {},
   "outputs": [],
   "source": [
    "# Helper function from a colleague (h/t Bryan)\n",
    "def plot_tree(dt, used_cols, out_file='mytree.dot'):\n",
    "    export_graphviz(dt, out_file=out_file, \n",
    "                    filled=True, feature_names=used_cols, \n",
    "                    leaves_parallel=True, node_ids=True)\n",
    "    with open(out_file) as f:\n",
    "        dot_graph = f.read()\n",
    "    return graphviz.Source(dot_graph)"
   ]
  },
  {
   "cell_type": "code",
   "execution_count": 83,
   "metadata": {
    "scrolled": true
   },
   "outputs": [
    {
     "data": {
      "text/plain": [
       "DecisionTreeClassifier(max_depth=1, random_state=42)"
      ]
     },
     "execution_count": 83,
     "metadata": {},
     "output_type": "execute_result"
    }
   ],
   "source": [
    "# Creating two different decision trees with a single split\n",
    "dt_maxdepth1_v1 = DecisionTreeClassifier(max_depth=1, random_state = 42)\n",
    "dt_maxdepth1_v2 = DecisionTreeClassifier(max_depth=1, random_state = 42)\n",
    "\n",
    "# Training the two trees on different columns\n",
    "dt_maxdepth1_v1.fit(X_train[['weight']], y_train)\n",
    "dt_maxdepth1_v2.fit(X_train[['origin']], y_train)"
   ]
  },
  {
   "cell_type": "code",
   "execution_count": 84,
   "metadata": {
    "scrolled": true
   },
   "outputs": [
    {
     "ename": "NameError",
     "evalue": "name 'graphviz' is not defined",
     "output_type": "error",
     "traceback": [
      "\u001b[0;31m---------------------------------------------------------------------------\u001b[0m",
      "\u001b[0;31mNameError\u001b[0m                                 Traceback (most recent call last)",
      "\u001b[0;32m<ipython-input-84-53da9c559aee>\u001b[0m in \u001b[0;36m<module>\u001b[0;34m\u001b[0m\n\u001b[1;32m      1\u001b[0m \u001b[0;31m# Tree based on 1st column\u001b[0m\u001b[0;34m\u001b[0m\u001b[0;34m\u001b[0m\u001b[0;34m\u001b[0m\u001b[0m\n\u001b[0;32m----> 2\u001b[0;31m \u001b[0mplot_tree\u001b[0m\u001b[0;34m(\u001b[0m\u001b[0mdt_maxdepth1_v1\u001b[0m\u001b[0;34m,\u001b[0m \u001b[0;34m[\u001b[0m\u001b[0;34m'weight'\u001b[0m\u001b[0;34m]\u001b[0m\u001b[0;34m)\u001b[0m\u001b[0;34m\u001b[0m\u001b[0;34m\u001b[0m\u001b[0m\n\u001b[0m",
      "\u001b[0;32m<ipython-input-82-f494d0240e84>\u001b[0m in \u001b[0;36mplot_tree\u001b[0;34m(dt, used_cols, out_file)\u001b[0m\n\u001b[1;32m      6\u001b[0m     \u001b[0;32mwith\u001b[0m \u001b[0mopen\u001b[0m\u001b[0;34m(\u001b[0m\u001b[0mout_file\u001b[0m\u001b[0;34m)\u001b[0m \u001b[0;32mas\u001b[0m \u001b[0mf\u001b[0m\u001b[0;34m:\u001b[0m\u001b[0;34m\u001b[0m\u001b[0;34m\u001b[0m\u001b[0m\n\u001b[1;32m      7\u001b[0m         \u001b[0mdot_graph\u001b[0m \u001b[0;34m=\u001b[0m \u001b[0mf\u001b[0m\u001b[0;34m.\u001b[0m\u001b[0mread\u001b[0m\u001b[0;34m(\u001b[0m\u001b[0;34m)\u001b[0m\u001b[0;34m\u001b[0m\u001b[0;34m\u001b[0m\u001b[0m\n\u001b[0;32m----> 8\u001b[0;31m     \u001b[0;32mreturn\u001b[0m \u001b[0mgraphviz\u001b[0m\u001b[0;34m.\u001b[0m\u001b[0mSource\u001b[0m\u001b[0;34m(\u001b[0m\u001b[0mdot_graph\u001b[0m\u001b[0;34m)\u001b[0m\u001b[0;34m\u001b[0m\u001b[0;34m\u001b[0m\u001b[0m\n\u001b[0m",
      "\u001b[0;31mNameError\u001b[0m: name 'graphviz' is not defined"
     ]
    }
   ],
   "source": [
    "# Tree based on 1st column\n",
    "plot_tree(dt_maxdepth1_v1, ['weight'])"
   ]
  },
  {
   "cell_type": "code",
   "execution_count": null,
   "metadata": {},
   "outputs": [],
   "source": [
    "# Tree based on 2nd column\n",
    "plot_tree(dt_maxdepth1_v2, ['origin'])"
   ]
  },
  {
   "cell_type": "markdown",
   "metadata": {},
   "source": [
    "#### Images:\n",
    "\n",
    "| Version 1: Weight | Version 2: Origin |\n",
    "| ----------------- | ----------------- |  \n",
    "| ![max depth 1 - version 1](images/dt-maxdepth1-v1.png) | ![max depth 1 - version 2](images/dt-maxdepth1-v2.png) |"
   ]
  },
  {
   "cell_type": "markdown",
   "metadata": {},
   "source": [
    "### 13) Which of these trees does a better job splitting the data? How can you tell?"
   ]
  },
  {
   "cell_type": "code",
   "execution_count": 112,
   "metadata": {},
   "outputs": [
    {
     "name": "stdout",
     "output_type": "stream",
     "text": [
      "['Jeff']\n"
     ]
    }
   ],
   "source": [
    "call_on_students(1)"
   ]
  },
  {
   "cell_type": "code",
   "execution_count": 125,
   "metadata": {},
   "outputs": [
    {
     "data": {
      "text/plain": [
       "0.1194885496183206"
      ]
     },
     "execution_count": 125,
     "metadata": {},
     "output_type": "execute_result"
    }
   ],
   "source": [
    "parent_impurity = .381\n",
    "weight1 = 196/262\n",
    "weight2 = 66/262\n",
    "\n",
    "weighted_impurity = weight1*0.088 + weight2*.213\n",
    "weighted_impurity"
   ]
  },
  {
   "cell_type": "code",
   "execution_count": 126,
   "metadata": {},
   "outputs": [
    {
     "data": {
      "text/plain": [
       "0.2615114503816794"
      ]
     },
     "execution_count": 126,
     "metadata": {},
     "output_type": "execute_result"
    }
   ],
   "source": [
    "parent_impurity - weighted_impurity"
   ]
  },
  {
   "cell_type": "code",
   "execution_count": 129,
   "metadata": {},
   "outputs": [
    {
     "data": {
      "text/plain": [
       "0.3159312977099236"
      ]
     },
     "execution_count": 129,
     "metadata": {},
     "output_type": "execute_result"
    }
   ],
   "source": [
    "tree2_w1 = 170/262\n",
    "tree2_w2 = 92/262\n",
    "\n",
    "weighted_impurity_2 = tree2_w1*.475 + tree2_w2*0.022\n",
    "weighted_impurity_2"
   ]
  },
  {
   "cell_type": "code",
   "execution_count": 130,
   "metadata": {},
   "outputs": [
    {
     "data": {
      "text/plain": [
       "0.06506870229007639"
      ]
     },
     "execution_count": 130,
     "metadata": {},
     "output_type": "execute_result"
    }
   ],
   "source": [
    "parent_impurity - weighted_impurity_2"
   ]
  },
  {
   "cell_type": "code",
   "execution_count": 87,
   "metadata": {},
   "outputs": [
    {
     "data": {
      "text/plain": [
       "0.1194885496183206"
      ]
     },
     "execution_count": 87,
     "metadata": {},
     "output_type": "execute_result"
    }
   ],
   "source": [
    "parent_impurity = .381\n",
    "weight1 = 196/262\n",
    "weight2 = 66/262\n",
    "\n",
    "weighted_impurity = weight1 * 0.088 + weight2 * .213\n",
    "weighted_impurity"
   ]
  },
  {
   "cell_type": "code",
   "execution_count": 89,
   "metadata": {
    "scrolled": true
   },
   "outputs": [
    {
     "data": {
      "text/plain": [
       "0.2615114503816794"
      ]
     },
     "execution_count": 89,
     "metadata": {},
     "output_type": "execute_result"
    }
   ],
   "source": [
    "parent_impurity - weighted_impurity"
   ]
  },
  {
   "cell_type": "code",
   "execution_count": 90,
   "metadata": {},
   "outputs": [
    {
     "data": {
      "text/plain": [
       "0.3159312977099236"
      ]
     },
     "execution_count": 90,
     "metadata": {},
     "output_type": "execute_result"
    }
   ],
   "source": [
    "parent_impurity2 = .381\n",
    "weight3 = 170/262\n",
    "weight4 = 92/262\n",
    "\n",
    "weighted_impurity2 = weight3 * 0.475 + weight4 * .022\n",
    "weighted_impurity2"
   ]
  },
  {
   "cell_type": "code",
   "execution_count": 91,
   "metadata": {},
   "outputs": [
    {
     "data": {
      "text/plain": [
       "0.06506870229007639"
      ]
     },
     "execution_count": 91,
     "metadata": {},
     "output_type": "execute_result"
    }
   ],
   "source": [
    "parent_impurity2 - weighted_impurity2"
   ]
  },
  {
   "cell_type": "markdown",
   "metadata": {},
   "source": [
    "#### Answer:\n",
    "\n",
    "-\n"
   ]
  },
  {
   "cell_type": "code",
   "execution_count": null,
   "metadata": {},
   "outputs": [],
   "source": []
  },
  {
   "cell_type": "markdown",
   "metadata": {},
   "source": [
    "### 14) Fit a decision tree model, and plot a confusion matrix of the results on our test set"
   ]
  },
  {
   "cell_type": "code",
   "execution_count": 132,
   "metadata": {},
   "outputs": [
    {
     "name": "stdout",
     "output_type": "stream",
     "text": [
      "['']\n"
     ]
    }
   ],
   "source": [
    "call_on_students(1)"
   ]
  },
  {
   "cell_type": "code",
<<<<<<< HEAD
   "execution_count": 94,
=======
   "execution_count": 134,
>>>>>>> upstream/master
   "metadata": {},
   "outputs": [
    {
     "data": {
      "text/plain": [
       "DecisionTreeClassifier(random_state=42)"
      ]
     },
<<<<<<< HEAD
     "execution_count": 94,
=======
     "execution_count": 134,
>>>>>>> upstream/master
     "metadata": {},
     "output_type": "execute_result"
    }
   ],
   "source": [
    "# Fit a decision tree model\n",
    "# Name the model `dt` and set random_state = 42\n",
    "dt = DecisionTreeClassifier(random_state = 42)\n",
    "dt.fit(X_train, y_train)"
   ]
  },
  {
   "cell_type": "code",
<<<<<<< HEAD
   "execution_count": 95,
=======
   "execution_count": 135,
>>>>>>> upstream/master
   "metadata": {
    "scrolled": true
   },
   "outputs": [
    {
     "data": {
      "text/plain": [
<<<<<<< HEAD
       "<sklearn.metrics._plot.confusion_matrix.ConfusionMatrixDisplay at 0x7f9930d81b20>"
      ]
     },
     "execution_count": 95,
=======
       "<sklearn.metrics._plot.confusion_matrix.ConfusionMatrixDisplay at 0x1dfd8141970>"
      ]
     },
     "execution_count": 135,
>>>>>>> upstream/master
     "metadata": {},
     "output_type": "execute_result"
    },
    {
     "data": {
<<<<<<< HEAD
      "image/png": "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\n",
=======
      "image/png": "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\n",
>>>>>>> upstream/master
      "text/plain": [
       "<Figure size 432x288 with 2 Axes>"
      ]
     },
     "metadata": {
      "needs_background": "light"
     },
     "output_type": "display_data"
    }
   ],
   "source": [
    "# Plot a confusion matrix on the test data\n",
    "plot_confusion_matrix(dt, X_test, y_test)"
   ]
  },
  {
   "cell_type": "code",
<<<<<<< HEAD
   "execution_count": 97,
=======
   "execution_count": 138,
>>>>>>> upstream/master
   "metadata": {},
   "outputs": [
    {
     "data": {
<<<<<<< HEAD
      "image/png": "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\n",
=======
      "image/png": "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\n",
>>>>>>> upstream/master
      "text/plain": [
       "<Figure size 432x288 with 1 Axes>"
      ]
     },
     "metadata": {
      "needs_background": "light"
     },
     "output_type": "display_data"
    }
   ],
   "source": [
    "# Code to visualize the ROC curves for the models we've done\n",
    "fig, ax = plt.subplots()\n",
    "plot_roc_curve(dt, X_test, y_test, ax=ax)\n",
    "plot_roc_curve(logreg, X_test_scaled, y_test, ax=ax)\n",
    "\n",
    "plt.title(\"Receiver Operating Characteristic Curves\\n(Evaluated on Test Set)\")\n",
    "plt.show()"
   ]
  },
  {
   "cell_type": "markdown",
   "metadata": {},
   "source": [
    "### 15) Which is the better model according to ROC-AUC score? How can you tell?"
   ]
  },
  {
   "cell_type": "code",
   "execution_count": null,
   "metadata": {},
   "outputs": [],
   "source": [
    "# call_on_students(1)"
   ]
  },
  {
   "cell_type": "markdown",
   "metadata": {},
   "source": [
    "#### Answer:\n",
    "\n",
    "- Logistic Regression did better\n"
   ]
  },
  {
   "cell_type": "code",
   "execution_count": null,
   "metadata": {},
   "outputs": [],
   "source": []
  }
 ],
 "metadata": {
  "kernelspec": {
   "display_name": "Python 3",
   "language": "python",
   "name": "python3"
  },
  "language_info": {
   "codemirror_mode": {
    "name": "ipython",
    "version": 3
   },
   "file_extension": ".py",
   "mimetype": "text/x-python",
   "name": "python",
   "nbconvert_exporter": "python",
   "pygments_lexer": "ipython3",
   "version": "3.8.5"
  }
 },
 "nbformat": 4,
 "nbformat_minor": 2
}
