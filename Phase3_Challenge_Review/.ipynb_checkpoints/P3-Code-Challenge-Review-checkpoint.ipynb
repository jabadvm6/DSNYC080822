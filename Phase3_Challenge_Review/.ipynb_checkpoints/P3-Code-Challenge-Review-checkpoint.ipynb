{
 "cells": [
  {
   "cell_type": "markdown",
   "metadata": {},
   "source": [
    "# Phase 3 Code Challenge Review\n",
    "\n",
    "Made using resources from the Seattle team - thanks y'all."
   ]
  },
  {
   "cell_type": "markdown",
   "metadata": {},
   "source": [
    "## Overview\n",
    "\n",
    "* Gradient Descent\n",
    "* Logistic Regression\n",
    "* Classification Metrics\n",
    "* Decision Trees"
   ]
  },
  {
   "cell_type": "code",
<<<<<<< HEAD
   "execution_count": 2,
=======
   "execution_count": 20,
>>>>>>> upstream/master
   "metadata": {},
   "outputs": [],
   "source": [
    "# Imports\n",
    "import pandas as pd\n",
    "import numpy as np\n",
    "\n",
    "import matplotlib.pyplot as plt\n",
    "import seaborn as sns\n",
    "\n",
    "from sklearn.preprocessing import StandardScaler\n",
    "from sklearn.linear_model import LogisticRegression\n",
    "from sklearn.tree import DecisionTreeClassifier\n",
    "from sklearn.model_selection import train_test_split\n",
    "from sklearn.metrics import accuracy_score, recall_score, precision_score, f1_score\n",
    "from sklearn.metrics import plot_confusion_matrix\n",
    "from sklearn.metrics import roc_auc_score, plot_roc_curve\n",
<<<<<<< HEAD
    "from sklearn.tree import export_graphviz"
=======
    "from sklearn.tree import export_graphviz\n",
    "import graphviz"
>>>>>>> upstream/master
   ]
  },
  {
   "cell_type": "code",
<<<<<<< HEAD
   "execution_count": null,
   "metadata": {},
   "outputs": [],
   "source": [
    "# from src.call import call_on_students"
=======
   "execution_count": 21,
   "metadata": {},
   "outputs": [],
   "source": [
    "from src.call import call_on_students"
>>>>>>> upstream/master
   ]
  },
  {
   "cell_type": "markdown",
   "metadata": {},
   "source": [
    "## Part 1: Gradient Descent"
   ]
  },
  {
   "cell_type": "markdown",
   "metadata": {},
   "source": [
    "### Set Up"
   ]
  },
  {
   "cell_type": "code",
<<<<<<< HEAD
   "execution_count": 3,
=======
   "execution_count": 22,
>>>>>>> upstream/master
   "metadata": {},
   "outputs": [],
   "source": [
    "# Grab the data from 'auto-mpg.csv'\n",
    "mpg_df = pd.read_csv(\"data/auto-mpg.csv\")"
   ]
  },
  {
   "cell_type": "code",
<<<<<<< HEAD
   "execution_count": 4,
=======
   "execution_count": 23,
>>>>>>> upstream/master
   "metadata": {},
   "outputs": [
    {
     "data": {
      "text/html": [
       "<div>\n",
       "<style scoped>\n",
       "    .dataframe tbody tr th:only-of-type {\n",
       "        vertical-align: middle;\n",
       "    }\n",
       "\n",
       "    .dataframe tbody tr th {\n",
       "        vertical-align: top;\n",
       "    }\n",
       "\n",
       "    .dataframe thead th {\n",
       "        text-align: right;\n",
       "    }\n",
       "</style>\n",
       "<table border=\"1\" class=\"dataframe\">\n",
       "  <thead>\n",
       "    <tr style=\"text-align: right;\">\n",
       "      <th></th>\n",
       "      <th>mpg</th>\n",
       "      <th>cylinders</th>\n",
       "      <th>displacement</th>\n",
       "      <th>horsepower</th>\n",
       "      <th>weight</th>\n",
       "      <th>acceleration</th>\n",
       "      <th>model year</th>\n",
       "      <th>origin</th>\n",
       "      <th>car name</th>\n",
       "    </tr>\n",
       "  </thead>\n",
       "  <tbody>\n",
       "    <tr>\n",
       "      <th>0</th>\n",
       "      <td>18.0</td>\n",
       "      <td>8</td>\n",
       "      <td>307.0</td>\n",
       "      <td>130</td>\n",
       "      <td>3504</td>\n",
       "      <td>12.0</td>\n",
       "      <td>70</td>\n",
       "      <td>1</td>\n",
       "      <td>chevrolet chevelle malibu</td>\n",
       "    </tr>\n",
       "    <tr>\n",
       "      <th>1</th>\n",
       "      <td>15.0</td>\n",
       "      <td>8</td>\n",
       "      <td>350.0</td>\n",
       "      <td>165</td>\n",
       "      <td>3693</td>\n",
       "      <td>11.5</td>\n",
       "      <td>70</td>\n",
       "      <td>1</td>\n",
       "      <td>buick skylark 320</td>\n",
       "    </tr>\n",
       "    <tr>\n",
       "      <th>2</th>\n",
       "      <td>18.0</td>\n",
       "      <td>8</td>\n",
       "      <td>318.0</td>\n",
       "      <td>150</td>\n",
       "      <td>3436</td>\n",
       "      <td>11.0</td>\n",
       "      <td>70</td>\n",
       "      <td>1</td>\n",
       "      <td>plymouth satellite</td>\n",
       "    </tr>\n",
       "    <tr>\n",
       "      <th>3</th>\n",
       "      <td>16.0</td>\n",
       "      <td>8</td>\n",
       "      <td>304.0</td>\n",
       "      <td>150</td>\n",
       "      <td>3433</td>\n",
       "      <td>12.0</td>\n",
       "      <td>70</td>\n",
       "      <td>1</td>\n",
       "      <td>amc rebel sst</td>\n",
       "    </tr>\n",
       "    <tr>\n",
       "      <th>4</th>\n",
       "      <td>17.0</td>\n",
       "      <td>8</td>\n",
       "      <td>302.0</td>\n",
       "      <td>140</td>\n",
       "      <td>3449</td>\n",
       "      <td>10.5</td>\n",
       "      <td>70</td>\n",
       "      <td>1</td>\n",
       "      <td>ford torino</td>\n",
       "    </tr>\n",
       "  </tbody>\n",
       "</table>\n",
       "</div>"
      ],
      "text/plain": [
       "    mpg  cylinders  displacement  horsepower  weight  acceleration  \\\n",
       "0  18.0          8         307.0         130    3504          12.0   \n",
       "1  15.0          8         350.0         165    3693          11.5   \n",
       "2  18.0          8         318.0         150    3436          11.0   \n",
       "3  16.0          8         304.0         150    3433          12.0   \n",
       "4  17.0          8         302.0         140    3449          10.5   \n",
       "\n",
       "   model year  origin                   car name  \n",
       "0          70       1  chevrolet chevelle malibu  \n",
       "1          70       1          buick skylark 320  \n",
       "2          70       1         plymouth satellite  \n",
       "3          70       1              amc rebel sst  \n",
       "4          70       1                ford torino  "
      ]
     },
<<<<<<< HEAD
     "execution_count": 4,
=======
     "execution_count": 23,
>>>>>>> upstream/master
     "metadata": {},
     "output_type": "execute_result"
    }
   ],
   "source": [
    "# Explore the data\n",
    "mpg_df.head()"
   ]
  },
  {
   "cell_type": "code",
<<<<<<< HEAD
   "execution_count": 5,
=======
   "execution_count": 24,
>>>>>>> upstream/master
   "metadata": {},
   "outputs": [
    {
     "data": {
<<<<<<< HEAD
      "image/png": "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\n",
=======
      "image/png": "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\n",
>>>>>>> upstream/master
      "text/plain": [
       "<Figure size 576x432 with 1 Axes>"
      ]
     },
     "metadata": {
      "needs_background": "light"
     },
     "output_type": "display_data"
    }
   ],
   "source": [
    "# Let's plot a simple linear regression line using just the horsepower column\n",
    "plt.figure(figsize=(8, 6))\n",
    "sns.regplot(x='horsepower', y='mpg', data=mpg_df, line_kws={\"color\":\"orange\"})\n",
    "plt.title('Relationship Between Horsepower and MPG')\n",
    "plt.xlim(0, 250)\n",
    "plt.show()"
   ]
  },
  {
   "cell_type": "markdown",
   "metadata": {},
   "source": [
    "The above graph shows an approximate best fit line for the relationship between `horsepower` and `mpg` in our data.\n"
   ]
  },
  {
   "cell_type": "markdown",
   "metadata": {},
   "source": [
    "### 1) Describe the below chart: What is it showing? What does it tell us?\n",
    "\n",
    "![Slope-RSS relationship image](images/slope-rss-relationship.png)"
   ]
  },
  {
   "cell_type": "code",
<<<<<<< HEAD
   "execution_count": null,
   "metadata": {},
   "outputs": [],
   "source": [
    "# call_on_students(1)\n",
    "\n"
=======
   "execution_count": 25,
   "metadata": {},
   "outputs": [
    {
     "name": "stdout",
     "output_type": "stream",
     "text": [
      "['Musa']\n"
     ]
    }
   ],
   "source": [
    "call_on_students(1)"
>>>>>>> upstream/master
   ]
  },
  {
   "cell_type": "markdown",
   "metadata": {},
   "source": [
    "#### Answer: \n",
    "\n",
    "- \n"
   ]
  },
  {
   "cell_type": "markdown",
   "metadata": {},
   "source": [
    "### 2) Imagine that you're starting at a slope towards the top upper left corner. Using Zoom's annotate feature, demonstrate how gradient descent would work "
   ]
  },
  {
   "cell_type": "code",
<<<<<<< HEAD
   "execution_count": null,
   "metadata": {},
   "outputs": [],
   "source": [
    "# call_on_students(1)"
=======
   "execution_count": 26,
   "metadata": {},
   "outputs": [
    {
     "name": "stdout",
     "output_type": "stream",
     "text": [
      "['Jalil']\n"
     ]
    }
   ],
   "source": [
    "call_on_students(1)"
>>>>>>> upstream/master
   ]
  },
  {
   "cell_type": "markdown",
   "metadata": {},
   "source": [
    "### 3) What is a step size when talking about gradient descent? How does learning rate regulate step size?"
   ]
  },
  {
   "cell_type": "code",
<<<<<<< HEAD
   "execution_count": null,
   "metadata": {},
   "outputs": [],
   "source": [
    "# call_on_students(1)"
=======
   "execution_count": 27,
   "metadata": {},
   "outputs": [
    {
     "name": "stdout",
     "output_type": "stream",
     "text": [
      "['Trystan']\n"
     ]
    }
   ],
   "source": [
    "call_on_students(1)"
>>>>>>> upstream/master
   ]
  },
  {
   "cell_type": "markdown",
   "metadata": {},
   "source": [
    "#### Answer: \n",
    "\n",
    "- \n"
   ]
  },
  {
   "cell_type": "markdown",
   "metadata": {},
   "source": [
    "## Part 2: Logistic Regression"
   ]
  },
  {
   "cell_type": "markdown",
   "metadata": {},
   "source": [
    "### 4) Describe a logistic regression model:\n",
    "\n",
    "- What kind of target is a logistic regression model used for?\n",
    "- What are the predictions that a logistic regression model outputs?\n",
    "- How is it different from linear regression?\n",
    "- Is it a parametric or non-parametric model?"
   ]
  },
  {
   "cell_type": "code",
<<<<<<< HEAD
   "execution_count": null,
   "metadata": {},
   "outputs": [],
   "source": [
    "# call_on_students(1)"
=======
   "execution_count": 28,
   "metadata": {},
   "outputs": [
    {
     "name": "stdout",
     "output_type": "stream",
     "text": [
      "['Jeff']\n"
     ]
    }
   ],
   "source": [
    "call_on_students(1)"
>>>>>>> upstream/master
   ]
  },
  {
   "cell_type": "markdown",
   "metadata": {},
   "source": [
    "#### Answer: \n",
    "\n",
    "- \n"
   ]
  },
  {
   "cell_type": "markdown",
   "metadata": {},
   "source": [
    "### 5) Compare a logistic regression model to any of the other model types we've learned:\n",
    "\n",
    "- List one benefit of logistic regression when compared to the other model type\n",
    "- List one reason the other model type might be more useful"
   ]
  },
  {
   "cell_type": "code",
<<<<<<< HEAD
   "execution_count": null,
   "metadata": {},
   "outputs": [],
   "source": [
    "# call_on_students(1)"
=======
   "execution_count": 30,
   "metadata": {},
   "outputs": [
    {
     "name": "stdout",
     "output_type": "stream",
     "text": [
      "['Pedro']\n"
     ]
    }
   ],
   "source": [
    "call_on_students(1)"
>>>>>>> upstream/master
   ]
  },
  {
   "cell_type": "markdown",
   "metadata": {},
   "source": [
    "#### Answer: \n",
    "\n",
    "- \n"
   ]
  },
  {
   "cell_type": "markdown",
   "metadata": {},
   "source": [
    "## Part 3: Logistic Regression and Classification Metrics with Code\n",
    "\n",
    "### Set Up"
   ]
  },
  {
   "cell_type": "code",
<<<<<<< HEAD
   "execution_count": null,
=======
   "execution_count": 31,
>>>>>>> upstream/master
   "metadata": {},
   "outputs": [],
   "source": [
    "# Let's use the same data, but now with a classification target\n",
    "mpg_class = pd.read_csv('data/auto-mpg-classification.csv')"
   ]
  },
  {
   "cell_type": "code",
<<<<<<< HEAD
   "execution_count": null,
   "metadata": {},
   "outputs": [],
=======
   "execution_count": 32,
   "metadata": {},
   "outputs": [
    {
     "data": {
      "text/html": [
       "<div>\n",
       "<style scoped>\n",
       "    .dataframe tbody tr th:only-of-type {\n",
       "        vertical-align: middle;\n",
       "    }\n",
       "\n",
       "    .dataframe tbody tr th {\n",
       "        vertical-align: top;\n",
       "    }\n",
       "\n",
       "    .dataframe thead th {\n",
       "        text-align: right;\n",
       "    }\n",
       "</style>\n",
       "<table border=\"1\" class=\"dataframe\">\n",
       "  <thead>\n",
       "    <tr style=\"text-align: right;\">\n",
       "      <th></th>\n",
       "      <th>cylinders</th>\n",
       "      <th>displacement</th>\n",
       "      <th>horsepower</th>\n",
       "      <th>weight</th>\n",
       "      <th>acceleration</th>\n",
       "      <th>model year</th>\n",
       "      <th>origin</th>\n",
       "      <th>target</th>\n",
       "    </tr>\n",
       "  </thead>\n",
       "  <tbody>\n",
       "    <tr>\n",
       "      <th>0</th>\n",
       "      <td>8</td>\n",
       "      <td>307.0</td>\n",
       "      <td>130</td>\n",
       "      <td>3504</td>\n",
       "      <td>12.0</td>\n",
       "      <td>70</td>\n",
       "      <td>1</td>\n",
       "      <td>0</td>\n",
       "    </tr>\n",
       "    <tr>\n",
       "      <th>1</th>\n",
       "      <td>8</td>\n",
       "      <td>350.0</td>\n",
       "      <td>165</td>\n",
       "      <td>3693</td>\n",
       "      <td>11.5</td>\n",
       "      <td>70</td>\n",
       "      <td>1</td>\n",
       "      <td>1</td>\n",
       "    </tr>\n",
       "    <tr>\n",
       "      <th>2</th>\n",
       "      <td>8</td>\n",
       "      <td>318.0</td>\n",
       "      <td>150</td>\n",
       "      <td>3436</td>\n",
       "      <td>11.0</td>\n",
       "      <td>70</td>\n",
       "      <td>1</td>\n",
       "      <td>0</td>\n",
       "    </tr>\n",
       "    <tr>\n",
       "      <th>3</th>\n",
       "      <td>8</td>\n",
       "      <td>304.0</td>\n",
       "      <td>150</td>\n",
       "      <td>3433</td>\n",
       "      <td>12.0</td>\n",
       "      <td>70</td>\n",
       "      <td>1</td>\n",
       "      <td>1</td>\n",
       "    </tr>\n",
       "    <tr>\n",
       "      <th>4</th>\n",
       "      <td>8</td>\n",
       "      <td>302.0</td>\n",
       "      <td>140</td>\n",
       "      <td>3449</td>\n",
       "      <td>10.5</td>\n",
       "      <td>70</td>\n",
       "      <td>1</td>\n",
       "      <td>1</td>\n",
       "    </tr>\n",
       "  </tbody>\n",
       "</table>\n",
       "</div>"
      ],
      "text/plain": [
       "   cylinders  displacement  horsepower  weight  acceleration  model year  \\\n",
       "0          8         307.0         130    3504          12.0          70   \n",
       "1          8         350.0         165    3693          11.5          70   \n",
       "2          8         318.0         150    3436          11.0          70   \n",
       "3          8         304.0         150    3433          12.0          70   \n",
       "4          8         302.0         140    3449          10.5          70   \n",
       "\n",
       "   origin  target  \n",
       "0       1       0  \n",
       "1       1       1  \n",
       "2       1       0  \n",
       "3       1       1  \n",
       "4       1       1  "
      ]
     },
     "execution_count": 32,
     "metadata": {},
     "output_type": "execute_result"
    }
   ],
>>>>>>> upstream/master
   "source": [
    "# Check this new dataframe out\n",
    "mpg_class.head()"
   ]
  },
  {
   "cell_type": "markdown",
   "metadata": {},
   "source": [
    "### 6) Prepare our data for modeling:\n",
    "\n",
    "1. Perform a train/test split\n",
    "2. Scale the inputs\n"
   ]
  },
  {
   "cell_type": "code",
<<<<<<< HEAD
   "execution_count": null,
   "metadata": {},
   "outputs": [],
   "source": [
    "# call_on_students(1)"
=======
   "execution_count": 33,
   "metadata": {},
   "outputs": [
    {
     "name": "stdout",
     "output_type": "stream",
     "text": [
      "['Danielle']\n"
     ]
    }
   ],
   "source": [
    "call_on_students(1)"
>>>>>>> upstream/master
   ]
  },
  {
   "cell_type": "code",
<<<<<<< HEAD
   "execution_count": null,
=======
   "execution_count": 36,
>>>>>>> upstream/master
   "metadata": {},
   "outputs": [],
   "source": [
    "# Train-test split\n",
<<<<<<< HEAD
    "# Set test_size=0.33 and random_state=42\n"
=======
    "# Set test_size=0.33 and random_state=42\n",
    "\n",
    "X = mpg_class.drop(columns= ['target'])\n",
    "y = mpg_class['target']\n",
    "X_train, X_test, y_train, y_test = train_test_split(X, y, test_size=0.33, random_state=42)\n",
    "\n"
>>>>>>> upstream/master
   ]
  },
  {
   "cell_type": "code",
<<<<<<< HEAD
   "execution_count": null,
   "metadata": {},
   "outputs": [],
   "source": [
    "# Scale the data\n"
=======
   "execution_count": 55,
   "metadata": {},
   "outputs": [],
   "source": [
    "# Scale the data\n",
    "scale = StandardScaler()\n",
    "X_train_scaled = scale.fit_transform(X_train)\n",
    "X_test_scaled = scale.transform(X_test)"
>>>>>>> upstream/master
   ]
  },
  {
   "cell_type": "markdown",
   "metadata": {},
   "source": [
    "### 7) Explore the `target` column and our model-less baseline\n",
    "\n",
    "1. What is the breakdown of the `target` column in our training data?\n",
    "2. What would a model-less baseline look like in this context?\n",
    "3. How accurate would that model-less understanding be on our test data?"
   ]
  },
  {
   "cell_type": "code",
<<<<<<< HEAD
   "execution_count": null,
   "metadata": {},
   "outputs": [],
   "source": [
    "# call_on_students(1)"
=======
   "execution_count": 56,
   "metadata": {},
   "outputs": [
    {
     "name": "stdout",
     "output_type": "stream",
     "text": [
      "['Danielle']\n"
     ]
    }
   ],
   "source": [
    "call_on_students(1)"
>>>>>>> upstream/master
   ]
  },
  {
   "cell_type": "markdown",
   "metadata": {},
   "source": [
    "#### Part 1: explore the target column breakdown in train data"
   ]
  },
  {
   "cell_type": "code",
<<<<<<< HEAD
   "execution_count": null,
   "metadata": {},
   "outputs": [],
   "source": [
    "# Code to explore\n"
=======
   "execution_count": 57,
   "metadata": {},
   "outputs": [
    {
     "data": {
      "text/plain": [
       "0    195\n",
       "1     67\n",
       "Name: target, dtype: int64"
      ]
     },
     "execution_count": 57,
     "metadata": {},
     "output_type": "execute_result"
    }
   ],
   "source": [
    "# Code to explore\n",
    "y_train.unique()\n",
    "y_train.value_counts()\n"
   ]
  },
  {
   "cell_type": "code",
   "execution_count": 58,
   "metadata": {},
   "outputs": [],
   "source": [
    "from sklearn.dummy import DummyClassifier"
   ]
  },
  {
   "cell_type": "code",
   "execution_count": 59,
   "metadata": {},
   "outputs": [],
   "source": [
    "dummy_clf = DummyClassifier()"
   ]
  },
  {
   "cell_type": "code",
   "execution_count": 63,
   "metadata": {},
   "outputs": [
    {
     "data": {
      "text/plain": [
       "DummyClassifier()"
      ]
     },
     "execution_count": 63,
     "metadata": {},
     "output_type": "execute_result"
    }
   ],
   "source": [
    "dummy_clf.fit(X_train_scaled, y_train)"
>>>>>>> upstream/master
   ]
  },
  {
   "cell_type": "markdown",
   "metadata": {},
   "source": [
    "#### Answer:\n",
    "\n",
    "- \n"
   ]
  },
  {
   "cell_type": "markdown",
   "metadata": {},
   "source": [
    "#### Part 2: What would a model-less baseline look like in this context?\n",
    "\n",
    "#### Answer:\n",
    "\n",
    "- \n"
   ]
  },
  {
   "cell_type": "markdown",
   "metadata": {},
   "source": [
    "#### Part 3: How accurate would that baseline be on test data?\n"
   ]
  },
  {
   "cell_type": "code",
<<<<<<< HEAD
   "execution_count": null,
   "metadata": {
    "scrolled": true
   },
   "outputs": [],
   "source": [
    "# Code to find the answer\n"
=======
   "execution_count": 61,
   "metadata": {
    "scrolled": true
   },
   "outputs": [
    {
     "data": {
      "text/html": [
       "<div>\n",
       "<style scoped>\n",
       "    .dataframe tbody tr th:only-of-type {\n",
       "        vertical-align: middle;\n",
       "    }\n",
       "\n",
       "    .dataframe tbody tr th {\n",
       "        vertical-align: top;\n",
       "    }\n",
       "\n",
       "    .dataframe thead th {\n",
       "        text-align: right;\n",
       "    }\n",
       "</style>\n",
       "<table border=\"1\" class=\"dataframe\">\n",
       "  <thead>\n",
       "    <tr style=\"text-align: right;\">\n",
       "      <th></th>\n",
       "      <th>cylinders</th>\n",
       "      <th>displacement</th>\n",
       "      <th>horsepower</th>\n",
       "      <th>weight</th>\n",
       "      <th>acceleration</th>\n",
       "      <th>model year</th>\n",
       "      <th>origin</th>\n",
       "    </tr>\n",
       "  </thead>\n",
       "  <tbody>\n",
       "    <tr>\n",
       "      <th>78</th>\n",
       "      <td>4</td>\n",
       "      <td>96.0</td>\n",
       "      <td>69</td>\n",
       "      <td>2189</td>\n",
       "      <td>18.0</td>\n",
       "      <td>72</td>\n",
       "      <td>2</td>\n",
       "    </tr>\n",
       "    <tr>\n",
       "      <th>274</th>\n",
       "      <td>4</td>\n",
       "      <td>121.0</td>\n",
       "      <td>115</td>\n",
       "      <td>2795</td>\n",
       "      <td>15.7</td>\n",
       "      <td>78</td>\n",
       "      <td>2</td>\n",
       "    </tr>\n",
       "    <tr>\n",
       "      <th>246</th>\n",
       "      <td>4</td>\n",
       "      <td>91.0</td>\n",
       "      <td>60</td>\n",
       "      <td>1800</td>\n",
       "      <td>16.4</td>\n",
       "      <td>78</td>\n",
       "      <td>3</td>\n",
       "    </tr>\n",
       "    <tr>\n",
       "      <th>55</th>\n",
       "      <td>4</td>\n",
       "      <td>91.0</td>\n",
       "      <td>70</td>\n",
       "      <td>1955</td>\n",
       "      <td>20.5</td>\n",
       "      <td>71</td>\n",
       "      <td>1</td>\n",
       "    </tr>\n",
       "    <tr>\n",
       "      <th>387</th>\n",
       "      <td>4</td>\n",
       "      <td>140.0</td>\n",
       "      <td>86</td>\n",
       "      <td>2790</td>\n",
       "      <td>15.6</td>\n",
       "      <td>82</td>\n",
       "      <td>1</td>\n",
       "    </tr>\n",
       "    <tr>\n",
       "      <th>...</th>\n",
       "      <td>...</td>\n",
       "      <td>...</td>\n",
       "      <td>...</td>\n",
       "      <td>...</td>\n",
       "      <td>...</td>\n",
       "      <td>...</td>\n",
       "      <td>...</td>\n",
       "    </tr>\n",
       "    <tr>\n",
       "      <th>232</th>\n",
       "      <td>4</td>\n",
       "      <td>151.0</td>\n",
       "      <td>88</td>\n",
       "      <td>2740</td>\n",
       "      <td>16.0</td>\n",
       "      <td>77</td>\n",
       "      <td>1</td>\n",
       "    </tr>\n",
       "    <tr>\n",
       "      <th>193</th>\n",
       "      <td>4</td>\n",
       "      <td>85.0</td>\n",
       "      <td>52</td>\n",
       "      <td>2035</td>\n",
       "      <td>22.2</td>\n",
       "      <td>76</td>\n",
       "      <td>1</td>\n",
       "    </tr>\n",
       "    <tr>\n",
       "      <th>238</th>\n",
       "      <td>4</td>\n",
       "      <td>97.0</td>\n",
       "      <td>78</td>\n",
       "      <td>2190</td>\n",
       "      <td>14.1</td>\n",
       "      <td>77</td>\n",
       "      <td>2</td>\n",
       "    </tr>\n",
       "    <tr>\n",
       "      <th>152</th>\n",
       "      <td>6</td>\n",
       "      <td>250.0</td>\n",
       "      <td>72</td>\n",
       "      <td>3432</td>\n",
       "      <td>21.0</td>\n",
       "      <td>75</td>\n",
       "      <td>1</td>\n",
       "    </tr>\n",
       "    <tr>\n",
       "      <th>346</th>\n",
       "      <td>4</td>\n",
       "      <td>105.0</td>\n",
       "      <td>63</td>\n",
       "      <td>2215</td>\n",
       "      <td>14.9</td>\n",
       "      <td>81</td>\n",
       "      <td>1</td>\n",
       "    </tr>\n",
       "  </tbody>\n",
       "</table>\n",
       "<p>130 rows × 7 columns</p>\n",
       "</div>"
      ],
      "text/plain": [
       "     cylinders  displacement  horsepower  weight  acceleration  model year  \\\n",
       "78           4          96.0          69    2189          18.0          72   \n",
       "274          4         121.0         115    2795          15.7          78   \n",
       "246          4          91.0          60    1800          16.4          78   \n",
       "55           4          91.0          70    1955          20.5          71   \n",
       "387          4         140.0          86    2790          15.6          82   \n",
       "..         ...           ...         ...     ...           ...         ...   \n",
       "232          4         151.0          88    2740          16.0          77   \n",
       "193          4          85.0          52    2035          22.2          76   \n",
       "238          4          97.0          78    2190          14.1          77   \n",
       "152          6         250.0          72    3432          21.0          75   \n",
       "346          4         105.0          63    2215          14.9          81   \n",
       "\n",
       "     origin  \n",
       "78        2  \n",
       "274       2  \n",
       "246       3  \n",
       "55        1  \n",
       "387       1  \n",
       "..      ...  \n",
       "232       1  \n",
       "193       1  \n",
       "238       2  \n",
       "152       1  \n",
       "346       1  \n",
       "\n",
       "[130 rows x 7 columns]"
      ]
     },
     "execution_count": 61,
     "metadata": {},
     "output_type": "execute_result"
    }
   ],
   "source": [
    "X_test"
   ]
  },
  {
   "cell_type": "code",
   "execution_count": 64,
   "metadata": {},
   "outputs": [
    {
     "data": {
      "text/plain": [
       "array([0, 0, 0, 0, 0, 0, 0, 0, 0, 0, 0, 0, 0, 0, 0, 0, 0, 0, 0, 0, 0, 0,\n",
       "       0, 0, 0, 0, 0, 0, 0, 0, 0, 0, 0, 0, 0, 0, 0, 0, 0, 0, 0, 0, 0, 0,\n",
       "       0, 0, 0, 0, 0, 0, 0, 0, 0, 0, 0, 0, 0, 0, 0, 0, 0, 0, 0, 0, 0, 0,\n",
       "       0, 0, 0, 0, 0, 0, 0, 0, 0, 0, 0, 0, 0, 0, 0, 0, 0, 0, 0, 0, 0, 0,\n",
       "       0, 0, 0, 0, 0, 0, 0, 0, 0, 0, 0, 0, 0, 0, 0, 0, 0, 0, 0, 0, 0, 0,\n",
       "       0, 0, 0, 0, 0, 0, 0, 0, 0, 0, 0, 0, 0, 0, 0, 0, 0, 0, 0, 0],\n",
       "      dtype=int64)"
      ]
     },
     "execution_count": 64,
     "metadata": {},
     "output_type": "execute_result"
    }
   ],
   "source": [
    "# Code to find the answer\n",
    "dummy_clf.predict(X_test_scaled)"
>>>>>>> upstream/master
   ]
  },
  {
   "cell_type": "markdown",
   "metadata": {},
   "source": [
    "#### Answer:\n",
    "\n",
    "- \n"
   ]
  },
  {
   "cell_type": "markdown",
   "metadata": {},
   "source": [
    "### 8) What is one problem you could foresee based on this breakdown, and what is one strategy you could employ to address that problem?"
   ]
  },
  {
   "cell_type": "code",
   "execution_count": null,
   "metadata": {},
   "outputs": [],
   "source": [
<<<<<<< HEAD
    "# call_on_students(1)"
=======
    "call_on_students(1)"
>>>>>>> upstream/master
   ]
  },
  {
   "cell_type": "markdown",
   "metadata": {},
   "source": [
    "#### Answer:\n",
    "\n",
    "- \n"
   ]
  },
  {
   "cell_type": "markdown",
   "metadata": {},
   "source": [
    "### 9) Fit a logistic regression model, and plot a confusion matrix of the results on our test set"
   ]
  },
  {
   "cell_type": "code",
<<<<<<< HEAD
   "execution_count": null,
   "metadata": {},
   "outputs": [],
   "source": [
    "# call_on_students(1)"
=======
   "execution_count": 65,
   "metadata": {},
   "outputs": [
    {
     "name": "stdout",
     "output_type": "stream",
     "text": [
      "['Trystan']\n"
     ]
    }
   ],
   "source": [
    "call_on_students(1)"
>>>>>>> upstream/master
   ]
  },
  {
   "cell_type": "code",
<<<<<<< HEAD
   "execution_count": null,
=======
   "execution_count": 76,
>>>>>>> upstream/master
   "metadata": {},
   "outputs": [],
   "source": [
    "# Fit a logistic regression model\n",
    "# Name the model `logreg` and set random_state = 42\n",
<<<<<<< HEAD
    "logreg = None"
=======
    "logreg = LogisticRegression(random_state = 42)\n",
    "logreg.fit(X_train_scaled, y_train)\n",
    "y_pred = logreg.predict(X_test_scaled)"
>>>>>>> upstream/master
   ]
  },
  {
   "cell_type": "code",
<<<<<<< HEAD
   "execution_count": null,
   "metadata": {},
   "outputs": [],
   "source": [
    "# Plot a confusion matrix on the test data\n"
=======
   "execution_count": 67,
   "metadata": {},
   "outputs": [
    {
     "data": {
      "image/png": "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\n",
      "text/plain": [
       "<Figure size 432x288 with 2 Axes>"
      ]
     },
     "metadata": {
      "needs_background": "light"
     },
     "output_type": "display_data"
    }
   ],
   "source": [
    "# Plot a confusion matrix on the test data\n",
    "plot_confusion_matrix(logreg, X_test_scaled, y_test)\n",
    "plt.show()"
>>>>>>> upstream/master
   ]
  },
  {
   "cell_type": "markdown",
   "metadata": {},
   "source": [
    "### 10) Calculate the accuracy, precision, recall and f1-score for the test set\n",
    "\n",
    "You can use the confusion matrix above, or sklearn functions"
   ]
  },
  {
   "cell_type": "code",
<<<<<<< HEAD
   "execution_count": null,
   "metadata": {},
   "outputs": [],
   "source": [
    "# call_on_students(1)"
=======
   "execution_count": 88,
   "metadata": {},
   "outputs": [
    {
     "name": "stdout",
     "output_type": "stream",
     "text": [
      "['Musa']\n"
     ]
    }
   ],
   "source": [
    "call_on_students(1)"
   ]
  },
  {
   "cell_type": "code",
   "execution_count": 86,
   "metadata": {},
   "outputs": [],
   "source": [
    "# Accuracy\n",
    "from sklearn.metrics import precision_score, recall_score, accuracy_score, f1_score"
   ]
  },
  {
   "cell_type": "code",
   "execution_count": 83,
   "metadata": {},
   "outputs": [
    {
     "name": "stdout",
     "output_type": "stream",
     "text": [
      "Test Accuracy 0.9230769230769231\n"
     ]
    }
   ],
   "source": [
    "print(\"Test Accuracy\", accuracy_score(y_test, y_pred))"
   ]
  },
  {
   "cell_type": "code",
   "execution_count": 89,
   "metadata": {},
   "outputs": [
    {
     "data": {
      "text/plain": [
       "0.9230769230769231"
      ]
     },
     "execution_count": 89,
     "metadata": {},
     "output_type": "execute_result"
    }
   ],
   "source": [
    "(23+97)/(97+1+9+23)"
>>>>>>> upstream/master
   ]
  },
  {
   "cell_type": "code",
   "execution_count": null,
   "metadata": {},
   "outputs": [],
<<<<<<< HEAD
   "source": [
    "# Accuracy\n"
=======
   "source": []
  },
  {
   "cell_type": "code",
   "execution_count": 82,
   "metadata": {},
   "outputs": [
    {
     "name": "stdout",
     "output_type": "stream",
     "text": [
      "Precision 0.9583333333333334\n"
     ]
    }
   ],
   "source": [
    "# Precision\n",
    "print(\"Precision\", precision_score(y_test, y_pred))"
>>>>>>> upstream/master
   ]
  },
  {
   "cell_type": "code",
<<<<<<< HEAD
   "execution_count": null,
   "metadata": {},
   "outputs": [],
   "source": [
    "# Precision\n"
=======
   "execution_count": 93,
   "metadata": {},
   "outputs": [],
   "source": [
    "precision = 23/(23+1)"
>>>>>>> upstream/master
   ]
  },
  {
   "cell_type": "code",
<<<<<<< HEAD
   "execution_count": null,
   "metadata": {},
   "outputs": [],
   "source": [
    "# Recall\n"
=======
   "execution_count": 84,
   "metadata": {},
   "outputs": [
    {
     "name": "stdout",
     "output_type": "stream",
     "text": [
      "Recall 0.71875\n"
     ]
    }
   ],
   "source": [
    "# Recall\n",
    "print(\"Recall\", recall_score(y_test, y_pred))"
>>>>>>> upstream/master
   ]
  },
  {
   "cell_type": "code",
<<<<<<< HEAD
   "execution_count": null,
   "metadata": {},
   "outputs": [],
   "source": [
    "# F1-Score\n"
=======
   "execution_count": 94,
   "metadata": {},
   "outputs": [],
   "source": [
    "recall = 23/(23+9)"
   ]
  },
  {
   "cell_type": "code",
   "execution_count": 81,
   "metadata": {},
   "outputs": [
    {
     "name": "stdout",
     "output_type": "stream",
     "text": [
      "F1 Score 0.8214285714285714\n"
     ]
    }
   ],
   "source": [
    "# F1-Score\n",
    "print(\"F1 Score\", f1_score(y_test, y_pred))"
   ]
  },
  {
   "cell_type": "code",
   "execution_count": 95,
   "metadata": {},
   "outputs": [
    {
     "data": {
      "text/plain": [
       "0.8214285714285714"
      ]
     },
     "execution_count": 95,
     "metadata": {},
     "output_type": "execute_result"
    }
   ],
   "source": [
    "2 * recall * precision / (recall + precision)"
>>>>>>> upstream/master
   ]
  },
  {
   "cell_type": "markdown",
   "metadata": {},
   "source": [
    "### 11) Calculate the ROC-AUC on the test set, and plot the ROC curve\n",
    "\n",
    "For this you'll definitely want to use the sklearn functions!"
   ]
  },
  {
   "cell_type": "code",
<<<<<<< HEAD
   "execution_count": null,
   "metadata": {},
   "outputs": [],
   "source": [
    "# call_on_students(1)"
=======
   "execution_count": 99,
   "metadata": {},
   "outputs": [
    {
     "name": "stdout",
     "output_type": "stream",
     "text": [
      "['Javi']\n"
     ]
    }
   ],
   "source": [
    "call_on_students(1)"
>>>>>>> upstream/master
   ]
  },
  {
   "cell_type": "code",
<<<<<<< HEAD
   "execution_count": null,
   "metadata": {},
   "outputs": [],
   "source": [
    "# Calculate roc-auc\n"
=======
   "execution_count": 104,
   "metadata": {},
   "outputs": [],
   "source": [
    "# Calculate roc-auc\n",
    "from sklearn.metrics import roc_curve\n",
    "from sklearn.metrics import roc_auc_score\n",
    "from sklearn.metrics import plot_roc_curve"
>>>>>>> upstream/master
   ]
  },
  {
   "cell_type": "code",
<<<<<<< HEAD
   "execution_count": null,
   "metadata": {},
   "outputs": [],
   "source": [
    "# Plot the ROC curve\n"
=======
   "execution_count": 107,
   "metadata": {},
   "outputs": [],
   "source": [
    "y_hat = logreg.predict_proba(X_test_scaled)[:,1]"
   ]
  },
  {
   "cell_type": "code",
   "execution_count": 108,
   "metadata": {},
   "outputs": [
    {
     "data": {
      "text/plain": [
       "0.9811862244897959"
      ]
     },
     "execution_count": 108,
     "metadata": {},
     "output_type": "execute_result"
    }
   ],
   "source": [
    "# Plot the ROC curve\n",
    "roc_auc_score(y_test, y_hat)"
>>>>>>> upstream/master
   ]
  },
  {
   "cell_type": "markdown",
   "metadata": {},
   "source": [
    "### 12) Evaluate! Based on the metrics of our test data, how is our model doing?"
   ]
  },
  {
   "cell_type": "code",
<<<<<<< HEAD
   "execution_count": null,
   "metadata": {},
   "outputs": [],
   "source": [
    "# call_on_students(1)"
=======
   "execution_count": 102,
   "metadata": {},
   "outputs": [
    {
     "data": {
      "text/plain": [
       "<sklearn.metrics._plot.roc_curve.RocCurveDisplay at 0x1dfd80f9dc0>"
      ]
     },
     "execution_count": 102,
     "metadata": {},
     "output_type": "execute_result"
    },
    {
     "data": {
      "image/png": "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\n",
      "text/plain": [
       "<Figure size 432x288 with 1 Axes>"
      ]
     },
     "metadata": {
      "needs_background": "light"
     },
     "output_type": "display_data"
    }
   ],
   "source": [
    "# call_on_students(1)\n",
    "plot_roc_curve(logreg, X_test_scaled, y_test)"
>>>>>>> upstream/master
   ]
  },
  {
   "cell_type": "markdown",
   "metadata": {},
   "source": [
    "#### Answer:\n",
    "\n",
    "- \n"
   ]
  },
  {
   "cell_type": "markdown",
   "metadata": {},
   "source": [
    "## Part 4: Decision Trees\n",
    "\n",
    "### Set Up\n",
    "\n",
    "NOTE! This code might not work for you! The images these generate are already prepopulated below because of that."
   ]
  },
  {
   "cell_type": "code",
<<<<<<< HEAD
   "execution_count": null,
=======
   "execution_count": 109,
>>>>>>> upstream/master
   "metadata": {},
   "outputs": [],
   "source": [
    "# Helper function from a colleague (h/t Bryan)\n",
    "def plot_tree(dt, used_cols, out_file='mytree.dot'):\n",
    "    export_graphviz(dt, out_file=out_file, \n",
    "                    filled=True, feature_names=used_cols, \n",
    "                    leaves_parallel=True, node_ids=True)\n",
    "    with open(out_file) as f:\n",
    "        dot_graph = f.read()\n",
    "    return graphviz.Source(dot_graph)"
   ]
  },
  {
   "cell_type": "code",
   "execution_count": null,
   "metadata": {
    "scrolled": true
   },
   "outputs": [],
   "source": [
    "# Creating two different decision trees with a single split\n",
    "dt_maxdepth1_v1 = DecisionTreeClassifier(max_depth=1, random_state = 42)\n",
    "dt_maxdepth1_v2 = DecisionTreeClassifier(max_depth=1, random_state = 42)\n",
    "\n",
    "# Training the two trees on different columns\n",
    "dt_maxdepth1_v1.fit(X_train[['weight']], y_train)\n",
    "dt_maxdepth1_v2.fit(X_train[['origin']], y_train)"
   ]
  },
  {
   "cell_type": "code",
   "execution_count": null,
   "metadata": {
    "scrolled": true
   },
   "outputs": [],
   "source": [
    "# Tree based on 1st column\n",
    "plot_tree(dt_maxdepth1_v1, ['weight'])"
   ]
  },
  {
   "cell_type": "code",
   "execution_count": null,
   "metadata": {},
   "outputs": [],
   "source": [
    "# Tree based on 2nd column\n",
    "plot_tree(dt_maxdepth1_v2, ['origin'])"
   ]
  },
  {
   "cell_type": "markdown",
   "metadata": {},
   "source": [
    "#### Images:\n",
    "\n",
    "| Version 1: Weight | Version 2: Origin |\n",
    "| ----------------- | ----------------- |  \n",
    "| ![max depth 1 - version 1](images/dt-maxdepth1-v1.png) | ![max depth 1 - version 2](images/dt-maxdepth1-v2.png) |"
   ]
  },
  {
   "cell_type": "markdown",
   "metadata": {},
   "source": [
    "### 13) Which of these trees does a better job splitting the data? How can you tell?"
   ]
  },
  {
   "cell_type": "code",
<<<<<<< HEAD
   "execution_count": null,
   "metadata": {},
   "outputs": [],
   "source": [
    "# call_on_students(1)"
=======
   "execution_count": 112,
   "metadata": {},
   "outputs": [
    {
     "name": "stdout",
     "output_type": "stream",
     "text": [
      "['Jeff']\n"
     ]
    }
   ],
   "source": [
    "call_on_students(1)"
   ]
  },
  {
   "cell_type": "code",
   "execution_count": 125,
   "metadata": {},
   "outputs": [
    {
     "data": {
      "text/plain": [
       "0.1194885496183206"
      ]
     },
     "execution_count": 125,
     "metadata": {},
     "output_type": "execute_result"
    }
   ],
   "source": [
    "parent_impurity = .381\n",
    "weight1 = 196/262\n",
    "weight2 = 66/262\n",
    "\n",
    "weighted_impurity = weight1*0.088 + weight2*.213\n",
    "weighted_impurity"
   ]
  },
  {
   "cell_type": "code",
   "execution_count": 126,
   "metadata": {},
   "outputs": [
    {
     "data": {
      "text/plain": [
       "0.2615114503816794"
      ]
     },
     "execution_count": 126,
     "metadata": {},
     "output_type": "execute_result"
    }
   ],
   "source": [
    "parent_impurity - weighted_impurity"
   ]
  },
  {
   "cell_type": "code",
   "execution_count": 129,
   "metadata": {},
   "outputs": [
    {
     "data": {
      "text/plain": [
       "0.3159312977099236"
      ]
     },
     "execution_count": 129,
     "metadata": {},
     "output_type": "execute_result"
    }
   ],
   "source": [
    "tree2_w1 = 170/262\n",
    "tree2_w2 = 92/262\n",
    "\n",
    "weighted_impurity_2 = tree2_w1*.475 + tree2_w2*0.022\n",
    "weighted_impurity_2"
   ]
  },
  {
   "cell_type": "code",
   "execution_count": 130,
   "metadata": {},
   "outputs": [
    {
     "data": {
      "text/plain": [
       "0.06506870229007639"
      ]
     },
     "execution_count": 130,
     "metadata": {},
     "output_type": "execute_result"
    }
   ],
   "source": [
    "parent_impurity - weighted_impurity_2"
>>>>>>> upstream/master
   ]
  },
  {
   "cell_type": "markdown",
   "metadata": {},
   "source": [
    "#### Answer:\n",
    "\n",
    "- \n"
   ]
  },
  {
   "cell_type": "markdown",
   "metadata": {},
   "source": [
    "### 14) Fit a decision tree model, and plot a confusion matrix of the results on our test set"
   ]
  },
  {
   "cell_type": "code",
<<<<<<< HEAD
   "execution_count": null,
   "metadata": {},
   "outputs": [],
   "source": [
    "# call_on_students(1)"
=======
   "execution_count": 132,
   "metadata": {},
   "outputs": [
    {
     "name": "stdout",
     "output_type": "stream",
     "text": [
      "['']\n"
     ]
    }
   ],
   "source": [
    "call_on_students(1)"
>>>>>>> upstream/master
   ]
  },
  {
   "cell_type": "code",
<<<<<<< HEAD
   "execution_count": null,
   "metadata": {},
   "outputs": [],
   "source": [
    "# Fit a decision tree model\n",
    "# Name the model `dt` and set random_state = 42\n",
    "dt = None"
=======
   "execution_count": 134,
   "metadata": {},
   "outputs": [
    {
     "data": {
      "text/plain": [
       "DecisionTreeClassifier(random_state=42)"
      ]
     },
     "execution_count": 134,
     "metadata": {},
     "output_type": "execute_result"
    }
   ],
   "source": [
    "# Fit a decision tree model\n",
    "# Name the model `dt` and set random_state = 42\n",
    "dt = DecisionTreeClassifier(random_state = 42)\n",
    "dt.fit(X_train, y_train)"
>>>>>>> upstream/master
   ]
  },
  {
   "cell_type": "code",
<<<<<<< HEAD
   "execution_count": null,
   "metadata": {
    "scrolled": true
   },
   "outputs": [],
   "source": [
    "# Plot a confusion matrix on the test data\n"
=======
   "execution_count": 135,
   "metadata": {
    "scrolled": true
   },
   "outputs": [
    {
     "data": {
      "text/plain": [
       "<sklearn.metrics._plot.confusion_matrix.ConfusionMatrixDisplay at 0x1dfd8141970>"
      ]
     },
     "execution_count": 135,
     "metadata": {},
     "output_type": "execute_result"
    },
    {
     "data": {
      "image/png": "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\n",
      "text/plain": [
       "<Figure size 432x288 with 2 Axes>"
      ]
     },
     "metadata": {
      "needs_background": "light"
     },
     "output_type": "display_data"
    }
   ],
   "source": [
    "# Plot a confusion matrix on the test data\n",
    "plot_confusion_matrix(dt, X_test, y_test)"
>>>>>>> upstream/master
   ]
  },
  {
   "cell_type": "code",
<<<<<<< HEAD
   "execution_count": null,
   "metadata": {},
   "outputs": [],
   "source": [
    "# Code to visualize the ROC curves for the models we've done\n",
    "fig, ax = plt.subplots()\n",
    "plot_roc_curve(dt, X_test_scaled, y_test, ax=ax)\n",
=======
   "execution_count": 137,
   "metadata": {},
   "outputs": [
    {
     "data": {
      "image/png": "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\n",
      "text/plain": [
       "<Figure size 432x288 with 1 Axes>"
      ]
     },
     "metadata": {
      "needs_background": "light"
     },
     "output_type": "display_data"
    }
   ],
   "source": [
    "# Code to visualize the ROC curves for the models we've done\n",
    "fig, ax = plt.subplots()\n",
    "plot_roc_curve(dt, X_test, y_test, ax=ax)\n",
>>>>>>> upstream/master
    "plot_roc_curve(logreg, X_test_scaled, y_test, ax=ax)\n",
    "\n",
    "plt.title(\"Receiver Operating Characteristic Curves\\n(Evaluated on Test Set)\")\n",
    "plt.show()"
   ]
  },
  {
   "cell_type": "markdown",
   "metadata": {},
   "source": [
    "### 15) Which is the better model according to ROC-AUC score? How can you tell?"
   ]
  },
  {
   "cell_type": "code",
   "execution_count": null,
   "metadata": {},
   "outputs": [],
   "source": [
    "# call_on_students(1)"
   ]
  },
  {
   "cell_type": "markdown",
   "metadata": {},
   "source": [
    "#### Answer:\n",
    "\n",
    "- \n"
   ]
  }
 ],
 "metadata": {
  "kernelspec": {
<<<<<<< HEAD
   "display_name": "Python 3",
=======
   "display_name": "Python 3 (ipykernel)",
>>>>>>> upstream/master
   "language": "python",
   "name": "python3"
  },
  "language_info": {
   "codemirror_mode": {
    "name": "ipython",
    "version": 3
   },
   "file_extension": ".py",
   "mimetype": "text/x-python",
   "name": "python",
   "nbconvert_exporter": "python",
   "pygments_lexer": "ipython3",
<<<<<<< HEAD
   "version": "3.8.5"
=======
   "version": "3.9.7"
>>>>>>> upstream/master
  }
 },
 "nbformat": 4,
 "nbformat_minor": 2
}
