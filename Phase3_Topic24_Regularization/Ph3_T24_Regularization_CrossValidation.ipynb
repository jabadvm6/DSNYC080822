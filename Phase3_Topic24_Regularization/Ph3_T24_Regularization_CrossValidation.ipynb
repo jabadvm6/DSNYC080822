{
 "cells": [
  {
   "cell_type": "markdown",
   "metadata": {
    "slideshow": {
     "slide_type": "slide"
    }
   },
   "source": [
    "<div style=\"color:white;\n",
    "           display:fill;\n",
    "           border-radius:5px;\n",
    "           background-color:#5642C5;\n",
    "           font-size:200%;\n",
    "           font-\\amily:Arial;letter-spacing:0.5px\">\n",
    "\n",
    "<p width = 20%, style=\"padding: 10px;\n",
    "              color:white;\">\n",
    "Cross-Validation and Regularization\n",
    "              \n",
    "</p>\n",
    "</div>\n",
    "\n",
    "Data Science Cohort Live NYC Feb 2022\n",
    "<p>Phase 3: Topic 24</p>\n",
    "<br>\n",
    "<br>\n",
    "\n",
    "<div align = \"right\">\n",
    "<img src=\"Images/flatiron-school-logo.png\" align = \"right\" width=\"200\"/>\n",
    "</div>"
   ]
  },
  {
   "cell_type": "markdown",
   "metadata": {
    "slideshow": {
     "slide_type": "slide"
    }
   },
   "source": [
    "Recall:"
   ]
  },
  {
   "cell_type": "markdown",
   "metadata": {
    "cell_style": "split",
    "slideshow": {
     "slide_type": "fragment"
    }
   },
   "source": [
    "Bias: \n",
    "- when model not complex enough\n",
    "- feature space not adequately rich enough to explain target\n",
    "\n"
   ]
  },
  {
   "cell_type": "markdown",
   "metadata": {
    "cell_style": "split",
    "slideshow": {
     "slide_type": "fragment"
    }
   },
   "source": [
    "Variance: \n",
    "\n",
    "- model/weights: large fluctuations about true model given different train sets\n",
    "\n",
    "- High $ \\mathrm{Var}[\\textbf{w}] $ over realization of training sets\n",
    "\n",
    "- High fluctuation in MAE over test sets."
   ]
  },
  {
   "cell_type": "markdown",
   "metadata": {
    "cell_style": "split",
    "slideshow": {
     "slide_type": "slide"
    }
   },
   "source": [
    "The bulls-eye diagrams of fitting model to different training set realizations:\n",
    "<center><img src = \"Images/biasvar_bullseye.png\" width = 400/></center>"
   ]
  },
  {
   "cell_type": "markdown",
   "metadata": {
    "cell_style": "split",
    "slideshow": {
     "slide_type": "fragment"
    }
   },
   "source": [
    "Each dot is a model:\n",
    "- Bulls-eye: the *true* model (generating mean of $y$ given $X$ in the population) \n",
    "- Each dot: models trained on different samples."
   ]
  },
  {
   "cell_type": "markdown",
   "metadata": {
    "slideshow": {
     "slide_type": "fragment"
    }
   },
   "source": [
    "**Our goal**: lowering bias and variance in training predictive models\n",
    "\n",
    "but the two often at odds."
   ]
  },
  {
   "cell_type": "markdown",
   "metadata": {
    "slideshow": {
     "slide_type": "slide"
    }
   },
   "source": [
    "**Multicollinearity**\n",
    "\n",
    "Have to grapple with these issues when constructing linear models with multicollinear features"
   ]
  },
  {
   "cell_type": "markdown",
   "metadata": {
    "slideshow": {
     "slide_type": "fragment"
    }
   },
   "source": [
    "We talked about this way back. But how does it increase Var[$\\textbf{w}$]?"
   ]
  },
  {
   "cell_type": "code",
   "execution_count": 1,
   "metadata": {
    "slideshow": {
     "slide_type": "slide"
    }
   },
   "outputs": [
    {
     "ename": "FileNotFoundError",
     "evalue": "[Errno 2] No such file or directory: 'Data\\\\WHO_life.csv'",
     "output_type": "error",
     "traceback": [
      "\u001b[0;31m---------------------------------------------------------------------------\u001b[0m",
      "\u001b[0;31mFileNotFoundError\u001b[0m                         Traceback (most recent call last)",
      "\u001b[0;32m<ipython-input-1-6b069bc6faa7>\u001b[0m in \u001b[0;36m<module>\u001b[0;34m\u001b[0m\n\u001b[1;32m      4\u001b[0m \u001b[0;32mimport\u001b[0m \u001b[0mmatplotlib\u001b[0m\u001b[0;34m.\u001b[0m\u001b[0mpyplot\u001b[0m \u001b[0;32mas\u001b[0m \u001b[0mplt\u001b[0m\u001b[0;34m\u001b[0m\u001b[0;34m\u001b[0m\u001b[0m\n\u001b[1;32m      5\u001b[0m \u001b[0;34m\u001b[0m\u001b[0m\n\u001b[0;32m----> 6\u001b[0;31m \u001b[0mWHO_data\u001b[0m \u001b[0;34m=\u001b[0m \u001b[0mpd\u001b[0m\u001b[0;34m.\u001b[0m\u001b[0mread_csv\u001b[0m\u001b[0;34m(\u001b[0m\u001b[0;34m\"Data\\WHO_life.csv\"\u001b[0m\u001b[0;34m)\u001b[0m\u001b[0;34m\u001b[0m\u001b[0;34m\u001b[0m\u001b[0m\n\u001b[0m\u001b[1;32m      7\u001b[0m \u001b[0mX_WHO\u001b[0m \u001b[0;34m=\u001b[0m \u001b[0mWHO_data\u001b[0m\u001b[0;34m.\u001b[0m\u001b[0mdrop\u001b[0m\u001b[0;34m(\u001b[0m\u001b[0mcolumns\u001b[0m \u001b[0;34m=\u001b[0m \u001b[0;34m[\u001b[0m\u001b[0;34m\"Life expectancy \"\u001b[0m\u001b[0;34m]\u001b[0m\u001b[0;34m)\u001b[0m\u001b[0;34m\u001b[0m\u001b[0;34m\u001b[0m\u001b[0m\n\u001b[1;32m      8\u001b[0m \u001b[0mX_WHO\u001b[0m\u001b[0;34m.\u001b[0m\u001b[0mcolumns\u001b[0m \u001b[0;34m=\u001b[0m \u001b[0mX_WHO\u001b[0m\u001b[0;34m.\u001b[0m\u001b[0mcolumns\u001b[0m\u001b[0;34m.\u001b[0m\u001b[0mstr\u001b[0m\u001b[0;34m.\u001b[0m\u001b[0mstrip\u001b[0m\u001b[0;34m(\u001b[0m\u001b[0;34m)\u001b[0m\u001b[0;34m\u001b[0m\u001b[0;34m\u001b[0m\u001b[0m\n",
      "\u001b[0;32m~/opt/anaconda3/envs/learn-env/lib/python3.8/site-packages/pandas/io/parsers.py\u001b[0m in \u001b[0;36mread_csv\u001b[0;34m(filepath_or_buffer, sep, delimiter, header, names, index_col, usecols, squeeze, prefix, mangle_dupe_cols, dtype, engine, converters, true_values, false_values, skipinitialspace, skiprows, skipfooter, nrows, na_values, keep_default_na, na_filter, verbose, skip_blank_lines, parse_dates, infer_datetime_format, keep_date_col, date_parser, dayfirst, cache_dates, iterator, chunksize, compression, thousands, decimal, lineterminator, quotechar, quoting, doublequote, escapechar, comment, encoding, dialect, error_bad_lines, warn_bad_lines, delim_whitespace, low_memory, memory_map, float_precision)\u001b[0m\n\u001b[1;32m    684\u001b[0m     )\n\u001b[1;32m    685\u001b[0m \u001b[0;34m\u001b[0m\u001b[0m\n\u001b[0;32m--> 686\u001b[0;31m     \u001b[0;32mreturn\u001b[0m \u001b[0m_read\u001b[0m\u001b[0;34m(\u001b[0m\u001b[0mfilepath_or_buffer\u001b[0m\u001b[0;34m,\u001b[0m \u001b[0mkwds\u001b[0m\u001b[0;34m)\u001b[0m\u001b[0;34m\u001b[0m\u001b[0;34m\u001b[0m\u001b[0m\n\u001b[0m\u001b[1;32m    687\u001b[0m \u001b[0;34m\u001b[0m\u001b[0m\n\u001b[1;32m    688\u001b[0m \u001b[0;34m\u001b[0m\u001b[0m\n",
      "\u001b[0;32m~/opt/anaconda3/envs/learn-env/lib/python3.8/site-packages/pandas/io/parsers.py\u001b[0m in \u001b[0;36m_read\u001b[0;34m(filepath_or_buffer, kwds)\u001b[0m\n\u001b[1;32m    450\u001b[0m \u001b[0;34m\u001b[0m\u001b[0m\n\u001b[1;32m    451\u001b[0m     \u001b[0;31m# Create the parser.\u001b[0m\u001b[0;34m\u001b[0m\u001b[0;34m\u001b[0m\u001b[0;34m\u001b[0m\u001b[0m\n\u001b[0;32m--> 452\u001b[0;31m     \u001b[0mparser\u001b[0m \u001b[0;34m=\u001b[0m \u001b[0mTextFileReader\u001b[0m\u001b[0;34m(\u001b[0m\u001b[0mfp_or_buf\u001b[0m\u001b[0;34m,\u001b[0m \u001b[0;34m**\u001b[0m\u001b[0mkwds\u001b[0m\u001b[0;34m)\u001b[0m\u001b[0;34m\u001b[0m\u001b[0;34m\u001b[0m\u001b[0m\n\u001b[0m\u001b[1;32m    453\u001b[0m \u001b[0;34m\u001b[0m\u001b[0m\n\u001b[1;32m    454\u001b[0m     \u001b[0;32mif\u001b[0m \u001b[0mchunksize\u001b[0m \u001b[0;32mor\u001b[0m \u001b[0miterator\u001b[0m\u001b[0;34m:\u001b[0m\u001b[0;34m\u001b[0m\u001b[0;34m\u001b[0m\u001b[0m\n",
      "\u001b[0;32m~/opt/anaconda3/envs/learn-env/lib/python3.8/site-packages/pandas/io/parsers.py\u001b[0m in \u001b[0;36m__init__\u001b[0;34m(self, f, engine, **kwds)\u001b[0m\n\u001b[1;32m    944\u001b[0m             \u001b[0mself\u001b[0m\u001b[0;34m.\u001b[0m\u001b[0moptions\u001b[0m\u001b[0;34m[\u001b[0m\u001b[0;34m\"has_index_names\"\u001b[0m\u001b[0;34m]\u001b[0m \u001b[0;34m=\u001b[0m \u001b[0mkwds\u001b[0m\u001b[0;34m[\u001b[0m\u001b[0;34m\"has_index_names\"\u001b[0m\u001b[0;34m]\u001b[0m\u001b[0;34m\u001b[0m\u001b[0;34m\u001b[0m\u001b[0m\n\u001b[1;32m    945\u001b[0m \u001b[0;34m\u001b[0m\u001b[0m\n\u001b[0;32m--> 946\u001b[0;31m         \u001b[0mself\u001b[0m\u001b[0;34m.\u001b[0m\u001b[0m_make_engine\u001b[0m\u001b[0;34m(\u001b[0m\u001b[0mself\u001b[0m\u001b[0;34m.\u001b[0m\u001b[0mengine\u001b[0m\u001b[0;34m)\u001b[0m\u001b[0;34m\u001b[0m\u001b[0;34m\u001b[0m\u001b[0m\n\u001b[0m\u001b[1;32m    947\u001b[0m \u001b[0;34m\u001b[0m\u001b[0m\n\u001b[1;32m    948\u001b[0m     \u001b[0;32mdef\u001b[0m \u001b[0mclose\u001b[0m\u001b[0;34m(\u001b[0m\u001b[0mself\u001b[0m\u001b[0;34m)\u001b[0m\u001b[0;34m:\u001b[0m\u001b[0;34m\u001b[0m\u001b[0;34m\u001b[0m\u001b[0m\n",
      "\u001b[0;32m~/opt/anaconda3/envs/learn-env/lib/python3.8/site-packages/pandas/io/parsers.py\u001b[0m in \u001b[0;36m_make_engine\u001b[0;34m(self, engine)\u001b[0m\n\u001b[1;32m   1176\u001b[0m     \u001b[0;32mdef\u001b[0m \u001b[0m_make_engine\u001b[0m\u001b[0;34m(\u001b[0m\u001b[0mself\u001b[0m\u001b[0;34m,\u001b[0m \u001b[0mengine\u001b[0m\u001b[0;34m=\u001b[0m\u001b[0;34m\"c\"\u001b[0m\u001b[0;34m)\u001b[0m\u001b[0;34m:\u001b[0m\u001b[0;34m\u001b[0m\u001b[0;34m\u001b[0m\u001b[0m\n\u001b[1;32m   1177\u001b[0m         \u001b[0;32mif\u001b[0m \u001b[0mengine\u001b[0m \u001b[0;34m==\u001b[0m \u001b[0;34m\"c\"\u001b[0m\u001b[0;34m:\u001b[0m\u001b[0;34m\u001b[0m\u001b[0;34m\u001b[0m\u001b[0m\n\u001b[0;32m-> 1178\u001b[0;31m             \u001b[0mself\u001b[0m\u001b[0;34m.\u001b[0m\u001b[0m_engine\u001b[0m \u001b[0;34m=\u001b[0m \u001b[0mCParserWrapper\u001b[0m\u001b[0;34m(\u001b[0m\u001b[0mself\u001b[0m\u001b[0;34m.\u001b[0m\u001b[0mf\u001b[0m\u001b[0;34m,\u001b[0m \u001b[0;34m**\u001b[0m\u001b[0mself\u001b[0m\u001b[0;34m.\u001b[0m\u001b[0moptions\u001b[0m\u001b[0;34m)\u001b[0m\u001b[0;34m\u001b[0m\u001b[0;34m\u001b[0m\u001b[0m\n\u001b[0m\u001b[1;32m   1179\u001b[0m         \u001b[0;32melse\u001b[0m\u001b[0;34m:\u001b[0m\u001b[0;34m\u001b[0m\u001b[0;34m\u001b[0m\u001b[0m\n\u001b[1;32m   1180\u001b[0m             \u001b[0;32mif\u001b[0m \u001b[0mengine\u001b[0m \u001b[0;34m==\u001b[0m \u001b[0;34m\"python\"\u001b[0m\u001b[0;34m:\u001b[0m\u001b[0;34m\u001b[0m\u001b[0;34m\u001b[0m\u001b[0m\n",
      "\u001b[0;32m~/opt/anaconda3/envs/learn-env/lib/python3.8/site-packages/pandas/io/parsers.py\u001b[0m in \u001b[0;36m__init__\u001b[0;34m(self, src, **kwds)\u001b[0m\n\u001b[1;32m   2006\u001b[0m         \u001b[0mkwds\u001b[0m\u001b[0;34m[\u001b[0m\u001b[0;34m\"usecols\"\u001b[0m\u001b[0;34m]\u001b[0m \u001b[0;34m=\u001b[0m \u001b[0mself\u001b[0m\u001b[0;34m.\u001b[0m\u001b[0musecols\u001b[0m\u001b[0;34m\u001b[0m\u001b[0;34m\u001b[0m\u001b[0m\n\u001b[1;32m   2007\u001b[0m \u001b[0;34m\u001b[0m\u001b[0m\n\u001b[0;32m-> 2008\u001b[0;31m         \u001b[0mself\u001b[0m\u001b[0;34m.\u001b[0m\u001b[0m_reader\u001b[0m \u001b[0;34m=\u001b[0m \u001b[0mparsers\u001b[0m\u001b[0;34m.\u001b[0m\u001b[0mTextReader\u001b[0m\u001b[0;34m(\u001b[0m\u001b[0msrc\u001b[0m\u001b[0;34m,\u001b[0m \u001b[0;34m**\u001b[0m\u001b[0mkwds\u001b[0m\u001b[0;34m)\u001b[0m\u001b[0;34m\u001b[0m\u001b[0;34m\u001b[0m\u001b[0m\n\u001b[0m\u001b[1;32m   2009\u001b[0m         \u001b[0mself\u001b[0m\u001b[0;34m.\u001b[0m\u001b[0munnamed_cols\u001b[0m \u001b[0;34m=\u001b[0m \u001b[0mself\u001b[0m\u001b[0;34m.\u001b[0m\u001b[0m_reader\u001b[0m\u001b[0;34m.\u001b[0m\u001b[0munnamed_cols\u001b[0m\u001b[0;34m\u001b[0m\u001b[0;34m\u001b[0m\u001b[0m\n\u001b[1;32m   2010\u001b[0m \u001b[0;34m\u001b[0m\u001b[0m\n",
      "\u001b[0;32mpandas/_libs/parsers.pyx\u001b[0m in \u001b[0;36mpandas._libs.parsers.TextReader.__cinit__\u001b[0;34m()\u001b[0m\n",
      "\u001b[0;32mpandas/_libs/parsers.pyx\u001b[0m in \u001b[0;36mpandas._libs.parsers.TextReader._setup_parser_source\u001b[0;34m()\u001b[0m\n",
      "\u001b[0;31mFileNotFoundError\u001b[0m: [Errno 2] No such file or directory: 'Data\\\\WHO_life.csv'"
     ]
    }
   ],
   "source": [
    "import numpy as np\n",
    "import pandas as pd\n",
    "import seaborn as sns\n",
    "import matplotlib.pyplot as plt\n",
    "\n",
    "WHO_data = pd.read_csv(\"Data\\WHO_life.csv\")\n",
    "X_WHO = WHO_data.drop(columns = [\"Life expectancy \"])\n",
    "X_WHO.columns = X_WHO.columns.str.strip()\n",
    "y = WHO_data[\"Life expectancy \"]"
   ]
  },
  {
   "cell_type": "code",
   "execution_count": null,
   "metadata": {
    "scrolled": true,
    "slideshow": {
     "slide_type": "subslide"
    }
   },
   "outputs": [],
   "source": [
    "X_WHO.head()"
   ]
  },
  {
   "cell_type": "markdown",
   "metadata": {
    "cell_style": "center",
    "slideshow": {
     "slide_type": "slide"
    }
   },
   "source": [
    "Many features from WHO dataset:\n",
    "\n",
    "Regressing to find weights life expectancy"
   ]
  },
  {
   "cell_type": "code",
   "execution_count": null,
   "metadata": {
    "slideshow": {
     "slide_type": "fragment"
    }
   },
   "outputs": [],
   "source": [
    "X_WHO.columns"
   ]
  },
  {
   "cell_type": "markdown",
   "metadata": {
    "slideshow": {
     "slide_type": "slide"
    }
   },
   "source": [
    "But let's take a look at a few of these and their correlations:"
   ]
  },
  {
   "cell_type": "code",
   "execution_count": null,
   "metadata": {
    "scrolled": false,
    "slideshow": {
     "slide_type": "subslide"
    }
   },
   "outputs": [],
   "source": [
    "col_selector = ['Income composition of resources', 'Schooling','Alcohol', 'thinness  1-19 years']\n",
    "subsetX = X_WHO[col_selector]\n",
    "sns.heatmap(subsetX.corr())\n",
    "plt.show()"
   ]
  },
  {
   "cell_type": "markdown",
   "metadata": {
    "slideshow": {
     "slide_type": "slide"
    }
   },
   "source": [
    "Let's focus on Schooling and income composite resources (ICR):"
   ]
  },
  {
   "cell_type": "markdown",
   "metadata": {
    "slideshow": {
     "slide_type": "fragment"
    }
   },
   "source": [
    "$$ Life= w_1*Alcohol + w_2*Polio + w_3*Schooling + w_4*Measles + w_5*ICR + ... $$"
   ]
  },
  {
   "cell_type": "markdown",
   "metadata": {
    "cell_style": "split",
    "slideshow": {
     "slide_type": "fragment"
    }
   },
   "source": [
    "Correlation is very high!"
   ]
  },
  {
   "cell_type": "code",
<<<<<<< HEAD
   "execution_count": null,
=======
   "execution_count": 4,
   "id": "24ba4dd4",
>>>>>>> upstream/master
   "metadata": {
    "cell_style": "split",
    "slideshow": {
     "slide_type": "fragment"
    }
   },
<<<<<<< HEAD
   "outputs": [],
=======
   "outputs": [
    {
     "data": {
      "text/html": [
       "<div>\n",
       "<style scoped>\n",
       "    .dataframe tbody tr th:only-of-type {\n",
       "        vertical-align: middle;\n",
       "    }\n",
       "\n",
       "    .dataframe tbody tr th {\n",
       "        vertical-align: top;\n",
       "    }\n",
       "\n",
       "    .dataframe thead th {\n",
       "        text-align: right;\n",
       "    }\n",
       "</style>\n",
       "<table border=\"1\" class=\"dataframe\">\n",
       "  <thead>\n",
       "    <tr style=\"text-align: right;\">\n",
       "      <th></th>\n",
       "      <th>Income composition of resources</th>\n",
       "      <th>Schooling</th>\n",
       "    </tr>\n",
       "  </thead>\n",
       "  <tbody>\n",
       "    <tr>\n",
       "      <th>Income composition of resources</th>\n",
       "      <td>1.000000</td>\n",
       "      <td>0.800092</td>\n",
       "    </tr>\n",
       "    <tr>\n",
       "      <th>Schooling</th>\n",
       "      <td>0.800092</td>\n",
       "      <td>1.000000</td>\n",
       "    </tr>\n",
       "  </tbody>\n",
       "</table>\n",
       "</div>"
      ],
      "text/plain": [
       "                                 Income composition of resources  Schooling\n",
       "Income composition of resources                         1.000000   0.800092\n",
       "Schooling                                               0.800092   1.000000"
      ]
     },
     "execution_count": 4,
     "metadata": {},
     "output_type": "execute_result"
    }
   ],
>>>>>>> upstream/master
   "source": [
    "col_selector = ['Income composition of resources', 'Schooling']\n",
    "X_WHO[col_selector].corr()"
   ]
  },
  {
   "cell_type": "markdown",
   "metadata": {
    "cell_style": "split",
    "slideshow": {
     "slide_type": "slide"
    }
   },
   "source": [
    "Our regression: \n",
    "- Y = life expectancy\n",
    "\n",
    "$$ Y - \\sum_{i \\neq 3,5} w_i x_i = w_3 Schooling + w_5 ICR $$"
   ]
  },
  {
   "cell_type": "markdown",
   "metadata": {
    "cell_style": "split",
    "slideshow": {
     "slide_type": "fragment"
    }
   },
   "source": [
    "- Schooling and ICR highly related:\n",
    "\n",
    "- Implies that $w_3$ and $w_5$ introduce too much flexibility.\n",
    "- Maybe could fit almost as well with just $w_3$."
   ]
  },
  {
   "cell_type": "markdown",
   "metadata": {
    "cell_style": "split",
    "slideshow": {
     "slide_type": "fragment"
    }
   },
   "source": [
    "- $w_3$ and $w_5$ are floppy and can become big in either direction to fit data.\n",
    "- Var[$\\textbf{w}$] from $w_3$ and $w_5$ high."
   ]
  },
  {
   "cell_type": "markdown",
   "metadata": {
    "slideshow": {
     "slide_type": "slide"
    }
   },
   "source": [
    "Modeling data by linear model w/ multicollinear features:\n",
    "- intoduces high weight variance\n",
    "- unnecessary model complexity"
   ]
  },
  {
   "cell_type": "markdown",
   "metadata": {
    "slideshow": {
     "slide_type": "slide"
    }
   },
   "source": [
    "These considerations are all nice and theoretical:\n",
    "    \n",
    "- how do we actually assess whether model suffers from bias / variance or both?"
   ]
  },
  {
   "cell_type": "markdown",
   "metadata": {
    "slideshow": {
     "slide_type": "subslide"
    }
   },
   "source": [
    "#### How to assess model variance: cross-validation"
   ]
  },
  {
   "cell_type": "markdown",
   "metadata": {
    "cell_style": "split",
    "slideshow": {
     "slide_type": "fragment"
    }
   },
   "source": [
    "Could get many different training sets:\n",
    "- Train weights $\\textbf{w}$ for each.\n",
    "- Get variance of $\\textbf{w}$\n"
   ]
  },
  {
   "cell_type": "markdown",
   "metadata": {
    "cell_style": "split",
    "slideshow": {
     "slide_type": "fragment"
    }
   },
   "source": [
    "Semi-equivalently:\n",
    "- Test performance of each model on test set.\n",
    "- Evaluate model performance/variance by looking at average/standard deviation of performance on test set."
   ]
  },
  {
   "cell_type": "markdown",
   "metadata": {
    "slideshow": {
     "slide_type": "slide"
    }
   },
   "source": [
    "Problem: \n",
    "- likely don't have this much data available to make enough independent training sets large enough to for each model to train on effectively."
   ]
  },
  {
   "cell_type": "markdown",
   "metadata": {
    "slideshow": {
     "slide_type": "slide"
    }
   },
   "source": [
    "#### Solution: Cross validation"
   ]
  },
  {
   "cell_type": "markdown",
   "metadata": {
    "cell_style": "split",
    "slideshow": {
     "slide_type": "fragment"
    }
   },
   "source": [
    "So first we created our train / test split: \n",
    "\n",
    "- the **training set** can be used to develop models\n",
    "- can assess variance of a model and average performance\n"
   ]
  },
  {
   "cell_type": "markdown",
   "metadata": {
    "cell_style": "split"
   },
   "source": [
    "<img src = \"Images/traintestsplit.png\"  width = 800/>\n",
    "<center> Splitting up training set </center>"
   ]
  },
  {
   "cell_type": "markdown",
   "metadata": {
    "cell_style": "split",
    "slideshow": {
     "slide_type": "fragment"
    }
   },
   "source": [
    "<img src = \"Images/crossval.png\"  width = 800/>\n",
    "<center> Splitting up training set </center>"
   ]
  },
  {
   "cell_type": "markdown",
   "metadata": {
    "cell_style": "split",
    "slideshow": {
     "slide_type": "fragment"
    }
   },
   "source": [
    "Split up **training set** into folds:\n",
    "- Training fold\n",
    "- Validation fold"
   ]
  },
  {
   "cell_type": "markdown",
   "metadata": {
    "cell_style": "split",
    "slideshow": {
     "slide_type": "fragment"
    }
   },
   "source": [
    "- For each iteration:\n",
    "    - train a model on train fold\n",
    "    - test on validation fold"
   ]
  },
  {
   "cell_type": "markdown",
   "metadata": {
    "cell_style": "split",
    "slideshow": {
     "slide_type": "slide"
    }
   },
   "source": [
    "<img src = \"Images/crossval.png\"  width = 800/>\n",
    "<center> Splitting up training set </center>"
   ]
  },
  {
   "cell_type": "markdown",
   "metadata": {
    "cell_style": "split",
    "slideshow": {
     "slide_type": "slide"
    }
   },
   "source": [
    "Effectively sampling multiple training sets:\n",
    "- each iteration model trained on different training set.\n",
    "- testing each model performance on different **validation set**.\n",
    "\n"
   ]
  },
  {
   "cell_type": "markdown",
   "metadata": {
    "cell_style": "split",
    "slideshow": {
     "slide_type": "fragment"
    }
   },
   "source": [
    "- Good for estimating model performance on average\n",
    "- Good for estimating model variance as well."
   ]
  },
  {
   "cell_type": "markdown",
   "metadata": {
    "cell_style": "split",
    "slideshow": {
     "slide_type": "subslide"
    }
   },
   "source": [
    "So in the end:\n",
    "- Performance metrics measured on validation\n",
    "- We get average performance metric across all the models for each cross validation iteration.\n",
    "- Get variance of performance metric."
   ]
  },
  {
   "cell_type": "markdown",
   "metadata": {
    "cell_style": "split",
    "slideshow": {
     "slide_type": "slide"
    }
   },
   "source": [
    "<img src = \"Images/crossval.png\"  width = 800/>\n",
    "<center> Splitting up training set </center>"
   ]
  },
  {
   "cell_type": "markdown",
   "metadata": {
    "cell_style": "center",
    "slideshow": {
     "slide_type": "subslide"
    }
   },
   "source": [
    "Note: **validation set** is part of training set:\n",
    "- Not part of true test/hold-out set."
   ]
  },
  {
   "cell_type": "markdown",
   "metadata": {
    "slideshow": {
     "slide_type": "fragment"
    }
   },
   "source": [
    "How is validation fold/set different from test set?"
   ]
  },
  {
   "cell_type": "markdown",
   "metadata": {
    "cell_style": "split",
    "slideshow": {
     "slide_type": "slide"
    }
   },
   "source": [
    "We are often trying out different model types:\n",
    "- OLS with raw features\n",
    "- OLS with collinear features dropped\n",
    "- OLS with polynomial features\n",
    "- Ridge regressor (will see later)"
   ]
  },
  {
   "cell_type": "markdown",
   "metadata": {
    "cell_style": "split",
    "slideshow": {
     "slide_type": "fragment"
    }
   },
   "source": [
    "Idea is that we try out different model types / tune models: \n",
    "- assess variance\n",
    "- assess average performance\n",
    "\n",
    "**Use train/validation for this**: \n",
    "- for each model type: estimate model average performance and variance *across different train/validation realizations* "
   ]
  },
  {
   "cell_type": "markdown",
   "metadata": {
    "slideshow": {
     "slide_type": "subslide"
    }
   },
   "source": [
    "<img src = \"Images/cvtuningflow.png\"  width = 800/>\n",
    "<center> Model comparison/selection using cross-validation </center>"
   ]
  },
  {
   "cell_type": "markdown",
   "metadata": {
    "cell_style": "split",
    "slideshow": {
     "slide_type": "subslide"
    }
   },
   "source": [
    "Selected best model based on:\n",
    "- what worked best on the given validation folds.\n",
    "\n",
    "**Iterative optimization of models based on the train/validation data**"
   ]
  },
  {
   "cell_type": "markdown",
   "metadata": {
    "cell_style": "split",
    "slideshow": {
     "slide_type": "fragment"
    }
   },
   "source": [
    "Ultimately: \n",
    "\n",
    "- want to evaluate our best model class (found by optimizing over the validation sets) \n",
    "- on data that has neither been trained or validated on"
   ]
  },
  {
   "cell_type": "markdown",
   "metadata": {
    "cell_style": "center",
    "slideshow": {
     "slide_type": "slide"
    }
   },
   "source": [
    "**The true test/hold-out test**: The modeling / tuning process has never seen this data.\n",
    "\n",
    "- Take best model from model iteration/ cross-validation.\n",
    "- Evaluate test performance."
   ]
  },
  {
   "cell_type": "markdown",
   "metadata": {
    "cell_style": "center",
    "slideshow": {
     "slide_type": "slide"
    }
   },
   "source": [
    "\n",
    "<img src = \"Images/test_phase_afterCV.png\"  width = 800/>\n",
    "<center> Best model from cross-validation in test phase</center>"
   ]
  },
  {
   "cell_type": "markdown",
   "metadata": {
    "cell_style": "split",
    "slideshow": {
     "slide_type": "slide"
    }
   },
   "source": [
    "Cross validation gives us a way to test statistical robustness of model performance:\n",
    "- evaluate average performance\n",
    "- evaluate model variance"
   ]
  },
  {
   "cell_type": "markdown",
   "metadata": {
    "cell_style": "split",
    "slideshow": {
     "slide_type": "fragment"
    }
   },
   "source": [
    "But seeing a set of models have high variance:\n",
    "- How to address this problem found in cross-validation trials?\n",
    "- i.e., how do we lower the variance?"
   ]
  },
  {
   "cell_type": "markdown",
   "metadata": {
    "cell_style": "center",
    "slideshow": {
     "slide_type": "slide"
    }
   },
   "source": [
    "#### Ways to limit/deal with high variance."
   ]
  },
  {
   "cell_type": "markdown",
   "metadata": {
    "cell_style": "split",
    "slideshow": {
     "slide_type": "subslide"
    }
   },
   "source": [
    "- Get more data. With enough training data, even with floppy weights model will do a decent job approximating data."
   ]
  },
  {
   "cell_type": "markdown",
   "metadata": {
    "cell_style": "split",
    "slideshow": {
     "slide_type": "fragment"
    }
   },
   "source": [
    "- Yeah, but often not possible/easy to get enough data for this."
   ]
  },
  {
   "cell_type": "markdown",
   "metadata": {
    "cell_style": "split",
    "slideshow": {
     "slide_type": "slide"
    }
   },
   "source": [
    "- Get rid of columns that exhibit a high degree of collinearity with other columns."
   ]
  },
  {
   "cell_type": "markdown",
   "metadata": {
    "cell_style": "split",
    "slideshow": {
     "slide_type": "fragment"
    }
   },
   "source": [
    "- Yeah, but did we throw out some useful information for prediction? \n",
    "- ICR and schooling not the same thing.\n",
    "- How many of the collinear columns should we throw away? Which ones?"
   ]
  },
  {
   "cell_type": "markdown",
   "metadata": {
    "slideshow": {
     "slide_type": "subslide"
    }
   },
   "source": [
    "Getting rid of columns like this:\n",
    "- Can lower variance\n",
    "- But can also increase bias in an arbitrary, non-optimal way"
   ]
  },
  {
   "cell_type": "markdown",
   "metadata": {
    "cell_style": "split",
    "slideshow": {
     "slide_type": "slide"
    }
   },
   "source": [
    "- Or we could come up with ways to directly limit the variance through the cost function itself."
   ]
  },
  {
   "cell_type": "markdown",
   "metadata": {
    "cell_style": "split",
    "slideshow": {
     "slide_type": "fragment"
    }
   },
   "source": [
    "The hope is that with this method:\n",
    "- decrease variance\n",
    "- without increasing bias too much\n",
    "\n",
    "Doing this in an optimal and principled way."
   ]
  },
  {
   "cell_type": "markdown",
   "metadata": {
    "cell_style": "center",
    "slideshow": {
     "slide_type": "subslide"
    }
   },
   "source": [
    "Let's try this."
   ]
  },
  {
   "cell_type": "markdown",
   "metadata": {
    "slideshow": {
     "slide_type": "slide"
    }
   },
   "source": [
    "#### Regularization for Linear Regression"
   ]
  },
  {
   "cell_type": "markdown",
   "metadata": {
    "slideshow": {
     "slide_type": "subslide"
    }
   },
   "source": [
    "Modify our squared error loss function."
   ]
  },
  {
   "cell_type": "markdown",
   "metadata": {
    "slideshow": {
     "slide_type": "fragment"
    }
   },
   "source": [
    "$$ L = |\\textbf{y} - X \\textbf{w}|_2^2 + \\lambda |\\textbf{w}|_2^2 $$\n",
    "\n",
    "with $|\\textbf{w}|_2^2 = w_1^2 + w_2^2 + ... + w_m^2$ as sum of squares of the feature weights.\n",
    "\n",
    "*We'll see why we use the subscript on the norm shortly.*"
   ]
  },
  {
   "cell_type": "markdown",
   "metadata": {
    "slideshow": {
     "slide_type": "subslide"
    }
   },
   "source": [
    "<img src = \"Images/ridge_regression_geometric.png\" width = 450>"
   ]
  },
  {
   "cell_type": "markdown",
   "metadata": {
    "cell_style": "split",
    "slideshow": {
     "slide_type": "fragment"
    }
   },
   "source": [
    "Tug of war between:\n",
    "\n",
    "Ridge cost: $ \\lambda |\\textbf{w}|_2^2 = \\lambda (w_1^2 + w_2^2)  $\n",
    "- L2 Regularization (Euclidean distance)"
   ]
  },
  {
   "cell_type": "markdown",
   "metadata": {
    "cell_style": "split",
    "slideshow": {
     "slide_type": "fragment"
    }
   },
   "source": [
    "Least squares cost: $ |\\textbf{y} - X\\textbf{w}|_2^2 $\n",
    "    "
   ]
  },
  {
   "cell_type": "markdown",
   "metadata": {
    "slideshow": {
     "slide_type": "subslide"
    }
   },
   "source": [
    "<img src = \"Images/ridge_regression_geometric.png\" width = 450>"
   ]
  },
  {
   "cell_type": "markdown",
   "metadata": {
    "cell_style": "split",
    "slideshow": {
     "slide_type": "fragment"
    }
   },
   "source": [
    "Regularization term penalizes large weights: \n",
    "- **strongly** discourages large fluctuations in $\\textbf{w}$ depending on training set.\n",
    "- i.e. reduces Var[$\\textbf{w}$]\n",
    "- **Can lead to large performance boost on unseen data.**"
   ]
  },
  {
   "cell_type": "markdown",
   "metadata": {
    "cell_style": "split",
    "slideshow": {
     "slide_type": "fragment"
    }
   },
   "source": [
    "- the tradeoff: repeating fitting on large number of distinct training sets:\n",
    "    - Average of $\\textbf{w}$ is off from least squares best fit to population"
   ]
  },
  {
   "cell_type": "markdown",
   "metadata": {
    "cell_style": "center",
    "slideshow": {
     "slide_type": "slide"
    }
   },
   "source": [
    "Our goal is to construct a model with:\n",
    "- as low a bias as possible (gets close to the true $\\textbf{w}$ if we had/fit on the entire population)\n",
    "- as low a *model* variance as possible (spread in $\\textbf{w}$ is low):\n",
    "    - implies $\\textbf{w}$ is tightly clustered\n"
   ]
  },
  {
   "cell_type": "markdown",
   "metadata": {
    "cell_style": "split",
    "slideshow": {
     "slide_type": "fragment"
    }
   },
   "source": [
    "Idea of Ridge: \n",
    "- Tune $\\lambda$ just right. This is something we input as external parameter to model. **Hyperparameter** \n",
    "- Cluster of $\\textbf{w}$ little off the center of the bullseye\n",
    "- But: tightly clustered."
   ]
  },
  {
   "cell_type": "markdown",
   "metadata": {
    "cell_style": "split",
    "slideshow": {
     "slide_type": "fragment"
    }
   },
   "source": [
    "With $\\lambda$ tuned well:\n",
    "\n",
    "- not likely to make generalization errors due to large fluctuation in $\\textbf{w}$\n",
    "- But doesnt shift $\\textbf{w}$ too far from least squares estimate"
   ]
  },
  {
   "cell_type": "markdown",
   "metadata": {
    "slideshow": {
     "slide_type": "slide"
    }
   },
   "source": [
    "OK let's do a Ridge regression."
   ]
  },
  {
   "cell_type": "code",
<<<<<<< HEAD
   "execution_count": 2,
=======
   "execution_count": 5,
   "id": "cbca8ef1",
>>>>>>> upstream/master
   "metadata": {
    "slideshow": {
     "slide_type": "slide"
    }
   },
   "outputs": [],
   "source": [
    "from sklearn.linear_model import LinearRegression\n",
    "from sklearn.linear_model import Ridge\n",
    "\n",
    "# train test split\n",
    "from sklearn.model_selection import train_test_split\n",
    "\n",
    "# preprocessing\n",
    "from sklearn.preprocessing import OneHotEncoder\n",
    "from sklearn.preprocessing import StandardScaler\n",
    "\n",
    "# model validation: testing model variance with cross validation\n",
    "\n",
    "from sklearn.model_selection import KFold, cross_val_score, cross_validate, ShuffleSplit"
   ]
  },
  {
   "cell_type": "code",
<<<<<<< HEAD
   "execution_count": 3,
=======
   "execution_count": 6,
   "id": "82e47efe",
>>>>>>> upstream/master
   "metadata": {
    "hidden": true,
    "slideshow": {
     "slide_type": "slide"
    }
   },
   "outputs": [],
   "source": [
    "birds = sns.load_dataset('penguins')\n",
    "birds = birds.dropna()"
   ]
  },
  {
   "cell_type": "code",
<<<<<<< HEAD
   "execution_count": 4,
=======
   "execution_count": 7,
   "id": "df85aabe",
>>>>>>> upstream/master
   "metadata": {
    "slideshow": {
     "slide_type": "fragment"
    }
   },
   "outputs": [
    {
     "data": {
      "text/html": [
       "<div>\n",
       "<style scoped>\n",
       "    .dataframe tbody tr th:only-of-type {\n",
       "        vertical-align: middle;\n",
       "    }\n",
       "\n",
       "    .dataframe tbody tr th {\n",
       "        vertical-align: top;\n",
       "    }\n",
       "\n",
       "    .dataframe thead th {\n",
       "        text-align: right;\n",
       "    }\n",
       "</style>\n",
       "<table border=\"1\" class=\"dataframe\">\n",
       "  <thead>\n",
       "    <tr style=\"text-align: right;\">\n",
       "      <th></th>\n",
       "      <th>species</th>\n",
       "      <th>island</th>\n",
       "      <th>bill_length_mm</th>\n",
       "      <th>bill_depth_mm</th>\n",
       "      <th>flipper_length_mm</th>\n",
       "      <th>body_mass_g</th>\n",
       "      <th>sex</th>\n",
       "    </tr>\n",
       "  </thead>\n",
       "  <tbody>\n",
       "    <tr>\n",
       "      <th>0</th>\n",
       "      <td>Adelie</td>\n",
       "      <td>Torgersen</td>\n",
       "      <td>39.1</td>\n",
       "      <td>18.7</td>\n",
       "      <td>181.0</td>\n",
       "      <td>3750.0</td>\n",
       "      <td>Male</td>\n",
       "    </tr>\n",
       "    <tr>\n",
       "      <th>1</th>\n",
       "      <td>Adelie</td>\n",
       "      <td>Torgersen</td>\n",
       "      <td>39.5</td>\n",
       "      <td>17.4</td>\n",
       "      <td>186.0</td>\n",
       "      <td>3800.0</td>\n",
       "      <td>Female</td>\n",
       "    </tr>\n",
       "    <tr>\n",
       "      <th>2</th>\n",
       "      <td>Adelie</td>\n",
       "      <td>Torgersen</td>\n",
       "      <td>40.3</td>\n",
       "      <td>18.0</td>\n",
       "      <td>195.0</td>\n",
       "      <td>3250.0</td>\n",
       "      <td>Female</td>\n",
       "    </tr>\n",
       "    <tr>\n",
       "      <th>4</th>\n",
       "      <td>Adelie</td>\n",
       "      <td>Torgersen</td>\n",
       "      <td>36.7</td>\n",
       "      <td>19.3</td>\n",
       "      <td>193.0</td>\n",
       "      <td>3450.0</td>\n",
       "      <td>Female</td>\n",
       "    </tr>\n",
       "    <tr>\n",
       "      <th>5</th>\n",
       "      <td>Adelie</td>\n",
       "      <td>Torgersen</td>\n",
       "      <td>39.3</td>\n",
       "      <td>20.6</td>\n",
       "      <td>190.0</td>\n",
       "      <td>3650.0</td>\n",
       "      <td>Male</td>\n",
       "    </tr>\n",
       "  </tbody>\n",
       "</table>\n",
       "</div>"
      ],
      "text/plain": [
       "  species     island  bill_length_mm  bill_depth_mm  flipper_length_mm  \\\n",
       "0  Adelie  Torgersen            39.1           18.7              181.0   \n",
       "1  Adelie  Torgersen            39.5           17.4              186.0   \n",
       "2  Adelie  Torgersen            40.3           18.0              195.0   \n",
       "4  Adelie  Torgersen            36.7           19.3              193.0   \n",
       "5  Adelie  Torgersen            39.3           20.6              190.0   \n",
       "\n",
       "   body_mass_g     sex  \n",
       "0       3750.0    Male  \n",
       "1       3800.0  Female  \n",
       "2       3250.0  Female  \n",
       "4       3450.0  Female  \n",
       "5       3650.0    Male  "
      ]
     },
<<<<<<< HEAD
     "execution_count": 4,
=======
     "execution_count": 7,
>>>>>>> upstream/master
     "metadata": {},
     "output_type": "execute_result"
    }
   ],
   "source": [
    "birds.head()"
   ]
  },
  {
   "cell_type": "markdown",
   "metadata": {
    "slideshow": {
     "slide_type": "slide"
    }
   },
   "source": [
    "Going to use the other features to predict the body mass of a penguin"
   ]
  },
  {
   "cell_type": "code",
<<<<<<< HEAD
   "execution_count": 5,
=======
   "execution_count": 8,
   "id": "e099fd4d",
>>>>>>> upstream/master
   "metadata": {
    "cell_style": "center",
    "slideshow": {
     "slide_type": "fragment"
    }
   },
   "outputs": [],
   "source": [
    "X = birds.drop('body_mass_g', axis=1)\n",
    "y = birds['body_mass_g']"
   ]
  },
  {
   "cell_type": "code",
<<<<<<< HEAD
   "execution_count": 6,
=======
   "execution_count": 9,
   "id": "f02e781c",
>>>>>>> upstream/master
   "metadata": {
    "cell_style": "center",
    "slideshow": {
     "slide_type": "fragment"
    }
   },
   "outputs": [],
   "source": [
    "X_train, X_test, y_train, y_test = train_test_split(X ,y, random_state = 42)"
   ]
  },
  {
   "cell_type": "markdown",
   "metadata": {
    "slideshow": {
     "slide_type": "slide"
    }
   },
   "source": [
    "Let's one-hot encode the nominal categoricals"
   ]
  },
  {
   "cell_type": "code",
<<<<<<< HEAD
   "execution_count": 7,
=======
   "execution_count": 10,
   "id": "bbd4e29a",
>>>>>>> upstream/master
   "metadata": {
    "cell_style": "center",
    "slideshow": {
     "slide_type": "fragment"
    }
   },
   "outputs": [
    {
     "data": {
      "text/html": [
       "<div>\n",
       "<style scoped>\n",
       "    .dataframe tbody tr th:only-of-type {\n",
       "        vertical-align: middle;\n",
       "    }\n",
       "\n",
       "    .dataframe tbody tr th {\n",
       "        vertical-align: top;\n",
       "    }\n",
       "\n",
       "    .dataframe thead th {\n",
       "        text-align: right;\n",
       "    }\n",
       "</style>\n",
       "<table border=\"1\" class=\"dataframe\">\n",
       "  <thead>\n",
       "    <tr style=\"text-align: right;\">\n",
       "      <th></th>\n",
       "      <th>x0_Chinstrap</th>\n",
       "      <th>x0_Gentoo</th>\n",
       "      <th>x1_Dream</th>\n",
       "      <th>x1_Torgersen</th>\n",
       "      <th>x2_Male</th>\n",
       "    </tr>\n",
       "  </thead>\n",
       "  <tbody>\n",
       "    <tr>\n",
       "      <th>321</th>\n",
       "      <td>0.0</td>\n",
       "      <td>1.0</td>\n",
       "      <td>0.0</td>\n",
       "      <td>0.0</td>\n",
       "      <td>1.0</td>\n",
       "    </tr>\n",
       "    <tr>\n",
       "      <th>265</th>\n",
       "      <td>0.0</td>\n",
       "      <td>1.0</td>\n",
       "      <td>0.0</td>\n",
       "      <td>0.0</td>\n",
       "      <td>0.0</td>\n",
       "    </tr>\n",
       "    <tr>\n",
       "      <th>36</th>\n",
       "      <td>0.0</td>\n",
       "      <td>0.0</td>\n",
       "      <td>1.0</td>\n",
       "      <td>0.0</td>\n",
       "      <td>1.0</td>\n",
       "    </tr>\n",
       "    <tr>\n",
       "      <th>308</th>\n",
       "      <td>0.0</td>\n",
       "      <td>1.0</td>\n",
       "      <td>0.0</td>\n",
       "      <td>0.0</td>\n",
       "      <td>0.0</td>\n",
       "    </tr>\n",
       "    <tr>\n",
       "      <th>191</th>\n",
       "      <td>1.0</td>\n",
       "      <td>0.0</td>\n",
       "      <td>1.0</td>\n",
       "      <td>0.0</td>\n",
       "      <td>1.0</td>\n",
       "    </tr>\n",
       "  </tbody>\n",
       "</table>\n",
       "</div>"
      ],
      "text/plain": [
       "     x0_Chinstrap  x0_Gentoo  x1_Dream  x1_Torgersen  x2_Male\n",
       "321           0.0        1.0       0.0           0.0      1.0\n",
       "265           0.0        1.0       0.0           0.0      0.0\n",
       "36            0.0        0.0       1.0           0.0      1.0\n",
       "308           0.0        1.0       0.0           0.0      0.0\n",
       "191           1.0        0.0       1.0           0.0      1.0"
      ]
     },
<<<<<<< HEAD
     "execution_count": 7,
=======
     "execution_count": 10,
>>>>>>> upstream/master
     "metadata": {},
     "output_type": "execute_result"
    }
   ],
   "source": [
    "# Taking in other features (category)\n",
    "ohe = OneHotEncoder(drop='first')\n",
    "dummies = ohe.fit_transform(X_train[['species', 'island', 'sex']])\n",
    "\n",
    "# Getting a DF\n",
    "X_train_onehot = pd.DataFrame(dummies.todense(), columns=ohe.get_feature_names(), index=X_train.index)\n",
    "\n",
    "X_train_onehot.head()"
   ]
  },
  {
   "cell_type": "markdown",
   "metadata": {
    "slideshow": {
     "slide_type": "slide"
    }
   },
   "source": [
    "Attach this to dataframe with numerical variables"
   ]
  },
  {
   "cell_type": "code",
<<<<<<< HEAD
   "execution_count": 8,
=======
   "execution_count": 11,
   "id": "67f8ee37",
>>>>>>> upstream/master
   "metadata": {
    "slideshow": {
     "slide_type": "fragment"
    }
   },
   "outputs": [
    {
     "data": {
      "text/html": [
       "<div>\n",
       "<style scoped>\n",
       "    .dataframe tbody tr th:only-of-type {\n",
       "        vertical-align: middle;\n",
       "    }\n",
       "\n",
       "    .dataframe tbody tr th {\n",
       "        vertical-align: top;\n",
       "    }\n",
       "\n",
       "    .dataframe thead th {\n",
       "        text-align: right;\n",
       "    }\n",
       "</style>\n",
       "<table border=\"1\" class=\"dataframe\">\n",
       "  <thead>\n",
       "    <tr style=\"text-align: right;\">\n",
       "      <th></th>\n",
       "      <th>bill_length_mm</th>\n",
       "      <th>bill_depth_mm</th>\n",
       "      <th>flipper_length_mm</th>\n",
       "      <th>x0_Chinstrap</th>\n",
       "      <th>x0_Gentoo</th>\n",
       "      <th>x1_Dream</th>\n",
       "      <th>x1_Torgersen</th>\n",
       "      <th>x2_Male</th>\n",
       "    </tr>\n",
       "  </thead>\n",
       "  <tbody>\n",
       "    <tr>\n",
       "      <th>321</th>\n",
       "      <td>55.9</td>\n",
       "      <td>17.0</td>\n",
       "      <td>228.0</td>\n",
       "      <td>0.0</td>\n",
       "      <td>1.0</td>\n",
       "      <td>0.0</td>\n",
       "      <td>0.0</td>\n",
       "      <td>1.0</td>\n",
       "    </tr>\n",
       "    <tr>\n",
       "      <th>265</th>\n",
       "      <td>43.6</td>\n",
       "      <td>13.9</td>\n",
       "      <td>217.0</td>\n",
       "      <td>0.0</td>\n",
       "      <td>1.0</td>\n",
       "      <td>0.0</td>\n",
       "      <td>0.0</td>\n",
       "      <td>0.0</td>\n",
       "    </tr>\n",
       "    <tr>\n",
       "      <th>36</th>\n",
       "      <td>38.8</td>\n",
       "      <td>20.0</td>\n",
       "      <td>190.0</td>\n",
       "      <td>0.0</td>\n",
       "      <td>0.0</td>\n",
       "      <td>1.0</td>\n",
       "      <td>0.0</td>\n",
       "      <td>1.0</td>\n",
       "    </tr>\n",
       "    <tr>\n",
       "      <th>308</th>\n",
       "      <td>47.5</td>\n",
       "      <td>14.0</td>\n",
       "      <td>212.0</td>\n",
       "      <td>0.0</td>\n",
       "      <td>1.0</td>\n",
       "      <td>0.0</td>\n",
       "      <td>0.0</td>\n",
       "      <td>0.0</td>\n",
       "    </tr>\n",
       "    <tr>\n",
       "      <th>191</th>\n",
       "      <td>53.5</td>\n",
       "      <td>19.9</td>\n",
       "      <td>205.0</td>\n",
       "      <td>1.0</td>\n",
       "      <td>0.0</td>\n",
       "      <td>1.0</td>\n",
       "      <td>0.0</td>\n",
       "      <td>1.0</td>\n",
       "    </tr>\n",
       "  </tbody>\n",
       "</table>\n",
       "</div>"
      ],
      "text/plain": [
       "     bill_length_mm  bill_depth_mm  flipper_length_mm  x0_Chinstrap  \\\n",
       "321            55.9           17.0              228.0           0.0   \n",
       "265            43.6           13.9              217.0           0.0   \n",
       "36             38.8           20.0              190.0           0.0   \n",
       "308            47.5           14.0              212.0           0.0   \n",
       "191            53.5           19.9              205.0           1.0   \n",
       "\n",
       "     x0_Gentoo  x1_Dream  x1_Torgersen  x2_Male  \n",
       "321        1.0       0.0           0.0      1.0  \n",
       "265        1.0       0.0           0.0      0.0  \n",
       "36         0.0       1.0           0.0      1.0  \n",
       "308        1.0       0.0           0.0      0.0  \n",
       "191        0.0       1.0           0.0      1.0  "
      ]
     },
<<<<<<< HEAD
     "execution_count": 8,
=======
     "execution_count": 11,
>>>>>>> upstream/master
     "metadata": {},
     "output_type": "execute_result"
    }
   ],
   "source": [
    "X_train_numeric = X_train[['bill_length_mm', 'bill_depth_mm', 'flipper_length_mm']]\n",
    "X_train_df = pd.concat([X_train_numeric, X_train_onehot], axis=1)\n",
    "X_train_df.head()"
   ]
  },
  {
   "cell_type": "markdown",
   "metadata": {
    "slideshow": {
     "slide_type": "slide"
    }
   },
   "source": [
    "We have our training feature matrix:\n",
    "- Apply transformation fit_transformed on train set to test feature matrix."
   ]
  },
  {
   "cell_type": "code",
<<<<<<< HEAD
   "execution_count": 9,
=======
   "execution_count": 12,
   "id": "79229562",
>>>>>>> upstream/master
   "metadata": {
    "slideshow": {
     "slide_type": "fragment"
    }
   },
   "outputs": [
    {
     "data": {
      "text/html": [
       "<div>\n",
       "<style scoped>\n",
       "    .dataframe tbody tr th:only-of-type {\n",
       "        vertical-align: middle;\n",
       "    }\n",
       "\n",
       "    .dataframe tbody tr th {\n",
       "        vertical-align: top;\n",
       "    }\n",
       "\n",
       "    .dataframe thead th {\n",
       "        text-align: right;\n",
       "    }\n",
       "</style>\n",
       "<table border=\"1\" class=\"dataframe\">\n",
       "  <thead>\n",
       "    <tr style=\"text-align: right;\">\n",
       "      <th></th>\n",
       "      <th>bill_length_mm</th>\n",
       "      <th>bill_depth_mm</th>\n",
       "      <th>flipper_length_mm</th>\n",
       "      <th>x0_Chinstrap</th>\n",
       "      <th>x0_Gentoo</th>\n",
       "      <th>x1_Dream</th>\n",
       "      <th>x1_Torgersen</th>\n",
       "      <th>x2_Male</th>\n",
       "    </tr>\n",
       "  </thead>\n",
       "  <tbody>\n",
       "    <tr>\n",
       "      <th>30</th>\n",
       "      <td>39.5</td>\n",
       "      <td>16.7</td>\n",
       "      <td>178.0</td>\n",
       "      <td>0.0</td>\n",
       "      <td>0.0</td>\n",
       "      <td>1.0</td>\n",
       "      <td>0.0</td>\n",
       "      <td>0.0</td>\n",
       "    </tr>\n",
       "    <tr>\n",
       "      <th>317</th>\n",
       "      <td>46.9</td>\n",
       "      <td>14.6</td>\n",
       "      <td>222.0</td>\n",
       "      <td>0.0</td>\n",
       "      <td>1.0</td>\n",
       "      <td>0.0</td>\n",
       "      <td>0.0</td>\n",
       "      <td>0.0</td>\n",
       "    </tr>\n",
       "    <tr>\n",
       "      <th>79</th>\n",
       "      <td>42.1</td>\n",
       "      <td>19.1</td>\n",
       "      <td>195.0</td>\n",
       "      <td>0.0</td>\n",
       "      <td>0.0</td>\n",
       "      <td>0.0</td>\n",
       "      <td>1.0</td>\n",
       "      <td>1.0</td>\n",
       "    </tr>\n",
       "    <tr>\n",
       "      <th>201</th>\n",
       "      <td>49.8</td>\n",
       "      <td>17.3</td>\n",
       "      <td>198.0</td>\n",
       "      <td>1.0</td>\n",
       "      <td>0.0</td>\n",
       "      <td>1.0</td>\n",
       "      <td>0.0</td>\n",
       "      <td>0.0</td>\n",
       "    </tr>\n",
       "    <tr>\n",
       "      <th>63</th>\n",
       "      <td>41.1</td>\n",
       "      <td>18.2</td>\n",
       "      <td>192.0</td>\n",
       "      <td>0.0</td>\n",
       "      <td>0.0</td>\n",
       "      <td>0.0</td>\n",
       "      <td>0.0</td>\n",
       "      <td>1.0</td>\n",
       "    </tr>\n",
       "  </tbody>\n",
       "</table>\n",
       "</div>"
      ],
      "text/plain": [
       "     bill_length_mm  bill_depth_mm  flipper_length_mm  x0_Chinstrap  \\\n",
       "30             39.5           16.7              178.0           0.0   \n",
       "317            46.9           14.6              222.0           0.0   \n",
       "79             42.1           19.1              195.0           0.0   \n",
       "201            49.8           17.3              198.0           1.0   \n",
       "63             41.1           18.2              192.0           0.0   \n",
       "\n",
       "     x0_Gentoo  x1_Dream  x1_Torgersen  x2_Male  \n",
       "30         0.0       1.0           0.0      0.0  \n",
       "317        1.0       0.0           0.0      0.0  \n",
       "79         0.0       0.0           1.0      1.0  \n",
       "201        0.0       1.0           0.0      0.0  \n",
       "63         0.0       0.0           0.0      1.0  "
      ]
     },
<<<<<<< HEAD
     "execution_count": 9,
=======
     "execution_count": 12,
>>>>>>> upstream/master
     "metadata": {},
     "output_type": "execute_result"
    }
   ],
   "source": [
    "test_dummies = ohe.transform(X_test[['species', 'island', 'sex']])\n",
    "test_df = pd.DataFrame(test_dummies.todense(), columns=ohe.get_feature_names(),\n",
    "                       index=X_test.index)\n",
    "X_test_df = pd.concat([X_test[['bill_length_mm', 'bill_depth_mm',\n",
    "                              'flipper_length_mm']], test_df], axis=1)\n",
    "X_test_df.head()"
   ]
  },
  {
   "cell_type": "code",
<<<<<<< HEAD
   "execution_count": 10,
=======
   "execution_count": 13,
   "id": "f8a171ff",
>>>>>>> upstream/master
   "metadata": {
    "slideshow": {
     "slide_type": "subslide"
    }
   },
   "outputs": [
    {
     "data": {
      "text/plain": [
       "LinearRegression()"
      ]
     },
<<<<<<< HEAD
     "execution_count": 10,
=======
     "execution_count": 13,
>>>>>>> upstream/master
     "metadata": {},
     "output_type": "execute_result"
    }
   ],
   "source": [
    "lr1 = LinearRegression()\n",
    "lr1.fit(X_train_df, y_train)"
   ]
  },
  {
   "cell_type": "code",
<<<<<<< HEAD
   "execution_count": 11,
=======
   "execution_count": 14,
   "id": "74b82f9b",
>>>>>>> upstream/master
   "metadata": {
    "scrolled": true,
    "slideshow": {
     "slide_type": "fragment"
    }
   },
   "outputs": [
    {
     "data": {
      "text/plain": [
       "0.8688983108974327"
      ]
     },
<<<<<<< HEAD
     "execution_count": 11,
=======
     "execution_count": 14,
>>>>>>> upstream/master
     "metadata": {},
     "output_type": "execute_result"
    }
   ],
   "source": [
    "lr1.score(X_train_df, y_train)"
   ]
  },
  {
   "cell_type": "code",
<<<<<<< HEAD
   "execution_count": 12,
=======
   "execution_count": 15,
   "id": "39bec397",
>>>>>>> upstream/master
   "metadata": {},
   "outputs": [
    {
     "data": {
      "text/plain": [
       "253.9812117747785"
      ]
     },
<<<<<<< HEAD
     "execution_count": 12,
=======
     "execution_count": 15,
>>>>>>> upstream/master
     "metadata": {},
     "output_type": "execute_result"
    }
   ],
   "source": [
    "from sklearn.metrics import mean_squared_error\n",
    "y_pred = lr1.predict(X_test_df)\n",
    "np.sqrt(mean_squared_error(y_pred, y_test))"
   ]
  },
  {
   "cell_type": "markdown",
   "metadata": {
    "slideshow": {
     "slide_type": "slide"
    }
   },
   "source": [
    "Wow that's a good $R^2$ value!\n",
    "\n",
    "- Estimate how we are doing on unseen data with cross validation."
   ]
  },
  {
   "cell_type": "code",
<<<<<<< HEAD
   "execution_count": 13,
=======
   "execution_count": 16,
   "id": "b967516d",
>>>>>>> upstream/master
   "metadata": {
    "slideshow": {
     "slide_type": "fragment"
    }
   },
   "outputs": [],
   "source": [
    "cv_results = cross_validate(X=X_train_df, y=y_train, estimator=lr1, cv=10, scoring=('r2', 'neg_mean_squared_error'),\n",
    "                return_train_score=True\n",
    ")"
   ]
  },
  {
   "cell_type": "markdown",
   "metadata": {
    "slideshow": {
     "slide_type": "slide"
    }
   },
   "source": [
    "How well model explains training fold data in each iteration cross validation:"
   ]
  },
  {
   "cell_type": "code",
   "execution_count": 14,
   "metadata": {
    "slideshow": {
     "slide_type": "fragment"
    }
   },
   "outputs": [
    {
     "data": {
      "text/plain": [
       "array([0.86804859, 0.87184762, 0.86639447, 0.86902092, 0.86919768,\n",
       "       0.86625747, 0.86680671, 0.8768277 , 0.869645  , 0.86906114])"
      ]
     },
     "execution_count": 14,
     "metadata": {},
     "output_type": "execute_result"
    }
   ],
   "source": [
    "train_res = cv_results['train_r2']\n",
    "train_res"
   ]
  },
  {
   "cell_type": "markdown",
   "metadata": {
    "slideshow": {
     "slide_type": "slide"
    }
   },
   "source": [
    "It's fitting well each time in the 10 iterations."
   ]
  },
  {
   "cell_type": "markdown",
   "metadata": {
    "slideshow": {
     "slide_type": "subslide"
    }
   },
   "source": [
    "How does the validation look?"
   ]
  },
  {
   "cell_type": "code",
   "execution_count": 15,
   "metadata": {
    "cell_style": "split",
    "slideshow": {
     "slide_type": "fragment"
    }
   },
   "outputs": [
    {
     "data": {
      "text/plain": [
       "array([0.86092305, 0.68845759, 0.88730555, 0.85315477, 0.85555065,\n",
       "       0.88779582, 0.87796788, 0.71839192, 0.85080305, 0.86263277])"
      ]
     },
     "execution_count": 15,
     "metadata": {},
     "output_type": "execute_result"
    }
   ],
   "source": [
    "test_res = cv_results['test_r2']\n",
    "test_res"
   ]
  },
  {
   "cell_type": "code",
   "execution_count": 16,
   "metadata": {
    "cell_style": "split",
    "slideshow": {
     "slide_type": "fragment"
    }
   },
   "outputs": [
    {
     "data": {
      "text/plain": [
       "0.8342983053829107"
      ]
     },
     "execution_count": 16,
     "metadata": {},
     "output_type": "execute_result"
    }
   ],
   "source": [
    "test_res.mean()"
   ]
  },
  {
   "cell_type": "code",
   "execution_count": 17,
   "metadata": {
    "cell_style": "split",
    "slideshow": {
     "slide_type": "fragment"
    }
   },
   "outputs": [
    {
     "data": {
      "text/plain": [
       "0.07061156844065862"
      ]
     },
     "execution_count": 17,
     "metadata": {},
     "output_type": "execute_result"
    }
   ],
   "source": [
    "test_res.std(ddof = 1)"
   ]
  },
  {
   "cell_type": "markdown",
   "metadata": {
    "slideshow": {
     "slide_type": "slide"
    }
   },
   "source": [
    "Good average test performance and relatively low variance."
   ]
  },
  {
   "cell_type": "code",
<<<<<<< HEAD
   "execution_count": 18,
=======
   "execution_count": 17,
   "id": "b2038f5d",
>>>>>>> upstream/master
   "metadata": {
    "cell_style": "center",
    "slideshow": {
     "slide_type": "subslide"
    }
   },
   "outputs": [
    {
     "data": {
      "text/plain": [
       "array([294.39902869, 295.54794956, 295.83205215, 287.46270287,\n",
       "       298.1599986 , 295.74918118, 293.40476336, 291.7275227 ,\n",
       "       290.82138953, 292.37523149])"
      ]
     },
<<<<<<< HEAD
     "execution_count": 18,
=======
     "execution_count": 17,
>>>>>>> upstream/master
     "metadata": {},
     "output_type": "execute_result"
    }
   ],
   "source": [
    "RMSE_train = np.sqrt(np.abs(cv_results['train_neg_mean_squared_error']))\n",
    "RMSE_train"
   ]
  },
  {
   "cell_type": "code",
<<<<<<< HEAD
   "execution_count": 19,
=======
   "execution_count": 18,
   "id": "b62a855a",
>>>>>>> upstream/master
   "metadata": {
    "cell_style": "split",
    "slideshow": {
     "slide_type": "fragment"
    }
   },
   "outputs": [
    {
     "data": {
      "text/plain": [
       "293.54798201361626"
      ]
     },
<<<<<<< HEAD
     "execution_count": 19,
=======
     "execution_count": 18,
>>>>>>> upstream/master
     "metadata": {},
     "output_type": "execute_result"
    }
   ],
   "source": [
    "RMSE_train.mean()"
   ]
  },
  {
   "cell_type": "code",
   "execution_count": 20,
   "metadata": {
    "cell_style": "split",
    "slideshow": {
     "slide_type": "fragment"
    }
   },
   "outputs": [
    {
     "data": {
      "text/plain": [
       "2.9194512852396044"
      ]
     },
     "execution_count": 20,
     "metadata": {},
     "output_type": "execute_result"
    }
   ],
   "source": [
    "RMSE_train.std()"
   ]
  },
  {
   "cell_type": "code",
   "execution_count": 21,
   "metadata": {
    "cell_style": "center",
    "slideshow": {
     "slide_type": "subslide"
    }
   },
   "outputs": [
    {
     "data": {
      "text/plain": [
       "array([297.90893127, 291.59992285, 281.7832529 , 358.30773939,\n",
       "       260.32367156, 281.50266999, 309.16756673, 319.73503557,\n",
       "       331.38649842, 316.03365957])"
      ]
     },
     "execution_count": 21,
     "metadata": {},
     "output_type": "execute_result"
    }
   ],
   "source": [
    "RMSE_test = np.sqrt(np.abs(cv_results['test_neg_mean_squared_error']))\n",
    "RMSE_test"
   ]
  },
  {
   "cell_type": "markdown",
   "metadata": {
    "cell_style": "split",
    "slideshow": {
     "slide_type": "fragment"
    }
   },
   "source": [
    "Clearly larger average RMSE and variance of RMSE in the test set. But still pretty decent."
   ]
  },
  {
   "cell_type": "code",
   "execution_count": 22,
   "metadata": {
    "cell_style": "split",
    "slideshow": {
     "slide_type": "fragment"
    }
   },
   "outputs": [
    {
     "data": {
      "text/plain": [
       "304.7748948263408"
      ]
     },
     "execution_count": 22,
     "metadata": {},
     "output_type": "execute_result"
    }
   ],
   "source": [
    "RMSE_test.mean()"
   ]
  },
  {
   "cell_type": "code",
   "execution_count": 23,
   "metadata": {
    "cell_style": "split",
    "slideshow": {
     "slide_type": "fragment"
    }
   },
   "outputs": [
    {
     "data": {
      "text/plain": [
       "28.305179526794067"
      ]
     },
     "execution_count": 23,
     "metadata": {},
     "output_type": "execute_result"
    }
   ],
   "source": [
    "RMSE_test.std(ddof = 1)"
   ]
  },
  {
   "cell_type": "markdown",
   "metadata": {
    "cell_style": "center",
    "slideshow": {
     "slide_type": "slide"
    }
   },
   "source": [
    "But...I'm a greedy man.\n",
    "\n",
    "I want to do better than this. \n",
    "- I'm going to add some polynomials to get a more complex model."
   ]
  },
  {
   "cell_type": "markdown",
   "metadata": {
    "slideshow": {
     "slide_type": "subslide"
    }
   },
   "source": [
    "My motivation:\n",
    "    \n",
    "- More complex model = better able to capture more complex relationships between mass and other variables.\n",
    "- Better prediction."
   ]
  },
  {
   "cell_type": "markdown",
   "metadata": {
    "slideshow": {
     "slide_type": "slide"
    }
   },
   "source": [
    "#### Adding model complexity"
   ]
  },
  {
   "cell_type": "code",
<<<<<<< HEAD
   "execution_count": 24,
=======
   "execution_count": 19,
   "id": "6b555934",
>>>>>>> upstream/master
   "metadata": {},
   "outputs": [],
   "source": [
    "from sklearn.preprocessing import PolynomialFeatures"
   ]
  },
  {
   "cell_type": "code",
<<<<<<< HEAD
   "execution_count": 25,
=======
   "execution_count": 20,
   "id": "a2c2b759",
>>>>>>> upstream/master
   "metadata": {
    "slideshow": {
     "slide_type": "fragment"
    }
   },
   "outputs": [],
   "source": [
    "pf = PolynomialFeatures(degree=3)\n",
    "X_poly_train = pd.DataFrame(pf.fit_transform(X_train_df))\n",
    "\n",
    "y_train.to_csv('X_penguin.csv')"
   ]
  },
  {
   "cell_type": "code",
<<<<<<< HEAD
   "execution_count": 26,
=======
   "execution_count": 21,
   "id": "bc2492b8",
>>>>>>> upstream/master
   "metadata": {
    "slideshow": {
     "slide_type": "fragment"
    }
   },
   "outputs": [],
   "source": [
    "X_poly_test = pf.transform(X_test_df)"
   ]
  },
  {
   "cell_type": "code",
<<<<<<< HEAD
   "execution_count": 27,
=======
   "execution_count": 22,
   "id": "bfdce38e",
>>>>>>> upstream/master
   "metadata": {
    "cell_style": "split",
    "slideshow": {
     "slide_type": "fragment"
    }
   },
   "outputs": [
    {
     "data": {
      "text/plain": [
       "(249, 8)"
      ]
     },
<<<<<<< HEAD
     "execution_count": 27,
=======
     "execution_count": 22,
>>>>>>> upstream/master
     "metadata": {},
     "output_type": "execute_result"
    }
   ],
   "source": [
    "X_train_df.shape"
   ]
  },
  {
   "cell_type": "code",
<<<<<<< HEAD
   "execution_count": 28,
=======
   "execution_count": 23,
   "id": "9b6ac70f",
>>>>>>> upstream/master
   "metadata": {
    "cell_style": "split",
    "slideshow": {
     "slide_type": "fragment"
    }
   },
   "outputs": [
    {
     "data": {
      "text/plain": [
       "(249, 165)"
      ]
     },
<<<<<<< HEAD
     "execution_count": 28,
=======
     "execution_count": 23,
>>>>>>> upstream/master
     "metadata": {},
     "output_type": "execute_result"
    }
   ],
   "source": [
    "X_poly_train.shape"
   ]
  },
  {
   "cell_type": "code",
<<<<<<< HEAD
   "execution_count": 29,
=======
   "execution_count": 25,
   "id": "6e56ebaa",
>>>>>>> upstream/master
   "metadata": {
    "slideshow": {
     "slide_type": "slide"
    }
   },
   "outputs": [
    {
     "data": {
      "text/plain": [
       "LinearRegression()"
      ]
     },
<<<<<<< HEAD
     "execution_count": 29,
=======
     "execution_count": 25,
>>>>>>> upstream/master
     "metadata": {},
     "output_type": "execute_result"
    }
   ],
   "source": [
    "poly_lr = LinearRegression()\n",
    "poly_lr.fit(X_poly_train, y_train)"
   ]
  },
  {
   "cell_type": "code",
<<<<<<< HEAD
   "execution_count": 30,
=======
   "execution_count": 26,
   "id": "5f4423ed",
>>>>>>> upstream/master
   "metadata": {
    "cell_style": "split",
    "slideshow": {
     "slide_type": "fragment"
    }
   },
   "outputs": [
    {
     "data": {
      "text/plain": [
       "0.8929837784586662"
      ]
     },
<<<<<<< HEAD
     "execution_count": 30,
=======
     "execution_count": 26,
>>>>>>> upstream/master
     "metadata": {},
     "output_type": "execute_result"
    }
   ],
   "source": [
    "poly_lr.score(X_poly_train, y_train)"
   ]
  },
  {
   "cell_type": "code",
<<<<<<< HEAD
   "execution_count": 31,
=======
   "execution_count": 27,
   "id": "68f53de1",
>>>>>>> upstream/master
   "metadata": {
    "cell_style": "split",
    "slideshow": {
     "slide_type": "fragment"
    }
   },
   "outputs": [
    {
     "data": {
      "text/plain": [
       "0.8688983108974327"
      ]
     },
<<<<<<< HEAD
     "execution_count": 31,
=======
     "execution_count": 27,
>>>>>>> upstream/master
     "metadata": {},
     "output_type": "execute_result"
    }
   ],
   "source": [
    "lr1.score(X_train_df, y_train)"
   ]
  },
  {
   "cell_type": "markdown",
   "metadata": {
    "slideshow": {
     "slide_type": "slide"
    }
   },
   "source": [
    "About a 3% improvement: \n",
    "- that could mean money in other contexts."
   ]
  },
  {
   "cell_type": "code",
<<<<<<< HEAD
   "execution_count": 32,
=======
   "execution_count": 28,
   "id": "2b6b2724",
>>>>>>> upstream/master
   "metadata": {
    "slideshow": {
     "slide_type": "subslide"
    }
   },
   "outputs": [],
   "source": [
    "poly_cv_results = cross_validate(\n",
    "                X=X_poly_train, \n",
    "                y=y_train,\n",
    "                estimator=poly_lr, \n",
    "                cv=10,\n",
    "                scoring=('r2', 'neg_mean_squared_error'),\n",
    "                return_train_score=True\n",
    ")"
   ]
  },
  {
   "cell_type": "code",
<<<<<<< HEAD
   "execution_count": 33,
=======
   "execution_count": 30,
   "id": "12e3720c",
>>>>>>> upstream/master
   "metadata": {
    "slideshow": {
     "slide_type": "subslide"
    }
   },
   "outputs": [
    {
     "data": {
      "text/plain": [
       "array([0.81274492, 0.90586696, 0.87121847, 0.8679138 , 0.8763034 ,\n",
       "       0.89249435, 0.8777283 , 0.89532594, 0.91414691, 0.80533061])"
      ]
     },
<<<<<<< HEAD
     "execution_count": 33,
=======
     "execution_count": 30,
>>>>>>> upstream/master
     "metadata": {},
     "output_type": "execute_result"
    }
   ],
   "source": [
    "poly_train_res = poly_cv_results['train_r2']\n",
    "poly_train_res"
   ]
  },
  {
   "cell_type": "code",
<<<<<<< HEAD
   "execution_count": 34,
=======
   "execution_count": 31,
   "id": "fde2e53a",
>>>>>>> upstream/master
   "metadata": {
    "cell_style": "split",
    "slideshow": {
     "slide_type": "fragment"
    }
   },
   "outputs": [
    {
     "data": {
      "text/plain": [
       "0.8719073534534367"
      ]
     },
<<<<<<< HEAD
     "execution_count": 34,
=======
     "execution_count": 31,
>>>>>>> upstream/master
     "metadata": {},
     "output_type": "execute_result"
    }
   ],
   "source": [
    "poly_train_res.mean()"
   ]
  },
  {
   "cell_type": "code",
<<<<<<< HEAD
   "execution_count": 35,
=======
   "execution_count": 32,
   "id": "e346fc76",
>>>>>>> upstream/master
   "metadata": {
    "cell_style": "split",
    "slideshow": {
     "slide_type": "fragment"
    }
   },
   "outputs": [
    {
     "data": {
      "text/plain": [
       "0.03638067949721034"
      ]
     },
<<<<<<< HEAD
     "execution_count": 35,
=======
     "execution_count": 32,
>>>>>>> upstream/master
     "metadata": {},
     "output_type": "execute_result"
    }
   ],
   "source": [
    "poly_train_res.std(ddof =1)"
   ]
  },
  {
   "cell_type": "markdown",
   "metadata": {
    "slideshow": {
     "slide_type": "subslide"
    }
   },
   "source": [
    "Wow...I'm ready to brag to my boss.\n",
    "\n",
    "- But let's check the performance on the validation folds."
   ]
  },
  {
   "cell_type": "code",
<<<<<<< HEAD
   "execution_count": 36,
=======
   "execution_count": 35,
   "id": "513a58fa",
>>>>>>> upstream/master
   "metadata": {
    "cell_style": "center",
    "slideshow": {
     "slide_type": "subslide"
    }
   },
   "outputs": [
    {
     "data": {
      "text/plain": [
       "array([ 0.58415864, -0.98182009,  0.5788367 ,  0.67200787,  0.13603451,\n",
       "        0.51348532,  0.11073337,  0.17470135,  0.81904846,  0.56611475])"
      ]
     },
<<<<<<< HEAD
     "execution_count": 36,
=======
     "execution_count": 35,
>>>>>>> upstream/master
     "metadata": {},
     "output_type": "execute_result"
    }
   ],
   "source": [
    "poly_valid_res = poly_cv_results['test_r2']\n",
    "poly_valid_res"
   ]
  },
  {
   "cell_type": "code",
   "execution_count": 37,
   "metadata": {
    "cell_style": "split",
    "slideshow": {
     "slide_type": "fragment"
    }
   },
   "outputs": [
    {
     "data": {
      "text/plain": [
       "0.317330088603312"
      ]
     },
     "execution_count": 37,
     "metadata": {},
     "output_type": "execute_result"
    }
   ],
   "source": [
    "poly_valid_res.mean()"
   ]
  },
  {
   "cell_type": "code",
   "execution_count": 38,
   "metadata": {
    "cell_style": "split",
    "slideshow": {
     "slide_type": "fragment"
    }
   },
   "outputs": [
    {
     "data": {
      "text/plain": [
       "0.4900159133737381"
      ]
     },
     "execution_count": 38,
     "metadata": {},
     "output_type": "execute_result"
    }
   ],
   "source": [
    "poly_valid_res.std()"
   ]
  },
  {
   "cell_type": "code",
<<<<<<< HEAD
   "execution_count": 39,
=======
   "execution_count": 36,
   "id": "265c2d92",
>>>>>>> upstream/master
   "metadata": {
    "cell_style": "center",
    "slideshow": {
     "slide_type": "subslide"
    }
   },
   "outputs": [
    {
     "data": {
      "text/plain": [
       "array([515.13348595, 735.46317677, 544.73989824, 535.4981486 ,\n",
       "       636.6548576 , 586.17322096, 834.58937995, 547.36022566,\n",
       "       364.95219865, 561.66739431])"
      ]
     },
<<<<<<< HEAD
     "execution_count": 39,
=======
     "execution_count": 36,
>>>>>>> upstream/master
     "metadata": {},
     "output_type": "execute_result"
    }
   ],
   "source": [
    "RMSE_polytest = np.sqrt(np.abs(poly_cv_results['test_neg_mean_squared_error']))\n",
    "RMSE_polytest"
   ]
  },
  {
   "cell_type": "code",
<<<<<<< HEAD
   "execution_count": 40,
=======
   "execution_count": 37,
   "id": "44768992",
>>>>>>> upstream/master
   "metadata": {
    "cell_style": "split",
    "slideshow": {
     "slide_type": "fragment"
    }
   },
   "outputs": [
    {
     "data": {
      "text/plain": [
       "586.2231986695463"
      ]
     },
<<<<<<< HEAD
     "execution_count": 40,
=======
     "execution_count": 37,
>>>>>>> upstream/master
     "metadata": {},
     "output_type": "execute_result"
    }
   ],
   "source": [
    "RMSE_polytest.mean()"
   ]
  },
  {
   "cell_type": "code",
<<<<<<< HEAD
   "execution_count": 41,
=======
   "execution_count": 38,
   "id": "8e35df06",
>>>>>>> upstream/master
   "metadata": {
    "cell_style": "split",
    "slideshow": {
     "slide_type": "fragment"
    }
   },
   "outputs": [
    {
     "data": {
      "text/plain": [
       "127.76867187159122"
      ]
     },
<<<<<<< HEAD
     "execution_count": 41,
=======
     "execution_count": 38,
>>>>>>> upstream/master
     "metadata": {},
     "output_type": "execute_result"
    }
   ],
   "source": [
    "RMSE_polytest.std(ddof=1)"
   ]
  },
  {
   "cell_type": "markdown",
   "metadata": {
    "slideshow": {
     "slide_type": "subslide"
    }
   },
   "source": [
    "<center><img src = \"Images/punch_chuck_norris.gif\" width = 400/></center>\n",
    "<center>You just got punched in the face by the bias-variance problem.</center>"
   ]
  },
  {
   "cell_type": "markdown",
   "metadata": {
    "cell_style": "center",
    "slideshow": {
     "slide_type": "slide"
    }
   },
   "source": [
    "Fit an overly complex model:\n",
    "- Doesn't generalize well."
   ]
  },
  {
   "cell_type": "markdown",
   "metadata": {
    "slideshow": {
     "slide_type": "slide"
    }
   },
   "source": [
    "Let's try regularizing polynomial model:\n",
    "$$ L = |\\textbf{y} - X \\textbf{w}|_2^2 + \\lambda |\\textbf{w}|_2^2 $$"
   ]
  },
  {
   "cell_type": "markdown",
   "metadata": {
    "cell_style": "split",
    "slideshow": {
     "slide_type": "fragment"
    }
   },
   "source": [
    "\n",
    "- reduce the floppiness/complexity of model\n",
    "- but still keep *some* of the complexity added by these polynomial features."
   ]
  },
  {
   "cell_type": "markdown",
   "metadata": {
    "cell_style": "split",
    "slideshow": {
     "slide_type": "fragment"
    }
   },
   "source": [
    "- Reduce Var[$\\textbf{w}$].\n",
    "- Get model predictions more representative of population."
   ]
  },
  {
   "cell_type": "code",
<<<<<<< HEAD
   "execution_count": 42,
=======
   "execution_count": 40,
   "id": "186734db",
>>>>>>> upstream/master
   "metadata": {
    "hidden": true,
    "slideshow": {
     "slide_type": "slide"
    }
   },
   "outputs": [],
   "source": [
    "ss = StandardScaler()\n",
    "pf = PolynomialFeatures(degree=3)\n",
    "\n",
    "# You should always be sure to _standardize_ your data before\n",
    "# applying regularization!\n",
    "\n",
    "X_train_processed = pf.fit_transform(ss.fit_transform(X_train_df))\n",
    "X_test_processed = pf.transform(ss.transform(X_test_df))"
   ]
  },
  {
   "cell_type": "markdown",
   "metadata": {
    "slideshow": {
     "slide_type": "slide"
    }
   },
   "source": [
    "Absolutely need to standardize/normalize features:"
   ]
  },
  {
   "cell_type": "markdown",
   "metadata": {
    "slideshow": {
     "slide_type": "fragment"
    }
   },
   "source": [
    " $$ L = |\\textbf{y} - X \\textbf{w}|_2^2 + \\lambda |\\textbf{w}|_2^2 $$"
   ]
  },
  {
   "cell_type": "markdown",
   "metadata": {
    "slideshow": {
     "slide_type": "fragment"
    }
   },
   "source": [
    "L2 regularization cost function makes no sense otherwise. \n",
    "- Weights will be on different scales if features not normalized."
   ]
  },
  {
   "cell_type": "code",
<<<<<<< HEAD
   "execution_count": 43,
=======
   "execution_count": 41,
   "id": "9240df57",
>>>>>>> upstream/master
   "metadata": {
    "cell_style": "center",
    "slideshow": {
     "slide_type": "slide"
    }
   },
   "outputs": [
    {
     "data": {
      "text/plain": [
       "Ridge(alpha=100, random_state=42)"
      ]
     },
<<<<<<< HEAD
     "execution_count": 43,
=======
     "execution_count": 41,
>>>>>>> upstream/master
     "metadata": {},
     "output_type": "execute_result"
    }
   ],
   "source": [
    "# 'Lambda' is the standard variable for the strength of the\n",
    "# regularization (as in the above formulas), but since lambda\n",
    "# is a key word in Python, these sklearn regularization tools\n",
    "# use 'alpha' instead.\n",
    "\n",
    "rr = Ridge(alpha=100, random_state=42)\n",
    "\n",
    "rr.fit(X_train_processed, y_train)"
   ]
  },
  {
   "cell_type": "code",
<<<<<<< HEAD
   "execution_count": 44,
=======
   "execution_count": 42,
   "id": "4897904a",
>>>>>>> upstream/master
   "metadata": {
    "cell_style": "split",
    "slideshow": {
     "slide_type": "fragment"
    }
   },
   "outputs": [
    {
     "data": {
      "text/plain": [
       "0.8858195769398121"
      ]
     },
<<<<<<< HEAD
     "execution_count": 44,
=======
     "execution_count": 42,
>>>>>>> upstream/master
     "metadata": {},
     "output_type": "execute_result"
    }
   ],
   "source": [
    "rr.score(X_train_processed, y_train)"
   ]
  },
  {
   "cell_type": "code",
<<<<<<< HEAD
   "execution_count": 45,
=======
   "execution_count": 43,
   "id": "39bc1c8a",
>>>>>>> upstream/master
   "metadata": {
    "cell_style": "split",
    "slideshow": {
     "slide_type": "fragment"
    }
   },
   "outputs": [
    {
     "data": {
      "text/plain": [
       "0.8688983108974327"
      ]
     },
<<<<<<< HEAD
     "execution_count": 45,
=======
     "execution_count": 43,
>>>>>>> upstream/master
     "metadata": {},
     "output_type": "execute_result"
    }
   ],
   "source": [
    "lr1.score(X_train_df, y_train)"
   ]
  },
  {
   "cell_type": "markdown",
   "metadata": {
    "slideshow": {
     "slide_type": "slide"
    }
   },
   "source": [
    "Let' s cross validate this."
   ]
  },
  {
   "cell_type": "code",
<<<<<<< HEAD
   "execution_count": 46,
=======
   "execution_count": 44,
   "id": "fcaf4315",
>>>>>>> upstream/master
   "metadata": {
    "slideshow": {
     "slide_type": "fragment"
    }
   },
   "outputs": [],
   "source": [
    "rr_cv_results = cross_validate(\n",
    "                X=X_train_processed, \n",
    "                y=y_train,\n",
    "                estimator=rr, \n",
    "                cv=10,\n",
    "                scoring=('r2', 'neg_mean_squared_error'),\n",
    "                return_train_score=True\n",
    ")"
   ]
  },
  {
   "cell_type": "markdown",
   "metadata": {
    "slideshow": {
     "slide_type": "slide"
    }
   },
   "source": [
    "Get $R^2$ on train folds of cross validation trials:"
   ]
  },
  {
   "cell_type": "code",
<<<<<<< HEAD
   "execution_count": 47,
=======
   "execution_count": 45,
   "id": "58f7d719",
>>>>>>> upstream/master
   "metadata": {
    "slideshow": {
     "slide_type": "fragment"
    }
   },
   "outputs": [
    {
     "data": {
      "text/plain": [
       "array([0.88768944, 0.886945  , 0.88701008, 0.88207217, 0.88887472,\n",
       "       0.8843449 , 0.88600675, 0.88848898, 0.88421626, 0.88539415])"
      ]
     },
<<<<<<< HEAD
     "execution_count": 47,
=======
     "execution_count": 45,
>>>>>>> upstream/master
     "metadata": {},
     "output_type": "execute_result"
    }
   ],
   "source": [
    "rr_cv_results['train_r2']"
   ]
  },
  {
   "cell_type": "markdown",
   "metadata": {
    "slideshow": {
     "slide_type": "slide"
    }
   },
   "source": [
    "Get $R^2$ on validation folds of cross validation trials:"
   ]
  },
  {
   "cell_type": "code",
   "execution_count": 48,
   "metadata": {
    "slideshow": {
     "slide_type": "subslide"
    }
   },
   "outputs": [
    {
     "data": {
      "text/plain": [
       "array([0.83317242, 0.75269689, 0.86749677, 0.86884944, 0.8153149 ,\n",
       "       0.88686033, 0.85418436, 0.79593331, 0.86108265, 0.86365454])"
      ]
     },
     "execution_count": 48,
     "metadata": {},
     "output_type": "execute_result"
    }
   ],
   "source": [
    "rr_cv_results['test_r2']"
   ]
  },
  {
   "cell_type": "code",
   "execution_count": 49,
   "metadata": {
    "cell_style": "split",
    "slideshow": {
     "slide_type": "fragment"
    }
   },
   "outputs": [
    {
     "data": {
      "text/plain": [
       "0.8399245628148447"
      ]
     },
     "execution_count": 49,
     "metadata": {},
     "output_type": "execute_result"
    }
   ],
   "source": [
    "rr_cv_results['test_r2'].mean()"
   ]
  },
  {
   "cell_type": "code",
   "execution_count": 50,
   "metadata": {
    "cell_style": "split",
    "slideshow": {
     "slide_type": "fragment"
    }
   },
   "outputs": [
    {
     "data": {
      "text/plain": [
       "0.041108370451921575"
      ]
     },
     "execution_count": 50,
     "metadata": {},
     "output_type": "execute_result"
    }
   ],
   "source": [
    "rr_cv_results['test_r2'].std(ddof = 1)"
   ]
  },
  {
   "cell_type": "code",
   "execution_count": 51,
   "metadata": {
    "slideshow": {
     "slide_type": "slide"
    }
   },
   "outputs": [
    {
     "data": {
      "text/plain": [
       "array([326.27955651, 259.80266776, 305.54638793, 338.61900856,\n",
       "       294.35524921, 282.67372802, 337.95502919, 272.1784423 ,\n",
       "       319.76658789, 314.85610328])"
      ]
     },
     "execution_count": 51,
     "metadata": {},
     "output_type": "execute_result"
    }
   ],
   "source": [
    "RMSE_rrtest = np.sqrt(np.abs(rr_cv_results['test_neg_mean_squared_error']))\n",
    "RMSE_rrtest"
   ]
  },
  {
   "cell_type": "code",
   "execution_count": 52,
   "metadata": {
    "cell_style": "split",
    "slideshow": {
     "slide_type": "fragment"
    }
   },
   "outputs": [
    {
     "data": {
      "text/plain": [
       "305.20327606509454"
      ]
     },
     "execution_count": 52,
     "metadata": {},
     "output_type": "execute_result"
    }
   ],
   "source": [
    "RMSE_rrtest.mean()"
   ]
  },
  {
   "cell_type": "code",
   "execution_count": 53,
   "metadata": {
    "cell_style": "split",
    "slideshow": {
     "slide_type": "fragment"
    }
   },
   "outputs": [
    {
     "data": {
      "text/plain": [
       "25.915242734414004"
      ]
     },
     "execution_count": 53,
     "metadata": {},
     "output_type": "execute_result"
    }
   ],
   "source": [
    "RMSE_rrtest.std()"
   ]
  },
  {
   "cell_type": "markdown",
   "metadata": {
    "cell_style": "split",
    "slideshow": {
     "slide_type": "slide"
    }
   },
   "source": [
    "L2 regularized polynomial model:\n",
    "- A little bit worse than my basic linear model.\n",
    "- Much much better than the un-regularized polynomial model."
   ]
  },
  {
   "cell_type": "markdown",
   "metadata": {
    "cell_style": "split",
    "slideshow": {
     "slide_type": "fragment"
    }
   },
   "source": [
    "Could I do better? Possibly.\n",
    "\n",
    "- Tune hyperparameter $\\lambda$."
   ]
  },
  {
   "cell_type": "markdown",
   "metadata": {
    "cell_style": "split",
    "slideshow": {
     "slide_type": "slide"
    }
   },
   "source": [
    "#### Tuning hyperparameters\n",
    "\n",
    "- Don't know what $\\lambda$ will allow model to perform best on validation sets.\n",
    "- Need to tune this."
   ]
  },
  {
   "cell_type": "markdown",
   "metadata": {
    "cell_style": "split",
    "slideshow": {
     "slide_type": "fragment"
    }
   },
   "source": [
    "- Adjust model stiffness/regularization parameter\n",
    "- Assess model performance in validation testing."
   ]
  },
  {
   "cell_type": "markdown",
   "metadata": {
    "slideshow": {
     "slide_type": "slide"
    }
   },
   "source": [
    "#### The most basic hyperparameter tuning method:"
   ]
  },
  {
   "cell_type": "markdown",
   "metadata": {
    "slideshow": {
     "slide_type": "subslide"
    }
   },
   "source": [
    "Make a loop:"
   ]
  },
  {
   "cell_type": "code",
<<<<<<< HEAD
   "execution_count": 54,
=======
   "execution_count": 46,
   "id": "2bc79f54",
>>>>>>> upstream/master
   "metadata": {
    "cell_style": "center",
    "slideshow": {
     "slide_type": "subslide"
    }
   },
   "outputs": [],
   "source": [
    "alphas = [1e-3, 1e-2, 1e-1, 1, 10, 100, 1e3, 1e4]\n",
    "cv_scores = []\n",
    "\n",
    "for alpha in alphas:\n",
    "    rr = Ridge(alpha=alpha, random_state=42)\n",
    "    cv_loop_results = cross_validate(\n",
    "                X=X_train_processed, \n",
    "                y=y_train,\n",
    "                estimator=rr, \n",
    "                cv=10,\n",
    "                scoring=('neg_mean_squared_error'))\n",
    "    cv_scores.append(np.mean(np.sqrt(np.abs(cv_loop_results['test_score']))))"
   ]
  },
  {
   "cell_type": "code",
<<<<<<< HEAD
   "execution_count": 55,
=======
   "execution_count": 47,
   "id": "1e0ad821",
>>>>>>> upstream/master
   "metadata": {
    "scrolled": true,
    "slideshow": {
     "slide_type": "subslide"
    }
   },
   "outputs": [
    {
     "data": {
<<<<<<< HEAD
      "image/png": "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\n",
=======
      "image/png": "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\n",
>>>>>>> upstream/master
      "text/plain": [
       "<Figure size 432x288 with 1 Axes>"
      ]
     },
     "metadata": {
      "needs_background": "light"
     },
     "output_type": "display_data"
    }
   ],
   "source": [
    "fig, ax = plt.subplots()\n",
    "sns.lineplot(x = np.log10(alphas), y = cv_scores, marker = 's', ax = ax)\n",
    "ax.set_xlabel('Log(lambda)')\n",
    "ax.set_ylabel('Mean RMSE')\n",
    "ax.set_title('RMSE averaged on validation folds')\n",
    "plt.show()"
   ]
  },
  {
   "cell_type": "markdown",
   "metadata": {
    "slideshow": {
     "slide_type": "fragment"
    }
   },
   "source": [
    "Could fine tune:\n",
    "- But of hyperparameter values tried $\\lambda = 100$ is best."
   ]
  },
  {
   "cell_type": "markdown",
   "metadata": {
    "slideshow": {
     "slide_type": "slide"
    }
   },
   "source": [
    "Now we *finally* report results on the true test set:\n",
    "- We have not fit / optimized on it.\n",
    "- Have not tuned hyperparameters to see how well it performs on validation folds.\n",
    "\n",
    "**Test/hold-out set is our true final gold standard**"
   ]
  },
  {
   "cell_type": "code",
<<<<<<< HEAD
   "execution_count": 56,
=======
   "execution_count": 49,
   "id": "aba9d2b6",
>>>>>>> upstream/master
   "metadata": {
    "slideshow": {
     "slide_type": "subslide"
    }
   },
   "outputs": [
    {
     "data": {
      "text/plain": [
       "Ridge(alpha=100, random_state=42)"
      ]
     },
<<<<<<< HEAD
     "execution_count": 56,
=======
     "execution_count": 49,
>>>>>>> upstream/master
     "metadata": {},
     "output_type": "execute_result"
    }
   ],
   "source": [
    "rr = Ridge(alpha = 100, random_state = 42)\n",
    "rr.fit(X_train_processed, y_train)"
   ]
  },
  {
   "cell_type": "code",
<<<<<<< HEAD
   "execution_count": 57,
=======
   "execution_count": 50,
   "id": "a5ea6a91",
>>>>>>> upstream/master
   "metadata": {
    "cell_style": "center",
    "slideshow": {
     "slide_type": "fragment"
    }
   },
   "outputs": [],
   "source": [
    "y_pred = rr.predict(X_test_processed)"
   ]
  },
  {
   "cell_type": "code",
<<<<<<< HEAD
   "execution_count": 58,
=======
   "execution_count": 51,
   "id": "c3fac083",
>>>>>>> upstream/master
   "metadata": {
    "cell_style": "split",
    "slideshow": {
     "slide_type": "subslide"
    }
   },
   "outputs": [
    {
     "data": {
      "text/plain": [
       "265.44225908366604"
      ]
     },
<<<<<<< HEAD
     "execution_count": 58,
=======
     "execution_count": 51,
>>>>>>> upstream/master
     "metadata": {},
     "output_type": "execute_result"
    }
   ],
   "source": [
    "from sklearn.metrics import mean_squared_error\n",
    "ridge_RMSE_holdout = np.sqrt(mean_squared_error(y_pred, y_test))\n",
    "ridge_RMSE_holdout"
   ]
  },
  {
   "cell_type": "markdown",
   "metadata": {
    "cell_style": "split",
    "slideshow": {
     "slide_type": "fragment"
    }
   },
   "source": [
    "Given the scale of the penguin body mass (g): this is good."
   ]
  },
  {
   "cell_type": "code",
   "execution_count": 59,
   "metadata": {
    "cell_style": "split",
    "slideshow": {
     "slide_type": "fragment"
    }
   },
   "outputs": [
    {
     "data": {
      "text/plain": [
       "<AxesSubplot:xlabel='body_mass_g', ylabel='Count'>"
      ]
     },
     "execution_count": 59,
     "metadata": {},
     "output_type": "execute_result"
    },
    {
     "data": {
      "image/png": "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\n",
      "text/plain": [
       "<Figure size 432x288 with 1 Axes>"
      ]
     },
     "metadata": {
      "needs_background": "light"
     },
     "output_type": "display_data"
    }
   ],
   "source": [
    "sns.histplot(y)"
   ]
  },
  {
   "cell_type": "markdown",
   "metadata": {
    "slideshow": {
     "slide_type": "slide"
    }
   },
   "source": [
    "#### Takeaways of what we just did"
   ]
  },
  {
   "cell_type": "markdown",
   "metadata": {
    "slideshow": {
     "slide_type": "subslide"
    }
   },
   "source": [
    "- Polynomial model: poor prediction performance.\n",
    "- L2 regularized the polynomial regression model (Ridge regression) + tuning\n",
    "- **Much** better test performance than unregularized polynomial model."
   ]
  },
  {
   "cell_type": "markdown",
   "metadata": {
    "cell_style": "split",
    "slideshow": {
     "slide_type": "fragment"
    }
   },
   "source": [
    "But:\n",
    "    \n",
    "- Our simple linear model with no polynomial worked well.\n",
    "- Almost as well as polynomial features\n",
    "- Think carefully before adding model complexity."
   ]
  },
  {
   "cell_type": "markdown",
   "metadata": {
    "cell_style": "split",
    "slideshow": {
     "slide_type": "fragment"
    }
   },
   "source": [
    "A simple model with less number of good quality predictive features may work as well if not better."
   ]
  },
  {
   "cell_type": "markdown",
   "metadata": {
    "slideshow": {
     "slide_type": "subslide"
    }
   },
   "source": [
    "Logical extension:\n",
    "- Features that are correlated but don't want to throw them away.\n",
    "- L2 regularized linear model + tuning:\n",
    "    - don't throw out features.\n",
    "    - get better test performance than OLS by reducing weight variance.\n"
   ]
  },
  {
   "cell_type": "markdown",
   "metadata": {
    "slideshow": {
     "slide_type": "subslide"
    }
   },
   "source": [
    "Sometimes though: throwing away features might work better:\n",
    "- Learn good features only with high predictive power\n",
    "- Chuck the rest."
   ]
  },
  {
   "cell_type": "markdown",
   "metadata": {
    "slideshow": {
     "slide_type": "slide"
    }
   },
   "source": [
    "#### L1 Regularization (LASSO)"
   ]
  },
  {
   "cell_type": "markdown",
   "metadata": {
    "slideshow": {
     "slide_type": "subslide"
    }
   },
   "source": [
    "$$ L = |\\textbf{y} - X \\textbf{w}|_2^2 + \\lambda |\\textbf{w}|_1 $$\n",
    "\n",
    "with $|\\textbf{w}|_1 = |w_1| + |w_2| + ... + |w_m|$ as sum of absolute magnitude of the feature weights."
   ]
  },
  {
   "cell_type": "markdown",
   "metadata": {
    "slideshow": {
     "slide_type": "slide"
    }
   },
   "source": [
    "Taxi cab vs Euclidean distance:"
   ]
  },
  {
   "cell_type": "markdown",
   "metadata": {
    "slideshow": {
     "slide_type": "subslide"
    }
   },
   "source": [
    "<img src = \"Images/metrics.png\" width = 450/>"
   ]
  },
  {
   "cell_type": "markdown",
   "metadata": {
    "cell_style": "split",
    "slideshow": {
     "slide_type": "slide"
    }
   },
   "source": [
    "Circle in terms of L2 vs L1 distance:"
   ]
  },
  {
   "cell_type": "markdown",
   "metadata": {
    "cell_style": "split",
    "slideshow": {
     "slide_type": "fragment"
    }
   },
   "source": [
    "\"Circle\" in L1:\n",
    "<img src = \"Images/taxcabgeometry.jpg\" width = 400/>"
   ]
  },
  {
   "cell_type": "markdown",
   "metadata": {
    "cell_style": "split",
    "slideshow": {
     "slide_type": "slide"
    }
   },
   "source": [
    "General $L^p$ norm:\n",
    "\n",
    "$$ |\\textbf{w}|_P =  \\sqrt[p]{|w_1|^p + |w_2|^p + ... + |w_m|^p} $$"
   ]
  },
  {
   "cell_type": "markdown",
   "metadata": {
    "cell_style": "split",
    "slideshow": {
     "slide_type": "fragment"
    }
   },
   "source": [
    "\"Circles\" for different metrics\n",
    "\n",
    "<img src = \"Images/circles.png\" width = 400/>"
   ]
  },
  {
   "cell_type": "markdown",
   "metadata": {
    "slideshow": {
     "slide_type": "slide"
    }
   },
   "source": [
    "Why use the L1 magnitude $|\\textbf{w}|_1$ for regularization?"
   ]
  },
  {
   "cell_type": "markdown",
   "metadata": {
    "slideshow": {
     "slide_type": "subslide"
    }
   },
   "source": [
    "LASSO encourages model weight sparsity: \n",
    "- prefers to drive weights $w_i$ for features with little predictive power to 0."
   ]
  },
  {
   "cell_type": "markdown",
   "metadata": {
    "slideshow": {
     "slide_type": "fragment"
    }
   },
   "source": [
    "<img src = \"Images/different_metric_regularization.png\" width = 600 />"
   ]
  },
  {
   "cell_type": "markdown",
   "metadata": {
    "slideshow": {
     "slide_type": "slide"
    }
   },
   "source": [
    "Perform LASSO regression with scikit-learn:"
   ]
  },
  {
   "cell_type": "markdown",
   "metadata": {
    "slideshow": {
     "slide_type": "slide"
    }
   },
   "source": [
    "with a general cost function:"
   ]
  },
  {
   "cell_type": "code",
<<<<<<< HEAD
   "execution_count": 60,
=======
   "execution_count": 52,
   "id": "9b05e734",
>>>>>>> upstream/master
   "metadata": {
    "slideshow": {
     "slide_type": "fragment"
    }
   },
   "outputs": [],
   "source": [
    "from sklearn.linear_model import Lasso"
   ]
  },
  {
   "cell_type": "markdown",
   "metadata": {
    "slideshow": {
     "slide_type": "slide"
    }
   },
   "source": [
    "Find the best LASSO model: tune regularization hyperparameter."
   ]
  },
  {
   "cell_type": "code",
<<<<<<< HEAD
   "execution_count": 61,
=======
   "execution_count": 58,
   "id": "d8b9aa65",
>>>>>>> upstream/master
   "metadata": {
    "slideshow": {
     "slide_type": "subslide"
    }
   },
   "outputs": [],
   "source": [
    "alphas = [1, 10, 100, 1e3, 1e4]\n",
    "cv_lasso_scores = []\n",
    "\n",
    "for alpha in alphas:\n",
    "    lasso = Lasso(alpha=alpha, random_state=42, max_iter = 10000)\n",
    "    cv_loop_results = cross_validate(\n",
    "                X=X_train_processed, \n",
    "                y=y_train,\n",
    "                estimator=lasso, \n",
    "                cv=10,\n",
    "                scoring=('neg_mean_squared_error'))\n",
    "    cv_lasso_scores.append(np.mean(np.sqrt(np.abs(cv_loop_results['test_score']))))"
   ]
  },
  {
   "cell_type": "code",
<<<<<<< HEAD
   "execution_count": 62,
=======
   "execution_count": 59,
   "id": "87ac7411",
>>>>>>> upstream/master
   "metadata": {
    "cell_style": "split",
    "slideshow": {
     "slide_type": "fragment"
    }
   },
   "outputs": [
    {
     "data": {
      "text/plain": [
       "[1, 10, 100, 1000.0, 10000.0]"
      ]
     },
<<<<<<< HEAD
     "execution_count": 62,
=======
     "execution_count": 59,
>>>>>>> upstream/master
     "metadata": {},
     "output_type": "execute_result"
    }
   ],
   "source": [
    "alphas"
   ]
  },
  {
   "cell_type": "code",
<<<<<<< HEAD
   "execution_count": 63,
=======
   "execution_count": 60,
   "id": "2b8dab90",
>>>>>>> upstream/master
   "metadata": {
    "cell_style": "split",
    "slideshow": {
     "slide_type": "fragment"
    }
   },
   "outputs": [
    {
     "data": {
      "text/plain": [
       "[344.8768456443569,\n",
       " 301.76131575156853,\n",
       " 340.26932591239273,\n",
       " 699.4512087784858,\n",
       " 811.3632576452586]"
      ]
     },
<<<<<<< HEAD
     "execution_count": 63,
=======
     "execution_count": 60,
>>>>>>> upstream/master
     "metadata": {},
     "output_type": "execute_result"
    }
   ],
   "source": [
    "cv_lasso_scores"
   ]
  },
  {
   "cell_type": "markdown",
   "metadata": {
    "slideshow": {
     "slide_type": "slide"
    }
   },
   "source": [
    "The best LASSO model:"
   ]
  },
  {
   "cell_type": "code",
<<<<<<< HEAD
   "execution_count": 64,
=======
   "execution_count": 61,
   "id": "342e20bc",
>>>>>>> upstream/master
   "metadata": {
    "slideshow": {
     "slide_type": "subslide"
    }
   },
   "outputs": [],
   "source": [
    "lasso_opt = Lasso(alpha=10, random_state=42,  max_iter = 100000)\n",
    "lasso_opt.fit(X_train_processed, y_train)\n",
    "\n",
    "y_pred = lasso_opt.predict(X_test_processed) # get final test prediction"
   ]
  },
  {
   "cell_type": "code",
<<<<<<< HEAD
   "execution_count": 65,
=======
   "execution_count": 62,
   "id": "f131c4a9",
>>>>>>> upstream/master
   "metadata": {
    "cell_style": "split",
    "slideshow": {
     "slide_type": "fragment"
    }
   },
   "outputs": [
    {
     "data": {
      "text/plain": [
       "267.376455546584"
      ]
     },
<<<<<<< HEAD
     "execution_count": 65,
=======
     "execution_count": 62,
>>>>>>> upstream/master
     "metadata": {},
     "output_type": "execute_result"
    }
   ],
   "source": [
    "lasso_RMSE = np.sqrt(mean_squared_error(y_pred, y_test))\n",
    "lasso_RMSE"
   ]
  },
  {
   "cell_type": "code",
<<<<<<< HEAD
   "execution_count": 66,
=======
   "execution_count": 63,
   "id": "8832e94a",
>>>>>>> upstream/master
   "metadata": {
    "cell_style": "split",
    "slideshow": {
     "slide_type": "fragment"
    }
   },
   "outputs": [
    {
     "data": {
      "text/plain": [
       "265.44225908366604"
      ]
     },
<<<<<<< HEAD
     "execution_count": 66,
=======
     "execution_count": 63,
>>>>>>> upstream/master
     "metadata": {},
     "output_type": "execute_result"
    }
   ],
   "source": [
    "ridge_RMSE_holdout"
   ]
  },
  {
   "cell_type": "markdown",
   "metadata": {
    "slideshow": {
     "slide_type": "slide"
    }
   },
   "source": [
    "Comparable between ridge and LASSO. LASSO tends to have higher weight variance than ridge.\n",
    "\n",
    "But what's the real difference?"
   ]
  },
  {
   "cell_type": "code",
<<<<<<< HEAD
   "execution_count": 67,
   "metadata": {
    "cell_style": "center",
    "scrolled": false,
    "slideshow": {
     "slide_type": "subslide"
    }
   },
=======
   "execution_count": 66,
   "id": "4383c14f",
   "metadata": {},
>>>>>>> upstream/master
   "outputs": [
    {
     "data": {
      "text/plain": [
       "0.885819576939812"
      ]
     },
     "execution_count": 66,
     "metadata": {},
     "output_type": "execute_result"
    }
   ],
   "source": [
    "rr.score(X_train_processed, y_train)"
   ]
  },
  {
   "cell_type": "code",
   "execution_count": 68,
   "id": "33ef486c",
   "metadata": {},
   "outputs": [
    {
     "data": {
      "text/plain": [
       "0.8848874802035904"
      ]
     },
     "execution_count": 68,
     "metadata": {},
     "output_type": "execute_result"
    }
   ],
   "source": [
    "lasso_opt.score(X_train_processed, y_train)"
   ]
  },
  {
   "cell_type": "code",
   "execution_count": 607,
   "metadata": {
    "slideshow": {
     "slide_type": "subslide"
    }
   },
   "outputs": [
    {
     "data": {
      "text/plain": [
       "array([ 0.00000000e+00,  0.00000000e+00,  0.00000000e+00,  0.00000000e+00,\n",
       "       -0.00000000e+00,  0.00000000e+00, -0.00000000e+00, -0.00000000e+00,\n",
       "        0.00000000e+00, -0.00000000e+00, -0.00000000e+00, -0.00000000e+00,\n",
       "       -0.00000000e+00,  0.00000000e+00, -0.00000000e+00, -0.00000000e+00,\n",
       "       -0.00000000e+00, -0.00000000e+00, -0.00000000e+00, -0.00000000e+00,\n",
       "       -0.00000000e+00, -0.00000000e+00, -0.00000000e+00, -2.69391521e+00,\n",
       "       -0.00000000e+00,  0.00000000e+00,  0.00000000e+00, -0.00000000e+00,\n",
       "       -0.00000000e+00, -0.00000000e+00, -0.00000000e+00, -0.00000000e+00,\n",
       "       -0.00000000e+00,  0.00000000e+00, -5.10132627e+01,  0.00000000e+00,\n",
       "       -0.00000000e+00, -0.00000000e+00, -0.00000000e+00, -0.00000000e+00,\n",
       "        0.00000000e+00, -0.00000000e+00, -0.00000000e+00, -0.00000000e+00,\n",
       "       -0.00000000e+00,  0.00000000e+00,  0.00000000e+00,  1.47906338e+01,\n",
       "       -0.00000000e+00,  0.00000000e+00,  0.00000000e+00,  0.00000000e+00,\n",
       "        0.00000000e+00,  1.59936629e+01,  0.00000000e+00,  0.00000000e+00,\n",
       "       -0.00000000e+00,  0.00000000e+00,  0.00000000e+00,  0.00000000e+00,\n",
       "        0.00000000e+00,  6.50914705e+01,  0.00000000e+00,  4.96190925e+00,\n",
       "        0.00000000e+00,  0.00000000e+00, -0.00000000e+00,  0.00000000e+00,\n",
       "        0.00000000e+00,  0.00000000e+00, -0.00000000e+00,  5.49733074e+01,\n",
       "        0.00000000e+00, -0.00000000e+00,  1.80439703e+01,  0.00000000e+00,\n",
       "        0.00000000e+00, -1.04492464e+01,  0.00000000e+00,  6.22434602e+00,\n",
       "        1.01230633e+01,  2.62383576e+01,  0.00000000e+00, -0.00000000e+00,\n",
       "       -0.00000000e+00, -0.00000000e+00, -3.50854789e+00,  0.00000000e+00,\n",
       "        0.00000000e+00,  0.00000000e+00, -0.00000000e+00,  0.00000000e+00,\n",
       "        0.00000000e+00,  3.99927962e+01,  0.00000000e+00,  0.00000000e+00,\n",
       "        0.00000000e+00,  0.00000000e+00, -0.00000000e+00,  0.00000000e+00,\n",
       "        0.00000000e+00,  0.00000000e+00, -0.00000000e+00,  0.00000000e+00,\n",
       "        0.00000000e+00, -0.00000000e+00, -0.00000000e+00, -0.00000000e+00,\n",
       "        0.00000000e+00,  0.00000000e+00, -0.00000000e+00,  0.00000000e+00,\n",
       "        0.00000000e+00,  0.00000000e+00, -0.00000000e+00,  2.78915994e-01,\n",
       "       -0.00000000e+00,  0.00000000e+00,  0.00000000e+00,  4.23350075e+00,\n",
       "        1.26874093e+02, -0.00000000e+00,  0.00000000e+00, -0.00000000e+00,\n",
       "        0.00000000e+00,  0.00000000e+00,  0.00000000e+00, -1.55931286e+01,\n",
       "        0.00000000e+00,  8.36702049e+01, -2.21908315e+01,  0.00000000e+00,\n",
       "       -0.00000000e+00,  0.00000000e+00, -0.00000000e+00, -0.00000000e+00,\n",
       "        0.00000000e+00, -0.00000000e+00,  0.00000000e+00, -0.00000000e+00,\n",
       "        0.00000000e+00, -0.00000000e+00,  0.00000000e+00,  0.00000000e+00,\n",
       "       -0.00000000e+00,  2.88138709e+02, -0.00000000e+00, -0.00000000e+00,\n",
       "        0.00000000e+00,  0.00000000e+00,  0.00000000e+00, -0.00000000e+00,\n",
       "        0.00000000e+00,  0.00000000e+00,  0.00000000e+00, -0.00000000e+00,\n",
       "       -0.00000000e+00,  0.00000000e+00,  0.00000000e+00,  0.00000000e+00,\n",
       "       -0.00000000e+00, -5.38083094e+00, -0.00000000e+00, -0.00000000e+00,\n",
       "        2.27726995e+02])"
      ]
     },
     "execution_count": 607,
     "metadata": {},
     "output_type": "execute_result"
    }
   ],
   "source": [
    "lasso_opt.coef_"
   ]
  },
  {
   "cell_type": "markdown",
   "metadata": {
    "cell_style": "split",
    "slideshow": {
     "slide_type": "slide"
    }
   },
   "source": [
    "#### Ridge \n",
    "When we introduce many features that:\n",
    "- we believe may all have some predictive power.\n",
    "- want to heavily penalize weight variance"
   ]
  },
  {
   "cell_type": "markdown",
   "metadata": {
    "cell_style": "split",
    "slideshow": {
     "slide_type": "fragment"
    }
   },
   "source": [
    "#### LASSO"
   ]
  },
  {
   "cell_type": "markdown",
   "metadata": {
    "cell_style": "split",
    "slideshow": {
     "slide_type": "fragment"
    }
   },
   "source": [
    "We have dataset with many highly correlated features:\n",
    "- believe many are not actually adding to predictive power.\n",
    "- willing to cut away marginally unimportant features.\n"
   ]
  },
  {
   "cell_type": "markdown",
   "metadata": {
    "slideshow": {
     "slide_type": "slide"
    }
   },
   "source": [
    "Which is better:\n",
    "- depends on dataset\n",
    "- modeling goal "
   ]
  }
 ],
 "metadata": {
  "celltoolbar": "Slideshow",
  "kernelspec": {
   "display_name": "Python 3",
   "language": "python",
   "name": "python3"
  },
  "language_info": {
   "codemirror_mode": {
    "name": "ipython",
    "version": 3
   },
   "file_extension": ".py",
   "mimetype": "text/x-python",
   "name": "python",
   "nbconvert_exporter": "python",
   "pygments_lexer": "ipython3",
   "version": "3.8.5"
  }
 },
 "nbformat": 4,
 "nbformat_minor": 5
}
