{
 "cells": [
  {
   "cell_type": "markdown",
   "metadata": {
    "slideshow": {
     "slide_type": "slide"
    }
   },
   "source": [
    "<div style=\"color:white;\n",
    "           display:fill;\n",
    "           border-radius:5px;\n",
    "           background-color:#5642C5;\n",
    "           font-size:200%;\n",
    "           font-family:Arial;letter-spacing:0.5px\">\n",
    "\n",
    "<p width = 20%, style=\"padding: 10px;\n",
    "              color:white;\">\n",
    "Model Tuning\n",
    "              \n",
    "</p>\n",
    "</div>\n",
    "\n",
    "Data Science Cohort Live NYC Feb 2022\n",
    "<p>Phase 3: Topic 30</p>\n",
    "<br>\n",
    "<br>\n",
    "\n",
    "<div align = \"right\">\n",
    "<img src=\"Images/flatiron-school-logo.png\" align = \"right\" width=\"200\"/>\n",
    "</div>\n",
    "    \n",
    "    "
   ]
  },
  {
   "cell_type": "code",
<<<<<<< HEAD
   "execution_count": 146,
=======
   "execution_count": 1,
   "id": "fa35b8bf",
>>>>>>> upstream/master
   "metadata": {
    "ExecuteTime": {
     "end_time": "2021-10-28T04:05:08.822957Z",
     "start_time": "2021-10-28T04:05:08.819534Z"
    },
    "slideshow": {
     "slide_type": "skip"
    }
   },
   "outputs": [],
   "source": [
    "import numpy as np\n",
    "import pandas as pd\n",
    "from matplotlib import pyplot as plt\n",
    "import seaborn as sns\n",
    "from scipy import stats as stats\n",
    "\n",
    "from sklearn.linear_model import LogisticRegression\n",
    "from sklearn.neighbors import KNeighborsClassifier\n",
    "from sklearn.tree import DecisionTreeClassifier\n",
    "\n",
    "from sklearn.metrics import precision_score, recall_score, plot_confusion_matrix\n",
    "from sklearn.model_selection import train_test_split, GridSearchCV,\\\n",
    "cross_val_score, RandomizedSearchCV\n",
    "\n",
    "from sklearn.preprocessing import OneHotEncoder, StandardScaler, Normalizer\n",
    "from sklearn.impute import SimpleImputer\n",
    "\n",
    "from sklearn.compose import ColumnTransformer"
   ]
  },
  {
   "cell_type": "markdown",
   "metadata": {
    "cell_style": "split",
    "slideshow": {
     "slide_type": "slide"
    }
   },
   "source": [
    "#### Hyperparameters\n",
    "- Free knobs of a model used to **control the training process**."
   ]
  },
  {
   "cell_type": "markdown",
   "metadata": {
    "cell_style": "split",
    "slideshow": {
     "slide_type": "fragment"
    }
   },
   "source": [
    "<img src = \"Images\\levers.jpg\" width = 350/><center> Tuning your model!! </center>"
   ]
  },
  {
   "cell_type": "markdown",
   "metadata": {
    "slideshow": {
     "slide_type": "subslide"
    }
   },
   "source": [
    "**Hyperparameters concerning the structure of cost function and model**"
   ]
  },
  {
   "cell_type": "markdown",
   "metadata": {
    "cell_style": "split",
    "heading_collapsed": true,
    "hidden": true,
    "slideshow": {
     "slide_type": "slide"
    }
   },
   "source": [
    "#### Hyperparameters\n",
    "- Free levers of a model used to **control the training process**.\n",
    "- $\\lambda$: the regularization parameter for $|\\textbf{w}|^2$ penalty.\n"
   ]
  },
  {
   "cell_type": "markdown",
   "metadata": {
    "cell_style": "split",
    "hidden": true,
    "slideshow": {
     "slide_type": "fragment"
    }
   },
   "source": [
    "#### Parameters\n",
    "\n",
    "- **Found by training the model**\n",
    "- Weights ($\\textbf{w}$, etc.): \n",
    "    Logistic Regression, Linear Regression\n"
   ]
  },
  {
   "cell_type": "markdown",
   "metadata": {
    "cell_style": "split",
    "hidden": true,
    "slideshow": {
     "slide_type": "slide"
    }
   },
   "source": [
    "#### Hyperparameters\n",
    "- depth of decision tree\n",
    "- gini impurity or entropy?"
   ]
  },
  {
   "cell_type": "markdown",
   "metadata": {
    "cell_style": "split",
    "slideshow": {
     "slide_type": "fragment"
    }
   },
   "source": [
    "#### Parameters\n",
    "\n",
    "- Locations in feature space where splits were made"
   ]
  },
  {
   "cell_type": "markdown",
   "metadata": {
    "slideshow": {
     "slide_type": "subslide"
    }
   },
   "source": [
    "**Hyperparameters concerning the optimization process**"
   ]
  },
  {
   "cell_type": "markdown",
   "metadata": {
    "cell_style": "split",
    "slideshow": {
     "slide_type": "slide"
    }
   },
   "source": [
    "- Can help get to solutions faster\n",
    "- Get *better* convergence to cost function minimum"
   ]
  },
  {
   "cell_type": "markdown",
   "metadata": {
    "cell_style": "split",
    "slideshow": {
     "slide_type": "fragment"
    }
   },
   "source": [
    "**Solvers for Logistic regression**: variants of gradient descent.\n",
    "\n",
    "- lbfgs (variant of Newton method)\n",
    "    - accounts for concavity of cost function\n",
    "- sag (Stochastic Gradient Descent)\n",
    "    - fast convergence\n",
    "    - excellent for larger number of samples\n",
    "- liblinear (Coordinate Descent)\n",
    "    - better for larger number of features\n",
    "\n"
   ]
  },
  {
   "cell_type": "markdown",
   "metadata": {
    "hidden": true,
    "slideshow": {
     "slide_type": "slide"
    }
   },
   "source": [
    "Depending on the sort of problem and data:\n",
    "- experiment with different values of these hyperparameters\n",
    "- improve model performance."
   ]
  },
  {
   "cell_type": "markdown",
   "metadata": {
    "slideshow": {
     "slide_type": "slide"
    }
   },
   "source": [
    "Running through the entire process of train/test splitting and cross-validation yet again:"
   ]
  },
  {
   "cell_type": "markdown",
   "metadata": {
    "slideshow": {
     "slide_type": "slide"
    }
   },
   "source": [
    "Load iris data"
   ]
  },
  {
   "cell_type": "code",
<<<<<<< HEAD
   "execution_count": 147,
=======
   "execution_count": 11,
   "id": "1b761f1a",
>>>>>>> upstream/master
   "metadata": {
    "slideshow": {
     "slide_type": "fragment"
    }
   },
   "outputs": [
    {
     "data": {
      "text/html": [
       "<div>\n",
       "<style scoped>\n",
       "    .dataframe tbody tr th:only-of-type {\n",
       "        vertical-align: middle;\n",
       "    }\n",
       "\n",
       "    .dataframe tbody tr th {\n",
       "        vertical-align: top;\n",
       "    }\n",
       "\n",
       "    .dataframe thead th {\n",
       "        text-align: right;\n",
       "    }\n",
       "</style>\n",
       "<table border=\"1\" class=\"dataframe\">\n",
       "  <thead>\n",
       "    <tr style=\"text-align: right;\">\n",
       "      <th></th>\n",
       "      <th>SepalLengthCm</th>\n",
       "      <th>SepalWidthCm</th>\n",
       "      <th>PetalLengthCm</th>\n",
       "      <th>PetalWidthCm</th>\n",
       "      <th>Species</th>\n",
       "    </tr>\n",
       "  </thead>\n",
       "  <tbody>\n",
       "    <tr>\n",
       "      <th>0</th>\n",
       "      <td>5.1</td>\n",
       "      <td>3.5</td>\n",
       "      <td>1.4</td>\n",
       "      <td>0.2</td>\n",
       "      <td>Iris-setosa</td>\n",
       "    </tr>\n",
       "    <tr>\n",
       "      <th>1</th>\n",
       "      <td>4.9</td>\n",
       "      <td>3.0</td>\n",
       "      <td>1.4</td>\n",
       "      <td>0.2</td>\n",
       "      <td>Iris-setosa</td>\n",
       "    </tr>\n",
       "    <tr>\n",
       "      <th>2</th>\n",
       "      <td>4.7</td>\n",
       "      <td>3.2</td>\n",
       "      <td>1.3</td>\n",
       "      <td>0.2</td>\n",
       "      <td>Iris-setosa</td>\n",
       "    </tr>\n",
       "    <tr>\n",
       "      <th>3</th>\n",
       "      <td>4.6</td>\n",
       "      <td>3.1</td>\n",
       "      <td>1.5</td>\n",
       "      <td>0.2</td>\n",
       "      <td>Iris-setosa</td>\n",
       "    </tr>\n",
       "    <tr>\n",
       "      <th>4</th>\n",
       "      <td>5.0</td>\n",
       "      <td>3.6</td>\n",
       "      <td>1.4</td>\n",
       "      <td>0.2</td>\n",
       "      <td>Iris-setosa</td>\n",
       "    </tr>\n",
       "  </tbody>\n",
       "</table>\n",
       "</div>"
      ],
      "text/plain": [
       "   SepalLengthCm  SepalWidthCm  PetalLengthCm  PetalWidthCm      Species\n",
       "0            5.1           3.5            1.4           0.2  Iris-setosa\n",
       "1            4.9           3.0            1.4           0.2  Iris-setosa\n",
       "2            4.7           3.2            1.3           0.2  Iris-setosa\n",
       "3            4.6           3.1            1.5           0.2  Iris-setosa\n",
       "4            5.0           3.6            1.4           0.2  Iris-setosa"
      ]
     },
<<<<<<< HEAD
     "execution_count": 147,
=======
     "execution_count": 11,
>>>>>>> upstream/master
     "metadata": {},
     "output_type": "execute_result"
    }
   ],
   "source": [
    "iris_df = pd.read_csv('Data/Iris.csv').drop(columns = ['Id'])\n",
    "iris_df.head()"
   ]
  },
  {
   "cell_type": "markdown",
   "metadata": {
    "slideshow": {
     "slide_type": "slide"
    }
   },
   "source": [
    "Label encode the target class"
   ]
  },
  {
   "cell_type": "code",
<<<<<<< HEAD
   "execution_count": 148,
=======
   "execution_count": 12,
   "id": "337a455a",
>>>>>>> upstream/master
   "metadata": {
    "slideshow": {
     "slide_type": "fragment"
    }
   },
   "outputs": [
    {
     "data": {
      "text/html": [
       "<div>\n",
       "<style scoped>\n",
       "    .dataframe tbody tr th:only-of-type {\n",
       "        vertical-align: middle;\n",
       "    }\n",
       "\n",
       "    .dataframe tbody tr th {\n",
       "        vertical-align: top;\n",
       "    }\n",
       "\n",
       "    .dataframe thead th {\n",
       "        text-align: right;\n",
       "    }\n",
       "</style>\n",
       "<table border=\"1\" class=\"dataframe\">\n",
       "  <thead>\n",
       "    <tr style=\"text-align: right;\">\n",
       "      <th></th>\n",
       "      <th>SepalLengthCm</th>\n",
       "      <th>SepalWidthCm</th>\n",
       "      <th>PetalLengthCm</th>\n",
       "      <th>PetalWidthCm</th>\n",
       "      <th>Species</th>\n",
       "    </tr>\n",
       "  </thead>\n",
       "  <tbody>\n",
       "    <tr>\n",
       "      <th>0</th>\n",
       "      <td>5.1</td>\n",
       "      <td>3.5</td>\n",
       "      <td>1.4</td>\n",
       "      <td>0.2</td>\n",
       "      <td>0</td>\n",
       "    </tr>\n",
       "    <tr>\n",
       "      <th>1</th>\n",
       "      <td>4.9</td>\n",
       "      <td>3.0</td>\n",
       "      <td>1.4</td>\n",
       "      <td>0.2</td>\n",
       "      <td>0</td>\n",
       "    </tr>\n",
       "    <tr>\n",
       "      <th>2</th>\n",
       "      <td>4.7</td>\n",
       "      <td>3.2</td>\n",
       "      <td>1.3</td>\n",
       "      <td>0.2</td>\n",
       "      <td>0</td>\n",
       "    </tr>\n",
       "    <tr>\n",
       "      <th>3</th>\n",
       "      <td>4.6</td>\n",
       "      <td>3.1</td>\n",
       "      <td>1.5</td>\n",
       "      <td>0.2</td>\n",
       "      <td>0</td>\n",
       "    </tr>\n",
       "    <tr>\n",
       "      <th>4</th>\n",
       "      <td>5.0</td>\n",
       "      <td>3.6</td>\n",
       "      <td>1.4</td>\n",
       "      <td>0.2</td>\n",
       "      <td>0</td>\n",
       "    </tr>\n",
       "  </tbody>\n",
       "</table>\n",
       "</div>"
      ],
      "text/plain": [
       "   SepalLengthCm  SepalWidthCm  PetalLengthCm  PetalWidthCm  Species\n",
       "0            5.1           3.5            1.4           0.2        0\n",
       "1            4.9           3.0            1.4           0.2        0\n",
       "2            4.7           3.2            1.3           0.2        0\n",
       "3            4.6           3.1            1.5           0.2        0\n",
       "4            5.0           3.6            1.4           0.2        0"
      ]
     },
<<<<<<< HEAD
     "execution_count": 148,
=======
     "execution_count": 12,
>>>>>>> upstream/master
     "metadata": {},
     "output_type": "execute_result"
    }
   ],
   "source": [
    "from sklearn.preprocessing import LabelEncoder\n",
    "target_transform = LabelEncoder()\n",
    "iris_df['Species'] = target_transform.fit_transform(iris_df['Species'])\n",
    "iris_df.head()"
   ]
  },
  {
   "cell_type": "markdown",
   "metadata": {
    "slideshow": {
     "slide_type": "slide"
    }
   },
   "source": [
    "Select two of the features and the target. Features are not obviously separable.\n",
    "- Tuning will be important."
   ]
  },
  {
   "cell_type": "code",
<<<<<<< HEAD
   "execution_count": 149,
=======
   "execution_count": 13,
   "id": "0f8148f7",
>>>>>>> upstream/master
   "metadata": {
    "cell_style": "split",
    "slideshow": {
     "slide_type": "subslide"
    }
   },
   "outputs": [],
   "source": [
    "col_list = ['SepalWidthCm', 'SepalLengthCm']\n",
    "X = iris_df[col_list]\n",
    "y = iris_df['Species']"
   ]
  },
  {
   "cell_type": "code",
<<<<<<< HEAD
   "execution_count": 150,
=======
   "execution_count": 14,
   "id": "897e29f1",
>>>>>>> upstream/master
   "metadata": {
    "cell_style": "split",
    "scrolled": false,
    "slideshow": {
     "slide_type": "fragment"
    }
   },
   "outputs": [
    {
     "data": {
      "image/png": "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\n",
      "text/plain": [
       "<Figure size 406.375x360 with 6 Axes>"
      ]
     },
     "metadata": {
      "needs_background": "light"
     },
     "output_type": "display_data"
    }
   ],
   "source": [
    "sns.pairplot(hue = 'Species', \n",
    "             vars = col_list,\n",
    "             data = iris_df)\n",
    "plt.show()"
   ]
  },
  {
   "cell_type": "markdown",
   "metadata": {
    "slideshow": {
     "slide_type": "slide"
    }
   },
   "source": [
    "Now, before doing anything: Train/test split!"
   ]
  },
  {
   "cell_type": "code",
<<<<<<< HEAD
   "execution_count": 151,
=======
   "execution_count": 15,
   "id": "6fd60505",
>>>>>>> upstream/master
   "metadata": {
    "cell_style": "center",
    "slideshow": {
     "slide_type": "fragment"
    }
   },
   "outputs": [],
   "source": [
    "# shuffle and split, stratify keeps target distribution same in train/test\n",
    "X_train, X_test, y_train, y_test = train_test_split(X, y, stratify = y, test_size = 0.15, random_state = 42)"
   ]
  },
  {
   "cell_type": "code",
<<<<<<< HEAD
   "execution_count": 152,
=======
   "execution_count": 16,
   "id": "434563a2",
>>>>>>> upstream/master
   "metadata": {
    "slideshow": {
     "slide_type": "slide"
    }
   },
   "outputs": [],
   "source": [
    "from sklearn.model_selection import KFold\n",
    "from sklearn.preprocessing import StandardScaler\n",
    "from sklearn.neighbors import KNeighborsClassifier\n",
    "from sklearn.metrics import precision_score, recall_score, f1_score, accuracy_score, classification_report"
   ]
  },
  {
   "cell_type": "code",
<<<<<<< HEAD
   "execution_count": 153,
=======
   "execution_count": 17,
   "id": "bed132bb",
>>>>>>> upstream/master
   "metadata": {
    "cell_style": "center",
    "scrolled": false,
    "slideshow": {
     "slide_type": "subslide"
    }
   },
   "outputs": [],
   "source": [
    "def cross_validation(X_train, y_train, k, num_split = 10):\n",
    "    \n",
    "    X_train = X_train.values\n",
    "    y_train = y_train.values\n",
    "    \n",
    "    score_train_list = []\n",
    "    score_val_list = []\n",
    "    \n",
    "    for train_index, valid_index in KFold(n_splits = num_split).split(X_train):\n",
    "        # train and validation splitting \n",
    "        X_train_fold, X_val_fold = X_train[train_index], X_train[valid_index]\n",
    "        y_train_fold, y_val_fold = y_train[train_index], y_train[valid_index]\n",
    "\n",
    "        #create/fit the Standard scaler on the train fold\n",
    "        scaler = StandardScaler()\n",
    "        X_tf_sc = scaler.fit_transform(X_train_fold)\n",
    "        # transform validation fold\n",
    "        X_vld_sc = scaler.transform(X_val_fold)\n",
    "\n",
    "        # create/fit knearest neighbor\n",
    "        knn = KNeighborsClassifier(n_neighbors = k)\n",
    "        knn.fit(X_tf_sc, y_train_fold)\n",
    "        \n",
    "        # now how did we do?\n",
    "        accuracy_train = knn.score(X_tf_sc, y_train_fold)\n",
    "        accuracy_val = knn.score(X_vld_sc, y_val_fold)\n",
    "        score_val_list.append(accuracy_val)\n",
    "        score_train_list.append(accuracy_train)\n",
    "    \n",
    "    return {'k': k, 'train': np.mean(score_train_list), 'validation': np.mean(score_val_list)}"
   ]
  },
  {
   "cell_type": "markdown",
   "metadata": {
    "slideshow": {
     "slide_type": "slide"
    }
   },
   "source": [
    "Now for tuning parameters need to loop:"
   ]
  },
  {
   "cell_type": "code",
<<<<<<< HEAD
   "execution_count": 154,
=======
   "execution_count": 18,
   "id": "07ed06d5",
>>>>>>> upstream/master
   "metadata": {
    "slideshow": {
     "slide_type": "fragment"
    }
   },
   "outputs": [],
   "source": [
    "# empty dataframe\n",
    "crossval_df = pd.DataFrame(columns = ['k', 'train', 'validation'])\n",
    "# append results for each value of k\n",
    "for k in np.arange(1,100, 5):\n",
    "    crossval_df = crossval_df.append(cross_validation(X_train, y_train, k, 5), ignore_index = True)\n"
   ]
  },
  {
   "cell_type": "code",
<<<<<<< HEAD
   "execution_count": 155,
=======
   "execution_count": 19,
   "id": "0fd2fd2a",
>>>>>>> upstream/master
   "metadata": {
    "slideshow": {
     "slide_type": "fragment"
    }
   },
   "outputs": [
    {
     "data": {
      "text/html": [
       "<div>\n",
       "<style scoped>\n",
       "    .dataframe tbody tr th:only-of-type {\n",
       "        vertical-align: middle;\n",
       "    }\n",
       "\n",
       "    .dataframe tbody tr th {\n",
       "        vertical-align: top;\n",
       "    }\n",
       "\n",
       "    .dataframe thead th {\n",
       "        text-align: right;\n",
       "    }\n",
       "</style>\n",
       "<table border=\"1\" class=\"dataframe\">\n",
       "  <thead>\n",
       "    <tr style=\"text-align: right;\">\n",
       "      <th></th>\n",
       "      <th>k</th>\n",
       "      <th>train</th>\n",
       "      <th>validation</th>\n",
       "    </tr>\n",
       "  </thead>\n",
       "  <tbody>\n",
       "    <tr>\n",
       "      <th>0</th>\n",
       "      <td>1.0</td>\n",
       "      <td>0.948825</td>\n",
       "      <td>0.717231</td>\n",
       "    </tr>\n",
       "    <tr>\n",
       "      <th>1</th>\n",
       "      <td>6.0</td>\n",
       "      <td>0.834615</td>\n",
       "      <td>0.787077</td>\n",
       "    </tr>\n",
       "    <tr>\n",
       "      <th>2</th>\n",
       "      <td>11.0</td>\n",
       "      <td>0.820909</td>\n",
       "      <td>0.772000</td>\n",
       "    </tr>\n",
       "    <tr>\n",
       "      <th>3</th>\n",
       "      <td>16.0</td>\n",
       "      <td>0.801184</td>\n",
       "      <td>0.771692</td>\n",
       "    </tr>\n",
       "    <tr>\n",
       "      <th>4</th>\n",
       "      <td>21.0</td>\n",
       "      <td>0.811105</td>\n",
       "      <td>0.779692</td>\n",
       "    </tr>\n",
       "  </tbody>\n",
       "</table>\n",
       "</div>"
      ],
      "text/plain": [
       "      k     train  validation\n",
       "0   1.0  0.948825    0.717231\n",
       "1   6.0  0.834615    0.787077\n",
       "2  11.0  0.820909    0.772000\n",
       "3  16.0  0.801184    0.771692\n",
       "4  21.0  0.811105    0.779692"
      ]
     },
<<<<<<< HEAD
     "execution_count": 155,
=======
     "execution_count": 19,
>>>>>>> upstream/master
     "metadata": {},
     "output_type": "execute_result"
    }
   ],
   "source": [
    "crossval_df.head()"
   ]
  },
  {
   "cell_type": "markdown",
   "metadata": {
    "slideshow": {
     "slide_type": "slide"
    }
   },
   "source": [
    "Technically, we did this correctly. But..."
   ]
  },
  {
   "cell_type": "markdown",
   "metadata": {
    "cell_style": "split",
    "slideshow": {
     "slide_type": "subslide"
    }
   },
   "source": [
    "#### Whats the problem with this?\n",
    "\n",
    "- Need to write unecessary code. Hard to read.\n",
    "- Easy to mess up: track each data transformation carefully.\n",
    "- Changing/adding transformations: possibly a pain.\n",
    "- For loops for tuning, etc."
   ]
  },
  {
   "cell_type": "markdown",
   "metadata": {
    "cell_style": "split",
    "slideshow": {
     "slide_type": "fragment"
    }
   },
   "source": [
    "#### The goal:\n",
    "\n",
    "- want to get best model in streamlined process.\n",
    "- want to be able to plug in and out different transformations easily and transparently. \n",
    "- try multiple transformations/models at once\n",
    "- want good reporting/ranking of different models."
   ]
  },
  {
   "cell_type": "markdown",
   "metadata": {
    "cell_style": "split",
    "slideshow": {
     "slide_type": "slide"
    }
   },
   "source": [
    "####  First part of solution: The pipeline \n",
    "\n",
    "- Transformer fitting and model fitting\n",
    "- Happen one right after the other.\n",
    "- **Ideal: unify into a single process.**"
   ]
  },
  {
   "cell_type": "markdown",
   "metadata": {
    "slideshow": {
     "slide_type": "slide"
    }
   },
   "source": [
    "Without the pipeline:\n",
    "- have to repeat fit and transformer/predicting for every transformer and model"
   ]
  },
  {
   "cell_type": "code",
   "execution_count": 156,
   "metadata": {
    "ExecuteTime": {
     "end_time": "2021-10-28T03:33:54.664937Z",
     "start_time": "2021-10-28T03:33:54.657819Z"
    },
    "cell_style": "center",
    "hidden": true,
    "slideshow": {
     "slide_type": "fragment"
    }
   },
   "outputs": [
    {
     "name": "stdout",
     "output_type": "stream",
     "text": [
      "[1 1 2 2 0 2 0 0 2 1 0 2 1 1 0 0 0 1 2 0 1 0 1]\n"
     ]
    }
   ],
   "source": [
    "# Define transformers (will adjust/massage the data)\n",
    "imputer = SimpleImputer(strategy=\"median\") # replaces missing values\n",
    "std_scaler = StandardScaler() # scales the data\n",
    "\n",
    "# Define the classifier (predictor) to train\n",
    "rf_clf = DecisionTreeClassifier(random_state=42)\n",
    "\n",
    "# Have the classifer (and full pipeline) learn/train/fit from the data\n",
    "X_train_filled = imputer.fit_transform(X_train)\n",
    "X_train_scaled = std_scaler.fit_transform(X_train_filled)\n",
    "rf_clf.fit(X_train_scaled, y_train)\n",
    "\n",
    "# Predict using the trained classifier (still need to do the transformations)\n",
    "X_test_filled = imputer.transform(X_test)\n",
    "X_test_scaled = std_scaler.transform(X_test_filled)\n",
    "y_pred = rf_clf.predict(X_test_scaled)\n",
    "print(y_pred)"
   ]
  },
  {
   "cell_type": "markdown",
   "metadata": {
    "slideshow": {
     "slide_type": "slide"
    }
   },
   "source": [
    "Instead let's use the Pipeline object"
   ]
  },
  {
   "cell_type": "code",
<<<<<<< HEAD
   "execution_count": 157,
=======
   "execution_count": 20,
   "id": "40dcec7e",
>>>>>>> upstream/master
   "metadata": {
    "slideshow": {
     "slide_type": "fragment"
    }
   },
   "outputs": [],
   "source": [
    "from sklearn.pipeline import Pipeline\n",
    "\n",
    "# this will allow us to visualize the pipeline (may not be available in learn-env)\n",
    "from sklearn import set_config\n",
    "set_config(display= 'diagram')"
   ]
  },
  {
   "cell_type": "markdown",
   "metadata": {
    "cell_style": "split",
    "slideshow": {
     "slide_type": "slide"
    }
   },
   "source": [
    "Pipeline() constructor:\n",
    "- takes in list of tuples (steps):\n",
    "- user label of estimator/transformer in pipeline (a string)\n",
    "- the transformer/estimator\n"
   ]
  },
  {
   "cell_type": "markdown",
   "metadata": {
    "cell_style": "split",
    "slideshow": {
     "slide_type": "fragment"
    }
   },
   "source": [
    "Pipeline() object is a new estimator:\n",
    "- does all steps in a defined order\n",
    "- transformers in the beginning\n",
    "- predictive model must be last step"
   ]
  },
  {
   "cell_type": "markdown",
   "metadata": {
    "slideshow": {
     "slide_type": "slide"
    }
   },
   "source": [
    "Combining into a unified estimator-transformer:\n",
    "- single .fit()\n",
    "- single .predict()\n",
    "\n",
    "**Does everything in one shot**"
   ]
  },
  {
   "cell_type": "markdown",
   "metadata": {
    "slideshow": {
     "slide_type": "slide"
    }
   },
   "source": [
    "Let's check this out on fitting/predicting with simple train/test split:"
   ]
  },
  {
   "cell_type": "code",
<<<<<<< HEAD
   "execution_count": 158,
=======
   "execution_count": 21,
   "id": "cae12950",
>>>>>>> upstream/master
   "metadata": {
    "slideshow": {
     "slide_type": "subslide"
    }
   },
   "outputs": [
    {
     "name": "stdout",
     "output_type": "stream",
     "text": [
      "[1 1 2 2 0 2 0 0 2 1 0 2 1 1 0 0 0 1 2 0 1 0 1]\n"
     ]
    }
   ],
   "source": [
    "steps = [('imputer', SimpleImputer(strategy=\"median\")), ('std_scaler', StandardScaler()),\n",
    "        ('rf_clf', DecisionTreeClassifier(random_state=42))]\n",
    "\n",
    "pipeline = Pipeline(steps)\n",
    "\n",
    "\n",
    "# Train the pipeline (tranformations & predictor)\n",
    "pipeline.fit(X_train, y_train)\n",
    "\n",
    "# Predict using the pipeline (includes the transfomers & trained predictor)\n",
    "predicted = pipeline.predict(X_test)\n",
    "print(predicted)"
   ]
  },
  {
   "cell_type": "markdown",
   "metadata": {
    "slideshow": {
     "slide_type": "slide"
    }
   },
   "source": [
    "Side by side (they do the same thing)"
   ]
  },
  {
   "cell_type": "code",
   "execution_count": 159,
   "metadata": {
    "cell_style": "split",
    "slideshow": {
     "slide_type": "fragment"
    }
   },
   "outputs": [
    {
     "name": "stdout",
     "output_type": "stream",
     "text": [
      "[1 1 2 2 0 2 0 0 2 1 0 2 1 1 0 0 0 1 2 0 1 0 1]\n"
     ]
    }
   ],
   "source": [
    "# Define transformers (will adjust/massage the data)\n",
    "imputer = SimpleImputer(strategy=\"median\") # replaces missing values\n",
    "std_scaler = StandardScaler() # scales the data\n",
    "\n",
    "# Define the classifier (predictor) to train\n",
    "rf_clf = DecisionTreeClassifier(random_state=42)\n",
    "\n",
    "# Have the classifer (and full pipeline) learn/train/fit from the data\n",
    "X_train_filled = imputer.fit_transform(X_train)\n",
    "X_train_scaled = std_scaler.fit_transform(X_train_filled)\n",
    "rf_clf.fit(X_train_scaled, y_train)\n",
    "\n",
    "# Predict using the trained classifier (still need to do the transformations)\n",
    "X_test_filled = imputer.transform(X_test)\n",
    "X_test_scaled = std_scaler.transform(X_test_filled)\n",
    "y_pred = rf_clf.predict(X_test_scaled)\n",
    "print(y_pred)"
   ]
  },
  {
   "cell_type": "code",
   "execution_count": 160,
   "metadata": {
    "cell_style": "split",
    "slideshow": {
     "slide_type": "fragment"
    }
   },
   "outputs": [
    {
     "name": "stdout",
     "output_type": "stream",
     "text": [
      "[1 1 2 2 0 2 0 0 2 1 0 2 1 1 0 0 0 1 2 0 1 0 1]\n"
     ]
    }
   ],
   "source": [
    "steps = [('imputer', SimpleImputer(strategy=\"median\")), ('std_scaler', StandardScaler()),\n",
    "        ('rf_clf', DecisionTreeClassifier(random_state=42))]\n",
    "\n",
    "pipeline = Pipeline(steps)\n",
    "\n",
    "\n",
    "# Train the pipeline (tranformations & predictor)\n",
    "pipeline.fit(X_train, y_train)\n",
    "\n",
    "# Predict using the pipeline (includes the transfomers & trained predictor)\n",
    "predicted = pipeline.predict(X_test)\n",
    "print(predicted)"
   ]
  },
  {
   "cell_type": "markdown",
   "metadata": {
    "slideshow": {
     "slide_type": "slide"
    }
   },
   "source": [
    "Now lets do **manual** cross validation **with pipeline**"
   ]
  },
  {
   "cell_type": "markdown",
   "metadata": {
    "slideshow": {
     "slide_type": "slide"
    }
   },
   "source": [
    "First advantage: can define the entire set of transformations outside cross-validation function:"
   ]
  },
  {
   "cell_type": "code",
<<<<<<< HEAD
   "execution_count": 161,
=======
   "execution_count": 22,
   "id": "a897371c",
>>>>>>> upstream/master
   "metadata": {
    "cell_style": "center",
    "slideshow": {
     "slide_type": "fragment"
    }
   },
   "outputs": [
    {
     "data": {
      "text/html": [
<<<<<<< HEAD
       "<style>div.sk-top-container {color: black;background-color: white;}div.sk-toggleable {background-color: white;}label.sk-toggleable__label {cursor: pointer;display: block;width: 100%;margin-bottom: 0;padding: 0.2em 0.3em;box-sizing: border-box;text-align: center;}div.sk-toggleable__content {max-height: 0;max-width: 0;overflow: hidden;text-align: left;background-color: #f0f8ff;}div.sk-toggleable__content pre {margin: 0.2em;color: black;border-radius: 0.25em;background-color: #f0f8ff;}input.sk-toggleable__control:checked~div.sk-toggleable__content {max-height: 200px;max-width: 100%;overflow: auto;}div.sk-estimator input.sk-toggleable__control:checked~label.sk-toggleable__label {background-color: #d4ebff;}div.sk-label input.sk-toggleable__control:checked~label.sk-toggleable__label {background-color: #d4ebff;}input.sk-hidden--visually {border: 0;clip: rect(1px 1px 1px 1px);clip: rect(1px, 1px, 1px, 1px);height: 1px;margin: -1px;overflow: hidden;padding: 0;position: absolute;width: 1px;}div.sk-estimator {font-family: monospace;background-color: #f0f8ff;margin: 0.25em 0.25em;border: 1px dotted black;border-radius: 0.25em;box-sizing: border-box;}div.sk-estimator:hover {background-color: #d4ebff;}div.sk-parallel-item::after {content: \"\";width: 100%;border-bottom: 1px solid gray;flex-grow: 1;}div.sk-label:hover label.sk-toggleable__label {background-color: #d4ebff;}div.sk-serial::before {content: \"\";position: absolute;border-left: 1px solid gray;box-sizing: border-box;top: 2em;bottom: 0;left: 50%;}div.sk-serial {display: flex;flex-direction: column;align-items: center;background-color: white;}div.sk-item {z-index: 1;}div.sk-parallel {display: flex;align-items: stretch;justify-content: center;background-color: white;}div.sk-parallel-item {display: flex;flex-direction: column;position: relative;background-color: white;}div.sk-parallel-item:first-child::after {align-self: flex-end;width: 50%;}div.sk-parallel-item:last-child::after {align-self: flex-start;width: 50%;}div.sk-parallel-item:only-child::after {width: 0;}div.sk-dashed-wrapped {border: 1px dashed gray;margin: 0.2em;box-sizing: border-box;padding-bottom: 0.1em;background-color: white;position: relative;}div.sk-label label {font-family: monospace;font-weight: bold;background-color: white;display: inline-block;line-height: 1.2em;}div.sk-label-container {position: relative;z-index: 2;text-align: center;}div.sk-container {display: inline-block;position: relative;}</style><div class=\"sk-top-container\"><div class=\"sk-container\"><div class=\"sk-item sk-dashed-wrapped\"><div class=\"sk-label-container\"><div class=\"sk-label sk-toggleable\"><input class=\"sk-toggleable__control sk-hidden--visually\" id=\"944fa2ab-754d-4712-a991-eb0048c2af0c\" type=\"checkbox\" ><label class=\"sk-toggleable__label\" for=\"944fa2ab-754d-4712-a991-eb0048c2af0c\">Pipeline</label><div class=\"sk-toggleable__content\"><pre>Pipeline(steps=[('imputer', SimpleImputer(strategy='median')),\n",
       "                ('std_scaler', StandardScaler()),\n",
       "                ('rf_clf', DecisionTreeClassifier(random_state=42))])</pre></div></div></div><div class=\"sk-serial\"><div class=\"sk-item\"><div class=\"sk-estimator sk-toggleable\"><input class=\"sk-toggleable__control sk-hidden--visually\" id=\"ec620f61-f28e-46fe-acb1-967312837a57\" type=\"checkbox\" ><label class=\"sk-toggleable__label\" for=\"ec620f61-f28e-46fe-acb1-967312837a57\">SimpleImputer</label><div class=\"sk-toggleable__content\"><pre>SimpleImputer(strategy='median')</pre></div></div></div><div class=\"sk-item\"><div class=\"sk-estimator sk-toggleable\"><input class=\"sk-toggleable__control sk-hidden--visually\" id=\"aa1cfcb2-c200-43e2-98be-83f92dcc7fc3\" type=\"checkbox\" ><label class=\"sk-toggleable__label\" for=\"aa1cfcb2-c200-43e2-98be-83f92dcc7fc3\">StandardScaler</label><div class=\"sk-toggleable__content\"><pre>StandardScaler()</pre></div></div></div><div class=\"sk-item\"><div class=\"sk-estimator sk-toggleable\"><input class=\"sk-toggleable__control sk-hidden--visually\" id=\"f99ad4ea-b7ba-4855-b686-abd51b22a730\" type=\"checkbox\" ><label class=\"sk-toggleable__label\" for=\"f99ad4ea-b7ba-4855-b686-abd51b22a730\">DecisionTreeClassifier</label><div class=\"sk-toggleable__content\"><pre>DecisionTreeClassifier(random_state=42)</pre></div></div></div></div></div></div></div>"
=======
       "<style>#sk-168f4d4c-176c-4e8e-bfdc-56544580c6df {color: black;background-color: white;}#sk-168f4d4c-176c-4e8e-bfdc-56544580c6df pre{padding: 0;}#sk-168f4d4c-176c-4e8e-bfdc-56544580c6df div.sk-toggleable {background-color: white;}#sk-168f4d4c-176c-4e8e-bfdc-56544580c6df label.sk-toggleable__label {cursor: pointer;display: block;width: 100%;margin-bottom: 0;padding: 0.2em 0.3em;box-sizing: border-box;text-align: center;}#sk-168f4d4c-176c-4e8e-bfdc-56544580c6df div.sk-toggleable__content {max-height: 0;max-width: 0;overflow: hidden;text-align: left;background-color: #f0f8ff;}#sk-168f4d4c-176c-4e8e-bfdc-56544580c6df div.sk-toggleable__content pre {margin: 0.2em;color: black;border-radius: 0.25em;background-color: #f0f8ff;}#sk-168f4d4c-176c-4e8e-bfdc-56544580c6df input.sk-toggleable__control:checked~div.sk-toggleable__content {max-height: 200px;max-width: 100%;overflow: auto;}#sk-168f4d4c-176c-4e8e-bfdc-56544580c6df div.sk-estimator input.sk-toggleable__control:checked~label.sk-toggleable__label {background-color: #d4ebff;}#sk-168f4d4c-176c-4e8e-bfdc-56544580c6df div.sk-label input.sk-toggleable__control:checked~label.sk-toggleable__label {background-color: #d4ebff;}#sk-168f4d4c-176c-4e8e-bfdc-56544580c6df input.sk-hidden--visually {border: 0;clip: rect(1px 1px 1px 1px);clip: rect(1px, 1px, 1px, 1px);height: 1px;margin: -1px;overflow: hidden;padding: 0;position: absolute;width: 1px;}#sk-168f4d4c-176c-4e8e-bfdc-56544580c6df div.sk-estimator {font-family: monospace;background-color: #f0f8ff;margin: 0.25em 0.25em;border: 1px dotted black;border-radius: 0.25em;box-sizing: border-box;}#sk-168f4d4c-176c-4e8e-bfdc-56544580c6df div.sk-estimator:hover {background-color: #d4ebff;}#sk-168f4d4c-176c-4e8e-bfdc-56544580c6df div.sk-parallel-item::after {content: \"\";width: 100%;border-bottom: 1px solid gray;flex-grow: 1;}#sk-168f4d4c-176c-4e8e-bfdc-56544580c6df div.sk-label:hover label.sk-toggleable__label {background-color: #d4ebff;}#sk-168f4d4c-176c-4e8e-bfdc-56544580c6df div.sk-serial::before {content: \"\";position: absolute;border-left: 1px solid gray;box-sizing: border-box;top: 2em;bottom: 0;left: 50%;}#sk-168f4d4c-176c-4e8e-bfdc-56544580c6df div.sk-serial {display: flex;flex-direction: column;align-items: center;background-color: white;}#sk-168f4d4c-176c-4e8e-bfdc-56544580c6df div.sk-item {z-index: 1;}#sk-168f4d4c-176c-4e8e-bfdc-56544580c6df div.sk-parallel {display: flex;align-items: stretch;justify-content: center;background-color: white;}#sk-168f4d4c-176c-4e8e-bfdc-56544580c6df div.sk-parallel-item {display: flex;flex-direction: column;position: relative;background-color: white;}#sk-168f4d4c-176c-4e8e-bfdc-56544580c6df div.sk-parallel-item:first-child::after {align-self: flex-end;width: 50%;}#sk-168f4d4c-176c-4e8e-bfdc-56544580c6df div.sk-parallel-item:last-child::after {align-self: flex-start;width: 50%;}#sk-168f4d4c-176c-4e8e-bfdc-56544580c6df div.sk-parallel-item:only-child::after {width: 0;}#sk-168f4d4c-176c-4e8e-bfdc-56544580c6df div.sk-dashed-wrapped {border: 1px dashed gray;margin: 0.2em;box-sizing: border-box;padding-bottom: 0.1em;background-color: white;position: relative;}#sk-168f4d4c-176c-4e8e-bfdc-56544580c6df div.sk-label label {font-family: monospace;font-weight: bold;background-color: white;display: inline-block;line-height: 1.2em;}#sk-168f4d4c-176c-4e8e-bfdc-56544580c6df div.sk-label-container {position: relative;z-index: 2;text-align: center;}#sk-168f4d4c-176c-4e8e-bfdc-56544580c6df div.sk-container {display: inline-block;position: relative;}</style><div id=\"sk-168f4d4c-176c-4e8e-bfdc-56544580c6df\" class\"sk-top-container\"><div class=\"sk-container\"><div class=\"sk-item sk-dashed-wrapped\"><div class=\"sk-label-container\"><div class=\"sk-label sk-toggleable\"><input class=\"sk-toggleable__control sk-hidden--visually\" id=\"6216d7c1-baed-4dc4-8fe2-a1cec5f7a3bd\" type=\"checkbox\" ><label class=\"sk-toggleable__label\" for=\"6216d7c1-baed-4dc4-8fe2-a1cec5f7a3bd\">Pipeline</label><div class=\"sk-toggleable__content\"><pre>Pipeline(steps=[('imputer', SimpleImputer(strategy='median')),\n",
       "                ('std_scaler', StandardScaler()),\n",
       "                ('rf_clf', DecisionTreeClassifier(random_state=42))])</pre></div></div></div><div class=\"sk-serial\"><div class=\"sk-item\"><div class=\"sk-estimator sk-toggleable\"><input class=\"sk-toggleable__control sk-hidden--visually\" id=\"d80ba01b-3e9b-4db4-9cf5-c98d4c843756\" type=\"checkbox\" ><label class=\"sk-toggleable__label\" for=\"d80ba01b-3e9b-4db4-9cf5-c98d4c843756\">SimpleImputer</label><div class=\"sk-toggleable__content\"><pre>SimpleImputer(strategy='median')</pre></div></div></div><div class=\"sk-item\"><div class=\"sk-estimator sk-toggleable\"><input class=\"sk-toggleable__control sk-hidden--visually\" id=\"d5f9d197-f038-499e-9082-466688440116\" type=\"checkbox\" ><label class=\"sk-toggleable__label\" for=\"d5f9d197-f038-499e-9082-466688440116\">StandardScaler</label><div class=\"sk-toggleable__content\"><pre>StandardScaler()</pre></div></div></div><div class=\"sk-item\"><div class=\"sk-estimator sk-toggleable\"><input class=\"sk-toggleable__control sk-hidden--visually\" id=\"55410ab6-97a5-49d2-af92-17664942a488\" type=\"checkbox\" ><label class=\"sk-toggleable__label\" for=\"55410ab6-97a5-49d2-af92-17664942a488\">DecisionTreeClassifier</label><div class=\"sk-toggleable__content\"><pre>DecisionTreeClassifier(random_state=42)</pre></div></div></div></div></div></div></div>"
>>>>>>> upstream/master
      ],
      "text/plain": [
       "Pipeline(steps=[('imputer', SimpleImputer(strategy='median')),\n",
       "                ('std_scaler', StandardScaler()),\n",
       "                ('rf_clf', DecisionTreeClassifier(random_state=42))])"
      ]
     },
<<<<<<< HEAD
     "execution_count": 161,
=======
     "execution_count": 22,
>>>>>>> upstream/master
     "metadata": {},
     "output_type": "execute_result"
    }
   ],
   "source": [
    "# Can define outside the cross validation\n",
    "steps = [('imputer', SimpleImputer(strategy=\"median\")), ('std_scaler', StandardScaler()),\n",
    "        ('rf_clf', DecisionTreeClassifier(random_state=42))]\n",
    "\n",
    "model_pipe = Pipeline(steps)\n",
    "model_pipe"
   ]
  },
  {
   "cell_type": "markdown",
   "metadata": {
    "slideshow": {
     "slide_type": "slide"
    }
   },
   "source": [
    "Second advantage: no keeping track of multiple variables.\n",
    "- single .fit() and .predict()"
   ]
  },
  {
   "cell_type": "code",
<<<<<<< HEAD
   "execution_count": 162,
=======
   "execution_count": 23,
   "id": "f5ff6372",
>>>>>>> upstream/master
   "metadata": {
    "cell_style": "center",
    "slideshow": {
     "slide_type": "subslide"
    }
   },
   "outputs": [],
   "source": [
    "def cross_validation_pip(X_train, y_train, estimator, num_split = 10):\n",
    "    \n",
    "    X_train = X_train.values\n",
    "    y_train = y_train.values\n",
    "    \n",
    "    score_train_list = []\n",
    "    score_val_list = []\n",
    "    \n",
    "    for train_index, valid_index in KFold(n_splits = num_split).split(X_train):\n",
    "        \n",
    "        # train and validation splitting \n",
    "        X_train_fold, X_val_fold = X_train[train_index], X_train[valid_index]\n",
    "        y_train_fold, y_val_fold = y_train[train_index], y_train[valid_index]\n",
    "\n",
    "        estimator.fit(X_train_fold, y_train_fold)\n",
    "        \n",
    "        # now how did we do?\n",
    "        accuracy_train = estimator.score(X_train_fold, y_train_fold)\n",
    "        accuracy_val = estimator.score(X_val_fold, y_val_fold)\n",
    "        score_val_list.append(accuracy_val)\n",
    "        score_train_list.append(accuracy_train)\n",
    "    \n",
    "    return {'train': np.mean(score_train_list), 'validation': np.mean(score_val_list)}"
   ]
  },
  {
   "cell_type": "code",
<<<<<<< HEAD
   "execution_count": 163,
=======
   "execution_count": 24,
   "id": "008845ed",
>>>>>>> upstream/master
   "metadata": {
    "slideshow": {
     "slide_type": "subslide"
    }
   },
   "outputs": [
    {
     "data": {
      "text/plain": [
       "{'train': 0.943119755911518, 'validation': 0.708974358974359}"
      ]
     },
<<<<<<< HEAD
     "execution_count": 163,
=======
     "execution_count": 24,
>>>>>>> upstream/master
     "metadata": {},
     "output_type": "execute_result"
    }
   ],
   "source": [
    "cross_validation_pip(X_train, y_train, pipeline)"
   ]
  },
  {
   "cell_type": "markdown",
   "metadata": {
    "cell_style": "center",
    "slideshow": {
     "slide_type": "slide"
    }
   },
   "source": [
    "Compare manual cross-validation **without** pipeline:"
   ]
  },
  {
   "cell_type": "code",
<<<<<<< HEAD
   "execution_count": 164,
=======
   "execution_count": 26,
   "id": "7888b394",
>>>>>>> upstream/master
   "metadata": {
    "slideshow": {
     "slide_type": "subslide"
    }
   },
   "outputs": [],
   "source": [
    "def cross_validation(X_train, y_train, estimator, num_split = 10):\n",
    "    \n",
    "    X_train = X_train.values\n",
    "    y_train = y_train.values\n",
    "    \n",
    "    score_train_list = []\n",
    "    score_val_list = []\n",
    "    \n",
    "    for train_index, valid_index in KFold(n_splits = num_split).split(X_train):\n",
    "\n",
    "\n",
    "        # train and validation splitting \n",
    "        X_train_fold, X_val_fold = X_train[train_index], X_train[valid_index]\n",
    "        y_train_fold, y_val_fold = y_train[train_index], y_train[valid_index]\n",
    "        \n",
    "        # impute NaNs with medians\n",
    "        \n",
    "        simple_imp = SimpleImputer(strategy=\"median\")\n",
    "        X_tf_imp = simple_imp.fit_transform(X_train_fold)\n",
    "        X_vld_imp = simple_imp.transform(X_val_fold)\n",
    "\n",
    "        #create/fit the Standard scaler on the train fold\n",
    "        scaler = StandardScaler()\n",
    "        X_tf_sc = scaler.fit_transform(X_tf_imp)\n",
    "        \n",
    "        # transform validation fold\n",
    "        X_vld_sc = scaler.transform(X_vld_imp)\n",
    "\n",
    "        estimator.fit(X_tf_sc, y_train_fold)\n",
    "        \n",
    "        # now how did we do?\n",
    "        accuracy_train = estimator.score(X_tf_sc, y_train_fold)\n",
    "        accuracy_val = estimator.score(X_vld_sc, y_val_fold)\n",
    "        score_val_list.append(accuracy_val)\n",
    "        score_train_list.append(accuracy_train)\n",
    "    \n",
    "    return {'train': np.mean(score_train_list), 'validation': np.mean(score_val_list)}"
   ]
  },
  {
   "cell_type": "code",
<<<<<<< HEAD
   "execution_count": 165,
=======
   "execution_count": 27,
   "id": "e433e80e",
>>>>>>> upstream/master
   "metadata": {
    "slideshow": {
     "slide_type": "subslide"
    }
   },
   "outputs": [
    {
     "data": {
      "text/plain": [
       "{'train': 0.943119755911518, 'validation': 0.708974358974359}"
      ]
     },
<<<<<<< HEAD
     "execution_count": 165,
=======
     "execution_count": 27,
>>>>>>> upstream/master
     "metadata": {},
     "output_type": "execute_result"
    }
   ],
   "source": [
    "dec_tree = DecisionTreeClassifier(random_state=42)\n",
    "cross_validation(X_train, y_train, dec_tree)"
   ]
  },
  {
   "cell_type": "markdown",
   "metadata": {
    "cell_style": "split",
    "slideshow": {
     "slide_type": "slide"
    }
   },
   "source": [
    "Same result as pipeline but:\n",
    "- Much less customizable/plug and play\n",
    "- Have to be careful and keep track of variables.\n",
    "- Changing/adding steps requires changing code **carefully** in function\n",
    "- Track changes and follow order of transformations:\n",
    "    - train set\n",
    "    - test set"
   ]
  },
  {
   "cell_type": "markdown",
   "metadata": {
    "cell_style": "split",
    "slideshow": {
     "slide_type": "fragment"
    }
   },
   "source": [
    "<img src = \"Images/pipeline_vs_manual.png\" width = 600  /> <center>Pipeline: customizable box. <i>Takes care of the details.</i></center>"
   ]
  },
  {
   "cell_type": "markdown",
   "metadata": {
    "heading_collapsed": true,
    "hidden": true,
    "slideshow": {
     "slide_type": "slide"
    }
   },
   "source": [
    "#### Swapping in Different Models & Transformers"
   ]
  },
  {
   "cell_type": "markdown",
   "metadata": {
    "slideshow": {
     "slide_type": "slide"
    }
   },
   "source": [
    "Pipeline object has the steps as an attribute:\n",
    "- Python list\n",
    "- can modify pipeline progression by modifying attribute."
   ]
  },
  {
   "cell_type": "code",
<<<<<<< HEAD
   "execution_count": 166,
=======
   "execution_count": 35,
   "id": "71ff1c3b",
>>>>>>> upstream/master
   "metadata": {
    "cell_style": "split",
    "slideshow": {
     "slide_type": "subslide"
    }
   },
   "outputs": [
    {
     "data": {
      "text/plain": [
       "[('imputer', SimpleImputer(strategy='median')),\n",
       " ('norm', Normalizer()),\n",
       " ['knn', KNeighborsClassifier()]]"
      ]
     },
<<<<<<< HEAD
     "execution_count": 166,
=======
     "execution_count": 35,
>>>>>>> upstream/master
     "metadata": {},
     "output_type": "execute_result"
    }
   ],
   "source": [
    "model_pipe.steps"
   ]
  },
  {
   "cell_type": "markdown",
   "metadata": {
    "cell_style": "split",
    "slideshow": {
     "slide_type": "fragment"
    }
   },
   "source": [
    "Change model to KNN:"
   ]
  },
  {
   "cell_type": "code",
<<<<<<< HEAD
   "execution_count": 167,
=======
   "execution_count": 36,
   "id": "249920a2",
>>>>>>> upstream/master
   "metadata": {
    "cell_style": "split",
    "slideshow": {
     "slide_type": "fragment"
    }
   },
   "outputs": [],
   "source": [
    "# pop the decision tree\n",
    "model_pipe.steps.pop(-1)\n",
    "# insert knn\n",
    "model_pipe.steps.append(\n",
    "['knn', KNeighborsClassifier(n_neighbors = 5)])"
   ]
  },
  {
   "cell_type": "code",
<<<<<<< HEAD
   "execution_count": 168,
=======
   "execution_count": 41,
   "id": "b5ed5dd8",
>>>>>>> upstream/master
   "metadata": {
    "cell_style": "split",
    "scrolled": true,
    "slideshow": {
     "slide_type": "fragment"
    }
   },
   "outputs": [
    {
     "data": {
      "text/html": [
<<<<<<< HEAD
       "<style>div.sk-top-container {color: black;background-color: white;}div.sk-toggleable {background-color: white;}label.sk-toggleable__label {cursor: pointer;display: block;width: 100%;margin-bottom: 0;padding: 0.2em 0.3em;box-sizing: border-box;text-align: center;}div.sk-toggleable__content {max-height: 0;max-width: 0;overflow: hidden;text-align: left;background-color: #f0f8ff;}div.sk-toggleable__content pre {margin: 0.2em;color: black;border-radius: 0.25em;background-color: #f0f8ff;}input.sk-toggleable__control:checked~div.sk-toggleable__content {max-height: 200px;max-width: 100%;overflow: auto;}div.sk-estimator input.sk-toggleable__control:checked~label.sk-toggleable__label {background-color: #d4ebff;}div.sk-label input.sk-toggleable__control:checked~label.sk-toggleable__label {background-color: #d4ebff;}input.sk-hidden--visually {border: 0;clip: rect(1px 1px 1px 1px);clip: rect(1px, 1px, 1px, 1px);height: 1px;margin: -1px;overflow: hidden;padding: 0;position: absolute;width: 1px;}div.sk-estimator {font-family: monospace;background-color: #f0f8ff;margin: 0.25em 0.25em;border: 1px dotted black;border-radius: 0.25em;box-sizing: border-box;}div.sk-estimator:hover {background-color: #d4ebff;}div.sk-parallel-item::after {content: \"\";width: 100%;border-bottom: 1px solid gray;flex-grow: 1;}div.sk-label:hover label.sk-toggleable__label {background-color: #d4ebff;}div.sk-serial::before {content: \"\";position: absolute;border-left: 1px solid gray;box-sizing: border-box;top: 2em;bottom: 0;left: 50%;}div.sk-serial {display: flex;flex-direction: column;align-items: center;background-color: white;}div.sk-item {z-index: 1;}div.sk-parallel {display: flex;align-items: stretch;justify-content: center;background-color: white;}div.sk-parallel-item {display: flex;flex-direction: column;position: relative;background-color: white;}div.sk-parallel-item:first-child::after {align-self: flex-end;width: 50%;}div.sk-parallel-item:last-child::after {align-self: flex-start;width: 50%;}div.sk-parallel-item:only-child::after {width: 0;}div.sk-dashed-wrapped {border: 1px dashed gray;margin: 0.2em;box-sizing: border-box;padding-bottom: 0.1em;background-color: white;position: relative;}div.sk-label label {font-family: monospace;font-weight: bold;background-color: white;display: inline-block;line-height: 1.2em;}div.sk-label-container {position: relative;z-index: 2;text-align: center;}div.sk-container {display: inline-block;position: relative;}</style><div class=\"sk-top-container\"><div class=\"sk-container\"><div class=\"sk-item sk-dashed-wrapped\"><div class=\"sk-label-container\"><div class=\"sk-label sk-toggleable\"><input class=\"sk-toggleable__control sk-hidden--visually\" id=\"8ddb1332-21d3-4e04-9481-895f0a7b685f\" type=\"checkbox\" ><label class=\"sk-toggleable__label\" for=\"8ddb1332-21d3-4e04-9481-895f0a7b685f\">Pipeline</label><div class=\"sk-toggleable__content\"><pre>Pipeline(steps=[('imputer', SimpleImputer(strategy='median')),\n",
       "                ('std_scaler', StandardScaler()),\n",
       "                ['knn', KNeighborsClassifier()]])</pre></div></div></div><div class=\"sk-serial\"><div class=\"sk-item\"><div class=\"sk-estimator sk-toggleable\"><input class=\"sk-toggleable__control sk-hidden--visually\" id=\"645797b2-8215-4396-a3c1-750e6418f8c4\" type=\"checkbox\" ><label class=\"sk-toggleable__label\" for=\"645797b2-8215-4396-a3c1-750e6418f8c4\">SimpleImputer</label><div class=\"sk-toggleable__content\"><pre>SimpleImputer(strategy='median')</pre></div></div></div><div class=\"sk-item\"><div class=\"sk-estimator sk-toggleable\"><input class=\"sk-toggleable__control sk-hidden--visually\" id=\"d4fc34f8-2b63-4e54-a621-7c9b4c9aaaa3\" type=\"checkbox\" ><label class=\"sk-toggleable__label\" for=\"d4fc34f8-2b63-4e54-a621-7c9b4c9aaaa3\">StandardScaler</label><div class=\"sk-toggleable__content\"><pre>StandardScaler()</pre></div></div></div><div class=\"sk-item\"><div class=\"sk-estimator sk-toggleable\"><input class=\"sk-toggleable__control sk-hidden--visually\" id=\"66b17b8e-7877-40ad-827a-f57edfdfd50d\" type=\"checkbox\" ><label class=\"sk-toggleable__label\" for=\"66b17b8e-7877-40ad-827a-f57edfdfd50d\">KNeighborsClassifier</label><div class=\"sk-toggleable__content\"><pre>KNeighborsClassifier()</pre></div></div></div></div></div></div></div>"
=======
       "<style>#sk-bac6c78d-8ff7-46b6-87c7-ea0774aeff21 {color: black;background-color: white;}#sk-bac6c78d-8ff7-46b6-87c7-ea0774aeff21 pre{padding: 0;}#sk-bac6c78d-8ff7-46b6-87c7-ea0774aeff21 div.sk-toggleable {background-color: white;}#sk-bac6c78d-8ff7-46b6-87c7-ea0774aeff21 label.sk-toggleable__label {cursor: pointer;display: block;width: 100%;margin-bottom: 0;padding: 0.2em 0.3em;box-sizing: border-box;text-align: center;}#sk-bac6c78d-8ff7-46b6-87c7-ea0774aeff21 div.sk-toggleable__content {max-height: 0;max-width: 0;overflow: hidden;text-align: left;background-color: #f0f8ff;}#sk-bac6c78d-8ff7-46b6-87c7-ea0774aeff21 div.sk-toggleable__content pre {margin: 0.2em;color: black;border-radius: 0.25em;background-color: #f0f8ff;}#sk-bac6c78d-8ff7-46b6-87c7-ea0774aeff21 input.sk-toggleable__control:checked~div.sk-toggleable__content {max-height: 200px;max-width: 100%;overflow: auto;}#sk-bac6c78d-8ff7-46b6-87c7-ea0774aeff21 div.sk-estimator input.sk-toggleable__control:checked~label.sk-toggleable__label {background-color: #d4ebff;}#sk-bac6c78d-8ff7-46b6-87c7-ea0774aeff21 div.sk-label input.sk-toggleable__control:checked~label.sk-toggleable__label {background-color: #d4ebff;}#sk-bac6c78d-8ff7-46b6-87c7-ea0774aeff21 input.sk-hidden--visually {border: 0;clip: rect(1px 1px 1px 1px);clip: rect(1px, 1px, 1px, 1px);height: 1px;margin: -1px;overflow: hidden;padding: 0;position: absolute;width: 1px;}#sk-bac6c78d-8ff7-46b6-87c7-ea0774aeff21 div.sk-estimator {font-family: monospace;background-color: #f0f8ff;margin: 0.25em 0.25em;border: 1px dotted black;border-radius: 0.25em;box-sizing: border-box;}#sk-bac6c78d-8ff7-46b6-87c7-ea0774aeff21 div.sk-estimator:hover {background-color: #d4ebff;}#sk-bac6c78d-8ff7-46b6-87c7-ea0774aeff21 div.sk-parallel-item::after {content: \"\";width: 100%;border-bottom: 1px solid gray;flex-grow: 1;}#sk-bac6c78d-8ff7-46b6-87c7-ea0774aeff21 div.sk-label:hover label.sk-toggleable__label {background-color: #d4ebff;}#sk-bac6c78d-8ff7-46b6-87c7-ea0774aeff21 div.sk-serial::before {content: \"\";position: absolute;border-left: 1px solid gray;box-sizing: border-box;top: 2em;bottom: 0;left: 50%;}#sk-bac6c78d-8ff7-46b6-87c7-ea0774aeff21 div.sk-serial {display: flex;flex-direction: column;align-items: center;background-color: white;}#sk-bac6c78d-8ff7-46b6-87c7-ea0774aeff21 div.sk-item {z-index: 1;}#sk-bac6c78d-8ff7-46b6-87c7-ea0774aeff21 div.sk-parallel {display: flex;align-items: stretch;justify-content: center;background-color: white;}#sk-bac6c78d-8ff7-46b6-87c7-ea0774aeff21 div.sk-parallel-item {display: flex;flex-direction: column;position: relative;background-color: white;}#sk-bac6c78d-8ff7-46b6-87c7-ea0774aeff21 div.sk-parallel-item:first-child::after {align-self: flex-end;width: 50%;}#sk-bac6c78d-8ff7-46b6-87c7-ea0774aeff21 div.sk-parallel-item:last-child::after {align-self: flex-start;width: 50%;}#sk-bac6c78d-8ff7-46b6-87c7-ea0774aeff21 div.sk-parallel-item:only-child::after {width: 0;}#sk-bac6c78d-8ff7-46b6-87c7-ea0774aeff21 div.sk-dashed-wrapped {border: 1px dashed gray;margin: 0.2em;box-sizing: border-box;padding-bottom: 0.1em;background-color: white;position: relative;}#sk-bac6c78d-8ff7-46b6-87c7-ea0774aeff21 div.sk-label label {font-family: monospace;font-weight: bold;background-color: white;display: inline-block;line-height: 1.2em;}#sk-bac6c78d-8ff7-46b6-87c7-ea0774aeff21 div.sk-label-container {position: relative;z-index: 2;text-align: center;}#sk-bac6c78d-8ff7-46b6-87c7-ea0774aeff21 div.sk-container {display: inline-block;position: relative;}</style><div id=\"sk-bac6c78d-8ff7-46b6-87c7-ea0774aeff21\" class\"sk-top-container\"><div class=\"sk-container\"><div class=\"sk-item\"><div class=\"sk-estimator sk-toggleable\"><input class=\"sk-toggleable__control sk-hidden--visually\" id=\"6920b274-0aa7-49b3-85de-f2357792b36c\" type=\"checkbox\" checked><label class=\"sk-toggleable__label\" for=\"6920b274-0aa7-49b3-85de-f2357792b36c\">KNeighborsClassifier</label><div class=\"sk-toggleable__content\"><pre>KNeighborsClassifier()</pre></div></div></div></div></div>"
>>>>>>> upstream/master
      ],
      "text/plain": [
       "KNeighborsClassifier()"
      ]
     },
<<<<<<< HEAD
     "execution_count": 168,
=======
     "execution_count": 41,
>>>>>>> upstream/master
     "metadata": {},
     "output_type": "execute_result"
    }
   ],
   "source": [
    "model_pipe['knn']"
   ]
  },
  {
   "cell_type": "markdown",
   "metadata": {
    "cell_style": "split",
    "slideshow": {
     "slide_type": "fragment"
    }
   },
   "source": [
    "Can change transformers in the middle:"
   ]
  },
  {
   "cell_type": "code",
<<<<<<< HEAD
   "execution_count": 169,
=======
   "execution_count": 32,
   "id": "4c0b34ed",
>>>>>>> upstream/master
   "metadata": {
    "cell_style": "split",
    "slideshow": {
     "slide_type": "fragment"
    }
   },
   "outputs": [
    {
     "data": {
      "text/html": [
<<<<<<< HEAD
       "<style>div.sk-top-container {color: black;background-color: white;}div.sk-toggleable {background-color: white;}label.sk-toggleable__label {cursor: pointer;display: block;width: 100%;margin-bottom: 0;padding: 0.2em 0.3em;box-sizing: border-box;text-align: center;}div.sk-toggleable__content {max-height: 0;max-width: 0;overflow: hidden;text-align: left;background-color: #f0f8ff;}div.sk-toggleable__content pre {margin: 0.2em;color: black;border-radius: 0.25em;background-color: #f0f8ff;}input.sk-toggleable__control:checked~div.sk-toggleable__content {max-height: 200px;max-width: 100%;overflow: auto;}div.sk-estimator input.sk-toggleable__control:checked~label.sk-toggleable__label {background-color: #d4ebff;}div.sk-label input.sk-toggleable__control:checked~label.sk-toggleable__label {background-color: #d4ebff;}input.sk-hidden--visually {border: 0;clip: rect(1px 1px 1px 1px);clip: rect(1px, 1px, 1px, 1px);height: 1px;margin: -1px;overflow: hidden;padding: 0;position: absolute;width: 1px;}div.sk-estimator {font-family: monospace;background-color: #f0f8ff;margin: 0.25em 0.25em;border: 1px dotted black;border-radius: 0.25em;box-sizing: border-box;}div.sk-estimator:hover {background-color: #d4ebff;}div.sk-parallel-item::after {content: \"\";width: 100%;border-bottom: 1px solid gray;flex-grow: 1;}div.sk-label:hover label.sk-toggleable__label {background-color: #d4ebff;}div.sk-serial::before {content: \"\";position: absolute;border-left: 1px solid gray;box-sizing: border-box;top: 2em;bottom: 0;left: 50%;}div.sk-serial {display: flex;flex-direction: column;align-items: center;background-color: white;}div.sk-item {z-index: 1;}div.sk-parallel {display: flex;align-items: stretch;justify-content: center;background-color: white;}div.sk-parallel-item {display: flex;flex-direction: column;position: relative;background-color: white;}div.sk-parallel-item:first-child::after {align-self: flex-end;width: 50%;}div.sk-parallel-item:last-child::after {align-self: flex-start;width: 50%;}div.sk-parallel-item:only-child::after {width: 0;}div.sk-dashed-wrapped {border: 1px dashed gray;margin: 0.2em;box-sizing: border-box;padding-bottom: 0.1em;background-color: white;position: relative;}div.sk-label label {font-family: monospace;font-weight: bold;background-color: white;display: inline-block;line-height: 1.2em;}div.sk-label-container {position: relative;z-index: 2;text-align: center;}div.sk-container {display: inline-block;position: relative;}</style><div class=\"sk-top-container\"><div class=\"sk-container\"><div class=\"sk-item sk-dashed-wrapped\"><div class=\"sk-label-container\"><div class=\"sk-label sk-toggleable\"><input class=\"sk-toggleable__control sk-hidden--visually\" id=\"bcfa52a4-de5d-41ce-8aab-d5afc4289377\" type=\"checkbox\" ><label class=\"sk-toggleable__label\" for=\"bcfa52a4-de5d-41ce-8aab-d5afc4289377\">Pipeline</label><div class=\"sk-toggleable__content\"><pre>Pipeline(steps=[('imputer', SimpleImputer(strategy='median')),\n",
       "                ('norm', Normalizer()), ['knn', KNeighborsClassifier()]])</pre></div></div></div><div class=\"sk-serial\"><div class=\"sk-item\"><div class=\"sk-estimator sk-toggleable\"><input class=\"sk-toggleable__control sk-hidden--visually\" id=\"e542783f-1860-4a0b-ab3f-5aaae4f38783\" type=\"checkbox\" ><label class=\"sk-toggleable__label\" for=\"e542783f-1860-4a0b-ab3f-5aaae4f38783\">SimpleImputer</label><div class=\"sk-toggleable__content\"><pre>SimpleImputer(strategy='median')</pre></div></div></div><div class=\"sk-item\"><div class=\"sk-estimator sk-toggleable\"><input class=\"sk-toggleable__control sk-hidden--visually\" id=\"0b99449c-f3ed-4583-8d91-a888dab2de36\" type=\"checkbox\" ><label class=\"sk-toggleable__label\" for=\"0b99449c-f3ed-4583-8d91-a888dab2de36\">Normalizer</label><div class=\"sk-toggleable__content\"><pre>Normalizer()</pre></div></div></div><div class=\"sk-item\"><div class=\"sk-estimator sk-toggleable\"><input class=\"sk-toggleable__control sk-hidden--visually\" id=\"e8a9b290-2bf4-4569-ab4b-6c3bd650d3ad\" type=\"checkbox\" ><label class=\"sk-toggleable__label\" for=\"e8a9b290-2bf4-4569-ab4b-6c3bd650d3ad\">KNeighborsClassifier</label><div class=\"sk-toggleable__content\"><pre>KNeighborsClassifier()</pre></div></div></div></div></div></div></div>"
=======
       "<style>#sk-80362a8c-5b8b-4687-b9e1-143792c38872 {color: black;background-color: white;}#sk-80362a8c-5b8b-4687-b9e1-143792c38872 pre{padding: 0;}#sk-80362a8c-5b8b-4687-b9e1-143792c38872 div.sk-toggleable {background-color: white;}#sk-80362a8c-5b8b-4687-b9e1-143792c38872 label.sk-toggleable__label {cursor: pointer;display: block;width: 100%;margin-bottom: 0;padding: 0.2em 0.3em;box-sizing: border-box;text-align: center;}#sk-80362a8c-5b8b-4687-b9e1-143792c38872 div.sk-toggleable__content {max-height: 0;max-width: 0;overflow: hidden;text-align: left;background-color: #f0f8ff;}#sk-80362a8c-5b8b-4687-b9e1-143792c38872 div.sk-toggleable__content pre {margin: 0.2em;color: black;border-radius: 0.25em;background-color: #f0f8ff;}#sk-80362a8c-5b8b-4687-b9e1-143792c38872 input.sk-toggleable__control:checked~div.sk-toggleable__content {max-height: 200px;max-width: 100%;overflow: auto;}#sk-80362a8c-5b8b-4687-b9e1-143792c38872 div.sk-estimator input.sk-toggleable__control:checked~label.sk-toggleable__label {background-color: #d4ebff;}#sk-80362a8c-5b8b-4687-b9e1-143792c38872 div.sk-label input.sk-toggleable__control:checked~label.sk-toggleable__label {background-color: #d4ebff;}#sk-80362a8c-5b8b-4687-b9e1-143792c38872 input.sk-hidden--visually {border: 0;clip: rect(1px 1px 1px 1px);clip: rect(1px, 1px, 1px, 1px);height: 1px;margin: -1px;overflow: hidden;padding: 0;position: absolute;width: 1px;}#sk-80362a8c-5b8b-4687-b9e1-143792c38872 div.sk-estimator {font-family: monospace;background-color: #f0f8ff;margin: 0.25em 0.25em;border: 1px dotted black;border-radius: 0.25em;box-sizing: border-box;}#sk-80362a8c-5b8b-4687-b9e1-143792c38872 div.sk-estimator:hover {background-color: #d4ebff;}#sk-80362a8c-5b8b-4687-b9e1-143792c38872 div.sk-parallel-item::after {content: \"\";width: 100%;border-bottom: 1px solid gray;flex-grow: 1;}#sk-80362a8c-5b8b-4687-b9e1-143792c38872 div.sk-label:hover label.sk-toggleable__label {background-color: #d4ebff;}#sk-80362a8c-5b8b-4687-b9e1-143792c38872 div.sk-serial::before {content: \"\";position: absolute;border-left: 1px solid gray;box-sizing: border-box;top: 2em;bottom: 0;left: 50%;}#sk-80362a8c-5b8b-4687-b9e1-143792c38872 div.sk-serial {display: flex;flex-direction: column;align-items: center;background-color: white;}#sk-80362a8c-5b8b-4687-b9e1-143792c38872 div.sk-item {z-index: 1;}#sk-80362a8c-5b8b-4687-b9e1-143792c38872 div.sk-parallel {display: flex;align-items: stretch;justify-content: center;background-color: white;}#sk-80362a8c-5b8b-4687-b9e1-143792c38872 div.sk-parallel-item {display: flex;flex-direction: column;position: relative;background-color: white;}#sk-80362a8c-5b8b-4687-b9e1-143792c38872 div.sk-parallel-item:first-child::after {align-self: flex-end;width: 50%;}#sk-80362a8c-5b8b-4687-b9e1-143792c38872 div.sk-parallel-item:last-child::after {align-self: flex-start;width: 50%;}#sk-80362a8c-5b8b-4687-b9e1-143792c38872 div.sk-parallel-item:only-child::after {width: 0;}#sk-80362a8c-5b8b-4687-b9e1-143792c38872 div.sk-dashed-wrapped {border: 1px dashed gray;margin: 0.2em;box-sizing: border-box;padding-bottom: 0.1em;background-color: white;position: relative;}#sk-80362a8c-5b8b-4687-b9e1-143792c38872 div.sk-label label {font-family: monospace;font-weight: bold;background-color: white;display: inline-block;line-height: 1.2em;}#sk-80362a8c-5b8b-4687-b9e1-143792c38872 div.sk-label-container {position: relative;z-index: 2;text-align: center;}#sk-80362a8c-5b8b-4687-b9e1-143792c38872 div.sk-container {display: inline-block;position: relative;}</style><div id=\"sk-80362a8c-5b8b-4687-b9e1-143792c38872\" class\"sk-top-container\"><div class=\"sk-container\"><div class=\"sk-item sk-dashed-wrapped\"><div class=\"sk-label-container\"><div class=\"sk-label sk-toggleable\"><input class=\"sk-toggleable__control sk-hidden--visually\" id=\"3a312e00-da46-4243-ad1c-a5936ed7e2b2\" type=\"checkbox\" ><label class=\"sk-toggleable__label\" for=\"3a312e00-da46-4243-ad1c-a5936ed7e2b2\">Pipeline</label><div class=\"sk-toggleable__content\"><pre>Pipeline(steps=[('imputer', SimpleImputer(strategy='median')),\n",
       "                ('norm', Normalizer()), ['knn', KNeighborsClassifier()]])</pre></div></div></div><div class=\"sk-serial\"><div class=\"sk-item\"><div class=\"sk-estimator sk-toggleable\"><input class=\"sk-toggleable__control sk-hidden--visually\" id=\"f4d750fe-aaa2-480b-94a8-8b51e28909d1\" type=\"checkbox\" ><label class=\"sk-toggleable__label\" for=\"f4d750fe-aaa2-480b-94a8-8b51e28909d1\">SimpleImputer</label><div class=\"sk-toggleable__content\"><pre>SimpleImputer(strategy='median')</pre></div></div></div><div class=\"sk-item\"><div class=\"sk-estimator sk-toggleable\"><input class=\"sk-toggleable__control sk-hidden--visually\" id=\"3724c93d-bc44-4fbb-a9fe-60bc0db940ad\" type=\"checkbox\" ><label class=\"sk-toggleable__label\" for=\"3724c93d-bc44-4fbb-a9fe-60bc0db940ad\">Normalizer</label><div class=\"sk-toggleable__content\"><pre>Normalizer()</pre></div></div></div><div class=\"sk-item\"><div class=\"sk-estimator sk-toggleable\"><input class=\"sk-toggleable__control sk-hidden--visually\" id=\"6052be67-e8d8-4aa4-ba89-d9c47398a459\" type=\"checkbox\" ><label class=\"sk-toggleable__label\" for=\"6052be67-e8d8-4aa4-ba89-d9c47398a459\">KNeighborsClassifier</label><div class=\"sk-toggleable__content\"><pre>KNeighborsClassifier()</pre></div></div></div></div></div></div></div>"
>>>>>>> upstream/master
      ],
      "text/plain": [
       "Pipeline(steps=[('imputer', SimpleImputer(strategy='median')),\n",
       "                ('norm', Normalizer()), ['knn', KNeighborsClassifier()]])"
      ]
     },
<<<<<<< HEAD
     "execution_count": 169,
=======
     "execution_count": 32,
>>>>>>> upstream/master
     "metadata": {},
     "output_type": "execute_result"
    }
   ],
   "source": [
    "model_pipe.steps[1] = ('norm', Normalizer())\n",
    "model_pipe"
   ]
  },
  {
   "cell_type": "markdown",
   "metadata": {
    "slideshow": {
     "slide_type": "slide"
    }
   },
   "source": [
    "#### Pipelines\n",
    "- Easily plug/play different transformers and models into our workflow"
   ]
  },
  {
   "cell_type": "markdown",
   "metadata": {
    "slideshow": {
     "slide_type": "subslide"
    }
   },
   "source": [
    "#### Pipelines clearly awesome, but:"
   ]
  },
  {
   "cell_type": "markdown",
   "metadata": {
    "slideshow": {
     "slide_type": "fragment"
    }
   },
   "source": [
    "Transformer/model pipeline hyperparameter tuning with cross-validation still pretty manual:\n",
    "\n",
    "Want:\n",
    "- Efficient hyperparameter tuning with minimal code\n",
    "- Leakage prevention\n",
    "- Automatic best model selection and reporting on the CV for each pipeline tried. \n"
   ]
  },
  {
   "cell_type": "markdown",
   "metadata": {
    "slideshow": {
     "slide_type": "slide"
    }
   },
   "source": [
    "#### The CV Grid Search"
   ]
  },
  {
   "cell_type": "markdown",
   "metadata": {
    "cell_style": "split",
    "hidden": true,
    "slideshow": {
     "slide_type": "fragment"
    }
   },
   "source": [
    "Scikit-Learn has a [`GridSearchCV`](https://scikit-learn.org/stable/modules/generated/sklearn.model_selection.GridSearchCV.html) class whose `fit()` method:\n",
    "\n",
    "- takes in a grid of hyperparameters\n",
    "- loops through all of them **in order**\n",
    "- runs cross-validation properly scoring by chosen metric\n"
   ]
  },
  {
   "cell_type": "markdown",
   "metadata": {
    "cell_style": "split",
    "slideshow": {
     "slide_type": "fragment"
    }
   },
   "source": [
    "- Returns all the models fitted\n",
    "- Can easily access best model and its score"
   ]
  },
  {
   "cell_type": "markdown",
   "metadata": {
    "cell_style": "split",
    "slideshow": {
     "slide_type": "fragment"
    }
   },
   "source": [
    "<center><img src = \"Images/hyperparameter_tuning_cv_grid.webp\" width = 400/></center>"
   ]
  },
  {
   "cell_type": "markdown",
   "metadata": {
    "heading_collapsed": true,
    "hidden": true,
    "slideshow": {
     "slide_type": "slide"
    }
   },
   "source": [
    "#### GridSearchCV"
   ]
  },
  {
   "cell_type": "code",
<<<<<<< HEAD
   "execution_count": 170,
=======
   "execution_count": 42,
   "id": "5b5ec9f4",
>>>>>>> upstream/master
   "metadata": {
    "cell_style": "center",
    "slideshow": {
     "slide_type": "subslide"
    }
   },
   "outputs": [],
   "source": [
    "# let's define a new pipeline object \n",
    "\n",
    "steps = [('imputer', SimpleImputer(strategy=\"median\")), ('std_scaler', StandardScaler()),\n",
    "        ('knn', KNeighborsClassifier())]\n",
    "\n",
    "model_pipe = Pipeline(steps)"
   ]
  },
  {
   "cell_type": "markdown",
   "metadata": {
    "cell_style": "split",
    "slideshow": {
     "slide_type": "fragment"
    }
   },
   "source": [
    "CV takes in a grid dictionary:\n",
    "- with pipeline: key must follow a specific format\n",
    "- \"pipelinename__hyperparameter\""
   ]
  },
  {
   "cell_type": "markdown",
   "metadata": {
    "cell_style": "split",
    "slideshow": {
     "slide_type": "fragment"
    }
   },
   "source": [
    "With pipeline:\n",
    "- Can change hyperparameters of model\n",
    "- **Also** can change hyperparameters of transformers."
   ]
  },
  {
   "cell_type": "code",
<<<<<<< HEAD
   "execution_count": 171,
=======
   "execution_count": 43,
   "id": "e5d5f175",
>>>>>>> upstream/master
   "metadata": {
    "ExecuteTime": {
     "end_time": "2021-10-28T03:33:35.802959Z",
     "start_time": "2021-10-28T03:33:35.800647Z"
    },
    "cell_style": "center",
    "hidden": true,
    "slideshow": {
     "slide_type": "fragment"
    }
   },
   "outputs": [],
   "source": [
    "\n",
    "pipe_grid = {'imputer__strategy': [\"mean\", \"median\"],\n",
    "             'knn__n_neighbors': [3, 5, 7, 9, 11, 13, 15, 18],\n",
    "             'knn__p': [1, 2, 3, 4]}\n",
    "\n",
    "# note: default scoring is aaccuracy\n",
    "gs_pipe = GridSearchCV(estimator=model_pipe, \n",
    "                       param_grid=pipe_grid)\n"
   ]
  },
  {
   "cell_type": "code",
<<<<<<< HEAD
   "execution_count": 172,
=======
   "execution_count": 44,
   "id": "f312fddb",
>>>>>>> upstream/master
   "metadata": {
    "ExecuteTime": {
     "end_time": "2021-10-28T03:33:38.433413Z",
     "start_time": "2021-10-28T03:33:38.076112Z"
    },
    "hidden": true,
    "slideshow": {
     "slide_type": "subslide"
    }
   },
   "outputs": [],
   "source": [
    "gs_pipe.fit(X_train, y_train);"
   ]
  },
  {
   "cell_type": "code",
<<<<<<< HEAD
   "execution_count": 173,
=======
   "execution_count": 45,
   "id": "37acf96b",
>>>>>>> upstream/master
   "metadata": {
    "ExecuteTime": {
     "end_time": "2021-10-28T03:33:38.438408Z",
     "start_time": "2021-10-28T03:33:38.435309Z"
    },
    "cell_style": "center",
    "hidden": true,
    "slideshow": {
     "slide_type": "slide"
    }
   },
   "outputs": [
    {
     "data": {
      "text/plain": [
       "{'imputer__strategy': 'mean', 'knn__n_neighbors': 18, 'knn__p': 1}"
      ]
     },
<<<<<<< HEAD
     "execution_count": 173,
=======
     "execution_count": 45,
>>>>>>> upstream/master
     "metadata": {},
     "output_type": "execute_result"
    }
   ],
   "source": [
    "gs_pipe.best_params_"
   ]
  },
  {
   "cell_type": "code",
<<<<<<< HEAD
   "execution_count": 174,
=======
   "execution_count": 46,
   "id": "34bad70c",
>>>>>>> upstream/master
   "metadata": {
    "ExecuteTime": {
     "end_time": "2021-10-28T03:33:38.739396Z",
     "start_time": "2021-10-28T03:33:38.736044Z"
    },
    "cell_style": "center",
    "hidden": true,
    "slideshow": {
     "slide_type": "fragment"
    }
   },
   "outputs": [
    {
     "data": {
      "text/plain": [
       "0.811076923076923"
      ]
     },
<<<<<<< HEAD
     "execution_count": 174,
=======
     "execution_count": 46,
>>>>>>> upstream/master
     "metadata": {},
     "output_type": "execute_result"
    }
   ],
   "source": [
    "gs_pipe.best_score_"
   ]
  },
  {
   "cell_type": "markdown",
   "metadata": {
    "slideshow": {
     "slide_type": "slide"
    }
   },
   "source": [
    "Get the best estimator"
   ]
  },
  {
   "cell_type": "code",
<<<<<<< HEAD
   "execution_count": 175,
=======
   "execution_count": 47,
   "id": "be8f0fba",
>>>>>>> upstream/master
   "metadata": {
    "cell_style": "center",
    "slideshow": {
     "slide_type": "fragment"
    }
   },
   "outputs": [
    {
     "data": {
      "text/html": [
<<<<<<< HEAD
       "<style>div.sk-top-container {color: black;background-color: white;}div.sk-toggleable {background-color: white;}label.sk-toggleable__label {cursor: pointer;display: block;width: 100%;margin-bottom: 0;padding: 0.2em 0.3em;box-sizing: border-box;text-align: center;}div.sk-toggleable__content {max-height: 0;max-width: 0;overflow: hidden;text-align: left;background-color: #f0f8ff;}div.sk-toggleable__content pre {margin: 0.2em;color: black;border-radius: 0.25em;background-color: #f0f8ff;}input.sk-toggleable__control:checked~div.sk-toggleable__content {max-height: 200px;max-width: 100%;overflow: auto;}div.sk-estimator input.sk-toggleable__control:checked~label.sk-toggleable__label {background-color: #d4ebff;}div.sk-label input.sk-toggleable__control:checked~label.sk-toggleable__label {background-color: #d4ebff;}input.sk-hidden--visually {border: 0;clip: rect(1px 1px 1px 1px);clip: rect(1px, 1px, 1px, 1px);height: 1px;margin: -1px;overflow: hidden;padding: 0;position: absolute;width: 1px;}div.sk-estimator {font-family: monospace;background-color: #f0f8ff;margin: 0.25em 0.25em;border: 1px dotted black;border-radius: 0.25em;box-sizing: border-box;}div.sk-estimator:hover {background-color: #d4ebff;}div.sk-parallel-item::after {content: \"\";width: 100%;border-bottom: 1px solid gray;flex-grow: 1;}div.sk-label:hover label.sk-toggleable__label {background-color: #d4ebff;}div.sk-serial::before {content: \"\";position: absolute;border-left: 1px solid gray;box-sizing: border-box;top: 2em;bottom: 0;left: 50%;}div.sk-serial {display: flex;flex-direction: column;align-items: center;background-color: white;}div.sk-item {z-index: 1;}div.sk-parallel {display: flex;align-items: stretch;justify-content: center;background-color: white;}div.sk-parallel-item {display: flex;flex-direction: column;position: relative;background-color: white;}div.sk-parallel-item:first-child::after {align-self: flex-end;width: 50%;}div.sk-parallel-item:last-child::after {align-self: flex-start;width: 50%;}div.sk-parallel-item:only-child::after {width: 0;}div.sk-dashed-wrapped {border: 1px dashed gray;margin: 0.2em;box-sizing: border-box;padding-bottom: 0.1em;background-color: white;position: relative;}div.sk-label label {font-family: monospace;font-weight: bold;background-color: white;display: inline-block;line-height: 1.2em;}div.sk-label-container {position: relative;z-index: 2;text-align: center;}div.sk-container {display: inline-block;position: relative;}</style><div class=\"sk-top-container\"><div class=\"sk-container\"><div class=\"sk-item sk-dashed-wrapped\"><div class=\"sk-label-container\"><div class=\"sk-label sk-toggleable\"><input class=\"sk-toggleable__control sk-hidden--visually\" id=\"cec65861-b3a6-4b59-b36e-72908d9f0fcf\" type=\"checkbox\" ><label class=\"sk-toggleable__label\" for=\"cec65861-b3a6-4b59-b36e-72908d9f0fcf\">Pipeline</label><div class=\"sk-toggleable__content\"><pre>Pipeline(steps=[('imputer', SimpleImputer()), ('std_scaler', StandardScaler()),\n",
       "                ('knn', KNeighborsClassifier(n_neighbors=18, p=1))])</pre></div></div></div><div class=\"sk-serial\"><div class=\"sk-item\"><div class=\"sk-estimator sk-toggleable\"><input class=\"sk-toggleable__control sk-hidden--visually\" id=\"81a6c0c5-4fa3-493b-8c76-4202a234c480\" type=\"checkbox\" ><label class=\"sk-toggleable__label\" for=\"81a6c0c5-4fa3-493b-8c76-4202a234c480\">SimpleImputer</label><div class=\"sk-toggleable__content\"><pre>SimpleImputer()</pre></div></div></div><div class=\"sk-item\"><div class=\"sk-estimator sk-toggleable\"><input class=\"sk-toggleable__control sk-hidden--visually\" id=\"d52ce00d-6043-4924-913e-cbab7e97e571\" type=\"checkbox\" ><label class=\"sk-toggleable__label\" for=\"d52ce00d-6043-4924-913e-cbab7e97e571\">StandardScaler</label><div class=\"sk-toggleable__content\"><pre>StandardScaler()</pre></div></div></div><div class=\"sk-item\"><div class=\"sk-estimator sk-toggleable\"><input class=\"sk-toggleable__control sk-hidden--visually\" id=\"e08b82c5-c9ec-4172-8011-73a08af8a52f\" type=\"checkbox\" ><label class=\"sk-toggleable__label\" for=\"e08b82c5-c9ec-4172-8011-73a08af8a52f\">KNeighborsClassifier</label><div class=\"sk-toggleable__content\"><pre>KNeighborsClassifier(n_neighbors=18, p=1)</pre></div></div></div></div></div></div></div>"
=======
       "<style>#sk-677f83d5-5f65-4f9f-a0b4-df7c1c94aa24 {color: black;background-color: white;}#sk-677f83d5-5f65-4f9f-a0b4-df7c1c94aa24 pre{padding: 0;}#sk-677f83d5-5f65-4f9f-a0b4-df7c1c94aa24 div.sk-toggleable {background-color: white;}#sk-677f83d5-5f65-4f9f-a0b4-df7c1c94aa24 label.sk-toggleable__label {cursor: pointer;display: block;width: 100%;margin-bottom: 0;padding: 0.2em 0.3em;box-sizing: border-box;text-align: center;}#sk-677f83d5-5f65-4f9f-a0b4-df7c1c94aa24 div.sk-toggleable__content {max-height: 0;max-width: 0;overflow: hidden;text-align: left;background-color: #f0f8ff;}#sk-677f83d5-5f65-4f9f-a0b4-df7c1c94aa24 div.sk-toggleable__content pre {margin: 0.2em;color: black;border-radius: 0.25em;background-color: #f0f8ff;}#sk-677f83d5-5f65-4f9f-a0b4-df7c1c94aa24 input.sk-toggleable__control:checked~div.sk-toggleable__content {max-height: 200px;max-width: 100%;overflow: auto;}#sk-677f83d5-5f65-4f9f-a0b4-df7c1c94aa24 div.sk-estimator input.sk-toggleable__control:checked~label.sk-toggleable__label {background-color: #d4ebff;}#sk-677f83d5-5f65-4f9f-a0b4-df7c1c94aa24 div.sk-label input.sk-toggleable__control:checked~label.sk-toggleable__label {background-color: #d4ebff;}#sk-677f83d5-5f65-4f9f-a0b4-df7c1c94aa24 input.sk-hidden--visually {border: 0;clip: rect(1px 1px 1px 1px);clip: rect(1px, 1px, 1px, 1px);height: 1px;margin: -1px;overflow: hidden;padding: 0;position: absolute;width: 1px;}#sk-677f83d5-5f65-4f9f-a0b4-df7c1c94aa24 div.sk-estimator {font-family: monospace;background-color: #f0f8ff;margin: 0.25em 0.25em;border: 1px dotted black;border-radius: 0.25em;box-sizing: border-box;}#sk-677f83d5-5f65-4f9f-a0b4-df7c1c94aa24 div.sk-estimator:hover {background-color: #d4ebff;}#sk-677f83d5-5f65-4f9f-a0b4-df7c1c94aa24 div.sk-parallel-item::after {content: \"\";width: 100%;border-bottom: 1px solid gray;flex-grow: 1;}#sk-677f83d5-5f65-4f9f-a0b4-df7c1c94aa24 div.sk-label:hover label.sk-toggleable__label {background-color: #d4ebff;}#sk-677f83d5-5f65-4f9f-a0b4-df7c1c94aa24 div.sk-serial::before {content: \"\";position: absolute;border-left: 1px solid gray;box-sizing: border-box;top: 2em;bottom: 0;left: 50%;}#sk-677f83d5-5f65-4f9f-a0b4-df7c1c94aa24 div.sk-serial {display: flex;flex-direction: column;align-items: center;background-color: white;}#sk-677f83d5-5f65-4f9f-a0b4-df7c1c94aa24 div.sk-item {z-index: 1;}#sk-677f83d5-5f65-4f9f-a0b4-df7c1c94aa24 div.sk-parallel {display: flex;align-items: stretch;justify-content: center;background-color: white;}#sk-677f83d5-5f65-4f9f-a0b4-df7c1c94aa24 div.sk-parallel-item {display: flex;flex-direction: column;position: relative;background-color: white;}#sk-677f83d5-5f65-4f9f-a0b4-df7c1c94aa24 div.sk-parallel-item:first-child::after {align-self: flex-end;width: 50%;}#sk-677f83d5-5f65-4f9f-a0b4-df7c1c94aa24 div.sk-parallel-item:last-child::after {align-self: flex-start;width: 50%;}#sk-677f83d5-5f65-4f9f-a0b4-df7c1c94aa24 div.sk-parallel-item:only-child::after {width: 0;}#sk-677f83d5-5f65-4f9f-a0b4-df7c1c94aa24 div.sk-dashed-wrapped {border: 1px dashed gray;margin: 0.2em;box-sizing: border-box;padding-bottom: 0.1em;background-color: white;position: relative;}#sk-677f83d5-5f65-4f9f-a0b4-df7c1c94aa24 div.sk-label label {font-family: monospace;font-weight: bold;background-color: white;display: inline-block;line-height: 1.2em;}#sk-677f83d5-5f65-4f9f-a0b4-df7c1c94aa24 div.sk-label-container {position: relative;z-index: 2;text-align: center;}#sk-677f83d5-5f65-4f9f-a0b4-df7c1c94aa24 div.sk-container {display: inline-block;position: relative;}</style><div id=\"sk-677f83d5-5f65-4f9f-a0b4-df7c1c94aa24\" class\"sk-top-container\"><div class=\"sk-container\"><div class=\"sk-item sk-dashed-wrapped\"><div class=\"sk-label-container\"><div class=\"sk-label sk-toggleable\"><input class=\"sk-toggleable__control sk-hidden--visually\" id=\"5cdc3bd0-f462-4b3e-a96f-f9148c552b90\" type=\"checkbox\" ><label class=\"sk-toggleable__label\" for=\"5cdc3bd0-f462-4b3e-a96f-f9148c552b90\">Pipeline</label><div class=\"sk-toggleable__content\"><pre>Pipeline(steps=[('imputer', SimpleImputer()), ('std_scaler', StandardScaler()),\n",
       "                ('knn', KNeighborsClassifier(n_neighbors=18, p=1))])</pre></div></div></div><div class=\"sk-serial\"><div class=\"sk-item\"><div class=\"sk-estimator sk-toggleable\"><input class=\"sk-toggleable__control sk-hidden--visually\" id=\"0f75b3b6-2c9f-4814-b6e7-34d7c3dcbef0\" type=\"checkbox\" ><label class=\"sk-toggleable__label\" for=\"0f75b3b6-2c9f-4814-b6e7-34d7c3dcbef0\">SimpleImputer</label><div class=\"sk-toggleable__content\"><pre>SimpleImputer()</pre></div></div></div><div class=\"sk-item\"><div class=\"sk-estimator sk-toggleable\"><input class=\"sk-toggleable__control sk-hidden--visually\" id=\"736b830c-523c-4d6d-bdb5-50026abc75bf\" type=\"checkbox\" ><label class=\"sk-toggleable__label\" for=\"736b830c-523c-4d6d-bdb5-50026abc75bf\">StandardScaler</label><div class=\"sk-toggleable__content\"><pre>StandardScaler()</pre></div></div></div><div class=\"sk-item\"><div class=\"sk-estimator sk-toggleable\"><input class=\"sk-toggleable__control sk-hidden--visually\" id=\"de68a4f3-a299-4153-90a5-98936036ca6c\" type=\"checkbox\" ><label class=\"sk-toggleable__label\" for=\"de68a4f3-a299-4153-90a5-98936036ca6c\">KNeighborsClassifier</label><div class=\"sk-toggleable__content\"><pre>KNeighborsClassifier(n_neighbors=18, p=1)</pre></div></div></div></div></div></div></div>"
>>>>>>> upstream/master
      ],
      "text/plain": [
       "Pipeline(steps=[('imputer', SimpleImputer()), ('std_scaler', StandardScaler()),\n",
       "                ('knn', KNeighborsClassifier(n_neighbors=18, p=1))])"
      ]
     },
<<<<<<< HEAD
     "execution_count": 175,
=======
     "execution_count": 47,
>>>>>>> upstream/master
     "metadata": {},
     "output_type": "execute_result"
    }
   ],
   "source": [
    "best_model = gs_pipe.best_estimator_\n",
    "best_model"
   ]
  },
  {
   "cell_type": "markdown",
   "metadata": {
    "slideshow": {
     "slide_type": "slide"
    }
   },
   "source": [
    "Evaluate on the test"
   ]
  },
  {
   "cell_type": "code",
<<<<<<< HEAD
   "execution_count": 176,
=======
   "execution_count": 48,
   "id": "ae0d29f1",
>>>>>>> upstream/master
   "metadata": {
    "slideshow": {
     "slide_type": "fragment"
    }
   },
   "outputs": [],
   "source": [
    "y_pred = best_model.predict(X_test)"
   ]
  },
  {
   "cell_type": "code",
<<<<<<< HEAD
   "execution_count": 177,
=======
   "execution_count": 49,
   "id": "d4bf9bb2",
>>>>>>> upstream/master
   "metadata": {
    "cell_style": "split",
    "slideshow": {
     "slide_type": "fragment"
    }
   },
   "outputs": [
    {
     "data": {
      "text/plain": [
<<<<<<< HEAD
       "<sklearn.metrics._plot.confusion_matrix.ConfusionMatrixDisplay at 0x7faa10166af0>"
      ]
     },
     "execution_count": 177,
=======
       "<sklearn.metrics._plot.confusion_matrix.ConfusionMatrixDisplay at 0x26eaea176a0>"
      ]
     },
     "execution_count": 49,
>>>>>>> upstream/master
     "metadata": {},
     "output_type": "execute_result"
    },
    {
     "data": {
      "image/png": "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\n",
      "text/plain": [
       "<Figure size 432x288 with 2 Axes>"
      ]
     },
     "metadata": {
      "needs_background": "light"
     },
     "output_type": "display_data"
    }
   ],
   "source": [
    "plot_confusion_matrix(best_model, X_test, y_test)"
   ]
  },
  {
   "cell_type": "code",
   "execution_count": 178,
   "metadata": {
    "cell_style": "split",
    "scrolled": true,
    "slideshow": {
     "slide_type": "fragment"
    }
   },
   "outputs": [
    {
     "name": "stdout",
     "output_type": "stream",
     "text": [
      "              precision    recall  f1-score   support\n",
      "\n",
      "           0       1.00      1.00      1.00         7\n",
      "           1       0.62      0.62      0.62         8\n",
      "           2       0.62      0.62      0.62         8\n",
      "\n",
      "    accuracy                           0.74        23\n",
      "   macro avg       0.75      0.75      0.75        23\n",
      "weighted avg       0.74      0.74      0.74        23\n",
      "\n"
     ]
    }
   ],
   "source": [
    "print(classification_report(y_test, y_pred))"
   ]
  },
  {
   "cell_type": "markdown",
   "metadata": {
    "slideshow": {
     "slide_type": "slide"
    }
   },
   "source": [
    "Can also get full report of cross validation with the pipeline estimators:\n",
    "- e.g. a dataframe with all the models"
   ]
  },
  {
   "cell_type": "code",
   "execution_count": 179,
   "metadata": {
    "scrolled": true,
    "slideshow": {
     "slide_type": "subslide"
    }
   },
   "outputs": [
    {
     "data": {
      "text/html": [
       "<div>\n",
       "<style scoped>\n",
       "    .dataframe tbody tr th:only-of-type {\n",
       "        vertical-align: middle;\n",
       "    }\n",
       "\n",
       "    .dataframe tbody tr th {\n",
       "        vertical-align: top;\n",
       "    }\n",
       "\n",
       "    .dataframe thead th {\n",
       "        text-align: right;\n",
       "    }\n",
       "</style>\n",
       "<table border=\"1\" class=\"dataframe\">\n",
       "  <thead>\n",
       "    <tr style=\"text-align: right;\">\n",
       "      <th></th>\n",
       "      <th>mean_fit_time</th>\n",
       "      <th>std_fit_time</th>\n",
       "      <th>mean_score_time</th>\n",
       "      <th>std_score_time</th>\n",
       "      <th>param_imputer__strategy</th>\n",
       "      <th>param_knn__n_neighbors</th>\n",
       "      <th>param_knn__p</th>\n",
       "      <th>params</th>\n",
       "      <th>split0_test_score</th>\n",
       "      <th>split1_test_score</th>\n",
       "      <th>split2_test_score</th>\n",
       "      <th>split3_test_score</th>\n",
       "      <th>split4_test_score</th>\n",
       "      <th>mean_test_score</th>\n",
       "      <th>std_test_score</th>\n",
       "      <th>rank_test_score</th>\n",
       "    </tr>\n",
       "  </thead>\n",
       "  <tbody>\n",
       "    <tr>\n",
       "      <th>60</th>\n",
       "      <td>0.002074</td>\n",
       "      <td>0.000105</td>\n",
       "      <td>0.001518</td>\n",
       "      <td>0.000068</td>\n",
       "      <td>median</td>\n",
       "      <td>18</td>\n",
       "      <td>1</td>\n",
       "      <td>{'imputer__strategy': 'median', 'knn__n_neighb...</td>\n",
       "      <td>0.769231</td>\n",
       "      <td>0.846154</td>\n",
       "      <td>0.8</td>\n",
       "      <td>0.76</td>\n",
       "      <td>0.88</td>\n",
       "      <td>0.811077</td>\n",
       "      <td>0.045746</td>\n",
       "      <td>1</td>\n",
       "    </tr>\n",
       "    <tr>\n",
       "      <th>28</th>\n",
       "      <td>0.002218</td>\n",
       "      <td>0.000129</td>\n",
       "      <td>0.001636</td>\n",
       "      <td>0.000045</td>\n",
       "      <td>mean</td>\n",
       "      <td>18</td>\n",
       "      <td>1</td>\n",
       "      <td>{'imputer__strategy': 'mean', 'knn__n_neighbor...</td>\n",
       "      <td>0.769231</td>\n",
       "      <td>0.846154</td>\n",
       "      <td>0.8</td>\n",
       "      <td>0.76</td>\n",
       "      <td>0.88</td>\n",
       "      <td>0.811077</td>\n",
       "      <td>0.045746</td>\n",
       "      <td>1</td>\n",
       "    </tr>\n",
       "    <tr>\n",
       "      <th>61</th>\n",
       "      <td>0.002301</td>\n",
       "      <td>0.000123</td>\n",
       "      <td>0.001685</td>\n",
       "      <td>0.000141</td>\n",
       "      <td>median</td>\n",
       "      <td>18</td>\n",
       "      <td>2</td>\n",
       "      <td>{'imputer__strategy': 'median', 'knn__n_neighb...</td>\n",
       "      <td>0.769231</td>\n",
       "      <td>0.807692</td>\n",
       "      <td>0.8</td>\n",
       "      <td>0.80</td>\n",
       "      <td>0.84</td>\n",
       "      <td>0.803385</td>\n",
       "      <td>0.022577</td>\n",
       "      <td>3</td>\n",
       "    </tr>\n",
       "    <tr>\n",
       "      <th>29</th>\n",
       "      <td>0.001895</td>\n",
       "      <td>0.000041</td>\n",
       "      <td>0.001451</td>\n",
       "      <td>0.000027</td>\n",
       "      <td>mean</td>\n",
       "      <td>18</td>\n",
       "      <td>2</td>\n",
       "      <td>{'imputer__strategy': 'mean', 'knn__n_neighbor...</td>\n",
       "      <td>0.769231</td>\n",
       "      <td>0.807692</td>\n",
       "      <td>0.8</td>\n",
       "      <td>0.80</td>\n",
       "      <td>0.84</td>\n",
       "      <td>0.803385</td>\n",
       "      <td>0.022577</td>\n",
       "      <td>3</td>\n",
       "    </tr>\n",
       "    <tr>\n",
       "      <th>62</th>\n",
       "      <td>0.001976</td>\n",
       "      <td>0.000021</td>\n",
       "      <td>0.001561</td>\n",
       "      <td>0.000047</td>\n",
       "      <td>median</td>\n",
       "      <td>18</td>\n",
       "      <td>3</td>\n",
       "      <td>{'imputer__strategy': 'median', 'knn__n_neighb...</td>\n",
       "      <td>0.769231</td>\n",
       "      <td>0.769231</td>\n",
       "      <td>0.8</td>\n",
       "      <td>0.80</td>\n",
       "      <td>0.84</td>\n",
       "      <td>0.795692</td>\n",
       "      <td>0.026080</td>\n",
       "      <td>5</td>\n",
       "    </tr>\n",
       "  </tbody>\n",
       "</table>\n",
       "</div>"
      ],
      "text/plain": [
       "    mean_fit_time  std_fit_time  mean_score_time  std_score_time  \\\n",
       "60       0.002074      0.000105         0.001518        0.000068   \n",
       "28       0.002218      0.000129         0.001636        0.000045   \n",
       "61       0.002301      0.000123         0.001685        0.000141   \n",
       "29       0.001895      0.000041         0.001451        0.000027   \n",
       "62       0.001976      0.000021         0.001561        0.000047   \n",
       "\n",
       "   param_imputer__strategy param_knn__n_neighbors param_knn__p  \\\n",
       "60                  median                     18            1   \n",
       "28                    mean                     18            1   \n",
       "61                  median                     18            2   \n",
       "29                    mean                     18            2   \n",
       "62                  median                     18            3   \n",
       "\n",
       "                                               params  split0_test_score  \\\n",
       "60  {'imputer__strategy': 'median', 'knn__n_neighb...           0.769231   \n",
       "28  {'imputer__strategy': 'mean', 'knn__n_neighbor...           0.769231   \n",
       "61  {'imputer__strategy': 'median', 'knn__n_neighb...           0.769231   \n",
       "29  {'imputer__strategy': 'mean', 'knn__n_neighbor...           0.769231   \n",
       "62  {'imputer__strategy': 'median', 'knn__n_neighb...           0.769231   \n",
       "\n",
       "    split1_test_score  split2_test_score  split3_test_score  \\\n",
       "60           0.846154                0.8               0.76   \n",
       "28           0.846154                0.8               0.76   \n",
       "61           0.807692                0.8               0.80   \n",
       "29           0.807692                0.8               0.80   \n",
       "62           0.769231                0.8               0.80   \n",
       "\n",
       "    split4_test_score  mean_test_score  std_test_score  rank_test_score  \n",
       "60               0.88         0.811077        0.045746                1  \n",
       "28               0.88         0.811077        0.045746                1  \n",
       "61               0.84         0.803385        0.022577                3  \n",
       "29               0.84         0.803385        0.022577                3  \n",
       "62               0.84         0.795692        0.026080                5  "
      ]
     },
     "execution_count": 179,
     "metadata": {},
     "output_type": "execute_result"
    }
   ],
   "source": [
    "cv_result_df = pd.DataFrame(gs_pipe.cv_results_)\n",
    "cv_result_df = cv_result_df.sort_values(by = 'rank_test_score')\n",
    "cv_result_df.head()"
   ]
  },
  {
   "cell_type": "markdown",
   "metadata": {
    "cell_style": "split",
    "slideshow": {
     "slide_type": "slide"
    }
   },
   "source": [
    "Trying different metrics:\n",
    "- Default scoring was accuracy\n",
    "- But can try other with scoring = ''"
   ]
  },
  {
   "cell_type": "markdown",
   "metadata": {
    "cell_style": "split",
    "slideshow": {
     "slide_type": "fragment"
    }
   },
   "source": [
    "- Takes string:\n",
    "    - 'average_precision'\n",
    "    - 'balanced_accuracy' (class averaged recall)\n",
    "    - 'roc_auc', etc."
   ]
  },
  {
   "cell_type": "code",
<<<<<<< HEAD
   "execution_count": 180,
=======
   "execution_count": 50,
   "id": "05a5deb2",
>>>>>>> upstream/master
   "metadata": {
    "slideshow": {
     "slide_type": "slide"
    }
   },
   "outputs": [],
   "source": [
    "pipe_grid = {'imputer__strategy': [\"mean\", \"median\"],\n",
    "             'knn__n_neighbors': [3, 5, 7, 9, 11, 13, 15, 18],\n",
    "             'knn__p': [1, 2, 3, 4]}\n",
    "\n",
    "gs_pipe = GridSearchCV(estimator=model_pipe, \n",
    "                       param_grid=pipe_grid, scoring = 'precision_micro')"
   ]
  },
  {
   "cell_type": "code",
<<<<<<< HEAD
   "execution_count": 181,
=======
   "execution_count": 51,
   "id": "bbb80d93",
>>>>>>> upstream/master
   "metadata": {
    "slideshow": {
     "slide_type": "fragment"
    }
   },
   "outputs": [],
   "source": [
    "gs_pipe.fit(X_train, y_train);\n",
    "best_est = gs_pipe.best_estimator_"
   ]
  },
  {
   "cell_type": "code",
<<<<<<< HEAD
   "execution_count": 182,
=======
   "execution_count": 52,
   "id": "b0661064",
>>>>>>> upstream/master
   "metadata": {
    "slideshow": {
     "slide_type": "subslide"
    }
   },
   "outputs": [
    {
     "data": {
      "text/html": [
<<<<<<< HEAD
       "<style>div.sk-top-container {color: black;background-color: white;}div.sk-toggleable {background-color: white;}label.sk-toggleable__label {cursor: pointer;display: block;width: 100%;margin-bottom: 0;padding: 0.2em 0.3em;box-sizing: border-box;text-align: center;}div.sk-toggleable__content {max-height: 0;max-width: 0;overflow: hidden;text-align: left;background-color: #f0f8ff;}div.sk-toggleable__content pre {margin: 0.2em;color: black;border-radius: 0.25em;background-color: #f0f8ff;}input.sk-toggleable__control:checked~div.sk-toggleable__content {max-height: 200px;max-width: 100%;overflow: auto;}div.sk-estimator input.sk-toggleable__control:checked~label.sk-toggleable__label {background-color: #d4ebff;}div.sk-label input.sk-toggleable__control:checked~label.sk-toggleable__label {background-color: #d4ebff;}input.sk-hidden--visually {border: 0;clip: rect(1px 1px 1px 1px);clip: rect(1px, 1px, 1px, 1px);height: 1px;margin: -1px;overflow: hidden;padding: 0;position: absolute;width: 1px;}div.sk-estimator {font-family: monospace;background-color: #f0f8ff;margin: 0.25em 0.25em;border: 1px dotted black;border-radius: 0.25em;box-sizing: border-box;}div.sk-estimator:hover {background-color: #d4ebff;}div.sk-parallel-item::after {content: \"\";width: 100%;border-bottom: 1px solid gray;flex-grow: 1;}div.sk-label:hover label.sk-toggleable__label {background-color: #d4ebff;}div.sk-serial::before {content: \"\";position: absolute;border-left: 1px solid gray;box-sizing: border-box;top: 2em;bottom: 0;left: 50%;}div.sk-serial {display: flex;flex-direction: column;align-items: center;background-color: white;}div.sk-item {z-index: 1;}div.sk-parallel {display: flex;align-items: stretch;justify-content: center;background-color: white;}div.sk-parallel-item {display: flex;flex-direction: column;position: relative;background-color: white;}div.sk-parallel-item:first-child::after {align-self: flex-end;width: 50%;}div.sk-parallel-item:last-child::after {align-self: flex-start;width: 50%;}div.sk-parallel-item:only-child::after {width: 0;}div.sk-dashed-wrapped {border: 1px dashed gray;margin: 0.2em;box-sizing: border-box;padding-bottom: 0.1em;background-color: white;position: relative;}div.sk-label label {font-family: monospace;font-weight: bold;background-color: white;display: inline-block;line-height: 1.2em;}div.sk-label-container {position: relative;z-index: 2;text-align: center;}div.sk-container {display: inline-block;position: relative;}</style><div class=\"sk-top-container\"><div class=\"sk-container\"><div class=\"sk-item sk-dashed-wrapped\"><div class=\"sk-label-container\"><div class=\"sk-label sk-toggleable\"><input class=\"sk-toggleable__control sk-hidden--visually\" id=\"522da43f-c1de-4ad2-917d-e58c78032ea1\" type=\"checkbox\" ><label class=\"sk-toggleable__label\" for=\"522da43f-c1de-4ad2-917d-e58c78032ea1\">Pipeline</label><div class=\"sk-toggleable__content\"><pre>Pipeline(steps=[('imputer', SimpleImputer()), ('std_scaler', StandardScaler()),\n",
       "                ('knn', KNeighborsClassifier(n_neighbors=18, p=1))])</pre></div></div></div><div class=\"sk-serial\"><div class=\"sk-item\"><div class=\"sk-estimator sk-toggleable\"><input class=\"sk-toggleable__control sk-hidden--visually\" id=\"27fc74c9-cd07-4aef-8204-2472aa899a26\" type=\"checkbox\" ><label class=\"sk-toggleable__label\" for=\"27fc74c9-cd07-4aef-8204-2472aa899a26\">SimpleImputer</label><div class=\"sk-toggleable__content\"><pre>SimpleImputer()</pre></div></div></div><div class=\"sk-item\"><div class=\"sk-estimator sk-toggleable\"><input class=\"sk-toggleable__control sk-hidden--visually\" id=\"a6e5cbf1-fcc0-4484-8a26-319fad3beee8\" type=\"checkbox\" ><label class=\"sk-toggleable__label\" for=\"a6e5cbf1-fcc0-4484-8a26-319fad3beee8\">StandardScaler</label><div class=\"sk-toggleable__content\"><pre>StandardScaler()</pre></div></div></div><div class=\"sk-item\"><div class=\"sk-estimator sk-toggleable\"><input class=\"sk-toggleable__control sk-hidden--visually\" id=\"72024e13-71ca-438e-9589-72ed132872a6\" type=\"checkbox\" ><label class=\"sk-toggleable__label\" for=\"72024e13-71ca-438e-9589-72ed132872a6\">KNeighborsClassifier</label><div class=\"sk-toggleable__content\"><pre>KNeighborsClassifier(n_neighbors=18, p=1)</pre></div></div></div></div></div></div></div>"
=======
       "<style>#sk-3ccd4cdf-4330-4d12-9ff7-3ffa9412b5eb {color: black;background-color: white;}#sk-3ccd4cdf-4330-4d12-9ff7-3ffa9412b5eb pre{padding: 0;}#sk-3ccd4cdf-4330-4d12-9ff7-3ffa9412b5eb div.sk-toggleable {background-color: white;}#sk-3ccd4cdf-4330-4d12-9ff7-3ffa9412b5eb label.sk-toggleable__label {cursor: pointer;display: block;width: 100%;margin-bottom: 0;padding: 0.2em 0.3em;box-sizing: border-box;text-align: center;}#sk-3ccd4cdf-4330-4d12-9ff7-3ffa9412b5eb div.sk-toggleable__content {max-height: 0;max-width: 0;overflow: hidden;text-align: left;background-color: #f0f8ff;}#sk-3ccd4cdf-4330-4d12-9ff7-3ffa9412b5eb div.sk-toggleable__content pre {margin: 0.2em;color: black;border-radius: 0.25em;background-color: #f0f8ff;}#sk-3ccd4cdf-4330-4d12-9ff7-3ffa9412b5eb input.sk-toggleable__control:checked~div.sk-toggleable__content {max-height: 200px;max-width: 100%;overflow: auto;}#sk-3ccd4cdf-4330-4d12-9ff7-3ffa9412b5eb div.sk-estimator input.sk-toggleable__control:checked~label.sk-toggleable__label {background-color: #d4ebff;}#sk-3ccd4cdf-4330-4d12-9ff7-3ffa9412b5eb div.sk-label input.sk-toggleable__control:checked~label.sk-toggleable__label {background-color: #d4ebff;}#sk-3ccd4cdf-4330-4d12-9ff7-3ffa9412b5eb input.sk-hidden--visually {border: 0;clip: rect(1px 1px 1px 1px);clip: rect(1px, 1px, 1px, 1px);height: 1px;margin: -1px;overflow: hidden;padding: 0;position: absolute;width: 1px;}#sk-3ccd4cdf-4330-4d12-9ff7-3ffa9412b5eb div.sk-estimator {font-family: monospace;background-color: #f0f8ff;margin: 0.25em 0.25em;border: 1px dotted black;border-radius: 0.25em;box-sizing: border-box;}#sk-3ccd4cdf-4330-4d12-9ff7-3ffa9412b5eb div.sk-estimator:hover {background-color: #d4ebff;}#sk-3ccd4cdf-4330-4d12-9ff7-3ffa9412b5eb div.sk-parallel-item::after {content: \"\";width: 100%;border-bottom: 1px solid gray;flex-grow: 1;}#sk-3ccd4cdf-4330-4d12-9ff7-3ffa9412b5eb div.sk-label:hover label.sk-toggleable__label {background-color: #d4ebff;}#sk-3ccd4cdf-4330-4d12-9ff7-3ffa9412b5eb div.sk-serial::before {content: \"\";position: absolute;border-left: 1px solid gray;box-sizing: border-box;top: 2em;bottom: 0;left: 50%;}#sk-3ccd4cdf-4330-4d12-9ff7-3ffa9412b5eb div.sk-serial {display: flex;flex-direction: column;align-items: center;background-color: white;}#sk-3ccd4cdf-4330-4d12-9ff7-3ffa9412b5eb div.sk-item {z-index: 1;}#sk-3ccd4cdf-4330-4d12-9ff7-3ffa9412b5eb div.sk-parallel {display: flex;align-items: stretch;justify-content: center;background-color: white;}#sk-3ccd4cdf-4330-4d12-9ff7-3ffa9412b5eb div.sk-parallel-item {display: flex;flex-direction: column;position: relative;background-color: white;}#sk-3ccd4cdf-4330-4d12-9ff7-3ffa9412b5eb div.sk-parallel-item:first-child::after {align-self: flex-end;width: 50%;}#sk-3ccd4cdf-4330-4d12-9ff7-3ffa9412b5eb div.sk-parallel-item:last-child::after {align-self: flex-start;width: 50%;}#sk-3ccd4cdf-4330-4d12-9ff7-3ffa9412b5eb div.sk-parallel-item:only-child::after {width: 0;}#sk-3ccd4cdf-4330-4d12-9ff7-3ffa9412b5eb div.sk-dashed-wrapped {border: 1px dashed gray;margin: 0.2em;box-sizing: border-box;padding-bottom: 0.1em;background-color: white;position: relative;}#sk-3ccd4cdf-4330-4d12-9ff7-3ffa9412b5eb div.sk-label label {font-family: monospace;font-weight: bold;background-color: white;display: inline-block;line-height: 1.2em;}#sk-3ccd4cdf-4330-4d12-9ff7-3ffa9412b5eb div.sk-label-container {position: relative;z-index: 2;text-align: center;}#sk-3ccd4cdf-4330-4d12-9ff7-3ffa9412b5eb div.sk-container {display: inline-block;position: relative;}</style><div id=\"sk-3ccd4cdf-4330-4d12-9ff7-3ffa9412b5eb\" class\"sk-top-container\"><div class=\"sk-container\"><div class=\"sk-item sk-dashed-wrapped\"><div class=\"sk-label-container\"><div class=\"sk-label sk-toggleable\"><input class=\"sk-toggleable__control sk-hidden--visually\" id=\"0f3874f4-c84b-4fdf-84d4-3618d30bbb97\" type=\"checkbox\" ><label class=\"sk-toggleable__label\" for=\"0f3874f4-c84b-4fdf-84d4-3618d30bbb97\">Pipeline</label><div class=\"sk-toggleable__content\"><pre>Pipeline(steps=[('imputer', SimpleImputer()), ('std_scaler', StandardScaler()),\n",
       "                ('knn', KNeighborsClassifier(n_neighbors=18, p=1))])</pre></div></div></div><div class=\"sk-serial\"><div class=\"sk-item\"><div class=\"sk-estimator sk-toggleable\"><input class=\"sk-toggleable__control sk-hidden--visually\" id=\"d34a63ac-6d7c-4f07-bd7e-fda849889e8e\" type=\"checkbox\" ><label class=\"sk-toggleable__label\" for=\"d34a63ac-6d7c-4f07-bd7e-fda849889e8e\">SimpleImputer</label><div class=\"sk-toggleable__content\"><pre>SimpleImputer()</pre></div></div></div><div class=\"sk-item\"><div class=\"sk-estimator sk-toggleable\"><input class=\"sk-toggleable__control sk-hidden--visually\" id=\"79327591-fbf5-4f39-bc69-eebf3e8d5a02\" type=\"checkbox\" ><label class=\"sk-toggleable__label\" for=\"79327591-fbf5-4f39-bc69-eebf3e8d5a02\">StandardScaler</label><div class=\"sk-toggleable__content\"><pre>StandardScaler()</pre></div></div></div><div class=\"sk-item\"><div class=\"sk-estimator sk-toggleable\"><input class=\"sk-toggleable__control sk-hidden--visually\" id=\"7cc7bb92-32d2-46dc-8ed9-b8b7b2ad2306\" type=\"checkbox\" ><label class=\"sk-toggleable__label\" for=\"7cc7bb92-32d2-46dc-8ed9-b8b7b2ad2306\">KNeighborsClassifier</label><div class=\"sk-toggleable__content\"><pre>KNeighborsClassifier(n_neighbors=18, p=1)</pre></div></div></div></div></div></div></div>"
>>>>>>> upstream/master
      ],
      "text/plain": [
       "Pipeline(steps=[('imputer', SimpleImputer()), ('std_scaler', StandardScaler()),\n",
       "                ('knn', KNeighborsClassifier(n_neighbors=18, p=1))])"
      ]
     },
<<<<<<< HEAD
     "execution_count": 182,
=======
     "execution_count": 52,
>>>>>>> upstream/master
     "metadata": {},
     "output_type": "execute_result"
    }
   ],
   "source": [
    "best_est"
   ]
  },
  {
   "cell_type": "markdown",
   "metadata": {
    "slideshow": {
     "slide_type": "slide"
    }
   },
   "source": [
    "Obviously not enough search parameters: still gets same model\n",
    "- Also probably limited by intrinsic overlap in the data.\n",
    "- Will see another example of trying different metrics."
   ]
  },
  {
   "cell_type": "markdown",
   "metadata": {
    "slideshow": {
     "slide_type": "slide"
    }
   },
   "source": [
    "#### In this case:\n",
    "- Not many NaNs\n",
    "- Selected subset of data didn't require multiple types of transformers\n",
    "    - e.g. categorical vs. numeric columns\n",
    "    - ordinal vs. nominal categoricals\n",
    "    - feature engineering on column subsets (Polynomial, etc.)\n"
   ]
  },
  {
   "cell_type": "markdown",
   "metadata": {
    "slideshow": {
     "slide_type": "slide"
    }
   },
   "source": [
    "#### Column Transformers"
   ]
  },
  {
   "cell_type": "markdown",
   "metadata": {
    "slideshow": {
     "slide_type": "subslide"
    }
   },
   "source": [
    "First step in:\n",
    "- dealing with systematically imputing data in pipelines\n",
    "- transforming features of various types in different ways"
   ]
  },
  {
   "cell_type": "code",
<<<<<<< HEAD
   "execution_count": 183,
=======
   "execution_count": 77,
   "id": "f0a4eb32",
>>>>>>> upstream/master
   "metadata": {
    "cell_style": "center",
    "slideshow": {
     "slide_type": "skip"
    }
   },
   "outputs": [],
   "source": [
    "import pandas as pd\n",
    "salary_df = pd.read_csv('Data/adult.csv', usecols = ['age', 'occupation', 'education', 'native.country', \n",
    "                                                     'hours.per.week', 'sex', 'income'])\n",
    "salary_df = salary_df[salary_df[\"native.country\"] == \"United-States\"]\n",
    "ed_list = ['10th','11th','HS-grad', 'Some-college', 'Assoc-acdm', 'Assoc-voc', 'Bachelors', 'Masters', 'Doctorate']\n",
    "salary_df = salary_df[salary_df['education'].isin(ed_list)].drop(columns = ['native.country'])"
   ]
  },
  {
<<<<<<< HEAD
   "cell_type": "code",
   "execution_count": null,
   "metadata": {},
   "outputs": [],
   "source": []
  },
  {
=======
>>>>>>> upstream/master
   "cell_type": "markdown",
   "metadata": {
    "slideshow": {
     "slide_type": "slide"
    }
   },
   "source": [
    "Salary prediction problem:\n",
    "- Predict whether someone makes >50K anually\n",
    "- Numeric and categorical features require different preparation\n",
    "- NaN imputation strategies specific to columns\n",
    "\n",
    "Let's learn how to implement all this in the Pipeline"
   ]
  },
  {
   "cell_type": "code",
<<<<<<< HEAD
   "execution_count": 184,
=======
   "execution_count": 78,
   "id": "2bf244ae",
>>>>>>> upstream/master
   "metadata": {
    "cell_style": "split",
    "slideshow": {
     "slide_type": "slide"
    }
   },
   "outputs": [
    {
     "data": {
      "text/html": [
       "<div>\n",
       "<style scoped>\n",
       "    .dataframe tbody tr th:only-of-type {\n",
       "        vertical-align: middle;\n",
       "    }\n",
       "\n",
       "    .dataframe tbody tr th {\n",
       "        vertical-align: top;\n",
       "    }\n",
       "\n",
       "    .dataframe thead th {\n",
       "        text-align: right;\n",
       "    }\n",
       "</style>\n",
       "<table border=\"1\" class=\"dataframe\">\n",
       "  <thead>\n",
       "    <tr style=\"text-align: right;\">\n",
       "      <th></th>\n",
       "      <th>age</th>\n",
       "      <th>education</th>\n",
       "      <th>occupation</th>\n",
       "      <th>sex</th>\n",
       "      <th>hours.per.week</th>\n",
       "      <th>income</th>\n",
       "    </tr>\n",
       "  </thead>\n",
       "  <tbody>\n",
       "    <tr>\n",
       "      <th>0</th>\n",
       "      <td>90</td>\n",
       "      <td>HS-grad</td>\n",
       "      <td>?</td>\n",
       "      <td>Female</td>\n",
       "      <td>40</td>\n",
       "      <td>&lt;=50K</td>\n",
       "    </tr>\n",
       "    <tr>\n",
       "      <th>1</th>\n",
       "      <td>82</td>\n",
       "      <td>HS-grad</td>\n",
       "      <td>Exec-managerial</td>\n",
       "      <td>Female</td>\n",
       "      <td>18</td>\n",
       "      <td>&lt;=50K</td>\n",
       "    </tr>\n",
       "    <tr>\n",
       "      <th>2</th>\n",
       "      <td>66</td>\n",
       "      <td>Some-college</td>\n",
       "      <td>?</td>\n",
       "      <td>Female</td>\n",
       "      <td>40</td>\n",
       "      <td>&lt;=50K</td>\n",
       "    </tr>\n",
       "    <tr>\n",
       "      <th>4</th>\n",
       "      <td>41</td>\n",
       "      <td>Some-college</td>\n",
       "      <td>Prof-specialty</td>\n",
       "      <td>Female</td>\n",
       "      <td>40</td>\n",
       "      <td>&lt;=50K</td>\n",
       "    </tr>\n",
       "    <tr>\n",
       "      <th>5</th>\n",
       "      <td>34</td>\n",
       "      <td>HS-grad</td>\n",
       "      <td>Other-service</td>\n",
       "      <td>Female</td>\n",
       "      <td>45</td>\n",
       "      <td>&lt;=50K</td>\n",
       "    </tr>\n",
       "  </tbody>\n",
       "</table>\n",
       "</div>"
      ],
      "text/plain": [
       "   age     education       occupation     sex  hours.per.week income\n",
       "0   90       HS-grad                ?  Female              40  <=50K\n",
       "1   82       HS-grad  Exec-managerial  Female              18  <=50K\n",
       "2   66  Some-college                ?  Female              40  <=50K\n",
       "4   41  Some-college   Prof-specialty  Female              40  <=50K\n",
       "5   34       HS-grad    Other-service  Female              45  <=50K"
      ]
     },
<<<<<<< HEAD
     "execution_count": 184,
=======
     "execution_count": 78,
>>>>>>> upstream/master
     "metadata": {},
     "output_type": "execute_result"
    }
   ],
   "source": [
    "salary_df.head()"
   ]
  },
  {
   "cell_type": "code",
<<<<<<< HEAD
   "execution_count": 185,
=======
   "execution_count": 79,
   "id": "ec2922a7",
>>>>>>> upstream/master
   "metadata": {
    "cell_style": "split",
    "scrolled": true,
    "slideshow": {
     "slide_type": "fragment"
    }
   },
   "outputs": [
    {
     "name": "stdout",
     "output_type": "stream",
     "text": [
      "<class 'pandas.core.frame.DataFrame'>\n",
      "Int64Index: 27249 entries, 0 to 32560\n",
      "Data columns (total 6 columns):\n",
      " #   Column          Non-Null Count  Dtype \n",
      "---  ------          --------------  ----- \n",
      " 0   age             27249 non-null  int64 \n",
      " 1   education       27249 non-null  object\n",
      " 2   occupation      27249 non-null  object\n",
      " 3   sex             27249 non-null  object\n",
      " 4   hours.per.week  27249 non-null  int64 \n",
      " 5   income          27249 non-null  object\n",
      "dtypes: int64(2), object(4)\n",
      "memory usage: 1.5+ MB\n"
     ]
    }
   ],
   "source": [
    "salary_df.info()"
   ]
  },
  {
   "cell_type": "markdown",
   "metadata": {
    "cell_style": "center",
    "slideshow": {
     "slide_type": "slide"
    }
   },
   "source": [
    "Nulls clearly encoded as '?'\n",
    "- Would do EDA before figuring out how to clean/preprocess columns\n",
    "- But lets go ahead and develop pipeline!"
   ]
  },
  {
   "cell_type": "markdown",
   "metadata": {
    "cell_style": "split",
    "slideshow": {
     "slide_type": "subslide"
    }
   },
   "source": [
    "**Imputation**\n",
    "- Numeric: impute with mean\n",
    "- Education/occupation/sex: most common"
   ]
  },
  {
   "cell_type": "markdown",
   "metadata": {
    "cell_style": "split",
    "slideshow": {
     "slide_type": "fragment"
    }
   },
   "source": [
    "**Encoding**\n",
    "- Education: ordinal encoding\n",
    "- Occupation/Sex: one-hot encoding"
   ]
  },
  {
   "cell_type": "markdown",
   "metadata": {
    "slideshow": {
     "slide_type": "fragment"
    }
   },
   "source": [
    "Then standardize and model."
   ]
  },
  {
   "cell_type": "code",
<<<<<<< HEAD
   "execution_count": 186,
=======
   "execution_count": 80,
   "id": "75c1f169",
>>>>>>> upstream/master
   "metadata": {
    "slideshow": {
     "slide_type": "slide"
    }
   },
   "outputs": [
    {
     "data": {
      "text/plain": [
       "HS-grad         9702\n",
       "Some-college    6740\n",
       "Bachelors       4766\n",
       "Masters         1527\n",
       "Assoc-voc       1289\n",
       "11th            1067\n",
       "Assoc-acdm       982\n",
       "10th             848\n",
       "Doctorate        328\n",
       "Name: education, dtype: int64"
      ]
     },
<<<<<<< HEAD
     "execution_count": 186,
=======
     "execution_count": 80,
>>>>>>> upstream/master
     "metadata": {},
     "output_type": "execute_result"
    }
   ],
   "source": [
    "salary_df['education'].value_counts()"
   ]
  },
  {
   "cell_type": "markdown",
   "metadata": {
    "cell_style": "split"
   },
   "source": [
    "No nans? Guess again!"
   ]
  },
  {
   "cell_type": "code",
<<<<<<< HEAD
   "execution_count": 187,
=======
   "execution_count": 81,
   "id": "e179811e",
>>>>>>> upstream/master
   "metadata": {
    "cell_style": "split"
   },
   "outputs": [
    {
     "data": {
      "text/html": [
       "<div>\n",
       "<style scoped>\n",
       "    .dataframe tbody tr th:only-of-type {\n",
       "        vertical-align: middle;\n",
       "    }\n",
       "\n",
       "    .dataframe tbody tr th {\n",
       "        vertical-align: top;\n",
       "    }\n",
       "\n",
       "    .dataframe thead th {\n",
       "        text-align: right;\n",
       "    }\n",
       "</style>\n",
       "<table border=\"1\" class=\"dataframe\">\n",
       "  <thead>\n",
       "    <tr style=\"text-align: right;\">\n",
       "      <th></th>\n",
       "      <th>age</th>\n",
       "      <th>education</th>\n",
       "      <th>occupation</th>\n",
       "      <th>sex</th>\n",
       "      <th>hours.per.week</th>\n",
       "      <th>income</th>\n",
       "    </tr>\n",
       "  </thead>\n",
       "  <tbody>\n",
       "    <tr>\n",
       "      <th>0</th>\n",
       "      <td>90</td>\n",
       "      <td>HS-grad</td>\n",
       "      <td>?</td>\n",
       "      <td>Female</td>\n",
       "      <td>40</td>\n",
       "      <td>&lt;=50K</td>\n",
       "    </tr>\n",
       "    <tr>\n",
       "      <th>1</th>\n",
       "      <td>82</td>\n",
       "      <td>HS-grad</td>\n",
       "      <td>Exec-managerial</td>\n",
       "      <td>Female</td>\n",
       "      <td>18</td>\n",
       "      <td>&lt;=50K</td>\n",
       "    </tr>\n",
       "    <tr>\n",
       "      <th>2</th>\n",
       "      <td>66</td>\n",
       "      <td>Some-college</td>\n",
       "      <td>?</td>\n",
       "      <td>Female</td>\n",
       "      <td>40</td>\n",
       "      <td>&lt;=50K</td>\n",
       "    </tr>\n",
       "    <tr>\n",
       "      <th>4</th>\n",
       "      <td>41</td>\n",
       "      <td>Some-college</td>\n",
       "      <td>Prof-specialty</td>\n",
       "      <td>Female</td>\n",
       "      <td>40</td>\n",
       "      <td>&lt;=50K</td>\n",
       "    </tr>\n",
       "    <tr>\n",
       "      <th>5</th>\n",
       "      <td>34</td>\n",
       "      <td>HS-grad</td>\n",
       "      <td>Other-service</td>\n",
       "      <td>Female</td>\n",
       "      <td>45</td>\n",
       "      <td>&lt;=50K</td>\n",
       "    </tr>\n",
       "  </tbody>\n",
       "</table>\n",
       "</div>"
      ],
      "text/plain": [
       "   age     education       occupation     sex  hours.per.week income\n",
       "0   90       HS-grad                ?  Female              40  <=50K\n",
       "1   82       HS-grad  Exec-managerial  Female              18  <=50K\n",
       "2   66  Some-college                ?  Female              40  <=50K\n",
       "4   41  Some-college   Prof-specialty  Female              40  <=50K\n",
       "5   34       HS-grad    Other-service  Female              45  <=50K"
      ]
     },
<<<<<<< HEAD
     "execution_count": 187,
=======
     "execution_count": 81,
>>>>>>> upstream/master
     "metadata": {},
     "output_type": "execute_result"
    }
   ],
   "source": [
    "salary_df.head()"
   ]
  },
  {
   "cell_type": "code",
<<<<<<< HEAD
   "execution_count": 188,
=======
   "execution_count": 82,
   "id": "1a4ce94c",
>>>>>>> upstream/master
   "metadata": {
    "cell_style": "split",
    "scrolled": true,
    "slideshow": {
     "slide_type": "slide"
    }
   },
   "outputs": [
    {
     "data": {
      "text/html": [
       "<div>\n",
       "<style scoped>\n",
       "    .dataframe tbody tr th:only-of-type {\n",
       "        vertical-align: middle;\n",
       "    }\n",
       "\n",
       "    .dataframe tbody tr th {\n",
       "        vertical-align: top;\n",
       "    }\n",
       "\n",
       "    .dataframe thead th {\n",
       "        text-align: right;\n",
       "    }\n",
       "</style>\n",
       "<table border=\"1\" class=\"dataframe\">\n",
       "  <thead>\n",
       "    <tr style=\"text-align: right;\">\n",
       "      <th></th>\n",
       "      <th>age</th>\n",
       "      <th>education</th>\n",
       "      <th>occupation</th>\n",
       "      <th>sex</th>\n",
       "      <th>hours.per.week</th>\n",
       "      <th>income</th>\n",
       "    </tr>\n",
       "  </thead>\n",
       "  <tbody>\n",
       "    <tr>\n",
       "      <th>0</th>\n",
       "      <td>90</td>\n",
       "      <td>HS-grad</td>\n",
       "      <td>NaN</td>\n",
       "      <td>Female</td>\n",
       "      <td>40</td>\n",
       "      <td>&lt;=50K</td>\n",
       "    </tr>\n",
       "    <tr>\n",
       "      <th>1</th>\n",
       "      <td>82</td>\n",
       "      <td>HS-grad</td>\n",
       "      <td>Exec-managerial</td>\n",
       "      <td>Female</td>\n",
       "      <td>18</td>\n",
       "      <td>&lt;=50K</td>\n",
       "    </tr>\n",
       "    <tr>\n",
       "      <th>2</th>\n",
       "      <td>66</td>\n",
       "      <td>Some-college</td>\n",
       "      <td>NaN</td>\n",
       "      <td>Female</td>\n",
       "      <td>40</td>\n",
       "      <td>&lt;=50K</td>\n",
       "    </tr>\n",
       "  </tbody>\n",
       "</table>\n",
       "</div>"
      ],
      "text/plain": [
       "   age     education       occupation     sex  hours.per.week income\n",
       "0   90       HS-grad              NaN  Female              40  <=50K\n",
       "1   82       HS-grad  Exec-managerial  Female              18  <=50K\n",
       "2   66  Some-college              NaN  Female              40  <=50K"
      ]
     },
<<<<<<< HEAD
     "execution_count": 188,
=======
     "execution_count": 82,
>>>>>>> upstream/master
     "metadata": {},
     "output_type": "execute_result"
    }
   ],
   "source": [
    "# replace with NaNs\n",
    "salary_df = salary_df.replace({'?':np.nan})\n",
    "salary_df.head(3)"
   ]
  },
  {
   "cell_type": "code",
<<<<<<< HEAD
   "execution_count": 189,
=======
   "execution_count": 83,
   "id": "2bf8217e",
>>>>>>> upstream/master
   "metadata": {
    "cell_style": "split",
    "slideshow": {
     "slide_type": "fragment"
    }
   },
   "outputs": [
    {
     "name": "stdout",
     "output_type": "stream",
     "text": [
      "<class 'pandas.core.frame.DataFrame'>\n",
      "Int64Index: 27249 entries, 0 to 32560\n",
      "Data columns (total 6 columns):\n",
      " #   Column          Non-Null Count  Dtype \n",
      "---  ------          --------------  ----- \n",
      " 0   age             27249 non-null  int64 \n",
      " 1   education       27249 non-null  object\n",
      " 2   occupation      25766 non-null  object\n",
      " 3   sex             27249 non-null  object\n",
      " 4   hours.per.week  27249 non-null  int64 \n",
      " 5   income          27249 non-null  object\n",
      "dtypes: int64(2), object(4)\n",
      "memory usage: 1.5+ MB\n"
     ]
    }
   ],
   "source": [
    "salary_df.info()"
   ]
  },
  {
   "cell_type": "code",
<<<<<<< HEAD
   "execution_count": 190,
=======
   "execution_count": 73,
   "id": "6c7984f4",
>>>>>>> upstream/master
   "metadata": {
    "cell_style": "center",
    "slideshow": {
     "slide_type": "slide"
    }
   },
   "outputs": [],
   "source": [
    "from sklearn.preprocessing import LabelEncoder"
   ]
  },
  {
   "cell_type": "code",
<<<<<<< HEAD
   "execution_count": 191,
=======
   "execution_count": 87,
   "id": "06d71cae",
>>>>>>> upstream/master
   "metadata": {
    "cell_style": "split",
    "slideshow": {
     "slide_type": "fragment"
    }
   },
   "outputs": [],
   "source": [
    "X_income = salary_df.drop(columns = [\"income\"])\n",
    "y_income = salary_df['income']"
   ]
  },
  {
   "cell_type": "code",
<<<<<<< HEAD
   "execution_count": 192,
=======
   "execution_count": 89,
   "id": "8c7b8737",
>>>>>>> upstream/master
   "metadata": {
    "cell_style": "split",
    "slideshow": {
     "slide_type": "fragment"
    }
   },
   "outputs": [
    {
     "data": {
      "text/plain": [
       "array([0, 1], dtype=int64)"
      ]
     },
     "execution_count": 89,
     "metadata": {},
     "output_type": "execute_result"
    }
   ],
   "source": [
    "lab_enc = LabelEncoder()\n",
    "y_income = lab_enc.fit_transform(y_income)\n"
   ]
  },
  {
   "cell_type": "markdown",
   "metadata": {
    "slideshow": {
     "slide_type": "slide"
    }
   },
   "source": [
    "#### Before doing anything else"
   ]
  },
  {
   "cell_type": "code",
<<<<<<< HEAD
   "execution_count": 193,
=======
   "execution_count": 92,
   "id": "124f6847",
>>>>>>> upstream/master
   "metadata": {
    "slideshow": {
     "slide_type": "fragment"
    }
   },
   "outputs": [],
   "source": [
    "X_inc_train, X_inc_test, y_inc_train, y_inc_test = train_test_split(X_income, y_income, test_size = 0.15)"
   ]
  },
  {
   "cell_type": "code",
<<<<<<< HEAD
   "execution_count": 194,
=======
   "execution_count": 93,
   "id": "259decca",
>>>>>>> upstream/master
   "metadata": {
    "scrolled": true,
    "slideshow": {
     "slide_type": "subslide"
    }
   },
   "outputs": [],
   "source": [
    "from sklearn.pipeline import Pipeline\n",
    "from sklearn.impute import SimpleImputer\n",
    "from sklearn.preprocessing import LabelEncoder\n",
    "from sklearn.preprocessing import OrdinalEncoder\n",
    "from sklearn.preprocessing import OneHotEncoder\n",
    "from sklearn.preprocessing import StandardScaler\n",
    "from sklearn.preprocessing import MaxAbsScaler\n",
    "from sklearn.compose import ColumnTransformer"
   ]
  },
  {
   "cell_type": "markdown",
   "metadata": {
    "cell_style": "split",
    "slideshow": {
     "slide_type": "slide"
    }
   },
   "source": [
    "Create three separate transformation pipelines:\n",
    "- Ordinal Categorical\n",
    "- Nominal Categorical\n",
    "- Numeric "
   ]
  },
  {
   "cell_type": "code",
<<<<<<< HEAD
   "execution_count": 195,
=======
   "execution_count": 94,
   "id": "0eebc0ed",
>>>>>>> upstream/master
   "metadata": {
    "cell_style": "split",
    "slideshow": {
     "slide_type": "fragment"
    }
   },
   "outputs": [
    {
     "data": {
      "text/html": [
       "<div>\n",
       "<style scoped>\n",
       "    .dataframe tbody tr th:only-of-type {\n",
       "        vertical-align: middle;\n",
       "    }\n",
       "\n",
       "    .dataframe tbody tr th {\n",
       "        vertical-align: top;\n",
       "    }\n",
       "\n",
       "    .dataframe thead th {\n",
       "        text-align: right;\n",
       "    }\n",
       "</style>\n",
       "<table border=\"1\" class=\"dataframe\">\n",
       "  <thead>\n",
       "    <tr style=\"text-align: right;\">\n",
       "      <th></th>\n",
       "      <th>age</th>\n",
       "      <th>education</th>\n",
       "      <th>occupation</th>\n",
       "      <th>sex</th>\n",
       "      <th>hours.per.week</th>\n",
       "    </tr>\n",
       "  </thead>\n",
       "  <tbody>\n",
       "    <tr>\n",
       "      <th>0</th>\n",
       "      <td>90</td>\n",
       "      <td>HS-grad</td>\n",
       "      <td>NaN</td>\n",
       "      <td>Female</td>\n",
       "      <td>40</td>\n",
       "    </tr>\n",
       "    <tr>\n",
       "      <th>1</th>\n",
       "      <td>82</td>\n",
       "      <td>HS-grad</td>\n",
       "      <td>Exec-managerial</td>\n",
       "      <td>Female</td>\n",
       "      <td>18</td>\n",
       "    </tr>\n",
       "    <tr>\n",
       "      <th>2</th>\n",
       "      <td>66</td>\n",
       "      <td>Some-college</td>\n",
       "      <td>NaN</td>\n",
       "      <td>Female</td>\n",
       "      <td>40</td>\n",
       "    </tr>\n",
       "    <tr>\n",
       "      <th>4</th>\n",
       "      <td>41</td>\n",
       "      <td>Some-college</td>\n",
       "      <td>Prof-specialty</td>\n",
       "      <td>Female</td>\n",
       "      <td>40</td>\n",
       "    </tr>\n",
       "    <tr>\n",
       "      <th>5</th>\n",
       "      <td>34</td>\n",
       "      <td>HS-grad</td>\n",
       "      <td>Other-service</td>\n",
       "      <td>Female</td>\n",
       "      <td>45</td>\n",
       "    </tr>\n",
       "  </tbody>\n",
       "</table>\n",
       "</div>"
      ],
      "text/plain": [
       "   age     education       occupation     sex  hours.per.week\n",
       "0   90       HS-grad              NaN  Female              40\n",
       "1   82       HS-grad  Exec-managerial  Female              18\n",
       "2   66  Some-college              NaN  Female              40\n",
       "4   41  Some-college   Prof-specialty  Female              40\n",
       "5   34       HS-grad    Other-service  Female              45"
      ]
     },
<<<<<<< HEAD
     "execution_count": 195,
=======
     "execution_count": 94,
>>>>>>> upstream/master
     "metadata": {},
     "output_type": "execute_result"
    }
   ],
   "source": [
    "X_income.head()"
   ]
  },
  {
   "cell_type": "markdown",
   "metadata": {
    "cell_style": "split",
    "slideshow": {
     "slide_type": "fragment"
    }
   },
   "source": [
    "What do we want to use for each column?"
   ]
  },
  {
   "cell_type": "markdown",
   "metadata": {
    "slideshow": {
     "slide_type": "slide"
    }
   },
   "source": [
    "First define the separate pipelines"
   ]
  },
  {
   "cell_type": "code",
<<<<<<< HEAD
   "execution_count": 196,
=======
   "execution_count": 95,
   "id": "21280d37",
>>>>>>> upstream/master
   "metadata": {
    "slideshow": {
     "slide_type": "fragment"
    }
   },
   "outputs": [
    {
     "data": {
      "text/plain": [
       "['10th',\n",
       " '11th',\n",
       " 'HS-grad',\n",
       " 'Some-college',\n",
       " 'Assoc-acdm',\n",
       " 'Assoc-voc',\n",
       " 'Bachelors',\n",
       " 'Masters',\n",
       " 'Doctorate']"
      ]
     },
<<<<<<< HEAD
     "execution_count": 196,
=======
     "execution_count": 95,
>>>>>>> upstream/master
     "metadata": {},
     "output_type": "execute_result"
    }
   ],
   "source": [
    "numeric_pipeline = Pipeline([('numimputer', SimpleImputer(strategy = 'mean')), ('numnorm', StandardScaler())])\n",
    "\n",
    "ordinal_pipeline = Pipeline([\n",
    "    ('ordimputer', SimpleImputer(strategy = 'most_frequent')),\n",
    "    ('ordenc', OrdinalEncoder(categories = [ed_list])),\n",
    "    ('ordnorm', StandardScaler())])\n",
    "\n",
    "nominal_pipeline = Pipeline([\n",
    "    ('onehotimputer', SimpleImputer(strategy = 'most_frequent')),\n",
    "    ('onehotenc', OneHotEncoder(sparse = False, drop = 'first')), \n",
    "    ('onehotnorm', MaxAbsScaler())])\n",
    "\n",
    "ed_list"
   ]
  },
  {
   "cell_type": "markdown",
   "metadata": {
    "slideshow": {
     "slide_type": "slide"
    }
   },
   "source": [
    "Now unite them with ColumnTransformer:\n",
    "- specify columns each pipeline acts on."
   ]
  },
  {
   "cell_type": "code",
<<<<<<< HEAD
   "execution_count": 197,
=======
   "execution_count": 97,
   "id": "1f081d24",
>>>>>>> upstream/master
   "metadata": {
    "slideshow": {
     "slide_type": "fragment"
    }
   },
   "outputs": [
    {
     "data": {
      "text/plain": [
       "Index(['age', 'hours.per.week'], dtype='object')"
      ]
     },
<<<<<<< HEAD
     "execution_count": 197,
=======
     "execution_count": 97,
>>>>>>> upstream/master
     "metadata": {},
     "output_type": "execute_result"
    }
   ],
   "source": [
    "num_cols = X_inc_train.select_dtypes(['int', 'float']).columns\n",
    "\n",
    "ct = ColumnTransformer(\n",
    "    [(\"ordinalpipe\", ordinal_pipeline, ['education']), \n",
    "     (\"nominalpipe\", nominal_pipeline, ['occupation','sex']),\n",
    "     (\"numpipe\", numeric_pipeline, num_cols)])\n",
    "\n",
    "num_cols"
   ]
  },
  {
   "cell_type": "markdown",
   "metadata": {
    "slideshow": {
     "slide_type": "slide"
    }
   },
   "source": [
    "Viewing the transformed data:\n",
    "- In order specified by column transformer"
   ]
  },
  {
   "cell_type": "code",
<<<<<<< HEAD
   "execution_count": 198,
=======
   "execution_count": 98,
   "id": "3d58fc08",
>>>>>>> upstream/master
   "metadata": {
    "cell_style": "center",
    "slideshow": {
     "slide_type": "fragment"
    }
   },
   "outputs": [
    {
     "data": {
      "text/html": [
       "<div>\n",
       "<style scoped>\n",
       "    .dataframe tbody tr th:only-of-type {\n",
       "        vertical-align: middle;\n",
       "    }\n",
       "\n",
       "    .dataframe tbody tr th {\n",
       "        vertical-align: top;\n",
       "    }\n",
       "\n",
       "    .dataframe thead th {\n",
       "        text-align: right;\n",
       "    }\n",
       "</style>\n",
       "<table border=\"1\" class=\"dataframe\">\n",
       "  <thead>\n",
       "    <tr style=\"text-align: right;\">\n",
       "      <th></th>\n",
       "      <th>0</th>\n",
       "      <th>1</th>\n",
       "      <th>2</th>\n",
       "      <th>3</th>\n",
       "      <th>4</th>\n",
       "      <th>5</th>\n",
       "      <th>6</th>\n",
       "      <th>7</th>\n",
       "      <th>8</th>\n",
       "      <th>9</th>\n",
       "      <th>10</th>\n",
       "      <th>11</th>\n",
       "      <th>12</th>\n",
       "      <th>13</th>\n",
       "      <th>14</th>\n",
       "      <th>15</th>\n",
       "      <th>16</th>\n",
       "    </tr>\n",
       "  </thead>\n",
       "  <tbody>\n",
       "    <tr>\n",
       "      <th>0</th>\n",
<<<<<<< HEAD
       "      <td>-0.738694</td>\n",
       "      <td>0.0</td>\n",
       "      <td>1.0</td>\n",
       "      <td>0.0</td>\n",
       "      <td>0.0</td>\n",
       "      <td>0.0</td>\n",
       "      <td>0.0</td>\n",
       "      <td>0.0</td>\n",
       "      <td>0.0</td>\n",
       "      <td>0.0</td>\n",
       "      <td>0.0</td>\n",
       "      <td>0.0</td>\n",
       "      <td>0.0</td>\n",
       "      <td>0.0</td>\n",
       "      <td>0.0</td>\n",
       "      <td>0.499450</td>\n",
       "      <td>-0.035933</td>\n",
       "    </tr>\n",
       "    <tr>\n",
       "      <th>1</th>\n",
       "      <td>-0.738694</td>\n",
       "      <td>0.0</td>\n",
=======
       "      <td>-0.738938</td>\n",
       "      <td>0.0</td>\n",
       "      <td>0.0</td>\n",
       "      <td>0.0</td>\n",
       "      <td>0.0</td>\n",
       "      <td>0.0</td>\n",
       "      <td>0.0</td>\n",
       "      <td>0.0</td>\n",
       "      <td>0.0</td>\n",
       "      <td>0.0</td>\n",
       "      <td>0.0</td>\n",
       "      <td>0.0</td>\n",
       "      <td>1.0</td>\n",
       "      <td>0.0</td>\n",
       "      <td>1.0</td>\n",
       "      <td>-1.059200</td>\n",
       "      <td>-0.038241</td>\n",
       "    </tr>\n",
       "    <tr>\n",
       "      <th>1</th>\n",
       "      <td>-0.738938</td>\n",
>>>>>>> upstream/master
       "      <td>0.0</td>\n",
       "      <td>0.0</td>\n",
       "      <td>0.0</td>\n",
       "      <td>0.0</td>\n",
       "      <td>0.0</td>\n",
       "      <td>0.0</td>\n",
       "      <td>0.0</td>\n",
       "      <td>0.0</td>\n",
       "      <td>0.0</td>\n",
       "      <td>1.0</td>\n",
       "      <td>0.0</td>\n",
       "      <td>0.0</td>\n",
       "      <td>0.0</td>\n",
<<<<<<< HEAD
       "      <td>0.797114</td>\n",
       "      <td>-0.035933</td>\n",
       "    </tr>\n",
       "    <tr>\n",
       "      <th>2</th>\n",
       "      <td>-0.212396</td>\n",
=======
       "      <td>1.0</td>\n",
       "      <td>-0.388442</td>\n",
       "      <td>-1.993430</td>\n",
       "    </tr>\n",
       "    <tr>\n",
       "      <th>2</th>\n",
       "      <td>-0.738938</td>\n",
       "      <td>0.0</td>\n",
       "      <td>0.0</td>\n",
       "      <td>0.0</td>\n",
>>>>>>> upstream/master
       "      <td>0.0</td>\n",
       "      <td>0.0</td>\n",
       "      <td>0.0</td>\n",
       "      <td>0.0</td>\n",
       "      <td>0.0</td>\n",
       "      <td>1.0</td>\n",
       "      <td>0.0</td>\n",
       "      <td>0.0</td>\n",
       "      <td>0.0</td>\n",
       "      <td>0.0</td>\n",
<<<<<<< HEAD
       "      <td>0.0</td>\n",
       "      <td>0.0</td>\n",
       "      <td>0.0</td>\n",
       "      <td>1.0</td>\n",
       "      <td>0.425034</td>\n",
       "      <td>-0.035933</td>\n",
       "    </tr>\n",
       "    <tr>\n",
       "      <th>3</th>\n",
       "      <td>1.892796</td>\n",
=======
       "      <td>1.0</td>\n",
       "      <td>0.878543</td>\n",
       "      <td>0.939353</td>\n",
       "    </tr>\n",
       "    <tr>\n",
       "      <th>3</th>\n",
       "      <td>-0.212418</td>\n",
       "      <td>0.0</td>\n",
       "      <td>0.0</td>\n",
       "      <td>0.0</td>\n",
       "      <td>0.0</td>\n",
>>>>>>> upstream/master
       "      <td>0.0</td>\n",
       "      <td>0.0</td>\n",
       "      <td>1.0</td>\n",
       "      <td>0.0</td>\n",
       "      <td>0.0</td>\n",
       "      <td>0.0</td>\n",
       "      <td>0.0</td>\n",
       "      <td>0.0</td>\n",
       "      <td>0.0</td>\n",
       "      <td>0.0</td>\n",
<<<<<<< HEAD
       "      <td>0.0</td>\n",
       "      <td>0.0</td>\n",
       "      <td>0.0</td>\n",
       "      <td>1.0</td>\n",
       "      <td>1.392443</td>\n",
       "      <td>0.779588</td>\n",
       "    </tr>\n",
       "    <tr>\n",
       "      <th>4</th>\n",
       "      <td>-0.212396</td>\n",
       "      <td>0.0</td>\n",
=======
       "      <td>-1.357314</td>\n",
       "      <td>-1.341700</td>\n",
       "    </tr>\n",
       "    <tr>\n",
       "      <th>4</th>\n",
       "      <td>-1.791978</td>\n",
>>>>>>> upstream/master
       "      <td>0.0</td>\n",
       "      <td>1.0</td>\n",
       "      <td>0.0</td>\n",
       "      <td>0.0</td>\n",
       "      <td>0.0</td>\n",
       "      <td>0.0</td>\n",
       "      <td>0.0</td>\n",
       "      <td>0.0</td>\n",
       "      <td>0.0</td>\n",
       "      <td>0.0</td>\n",
       "      <td>0.0</td>\n",
       "      <td>0.0</td>\n",
       "      <td>0.0</td>\n",
<<<<<<< HEAD
       "      <td>-0.914456</td>\n",
       "      <td>-0.035933</td>\n",
=======
       "      <td>1.0</td>\n",
       "      <td>2.294586</td>\n",
       "      <td>-0.038241</td>\n",
>>>>>>> upstream/master
       "    </tr>\n",
       "  </tbody>\n",
       "</table>\n",
       "</div>"
      ],
      "text/plain": [
       "         0    1    2    3    4    5    6    7    8    9    10   11   12   13  \\\n",
<<<<<<< HEAD
       "0 -0.738694  0.0  1.0  0.0  0.0  0.0  0.0  0.0  0.0  0.0  0.0  0.0  0.0  0.0   \n",
       "1 -0.738694  0.0  0.0  0.0  0.0  0.0  0.0  0.0  0.0  0.0  0.0  1.0  0.0  0.0   \n",
       "2 -0.212396  0.0  0.0  0.0  0.0  0.0  1.0  0.0  0.0  0.0  0.0  0.0  0.0  0.0   \n",
       "3  1.892796  0.0  0.0  1.0  0.0  0.0  0.0  0.0  0.0  0.0  0.0  0.0  0.0  0.0   \n",
       "4 -0.212396  0.0  0.0  1.0  0.0  0.0  0.0  0.0  0.0  0.0  0.0  0.0  0.0  0.0   \n",
       "\n",
       "    14        15        16  \n",
       "0  0.0  0.499450 -0.035933  \n",
       "1  0.0  0.797114 -0.035933  \n",
       "2  1.0  0.425034 -0.035933  \n",
       "3  1.0  1.392443  0.779588  \n",
       "4  0.0 -0.914456 -0.035933  "
      ]
     },
     "execution_count": 198,
=======
       "0 -0.738938  0.0  0.0  0.0  0.0  0.0  0.0  0.0  0.0  0.0  0.0  0.0  1.0  0.0   \n",
       "1 -0.738938  0.0  0.0  0.0  0.0  0.0  0.0  0.0  0.0  0.0  1.0  0.0  0.0  0.0   \n",
       "2 -0.738938  0.0  0.0  0.0  0.0  0.0  0.0  0.0  0.0  1.0  0.0  0.0  0.0  0.0   \n",
       "3 -0.212418  0.0  0.0  0.0  0.0  0.0  0.0  1.0  0.0  0.0  0.0  0.0  0.0  0.0   \n",
       "4 -1.791978  0.0  1.0  0.0  0.0  0.0  0.0  0.0  0.0  0.0  0.0  0.0  0.0  0.0   \n",
       "\n",
       "    14        15        16  \n",
       "0  1.0 -1.059200 -0.038241  \n",
       "1  1.0 -0.388442 -1.993430  \n",
       "2  1.0  0.878543  0.939353  \n",
       "3  0.0 -1.357314 -1.341700  \n",
       "4  1.0  2.294586 -0.038241  "
      ]
     },
     "execution_count": 98,
>>>>>>> upstream/master
     "metadata": {},
     "output_type": "execute_result"
    }
   ],
   "source": [
    "pd.DataFrame(ct.fit_transform(X_inc_train)).head()"
   ]
  },
  {
   "cell_type": "markdown",
   "metadata": {
    "slideshow": {
     "slide_type": "slide"
    }
   },
   "source": [
    "Let's view what our preprocessing pipeline does:"
   ]
  },
  {
   "cell_type": "code",
<<<<<<< HEAD
   "execution_count": 199,
=======
   "execution_count": 99,
   "id": "94462cda",
>>>>>>> upstream/master
   "metadata": {
    "cell_style": "split",
    "slideshow": {
     "slide_type": "fragment"
    }
   },
   "outputs": [
    {
     "data": {
      "text/html": [
<<<<<<< HEAD
       "<style>div.sk-top-container {color: black;background-color: white;}div.sk-toggleable {background-color: white;}label.sk-toggleable__label {cursor: pointer;display: block;width: 100%;margin-bottom: 0;padding: 0.2em 0.3em;box-sizing: border-box;text-align: center;}div.sk-toggleable__content {max-height: 0;max-width: 0;overflow: hidden;text-align: left;background-color: #f0f8ff;}div.sk-toggleable__content pre {margin: 0.2em;color: black;border-radius: 0.25em;background-color: #f0f8ff;}input.sk-toggleable__control:checked~div.sk-toggleable__content {max-height: 200px;max-width: 100%;overflow: auto;}div.sk-estimator input.sk-toggleable__control:checked~label.sk-toggleable__label {background-color: #d4ebff;}div.sk-label input.sk-toggleable__control:checked~label.sk-toggleable__label {background-color: #d4ebff;}input.sk-hidden--visually {border: 0;clip: rect(1px 1px 1px 1px);clip: rect(1px, 1px, 1px, 1px);height: 1px;margin: -1px;overflow: hidden;padding: 0;position: absolute;width: 1px;}div.sk-estimator {font-family: monospace;background-color: #f0f8ff;margin: 0.25em 0.25em;border: 1px dotted black;border-radius: 0.25em;box-sizing: border-box;}div.sk-estimator:hover {background-color: #d4ebff;}div.sk-parallel-item::after {content: \"\";width: 100%;border-bottom: 1px solid gray;flex-grow: 1;}div.sk-label:hover label.sk-toggleable__label {background-color: #d4ebff;}div.sk-serial::before {content: \"\";position: absolute;border-left: 1px solid gray;box-sizing: border-box;top: 2em;bottom: 0;left: 50%;}div.sk-serial {display: flex;flex-direction: column;align-items: center;background-color: white;}div.sk-item {z-index: 1;}div.sk-parallel {display: flex;align-items: stretch;justify-content: center;background-color: white;}div.sk-parallel-item {display: flex;flex-direction: column;position: relative;background-color: white;}div.sk-parallel-item:first-child::after {align-self: flex-end;width: 50%;}div.sk-parallel-item:last-child::after {align-self: flex-start;width: 50%;}div.sk-parallel-item:only-child::after {width: 0;}div.sk-dashed-wrapped {border: 1px dashed gray;margin: 0.2em;box-sizing: border-box;padding-bottom: 0.1em;background-color: white;position: relative;}div.sk-label label {font-family: monospace;font-weight: bold;background-color: white;display: inline-block;line-height: 1.2em;}div.sk-label-container {position: relative;z-index: 2;text-align: center;}div.sk-container {display: inline-block;position: relative;}</style><div class=\"sk-top-container\"><div class=\"sk-container\"><div class=\"sk-item sk-dashed-wrapped\"><div class=\"sk-label-container\"><div class=\"sk-label sk-toggleable\"><input class=\"sk-toggleable__control sk-hidden--visually\" id=\"16354084-ef8f-4554-8da8-de9a268babb6\" type=\"checkbox\" ><label class=\"sk-toggleable__label\" for=\"16354084-ef8f-4554-8da8-de9a268babb6\">ColumnTransformer</label><div class=\"sk-toggleable__content\"><pre>ColumnTransformer(transformers=[('ordinalpipe',\n",
=======
       "<style>#sk-b52189b9-34de-4c4c-9eba-cdcd8e31f43e {color: black;background-color: white;}#sk-b52189b9-34de-4c4c-9eba-cdcd8e31f43e pre{padding: 0;}#sk-b52189b9-34de-4c4c-9eba-cdcd8e31f43e div.sk-toggleable {background-color: white;}#sk-b52189b9-34de-4c4c-9eba-cdcd8e31f43e label.sk-toggleable__label {cursor: pointer;display: block;width: 100%;margin-bottom: 0;padding: 0.2em 0.3em;box-sizing: border-box;text-align: center;}#sk-b52189b9-34de-4c4c-9eba-cdcd8e31f43e div.sk-toggleable__content {max-height: 0;max-width: 0;overflow: hidden;text-align: left;background-color: #f0f8ff;}#sk-b52189b9-34de-4c4c-9eba-cdcd8e31f43e div.sk-toggleable__content pre {margin: 0.2em;color: black;border-radius: 0.25em;background-color: #f0f8ff;}#sk-b52189b9-34de-4c4c-9eba-cdcd8e31f43e input.sk-toggleable__control:checked~div.sk-toggleable__content {max-height: 200px;max-width: 100%;overflow: auto;}#sk-b52189b9-34de-4c4c-9eba-cdcd8e31f43e div.sk-estimator input.sk-toggleable__control:checked~label.sk-toggleable__label {background-color: #d4ebff;}#sk-b52189b9-34de-4c4c-9eba-cdcd8e31f43e div.sk-label input.sk-toggleable__control:checked~label.sk-toggleable__label {background-color: #d4ebff;}#sk-b52189b9-34de-4c4c-9eba-cdcd8e31f43e input.sk-hidden--visually {border: 0;clip: rect(1px 1px 1px 1px);clip: rect(1px, 1px, 1px, 1px);height: 1px;margin: -1px;overflow: hidden;padding: 0;position: absolute;width: 1px;}#sk-b52189b9-34de-4c4c-9eba-cdcd8e31f43e div.sk-estimator {font-family: monospace;background-color: #f0f8ff;margin: 0.25em 0.25em;border: 1px dotted black;border-radius: 0.25em;box-sizing: border-box;}#sk-b52189b9-34de-4c4c-9eba-cdcd8e31f43e div.sk-estimator:hover {background-color: #d4ebff;}#sk-b52189b9-34de-4c4c-9eba-cdcd8e31f43e div.sk-parallel-item::after {content: \"\";width: 100%;border-bottom: 1px solid gray;flex-grow: 1;}#sk-b52189b9-34de-4c4c-9eba-cdcd8e31f43e div.sk-label:hover label.sk-toggleable__label {background-color: #d4ebff;}#sk-b52189b9-34de-4c4c-9eba-cdcd8e31f43e div.sk-serial::before {content: \"\";position: absolute;border-left: 1px solid gray;box-sizing: border-box;top: 2em;bottom: 0;left: 50%;}#sk-b52189b9-34de-4c4c-9eba-cdcd8e31f43e div.sk-serial {display: flex;flex-direction: column;align-items: center;background-color: white;}#sk-b52189b9-34de-4c4c-9eba-cdcd8e31f43e div.sk-item {z-index: 1;}#sk-b52189b9-34de-4c4c-9eba-cdcd8e31f43e div.sk-parallel {display: flex;align-items: stretch;justify-content: center;background-color: white;}#sk-b52189b9-34de-4c4c-9eba-cdcd8e31f43e div.sk-parallel-item {display: flex;flex-direction: column;position: relative;background-color: white;}#sk-b52189b9-34de-4c4c-9eba-cdcd8e31f43e div.sk-parallel-item:first-child::after {align-self: flex-end;width: 50%;}#sk-b52189b9-34de-4c4c-9eba-cdcd8e31f43e div.sk-parallel-item:last-child::after {align-self: flex-start;width: 50%;}#sk-b52189b9-34de-4c4c-9eba-cdcd8e31f43e div.sk-parallel-item:only-child::after {width: 0;}#sk-b52189b9-34de-4c4c-9eba-cdcd8e31f43e div.sk-dashed-wrapped {border: 1px dashed gray;margin: 0.2em;box-sizing: border-box;padding-bottom: 0.1em;background-color: white;position: relative;}#sk-b52189b9-34de-4c4c-9eba-cdcd8e31f43e div.sk-label label {font-family: monospace;font-weight: bold;background-color: white;display: inline-block;line-height: 1.2em;}#sk-b52189b9-34de-4c4c-9eba-cdcd8e31f43e div.sk-label-container {position: relative;z-index: 2;text-align: center;}#sk-b52189b9-34de-4c4c-9eba-cdcd8e31f43e div.sk-container {display: inline-block;position: relative;}</style><div id=\"sk-b52189b9-34de-4c4c-9eba-cdcd8e31f43e\" class\"sk-top-container\"><div class=\"sk-container\"><div class=\"sk-item sk-dashed-wrapped\"><div class=\"sk-label-container\"><div class=\"sk-label sk-toggleable\"><input class=\"sk-toggleable__control sk-hidden--visually\" id=\"4f8fbad3-99bb-4981-a692-34afb0cb3d7f\" type=\"checkbox\" ><label class=\"sk-toggleable__label\" for=\"4f8fbad3-99bb-4981-a692-34afb0cb3d7f\">ColumnTransformer</label><div class=\"sk-toggleable__content\"><pre>ColumnTransformer(transformers=[('ordinalpipe',\n",
>>>>>>> upstream/master
       "                                 Pipeline(steps=[('ordimputer',\n",
       "                                                  SimpleImputer(strategy='most_frequent')),\n",
       "                                                 ('ordenc',\n",
       "                                                  OrdinalEncoder(categories=[['10th',\n",
       "                                                                              '11th',\n",
       "                                                                              'HS-grad',\n",
       "                                                                              'Some-college',\n",
       "                                                                              'Assoc-acdm',\n",
       "                                                                              'Assoc-voc',\n",
       "                                                                              'Bachelors',\n",
       "                                                                              'Masters',\n",
       "                                                                              'Doctorate']])),\n",
       "                                                 ('ordnorm',\n",
       "                                                  StandardScaler())]),\n",
       "                                 ['education']),\n",
       "                                ('nominalpipe',\n",
       "                                 Pipeline(steps=[('onehotimputer',\n",
       "                                                  SimpleImputer(strategy='most_frequent')),\n",
       "                                                 ('onehotenc',\n",
       "                                                  OneHotEncoder(drop='first',\n",
       "                                                                sparse=False)),\n",
       "                                                 ('onehotnorm',\n",
       "                                                  MaxAbsScaler())]),\n",
       "                                 ['occupation', 'sex']),\n",
       "                                ('numpipe',\n",
       "                                 Pipeline(steps=[('numimputer',\n",
       "                                                  SimpleImputer()),\n",
       "                                                 ('numnorm',\n",
       "                                                  StandardScaler())]),\n",
<<<<<<< HEAD
       "                                 Index(['age', 'hours.per.week'], dtype='object'))])</pre></div></div></div><div class=\"sk-parallel\"><div class=\"sk-parallel-item\"><div class=\"sk-item\"><div class=\"sk-label-container\"><div class=\"sk-label sk-toggleable\"><input class=\"sk-toggleable__control sk-hidden--visually\" id=\"52ac5b24-f584-451b-8ddf-2ad704dbc794\" type=\"checkbox\" ><label class=\"sk-toggleable__label\" for=\"52ac5b24-f584-451b-8ddf-2ad704dbc794\">ordinalpipe</label><div class=\"sk-toggleable__content\"><pre>['education']</pre></div></div></div><div class=\"sk-serial\"><div class=\"sk-item\"><div class=\"sk-serial\"><div class=\"sk-item\"><div class=\"sk-estimator sk-toggleable\"><input class=\"sk-toggleable__control sk-hidden--visually\" id=\"8529c4a1-a82a-4c28-a633-9a6c06c6dfb1\" type=\"checkbox\" ><label class=\"sk-toggleable__label\" for=\"8529c4a1-a82a-4c28-a633-9a6c06c6dfb1\">SimpleImputer</label><div class=\"sk-toggleable__content\"><pre>SimpleImputer(strategy='most_frequent')</pre></div></div></div><div class=\"sk-item\"><div class=\"sk-estimator sk-toggleable\"><input class=\"sk-toggleable__control sk-hidden--visually\" id=\"44b04023-92cb-444e-9ef5-7e9e93d8198d\" type=\"checkbox\" ><label class=\"sk-toggleable__label\" for=\"44b04023-92cb-444e-9ef5-7e9e93d8198d\">OrdinalEncoder</label><div class=\"sk-toggleable__content\"><pre>OrdinalEncoder(categories=[['10th', '11th', 'HS-grad', 'Some-college',\n",
       "                            'Assoc-acdm', 'Assoc-voc', 'Bachelors', 'Masters',\n",
       "                            'Doctorate']])</pre></div></div></div><div class=\"sk-item\"><div class=\"sk-estimator sk-toggleable\"><input class=\"sk-toggleable__control sk-hidden--visually\" id=\"659dc8f0-c986-4f37-ba9e-a09b076f733c\" type=\"checkbox\" ><label class=\"sk-toggleable__label\" for=\"659dc8f0-c986-4f37-ba9e-a09b076f733c\">StandardScaler</label><div class=\"sk-toggleable__content\"><pre>StandardScaler()</pre></div></div></div></div></div></div></div></div><div class=\"sk-parallel-item\"><div class=\"sk-item\"><div class=\"sk-label-container\"><div class=\"sk-label sk-toggleable\"><input class=\"sk-toggleable__control sk-hidden--visually\" id=\"2b3106ff-dd18-4b44-8bc2-df78965a4bb4\" type=\"checkbox\" ><label class=\"sk-toggleable__label\" for=\"2b3106ff-dd18-4b44-8bc2-df78965a4bb4\">nominalpipe</label><div class=\"sk-toggleable__content\"><pre>['occupation', 'sex']</pre></div></div></div><div class=\"sk-serial\"><div class=\"sk-item\"><div class=\"sk-serial\"><div class=\"sk-item\"><div class=\"sk-estimator sk-toggleable\"><input class=\"sk-toggleable__control sk-hidden--visually\" id=\"34382a08-2e33-46cc-ae97-9765c96483ff\" type=\"checkbox\" ><label class=\"sk-toggleable__label\" for=\"34382a08-2e33-46cc-ae97-9765c96483ff\">SimpleImputer</label><div class=\"sk-toggleable__content\"><pre>SimpleImputer(strategy='most_frequent')</pre></div></div></div><div class=\"sk-item\"><div class=\"sk-estimator sk-toggleable\"><input class=\"sk-toggleable__control sk-hidden--visually\" id=\"ed28d5a0-da9b-49f0-ab58-e0264ed99f7b\" type=\"checkbox\" ><label class=\"sk-toggleable__label\" for=\"ed28d5a0-da9b-49f0-ab58-e0264ed99f7b\">OneHotEncoder</label><div class=\"sk-toggleable__content\"><pre>OneHotEncoder(drop='first', sparse=False)</pre></div></div></div><div class=\"sk-item\"><div class=\"sk-estimator sk-toggleable\"><input class=\"sk-toggleable__control sk-hidden--visually\" id=\"b0d17d64-02b5-4444-a8ef-365caaf1147f\" type=\"checkbox\" ><label class=\"sk-toggleable__label\" for=\"b0d17d64-02b5-4444-a8ef-365caaf1147f\">MaxAbsScaler</label><div class=\"sk-toggleable__content\"><pre>MaxAbsScaler()</pre></div></div></div></div></div></div></div></div><div class=\"sk-parallel-item\"><div class=\"sk-item\"><div class=\"sk-label-container\"><div class=\"sk-label sk-toggleable\"><input class=\"sk-toggleable__control sk-hidden--visually\" id=\"0d57ada5-76d3-49e4-9c04-067c731032e4\" type=\"checkbox\" ><label class=\"sk-toggleable__label\" for=\"0d57ada5-76d3-49e4-9c04-067c731032e4\">numpipe</label><div class=\"sk-toggleable__content\"><pre>Index(['age', 'hours.per.week'], dtype='object')</pre></div></div></div><div class=\"sk-serial\"><div class=\"sk-item\"><div class=\"sk-serial\"><div class=\"sk-item\"><div class=\"sk-estimator sk-toggleable\"><input class=\"sk-toggleable__control sk-hidden--visually\" id=\"1ac0bd54-ba88-4773-b95f-80a45af06d4d\" type=\"checkbox\" ><label class=\"sk-toggleable__label\" for=\"1ac0bd54-ba88-4773-b95f-80a45af06d4d\">SimpleImputer</label><div class=\"sk-toggleable__content\"><pre>SimpleImputer()</pre></div></div></div><div class=\"sk-item\"><div class=\"sk-estimator sk-toggleable\"><input class=\"sk-toggleable__control sk-hidden--visually\" id=\"a43abd98-9fcb-43db-b11f-f7c938920c0b\" type=\"checkbox\" ><label class=\"sk-toggleable__label\" for=\"a43abd98-9fcb-43db-b11f-f7c938920c0b\">StandardScaler</label><div class=\"sk-toggleable__content\"><pre>StandardScaler()</pre></div></div></div></div></div></div></div></div></div></div></div></div>"
=======
       "                                 Index(['age', 'hours.per.week'], dtype='object'))])</pre></div></div></div><div class=\"sk-parallel\"><div class=\"sk-parallel-item\"><div class=\"sk-item\"><div class=\"sk-label-container\"><div class=\"sk-label sk-toggleable\"><input class=\"sk-toggleable__control sk-hidden--visually\" id=\"5a632be0-4812-464f-b694-8ecfbe15b709\" type=\"checkbox\" ><label class=\"sk-toggleable__label\" for=\"5a632be0-4812-464f-b694-8ecfbe15b709\">ordinalpipe</label><div class=\"sk-toggleable__content\"><pre>['education']</pre></div></div></div><div class=\"sk-serial\"><div class=\"sk-item\"><div class=\"sk-serial\"><div class=\"sk-item\"><div class=\"sk-estimator sk-toggleable\"><input class=\"sk-toggleable__control sk-hidden--visually\" id=\"fd787b36-e5db-40ec-b4b8-ca02781fd928\" type=\"checkbox\" ><label class=\"sk-toggleable__label\" for=\"fd787b36-e5db-40ec-b4b8-ca02781fd928\">SimpleImputer</label><div class=\"sk-toggleable__content\"><pre>SimpleImputer(strategy='most_frequent')</pre></div></div></div><div class=\"sk-item\"><div class=\"sk-estimator sk-toggleable\"><input class=\"sk-toggleable__control sk-hidden--visually\" id=\"6a0c1496-d085-4d81-8fa8-74f304abfd22\" type=\"checkbox\" ><label class=\"sk-toggleable__label\" for=\"6a0c1496-d085-4d81-8fa8-74f304abfd22\">OrdinalEncoder</label><div class=\"sk-toggleable__content\"><pre>OrdinalEncoder(categories=[['10th', '11th', 'HS-grad', 'Some-college',\n",
       "                            'Assoc-acdm', 'Assoc-voc', 'Bachelors', 'Masters',\n",
       "                            'Doctorate']])</pre></div></div></div><div class=\"sk-item\"><div class=\"sk-estimator sk-toggleable\"><input class=\"sk-toggleable__control sk-hidden--visually\" id=\"1884ad74-8ad2-4b8c-b299-cf25ef280177\" type=\"checkbox\" ><label class=\"sk-toggleable__label\" for=\"1884ad74-8ad2-4b8c-b299-cf25ef280177\">StandardScaler</label><div class=\"sk-toggleable__content\"><pre>StandardScaler()</pre></div></div></div></div></div></div></div></div><div class=\"sk-parallel-item\"><div class=\"sk-item\"><div class=\"sk-label-container\"><div class=\"sk-label sk-toggleable\"><input class=\"sk-toggleable__control sk-hidden--visually\" id=\"8e32e501-6fb0-4237-bb11-3a1a8e2afd72\" type=\"checkbox\" ><label class=\"sk-toggleable__label\" for=\"8e32e501-6fb0-4237-bb11-3a1a8e2afd72\">nominalpipe</label><div class=\"sk-toggleable__content\"><pre>['occupation', 'sex']</pre></div></div></div><div class=\"sk-serial\"><div class=\"sk-item\"><div class=\"sk-serial\"><div class=\"sk-item\"><div class=\"sk-estimator sk-toggleable\"><input class=\"sk-toggleable__control sk-hidden--visually\" id=\"83cc3466-cdbd-40a4-88b5-6dcab17d15de\" type=\"checkbox\" ><label class=\"sk-toggleable__label\" for=\"83cc3466-cdbd-40a4-88b5-6dcab17d15de\">SimpleImputer</label><div class=\"sk-toggleable__content\"><pre>SimpleImputer(strategy='most_frequent')</pre></div></div></div><div class=\"sk-item\"><div class=\"sk-estimator sk-toggleable\"><input class=\"sk-toggleable__control sk-hidden--visually\" id=\"3d6115a9-4f79-4204-b65a-64c3b85ead1c\" type=\"checkbox\" ><label class=\"sk-toggleable__label\" for=\"3d6115a9-4f79-4204-b65a-64c3b85ead1c\">OneHotEncoder</label><div class=\"sk-toggleable__content\"><pre>OneHotEncoder(drop='first', sparse=False)</pre></div></div></div><div class=\"sk-item\"><div class=\"sk-estimator sk-toggleable\"><input class=\"sk-toggleable__control sk-hidden--visually\" id=\"595c9b9d-ae78-4df3-8b1c-aaa406887a22\" type=\"checkbox\" ><label class=\"sk-toggleable__label\" for=\"595c9b9d-ae78-4df3-8b1c-aaa406887a22\">MaxAbsScaler</label><div class=\"sk-toggleable__content\"><pre>MaxAbsScaler()</pre></div></div></div></div></div></div></div></div><div class=\"sk-parallel-item\"><div class=\"sk-item\"><div class=\"sk-label-container\"><div class=\"sk-label sk-toggleable\"><input class=\"sk-toggleable__control sk-hidden--visually\" id=\"1eab8f9b-db8f-4fe8-bbb3-6df72fa1ef9c\" type=\"checkbox\" ><label class=\"sk-toggleable__label\" for=\"1eab8f9b-db8f-4fe8-bbb3-6df72fa1ef9c\">numpipe</label><div class=\"sk-toggleable__content\"><pre>Index(['age', 'hours.per.week'], dtype='object')</pre></div></div></div><div class=\"sk-serial\"><div class=\"sk-item\"><div class=\"sk-serial\"><div class=\"sk-item\"><div class=\"sk-estimator sk-toggleable\"><input class=\"sk-toggleable__control sk-hidden--visually\" id=\"530cd02d-6424-48bf-9cba-7389ef6f7163\" type=\"checkbox\" ><label class=\"sk-toggleable__label\" for=\"530cd02d-6424-48bf-9cba-7389ef6f7163\">SimpleImputer</label><div class=\"sk-toggleable__content\"><pre>SimpleImputer()</pre></div></div></div><div class=\"sk-item\"><div class=\"sk-estimator sk-toggleable\"><input class=\"sk-toggleable__control sk-hidden--visually\" id=\"c2909bc0-5b06-415a-aea6-8eed135e15d6\" type=\"checkbox\" ><label class=\"sk-toggleable__label\" for=\"c2909bc0-5b06-415a-aea6-8eed135e15d6\">StandardScaler</label><div class=\"sk-toggleable__content\"><pre>StandardScaler()</pre></div></div></div></div></div></div></div></div></div></div></div></div>"
>>>>>>> upstream/master
      ],
      "text/plain": [
       "ColumnTransformer(transformers=[('ordinalpipe',\n",
       "                                 Pipeline(steps=[('ordimputer',\n",
       "                                                  SimpleImputer(strategy='most_frequent')),\n",
       "                                                 ('ordenc',\n",
       "                                                  OrdinalEncoder(categories=[['10th',\n",
       "                                                                              '11th',\n",
       "                                                                              'HS-grad',\n",
       "                                                                              'Some-college',\n",
       "                                                                              'Assoc-acdm',\n",
       "                                                                              'Assoc-voc',\n",
       "                                                                              'Bachelors',\n",
       "                                                                              'Masters',\n",
       "                                                                              'Doctorate']])),\n",
       "                                                 ('ordnorm',\n",
       "                                                  StandardScaler())]),\n",
       "                                 ['education']),\n",
       "                                ('nominalpipe',\n",
       "                                 Pipeline(steps=[('onehotimputer',\n",
       "                                                  SimpleImputer(strategy='most_frequent')),\n",
       "                                                 ('onehotenc',\n",
       "                                                  OneHotEncoder(drop='first',\n",
       "                                                                sparse=False)),\n",
       "                                                 ('onehotnorm',\n",
       "                                                  MaxAbsScaler())]),\n",
       "                                 ['occupation', 'sex']),\n",
       "                                ('numpipe',\n",
       "                                 Pipeline(steps=[('numimputer',\n",
       "                                                  SimpleImputer()),\n",
       "                                                 ('numnorm',\n",
       "                                                  StandardScaler())]),\n",
       "                                 Index(['age', 'hours.per.week'], dtype='object'))])"
      ]
     },
<<<<<<< HEAD
     "execution_count": 199,
=======
     "execution_count": 99,
>>>>>>> upstream/master
     "metadata": {},
     "output_type": "execute_result"
    }
   ],
   "source": [
    "ct"
   ]
  },
  {
   "cell_type": "markdown",
   "metadata": {
    "cell_style": "split",
    "slideshow": {
     "slide_type": "fragment"
    }
   },
   "source": [
    "Takes specified columns:\n",
    "- Applies ordinal pipeline to first set\n",
    "- Nominal pipeline to second subset\n",
    "- Numeric pipeline to last set\n",
    "\n",
    "Joins result *in column transform order* at the end."
   ]
  },
  {
   "cell_type": "markdown",
   "metadata": {
    "cell_style": "split",
    "slideshow": {
     "slide_type": "slide"
    }
   },
   "source": [
    "Column transformer: access/change individual steps in branches\n",
    "- .named_transformers_ attribute as dictionary of transformers"
   ]
  },
  {
   "cell_type": "code",
<<<<<<< HEAD
   "execution_count": 200,
=======
   "execution_count": 102,
   "id": "717900e9",
>>>>>>> upstream/master
   "metadata": {
    "cell_style": "split",
    "slideshow": {
     "slide_type": "fragment"
    }
   },
   "outputs": [
    {
     "data": {
      "text/plain": [
       "{'ordinalpipe': Pipeline(steps=[('ordimputer', SimpleImputer(strategy='most_frequent')),\n",
       "                 ('ordenc',\n",
       "                  OrdinalEncoder(categories=[['10th', '11th', 'HS-grad',\n",
       "                                              'Some-college', 'Assoc-acdm',\n",
       "                                              'Assoc-voc', 'Bachelors',\n",
       "                                              'Masters', 'Doctorate']])),\n",
       "                 ('ordnorm', StandardScaler())]),\n",
       " 'nominalpipe': Pipeline(steps=[('onehotimputer', SimpleImputer(strategy='most_frequent')),\n",
       "                 ('onehotenc', OneHotEncoder(drop='first', sparse=False)),\n",
       "                 ('onehotnorm', MaxAbsScaler())]),\n",
       " 'numpipe': Pipeline(steps=[('numimputer', SimpleImputer()), ('numnorm', StandardScaler())])}"
      ]
     },
<<<<<<< HEAD
     "execution_count": 200,
=======
     "execution_count": 102,
>>>>>>> upstream/master
     "metadata": {},
     "output_type": "execute_result"
    }
   ],
   "source": [
    "ct.named_transformers_"
   ]
  },
  {
   "cell_type": "code",
<<<<<<< HEAD
   "execution_count": 201,
=======
   "execution_count": 110,
   "id": "b4fa49be",
>>>>>>> upstream/master
   "metadata": {
    "cell_style": "center",
    "slideshow": {
     "slide_type": "subslide"
    }
   },
   "outputs": [
    {
     "data": {
      "text/html": [
<<<<<<< HEAD
       "<style>div.sk-top-container {color: black;background-color: white;}div.sk-toggleable {background-color: white;}label.sk-toggleable__label {cursor: pointer;display: block;width: 100%;margin-bottom: 0;padding: 0.2em 0.3em;box-sizing: border-box;text-align: center;}div.sk-toggleable__content {max-height: 0;max-width: 0;overflow: hidden;text-align: left;background-color: #f0f8ff;}div.sk-toggleable__content pre {margin: 0.2em;color: black;border-radius: 0.25em;background-color: #f0f8ff;}input.sk-toggleable__control:checked~div.sk-toggleable__content {max-height: 200px;max-width: 100%;overflow: auto;}div.sk-estimator input.sk-toggleable__control:checked~label.sk-toggleable__label {background-color: #d4ebff;}div.sk-label input.sk-toggleable__control:checked~label.sk-toggleable__label {background-color: #d4ebff;}input.sk-hidden--visually {border: 0;clip: rect(1px 1px 1px 1px);clip: rect(1px, 1px, 1px, 1px);height: 1px;margin: -1px;overflow: hidden;padding: 0;position: absolute;width: 1px;}div.sk-estimator {font-family: monospace;background-color: #f0f8ff;margin: 0.25em 0.25em;border: 1px dotted black;border-radius: 0.25em;box-sizing: border-box;}div.sk-estimator:hover {background-color: #d4ebff;}div.sk-parallel-item::after {content: \"\";width: 100%;border-bottom: 1px solid gray;flex-grow: 1;}div.sk-label:hover label.sk-toggleable__label {background-color: #d4ebff;}div.sk-serial::before {content: \"\";position: absolute;border-left: 1px solid gray;box-sizing: border-box;top: 2em;bottom: 0;left: 50%;}div.sk-serial {display: flex;flex-direction: column;align-items: center;background-color: white;}div.sk-item {z-index: 1;}div.sk-parallel {display: flex;align-items: stretch;justify-content: center;background-color: white;}div.sk-parallel-item {display: flex;flex-direction: column;position: relative;background-color: white;}div.sk-parallel-item:first-child::after {align-self: flex-end;width: 50%;}div.sk-parallel-item:last-child::after {align-self: flex-start;width: 50%;}div.sk-parallel-item:only-child::after {width: 0;}div.sk-dashed-wrapped {border: 1px dashed gray;margin: 0.2em;box-sizing: border-box;padding-bottom: 0.1em;background-color: white;position: relative;}div.sk-label label {font-family: monospace;font-weight: bold;background-color: white;display: inline-block;line-height: 1.2em;}div.sk-label-container {position: relative;z-index: 2;text-align: center;}div.sk-container {display: inline-block;position: relative;}</style><div class=\"sk-top-container\"><div class=\"sk-container\"><div class=\"sk-item sk-dashed-wrapped\"><div class=\"sk-label-container\"><div class=\"sk-label sk-toggleable\"><input class=\"sk-toggleable__control sk-hidden--visually\" id=\"97a793f0-2feb-403b-91c5-4840ae08b089\" type=\"checkbox\" ><label class=\"sk-toggleable__label\" for=\"97a793f0-2feb-403b-91c5-4840ae08b089\">Pipeline</label><div class=\"sk-toggleable__content\"><pre>Pipeline(steps=[('ordimputer', SimpleImputer(strategy='most_frequent')),\n",
=======
       "<style>#sk-a1458d38-21a0-4d20-9e59-f687b10cb899 {color: black;background-color: white;}#sk-a1458d38-21a0-4d20-9e59-f687b10cb899 pre{padding: 0;}#sk-a1458d38-21a0-4d20-9e59-f687b10cb899 div.sk-toggleable {background-color: white;}#sk-a1458d38-21a0-4d20-9e59-f687b10cb899 label.sk-toggleable__label {cursor: pointer;display: block;width: 100%;margin-bottom: 0;padding: 0.2em 0.3em;box-sizing: border-box;text-align: center;}#sk-a1458d38-21a0-4d20-9e59-f687b10cb899 div.sk-toggleable__content {max-height: 0;max-width: 0;overflow: hidden;text-align: left;background-color: #f0f8ff;}#sk-a1458d38-21a0-4d20-9e59-f687b10cb899 div.sk-toggleable__content pre {margin: 0.2em;color: black;border-radius: 0.25em;background-color: #f0f8ff;}#sk-a1458d38-21a0-4d20-9e59-f687b10cb899 input.sk-toggleable__control:checked~div.sk-toggleable__content {max-height: 200px;max-width: 100%;overflow: auto;}#sk-a1458d38-21a0-4d20-9e59-f687b10cb899 div.sk-estimator input.sk-toggleable__control:checked~label.sk-toggleable__label {background-color: #d4ebff;}#sk-a1458d38-21a0-4d20-9e59-f687b10cb899 div.sk-label input.sk-toggleable__control:checked~label.sk-toggleable__label {background-color: #d4ebff;}#sk-a1458d38-21a0-4d20-9e59-f687b10cb899 input.sk-hidden--visually {border: 0;clip: rect(1px 1px 1px 1px);clip: rect(1px, 1px, 1px, 1px);height: 1px;margin: -1px;overflow: hidden;padding: 0;position: absolute;width: 1px;}#sk-a1458d38-21a0-4d20-9e59-f687b10cb899 div.sk-estimator {font-family: monospace;background-color: #f0f8ff;margin: 0.25em 0.25em;border: 1px dotted black;border-radius: 0.25em;box-sizing: border-box;}#sk-a1458d38-21a0-4d20-9e59-f687b10cb899 div.sk-estimator:hover {background-color: #d4ebff;}#sk-a1458d38-21a0-4d20-9e59-f687b10cb899 div.sk-parallel-item::after {content: \"\";width: 100%;border-bottom: 1px solid gray;flex-grow: 1;}#sk-a1458d38-21a0-4d20-9e59-f687b10cb899 div.sk-label:hover label.sk-toggleable__label {background-color: #d4ebff;}#sk-a1458d38-21a0-4d20-9e59-f687b10cb899 div.sk-serial::before {content: \"\";position: absolute;border-left: 1px solid gray;box-sizing: border-box;top: 2em;bottom: 0;left: 50%;}#sk-a1458d38-21a0-4d20-9e59-f687b10cb899 div.sk-serial {display: flex;flex-direction: column;align-items: center;background-color: white;}#sk-a1458d38-21a0-4d20-9e59-f687b10cb899 div.sk-item {z-index: 1;}#sk-a1458d38-21a0-4d20-9e59-f687b10cb899 div.sk-parallel {display: flex;align-items: stretch;justify-content: center;background-color: white;}#sk-a1458d38-21a0-4d20-9e59-f687b10cb899 div.sk-parallel-item {display: flex;flex-direction: column;position: relative;background-color: white;}#sk-a1458d38-21a0-4d20-9e59-f687b10cb899 div.sk-parallel-item:first-child::after {align-self: flex-end;width: 50%;}#sk-a1458d38-21a0-4d20-9e59-f687b10cb899 div.sk-parallel-item:last-child::after {align-self: flex-start;width: 50%;}#sk-a1458d38-21a0-4d20-9e59-f687b10cb899 div.sk-parallel-item:only-child::after {width: 0;}#sk-a1458d38-21a0-4d20-9e59-f687b10cb899 div.sk-dashed-wrapped {border: 1px dashed gray;margin: 0.2em;box-sizing: border-box;padding-bottom: 0.1em;background-color: white;position: relative;}#sk-a1458d38-21a0-4d20-9e59-f687b10cb899 div.sk-label label {font-family: monospace;font-weight: bold;background-color: white;display: inline-block;line-height: 1.2em;}#sk-a1458d38-21a0-4d20-9e59-f687b10cb899 div.sk-label-container {position: relative;z-index: 2;text-align: center;}#sk-a1458d38-21a0-4d20-9e59-f687b10cb899 div.sk-container {display: inline-block;position: relative;}</style><div id=\"sk-a1458d38-21a0-4d20-9e59-f687b10cb899\" class\"sk-top-container\"><div class=\"sk-container\"><div class=\"sk-item sk-dashed-wrapped\"><div class=\"sk-label-container\"><div class=\"sk-label sk-toggleable\"><input class=\"sk-toggleable__control sk-hidden--visually\" id=\"a0df04f3-e4cc-4533-82b2-fcfa7992c8d0\" type=\"checkbox\" ><label class=\"sk-toggleable__label\" for=\"a0df04f3-e4cc-4533-82b2-fcfa7992c8d0\">Pipeline</label><div class=\"sk-toggleable__content\"><pre>Pipeline(steps=[('ordimputer', SimpleImputer(strategy='most_frequent')),\n",
>>>>>>> upstream/master
       "                ('ordenc',\n",
       "                 OrdinalEncoder(categories=[['10th', '11th', 'HS-grad',\n",
       "                                             'Some-college', 'Assoc-acdm',\n",
       "                                             'Assoc-voc', 'Bachelors',\n",
       "                                             'Masters', 'Doctorate']])),\n",
<<<<<<< HEAD
       "                ('ordnorm', StandardScaler())])</pre></div></div></div><div class=\"sk-serial\"><div class=\"sk-item\"><div class=\"sk-estimator sk-toggleable\"><input class=\"sk-toggleable__control sk-hidden--visually\" id=\"c6984521-0fde-414c-97e3-f806074dbd05\" type=\"checkbox\" ><label class=\"sk-toggleable__label\" for=\"c6984521-0fde-414c-97e3-f806074dbd05\">SimpleImputer</label><div class=\"sk-toggleable__content\"><pre>SimpleImputer(strategy='most_frequent')</pre></div></div></div><div class=\"sk-item\"><div class=\"sk-estimator sk-toggleable\"><input class=\"sk-toggleable__control sk-hidden--visually\" id=\"7bfde2ee-4a70-4766-b272-120dcc6994c1\" type=\"checkbox\" ><label class=\"sk-toggleable__label\" for=\"7bfde2ee-4a70-4766-b272-120dcc6994c1\">OrdinalEncoder</label><div class=\"sk-toggleable__content\"><pre>OrdinalEncoder(categories=[['10th', '11th', 'HS-grad', 'Some-college',\n",
       "                            'Assoc-acdm', 'Assoc-voc', 'Bachelors', 'Masters',\n",
       "                            'Doctorate']])</pre></div></div></div><div class=\"sk-item\"><div class=\"sk-estimator sk-toggleable\"><input class=\"sk-toggleable__control sk-hidden--visually\" id=\"cc0ddc1e-43d2-42f3-ac7c-a2824be5cbe4\" type=\"checkbox\" ><label class=\"sk-toggleable__label\" for=\"cc0ddc1e-43d2-42f3-ac7c-a2824be5cbe4\">StandardScaler</label><div class=\"sk-toggleable__content\"><pre>StandardScaler()</pre></div></div></div></div></div></div></div>"
=======
       "                ('ordnorm', StandardScaler())])</pre></div></div></div><div class=\"sk-serial\"><div class=\"sk-item\"><div class=\"sk-estimator sk-toggleable\"><input class=\"sk-toggleable__control sk-hidden--visually\" id=\"33c2e28e-73f4-447f-ae26-b26b76342762\" type=\"checkbox\" ><label class=\"sk-toggleable__label\" for=\"33c2e28e-73f4-447f-ae26-b26b76342762\">SimpleImputer</label><div class=\"sk-toggleable__content\"><pre>SimpleImputer(strategy='most_frequent')</pre></div></div></div><div class=\"sk-item\"><div class=\"sk-estimator sk-toggleable\"><input class=\"sk-toggleable__control sk-hidden--visually\" id=\"6a35782c-c363-423a-8a76-3a508189f9c1\" type=\"checkbox\" ><label class=\"sk-toggleable__label\" for=\"6a35782c-c363-423a-8a76-3a508189f9c1\">OrdinalEncoder</label><div class=\"sk-toggleable__content\"><pre>OrdinalEncoder(categories=[['10th', '11th', 'HS-grad', 'Some-college',\n",
       "                            'Assoc-acdm', 'Assoc-voc', 'Bachelors', 'Masters',\n",
       "                            'Doctorate']])</pre></div></div></div><div class=\"sk-item\"><div class=\"sk-estimator sk-toggleable\"><input class=\"sk-toggleable__control sk-hidden--visually\" id=\"7a03233f-9b2e-4a89-8404-054ff7837dfd\" type=\"checkbox\" ><label class=\"sk-toggleable__label\" for=\"7a03233f-9b2e-4a89-8404-054ff7837dfd\">StandardScaler</label><div class=\"sk-toggleable__content\"><pre>StandardScaler()</pre></div></div></div></div></div></div></div>"
>>>>>>> upstream/master
      ],
      "text/plain": [
       "Pipeline(steps=[('ordimputer', SimpleImputer(strategy='most_frequent')),\n",
       "                ('ordenc',\n",
       "                 OrdinalEncoder(categories=[['10th', '11th', 'HS-grad',\n",
       "                                             'Some-college', 'Assoc-acdm',\n",
       "                                             'Assoc-voc', 'Bachelors',\n",
       "                                             'Masters', 'Doctorate']])),\n",
       "                ('ordnorm', StandardScaler())])"
      ]
     },
<<<<<<< HEAD
     "execution_count": 201,
=======
     "execution_count": 110,
>>>>>>> upstream/master
     "metadata": {},
     "output_type": "execute_result"
    }
   ],
   "source": [
    "ct.named_transformers_['ordinalpipe']"
   ]
  },
  {
   "cell_type": "code",
<<<<<<< HEAD
   "execution_count": 202,
=======
   "execution_count": 111,
   "id": "77faabcd",
   "metadata": {
    "slideshow": {
     "slide_type": "subslide"
    }
   },
   "outputs": [
    {
     "data": {
      "text/html": [
       "<style>#sk-d058e54f-77f7-46bf-bd9a-518756a2b1c3 {color: black;background-color: white;}#sk-d058e54f-77f7-46bf-bd9a-518756a2b1c3 pre{padding: 0;}#sk-d058e54f-77f7-46bf-bd9a-518756a2b1c3 div.sk-toggleable {background-color: white;}#sk-d058e54f-77f7-46bf-bd9a-518756a2b1c3 label.sk-toggleable__label {cursor: pointer;display: block;width: 100%;margin-bottom: 0;padding: 0.2em 0.3em;box-sizing: border-box;text-align: center;}#sk-d058e54f-77f7-46bf-bd9a-518756a2b1c3 div.sk-toggleable__content {max-height: 0;max-width: 0;overflow: hidden;text-align: left;background-color: #f0f8ff;}#sk-d058e54f-77f7-46bf-bd9a-518756a2b1c3 div.sk-toggleable__content pre {margin: 0.2em;color: black;border-radius: 0.25em;background-color: #f0f8ff;}#sk-d058e54f-77f7-46bf-bd9a-518756a2b1c3 input.sk-toggleable__control:checked~div.sk-toggleable__content {max-height: 200px;max-width: 100%;overflow: auto;}#sk-d058e54f-77f7-46bf-bd9a-518756a2b1c3 div.sk-estimator input.sk-toggleable__control:checked~label.sk-toggleable__label {background-color: #d4ebff;}#sk-d058e54f-77f7-46bf-bd9a-518756a2b1c3 div.sk-label input.sk-toggleable__control:checked~label.sk-toggleable__label {background-color: #d4ebff;}#sk-d058e54f-77f7-46bf-bd9a-518756a2b1c3 input.sk-hidden--visually {border: 0;clip: rect(1px 1px 1px 1px);clip: rect(1px, 1px, 1px, 1px);height: 1px;margin: -1px;overflow: hidden;padding: 0;position: absolute;width: 1px;}#sk-d058e54f-77f7-46bf-bd9a-518756a2b1c3 div.sk-estimator {font-family: monospace;background-color: #f0f8ff;margin: 0.25em 0.25em;border: 1px dotted black;border-radius: 0.25em;box-sizing: border-box;}#sk-d058e54f-77f7-46bf-bd9a-518756a2b1c3 div.sk-estimator:hover {background-color: #d4ebff;}#sk-d058e54f-77f7-46bf-bd9a-518756a2b1c3 div.sk-parallel-item::after {content: \"\";width: 100%;border-bottom: 1px solid gray;flex-grow: 1;}#sk-d058e54f-77f7-46bf-bd9a-518756a2b1c3 div.sk-label:hover label.sk-toggleable__label {background-color: #d4ebff;}#sk-d058e54f-77f7-46bf-bd9a-518756a2b1c3 div.sk-serial::before {content: \"\";position: absolute;border-left: 1px solid gray;box-sizing: border-box;top: 2em;bottom: 0;left: 50%;}#sk-d058e54f-77f7-46bf-bd9a-518756a2b1c3 div.sk-serial {display: flex;flex-direction: column;align-items: center;background-color: white;}#sk-d058e54f-77f7-46bf-bd9a-518756a2b1c3 div.sk-item {z-index: 1;}#sk-d058e54f-77f7-46bf-bd9a-518756a2b1c3 div.sk-parallel {display: flex;align-items: stretch;justify-content: center;background-color: white;}#sk-d058e54f-77f7-46bf-bd9a-518756a2b1c3 div.sk-parallel-item {display: flex;flex-direction: column;position: relative;background-color: white;}#sk-d058e54f-77f7-46bf-bd9a-518756a2b1c3 div.sk-parallel-item:first-child::after {align-self: flex-end;width: 50%;}#sk-d058e54f-77f7-46bf-bd9a-518756a2b1c3 div.sk-parallel-item:last-child::after {align-self: flex-start;width: 50%;}#sk-d058e54f-77f7-46bf-bd9a-518756a2b1c3 div.sk-parallel-item:only-child::after {width: 0;}#sk-d058e54f-77f7-46bf-bd9a-518756a2b1c3 div.sk-dashed-wrapped {border: 1px dashed gray;margin: 0.2em;box-sizing: border-box;padding-bottom: 0.1em;background-color: white;position: relative;}#sk-d058e54f-77f7-46bf-bd9a-518756a2b1c3 div.sk-label label {font-family: monospace;font-weight: bold;background-color: white;display: inline-block;line-height: 1.2em;}#sk-d058e54f-77f7-46bf-bd9a-518756a2b1c3 div.sk-label-container {position: relative;z-index: 2;text-align: center;}#sk-d058e54f-77f7-46bf-bd9a-518756a2b1c3 div.sk-container {display: inline-block;position: relative;}</style><div id=\"sk-d058e54f-77f7-46bf-bd9a-518756a2b1c3\" class\"sk-top-container\"><div class=\"sk-container\"><div class=\"sk-item sk-dashed-wrapped\"><div class=\"sk-label-container\"><div class=\"sk-label sk-toggleable\"><input class=\"sk-toggleable__control sk-hidden--visually\" id=\"1d79455f-dea0-4b3f-a835-391f83e2ab5a\" type=\"checkbox\" ><label class=\"sk-toggleable__label\" for=\"1d79455f-dea0-4b3f-a835-391f83e2ab5a\">Pipeline</label><div class=\"sk-toggleable__content\"><pre>Pipeline(steps=[('onehotimputer', SimpleImputer(strategy='most_frequent')),\n",
       "                ('onehotenc', OneHotEncoder(drop='first', sparse=False)),\n",
       "                ('onehotnorm', MaxAbsScaler())])</pre></div></div></div><div class=\"sk-serial\"><div class=\"sk-item\"><div class=\"sk-estimator sk-toggleable\"><input class=\"sk-toggleable__control sk-hidden--visually\" id=\"3dcf8e09-d368-4da6-98bb-46a06a3aa8b5\" type=\"checkbox\" ><label class=\"sk-toggleable__label\" for=\"3dcf8e09-d368-4da6-98bb-46a06a3aa8b5\">SimpleImputer</label><div class=\"sk-toggleable__content\"><pre>SimpleImputer(strategy='most_frequent')</pre></div></div></div><div class=\"sk-item\"><div class=\"sk-estimator sk-toggleable\"><input class=\"sk-toggleable__control sk-hidden--visually\" id=\"33f44cd6-2f07-4b7c-ab54-9de106c85055\" type=\"checkbox\" ><label class=\"sk-toggleable__label\" for=\"33f44cd6-2f07-4b7c-ab54-9de106c85055\">OneHotEncoder</label><div class=\"sk-toggleable__content\"><pre>OneHotEncoder(drop='first', sparse=False)</pre></div></div></div><div class=\"sk-item\"><div class=\"sk-estimator sk-toggleable\"><input class=\"sk-toggleable__control sk-hidden--visually\" id=\"fe1b396b-1c4a-4902-8eb5-e2f82f139d1e\" type=\"checkbox\" ><label class=\"sk-toggleable__label\" for=\"fe1b396b-1c4a-4902-8eb5-e2f82f139d1e\">MaxAbsScaler</label><div class=\"sk-toggleable__content\"><pre>MaxAbsScaler()</pre></div></div></div></div></div></div></div>"
      ],
      "text/plain": [
       "Pipeline(steps=[('onehotimputer', SimpleImputer(strategy='most_frequent')),\n",
       "                ('onehotenc', OneHotEncoder(drop='first', sparse=False)),\n",
       "                ('onehotnorm', MaxAbsScaler())])"
      ]
     },
     "execution_count": 111,
     "metadata": {},
     "output_type": "execute_result"
    }
   ],
   "source": [
    "ct.named_transformers_['nominalpipe']"
   ]
  },
  {
   "cell_type": "code",
   "execution_count": 112,
   "id": "4b68fa35",
>>>>>>> upstream/master
   "metadata": {
    "cell_style": "center",
    "slideshow": {
     "slide_type": "fragment"
    }
   },
   "outputs": [],
   "source": [
    "ct.named_transformers_['nominalpipe'].steps.pop(-1)\n",
    "ct.named_transformers_['nominalpipe'].steps.append([\n",
    "    ('onehotnorm', StandardScaler())\n",
    "])"
   ]
  },
  {
   "cell_type": "code",
<<<<<<< HEAD
   "execution_count": 203,
=======
   "execution_count": 113,
   "id": "60fb7de6",
>>>>>>> upstream/master
   "metadata": {
    "cell_style": "center",
    "slideshow": {
     "slide_type": "subslide"
    }
   },
   "outputs": [
    {
     "data": {
      "text/plain": [
       "{'ordinalpipe': Pipeline(steps=[('ordimputer', SimpleImputer(strategy='most_frequent')),\n",
       "                 ('ordenc',\n",
       "                  OrdinalEncoder(categories=[['10th', '11th', 'HS-grad',\n",
       "                                              'Some-college', 'Assoc-acdm',\n",
       "                                              'Assoc-voc', 'Bachelors',\n",
       "                                              'Masters', 'Doctorate']])),\n",
       "                 ('ordnorm', StandardScaler())]),\n",
       " 'nominalpipe': Pipeline(steps=[('onehotimputer', SimpleImputer(strategy='most_frequent')),\n",
       "                 ('onehotenc', OneHotEncoder(drop='first', sparse=False)),\n",
       "                 [('onehotnorm', StandardScaler())]]),\n",
       " 'numpipe': Pipeline(steps=[('numimputer', SimpleImputer()), ('numnorm', StandardScaler())])}"
      ]
     },
<<<<<<< HEAD
     "execution_count": 203,
=======
     "execution_count": 113,
>>>>>>> upstream/master
     "metadata": {},
     "output_type": "execute_result"
    }
   ],
   "source": [
    "ct.named_transformers_"
   ]
  },
  {
   "cell_type": "markdown",
   "metadata": {
    "cell_style": "split",
    "slideshow": {
     "slide_type": "slide"
    }
   },
   "source": [
    "Swapped out MaxAbScaler with StandardScaler in nominalpipe:\n",
    "\n",
    "At this point: \n",
    "- append modeling step\n",
    "- build final pipeline: transformers + model\n",
    "- tuck into gridCV for tuning."
   ]
  },
  {
   "cell_type": "code",
<<<<<<< HEAD
   "execution_count": 204,
=======
   "execution_count": 114,
   "id": "0b0ba1d0",
>>>>>>> upstream/master
   "metadata": {
    "cell_style": "split",
    "slideshow": {
     "slide_type": "fragment"
    }
   },
   "outputs": [
    {
     "data": {
      "text/html": [
<<<<<<< HEAD
       "<style>div.sk-top-container {color: black;background-color: white;}div.sk-toggleable {background-color: white;}label.sk-toggleable__label {cursor: pointer;display: block;width: 100%;margin-bottom: 0;padding: 0.2em 0.3em;box-sizing: border-box;text-align: center;}div.sk-toggleable__content {max-height: 0;max-width: 0;overflow: hidden;text-align: left;background-color: #f0f8ff;}div.sk-toggleable__content pre {margin: 0.2em;color: black;border-radius: 0.25em;background-color: #f0f8ff;}input.sk-toggleable__control:checked~div.sk-toggleable__content {max-height: 200px;max-width: 100%;overflow: auto;}div.sk-estimator input.sk-toggleable__control:checked~label.sk-toggleable__label {background-color: #d4ebff;}div.sk-label input.sk-toggleable__control:checked~label.sk-toggleable__label {background-color: #d4ebff;}input.sk-hidden--visually {border: 0;clip: rect(1px 1px 1px 1px);clip: rect(1px, 1px, 1px, 1px);height: 1px;margin: -1px;overflow: hidden;padding: 0;position: absolute;width: 1px;}div.sk-estimator {font-family: monospace;background-color: #f0f8ff;margin: 0.25em 0.25em;border: 1px dotted black;border-radius: 0.25em;box-sizing: border-box;}div.sk-estimator:hover {background-color: #d4ebff;}div.sk-parallel-item::after {content: \"\";width: 100%;border-bottom: 1px solid gray;flex-grow: 1;}div.sk-label:hover label.sk-toggleable__label {background-color: #d4ebff;}div.sk-serial::before {content: \"\";position: absolute;border-left: 1px solid gray;box-sizing: border-box;top: 2em;bottom: 0;left: 50%;}div.sk-serial {display: flex;flex-direction: column;align-items: center;background-color: white;}div.sk-item {z-index: 1;}div.sk-parallel {display: flex;align-items: stretch;justify-content: center;background-color: white;}div.sk-parallel-item {display: flex;flex-direction: column;position: relative;background-color: white;}div.sk-parallel-item:first-child::after {align-self: flex-end;width: 50%;}div.sk-parallel-item:last-child::after {align-self: flex-start;width: 50%;}div.sk-parallel-item:only-child::after {width: 0;}div.sk-dashed-wrapped {border: 1px dashed gray;margin: 0.2em;box-sizing: border-box;padding-bottom: 0.1em;background-color: white;position: relative;}div.sk-label label {font-family: monospace;font-weight: bold;background-color: white;display: inline-block;line-height: 1.2em;}div.sk-label-container {position: relative;z-index: 2;text-align: center;}div.sk-container {display: inline-block;position: relative;}</style><div class=\"sk-top-container\"><div class=\"sk-container\"><div class=\"sk-item sk-dashed-wrapped\"><div class=\"sk-label-container\"><div class=\"sk-label sk-toggleable\"><input class=\"sk-toggleable__control sk-hidden--visually\" id=\"c6a02465-94f1-46ba-9e16-48022ce8c232\" type=\"checkbox\" ><label class=\"sk-toggleable__label\" for=\"c6a02465-94f1-46ba-9e16-48022ce8c232\">Pipeline</label><div class=\"sk-toggleable__content\"><pre>Pipeline(steps=[('preprocess',\n",
=======
       "<style>#sk-145901d1-fcd9-4777-b55e-5397b679e026 {color: black;background-color: white;}#sk-145901d1-fcd9-4777-b55e-5397b679e026 pre{padding: 0;}#sk-145901d1-fcd9-4777-b55e-5397b679e026 div.sk-toggleable {background-color: white;}#sk-145901d1-fcd9-4777-b55e-5397b679e026 label.sk-toggleable__label {cursor: pointer;display: block;width: 100%;margin-bottom: 0;padding: 0.2em 0.3em;box-sizing: border-box;text-align: center;}#sk-145901d1-fcd9-4777-b55e-5397b679e026 div.sk-toggleable__content {max-height: 0;max-width: 0;overflow: hidden;text-align: left;background-color: #f0f8ff;}#sk-145901d1-fcd9-4777-b55e-5397b679e026 div.sk-toggleable__content pre {margin: 0.2em;color: black;border-radius: 0.25em;background-color: #f0f8ff;}#sk-145901d1-fcd9-4777-b55e-5397b679e026 input.sk-toggleable__control:checked~div.sk-toggleable__content {max-height: 200px;max-width: 100%;overflow: auto;}#sk-145901d1-fcd9-4777-b55e-5397b679e026 div.sk-estimator input.sk-toggleable__control:checked~label.sk-toggleable__label {background-color: #d4ebff;}#sk-145901d1-fcd9-4777-b55e-5397b679e026 div.sk-label input.sk-toggleable__control:checked~label.sk-toggleable__label {background-color: #d4ebff;}#sk-145901d1-fcd9-4777-b55e-5397b679e026 input.sk-hidden--visually {border: 0;clip: rect(1px 1px 1px 1px);clip: rect(1px, 1px, 1px, 1px);height: 1px;margin: -1px;overflow: hidden;padding: 0;position: absolute;width: 1px;}#sk-145901d1-fcd9-4777-b55e-5397b679e026 div.sk-estimator {font-family: monospace;background-color: #f0f8ff;margin: 0.25em 0.25em;border: 1px dotted black;border-radius: 0.25em;box-sizing: border-box;}#sk-145901d1-fcd9-4777-b55e-5397b679e026 div.sk-estimator:hover {background-color: #d4ebff;}#sk-145901d1-fcd9-4777-b55e-5397b679e026 div.sk-parallel-item::after {content: \"\";width: 100%;border-bottom: 1px solid gray;flex-grow: 1;}#sk-145901d1-fcd9-4777-b55e-5397b679e026 div.sk-label:hover label.sk-toggleable__label {background-color: #d4ebff;}#sk-145901d1-fcd9-4777-b55e-5397b679e026 div.sk-serial::before {content: \"\";position: absolute;border-left: 1px solid gray;box-sizing: border-box;top: 2em;bottom: 0;left: 50%;}#sk-145901d1-fcd9-4777-b55e-5397b679e026 div.sk-serial {display: flex;flex-direction: column;align-items: center;background-color: white;}#sk-145901d1-fcd9-4777-b55e-5397b679e026 div.sk-item {z-index: 1;}#sk-145901d1-fcd9-4777-b55e-5397b679e026 div.sk-parallel {display: flex;align-items: stretch;justify-content: center;background-color: white;}#sk-145901d1-fcd9-4777-b55e-5397b679e026 div.sk-parallel-item {display: flex;flex-direction: column;position: relative;background-color: white;}#sk-145901d1-fcd9-4777-b55e-5397b679e026 div.sk-parallel-item:first-child::after {align-self: flex-end;width: 50%;}#sk-145901d1-fcd9-4777-b55e-5397b679e026 div.sk-parallel-item:last-child::after {align-self: flex-start;width: 50%;}#sk-145901d1-fcd9-4777-b55e-5397b679e026 div.sk-parallel-item:only-child::after {width: 0;}#sk-145901d1-fcd9-4777-b55e-5397b679e026 div.sk-dashed-wrapped {border: 1px dashed gray;margin: 0.2em;box-sizing: border-box;padding-bottom: 0.1em;background-color: white;position: relative;}#sk-145901d1-fcd9-4777-b55e-5397b679e026 div.sk-label label {font-family: monospace;font-weight: bold;background-color: white;display: inline-block;line-height: 1.2em;}#sk-145901d1-fcd9-4777-b55e-5397b679e026 div.sk-label-container {position: relative;z-index: 2;text-align: center;}#sk-145901d1-fcd9-4777-b55e-5397b679e026 div.sk-container {display: inline-block;position: relative;}</style><div id=\"sk-145901d1-fcd9-4777-b55e-5397b679e026\" class\"sk-top-container\"><div class=\"sk-container\"><div class=\"sk-item sk-dashed-wrapped\"><div class=\"sk-label-container\"><div class=\"sk-label sk-toggleable\"><input class=\"sk-toggleable__control sk-hidden--visually\" id=\"1844871d-4e78-4f36-9d02-cf71a59b701f\" type=\"checkbox\" ><label class=\"sk-toggleable__label\" for=\"1844871d-4e78-4f36-9d02-cf71a59b701f\">Pipeline</label><div class=\"sk-toggleable__content\"><pre>Pipeline(steps=[('preprocess',\n",
>>>>>>> upstream/master
       "                 ColumnTransformer(transformers=[('ordinalpipe',\n",
       "                                                  Pipeline(steps=[('ordimputer',\n",
       "                                                                   SimpleImputer(strategy='most_frequent')),\n",
       "                                                                  ('ordenc',\n",
       "                                                                   OrdinalEncoder(categories=[['10th',\n",
       "                                                                                               '11th',\n",
       "                                                                                               'HS-grad',\n",
       "                                                                                               'Some-college',\n",
       "                                                                                               'Assoc-acdm',\n",
       "                                                                                               'Assoc-voc',\n",
       "                                                                                               'Bachelors',\n",
       "                                                                                               'Masters',\n",
       "                                                                                               'Doctorate']])),\n",
       "                                                                  ('ordnorm',\n",
       "                                                                   StandardScaler())]),\n",
       "                                                  ['education']),\n",
       "                                                 ('nominalpipe',\n",
       "                                                  P...e(steps=[('onehotimputer',\n",
       "                                                                   SimpleImputer(strategy='most_frequent')),\n",
       "                                                                  ('onehotenc',\n",
       "                                                                   OneHotEncoder(drop='first',\n",
       "                                                                                 sparse=False)),\n",
       "                                                                  ('onehotnorm',\n",
       "                                                                   MaxAbsScaler())]),\n",
       "                                                  ['occupation', 'sex']),\n",
       "                                                 ('numpipe',\n",
       "                                                  Pipeline(steps=[('numimputer',\n",
       "                                                                   SimpleImputer()),\n",
       "                                                                  ('numnorm',\n",
       "                                                                   StandardScaler())]),\n",
       "                                                  Index(['age', 'hours.per.week'], dtype='object'))])),\n",
<<<<<<< HEAD
       "                ('model', KNeighborsClassifier())])</pre></div></div></div><div class=\"sk-serial\"><div class=\"sk-item sk-dashed-wrapped\"><div class=\"sk-label-container\"><div class=\"sk-label sk-toggleable\"><input class=\"sk-toggleable__control sk-hidden--visually\" id=\"84bb9db1-2e94-458d-8297-a890df93de05\" type=\"checkbox\" ><label class=\"sk-toggleable__label\" for=\"84bb9db1-2e94-458d-8297-a890df93de05\">preprocess: ColumnTransformer</label><div class=\"sk-toggleable__content\"><pre>ColumnTransformer(transformers=[('ordinalpipe',\n",
=======
       "                ('model', KNeighborsClassifier())])</pre></div></div></div><div class=\"sk-serial\"><div class=\"sk-item sk-dashed-wrapped\"><div class=\"sk-label-container\"><div class=\"sk-label sk-toggleable\"><input class=\"sk-toggleable__control sk-hidden--visually\" id=\"ecc6ee21-75ac-4260-9747-64e67c31503e\" type=\"checkbox\" ><label class=\"sk-toggleable__label\" for=\"ecc6ee21-75ac-4260-9747-64e67c31503e\">preprocess: ColumnTransformer</label><div class=\"sk-toggleable__content\"><pre>ColumnTransformer(transformers=[('ordinalpipe',\n",
>>>>>>> upstream/master
       "                                 Pipeline(steps=[('ordimputer',\n",
       "                                                  SimpleImputer(strategy='most_frequent')),\n",
       "                                                 ('ordenc',\n",
       "                                                  OrdinalEncoder(categories=[['10th',\n",
       "                                                                              '11th',\n",
       "                                                                              'HS-grad',\n",
       "                                                                              'Some-college',\n",
       "                                                                              'Assoc-acdm',\n",
       "                                                                              'Assoc-voc',\n",
       "                                                                              'Bachelors',\n",
       "                                                                              'Masters',\n",
       "                                                                              'Doctorate']])),\n",
       "                                                 ('ordnorm',\n",
       "                                                  StandardScaler())]),\n",
       "                                 ['education']),\n",
       "                                ('nominalpipe',\n",
       "                                 Pipeline(steps=[('onehotimputer',\n",
       "                                                  SimpleImputer(strategy='most_frequent')),\n",
       "                                                 ('onehotenc',\n",
       "                                                  OneHotEncoder(drop='first',\n",
       "                                                                sparse=False)),\n",
       "                                                 ('onehotnorm',\n",
       "                                                  MaxAbsScaler())]),\n",
       "                                 ['occupation', 'sex']),\n",
       "                                ('numpipe',\n",
       "                                 Pipeline(steps=[('numimputer',\n",
       "                                                  SimpleImputer()),\n",
       "                                                 ('numnorm',\n",
       "                                                  StandardScaler())]),\n",
<<<<<<< HEAD
       "                                 Index(['age', 'hours.per.week'], dtype='object'))])</pre></div></div></div><div class=\"sk-parallel\"><div class=\"sk-parallel-item\"><div class=\"sk-item\"><div class=\"sk-label-container\"><div class=\"sk-label sk-toggleable\"><input class=\"sk-toggleable__control sk-hidden--visually\" id=\"1d57248a-8c40-456a-97c1-6a519c4eaefa\" type=\"checkbox\" ><label class=\"sk-toggleable__label\" for=\"1d57248a-8c40-456a-97c1-6a519c4eaefa\">ordinalpipe</label><div class=\"sk-toggleable__content\"><pre>['education']</pre></div></div></div><div class=\"sk-serial\"><div class=\"sk-item\"><div class=\"sk-serial\"><div class=\"sk-item\"><div class=\"sk-estimator sk-toggleable\"><input class=\"sk-toggleable__control sk-hidden--visually\" id=\"69f148b3-fb5f-40ee-b47b-016e8afd55cc\" type=\"checkbox\" ><label class=\"sk-toggleable__label\" for=\"69f148b3-fb5f-40ee-b47b-016e8afd55cc\">SimpleImputer</label><div class=\"sk-toggleable__content\"><pre>SimpleImputer(strategy='most_frequent')</pre></div></div></div><div class=\"sk-item\"><div class=\"sk-estimator sk-toggleable\"><input class=\"sk-toggleable__control sk-hidden--visually\" id=\"ac1b7ef2-42f4-4e64-97e3-0a42040c1c6b\" type=\"checkbox\" ><label class=\"sk-toggleable__label\" for=\"ac1b7ef2-42f4-4e64-97e3-0a42040c1c6b\">OrdinalEncoder</label><div class=\"sk-toggleable__content\"><pre>OrdinalEncoder(categories=[['10th', '11th', 'HS-grad', 'Some-college',\n",
       "                            'Assoc-acdm', 'Assoc-voc', 'Bachelors', 'Masters',\n",
       "                            'Doctorate']])</pre></div></div></div><div class=\"sk-item\"><div class=\"sk-estimator sk-toggleable\"><input class=\"sk-toggleable__control sk-hidden--visually\" id=\"623efd40-da39-4c20-b335-9b12a0fcd0d7\" type=\"checkbox\" ><label class=\"sk-toggleable__label\" for=\"623efd40-da39-4c20-b335-9b12a0fcd0d7\">StandardScaler</label><div class=\"sk-toggleable__content\"><pre>StandardScaler()</pre></div></div></div></div></div></div></div></div><div class=\"sk-parallel-item\"><div class=\"sk-item\"><div class=\"sk-label-container\"><div class=\"sk-label sk-toggleable\"><input class=\"sk-toggleable__control sk-hidden--visually\" id=\"6f8bbd8c-4f2f-427e-89b0-8783aecafb94\" type=\"checkbox\" ><label class=\"sk-toggleable__label\" for=\"6f8bbd8c-4f2f-427e-89b0-8783aecafb94\">nominalpipe</label><div class=\"sk-toggleable__content\"><pre>['occupation', 'sex']</pre></div></div></div><div class=\"sk-serial\"><div class=\"sk-item\"><div class=\"sk-serial\"><div class=\"sk-item\"><div class=\"sk-estimator sk-toggleable\"><input class=\"sk-toggleable__control sk-hidden--visually\" id=\"af1721d5-5672-4ad8-b3aa-23f13fdda3e4\" type=\"checkbox\" ><label class=\"sk-toggleable__label\" for=\"af1721d5-5672-4ad8-b3aa-23f13fdda3e4\">SimpleImputer</label><div class=\"sk-toggleable__content\"><pre>SimpleImputer(strategy='most_frequent')</pre></div></div></div><div class=\"sk-item\"><div class=\"sk-estimator sk-toggleable\"><input class=\"sk-toggleable__control sk-hidden--visually\" id=\"8feb679a-e080-4d2c-affd-974fb6d6d69f\" type=\"checkbox\" ><label class=\"sk-toggleable__label\" for=\"8feb679a-e080-4d2c-affd-974fb6d6d69f\">OneHotEncoder</label><div class=\"sk-toggleable__content\"><pre>OneHotEncoder(drop='first', sparse=False)</pre></div></div></div><div class=\"sk-item\"><div class=\"sk-estimator sk-toggleable\"><input class=\"sk-toggleable__control sk-hidden--visually\" id=\"f223e5d1-9b52-4d4f-91df-f2fdb03d41f7\" type=\"checkbox\" ><label class=\"sk-toggleable__label\" for=\"f223e5d1-9b52-4d4f-91df-f2fdb03d41f7\">MaxAbsScaler</label><div class=\"sk-toggleable__content\"><pre>MaxAbsScaler()</pre></div></div></div></div></div></div></div></div><div class=\"sk-parallel-item\"><div class=\"sk-item\"><div class=\"sk-label-container\"><div class=\"sk-label sk-toggleable\"><input class=\"sk-toggleable__control sk-hidden--visually\" id=\"e0fab192-551a-473f-8b45-1f4e097ea6ef\" type=\"checkbox\" ><label class=\"sk-toggleable__label\" for=\"e0fab192-551a-473f-8b45-1f4e097ea6ef\">numpipe</label><div class=\"sk-toggleable__content\"><pre>Index(['age', 'hours.per.week'], dtype='object')</pre></div></div></div><div class=\"sk-serial\"><div class=\"sk-item\"><div class=\"sk-serial\"><div class=\"sk-item\"><div class=\"sk-estimator sk-toggleable\"><input class=\"sk-toggleable__control sk-hidden--visually\" id=\"2b53f084-4be1-44cc-90ae-e3652fc9e255\" type=\"checkbox\" ><label class=\"sk-toggleable__label\" for=\"2b53f084-4be1-44cc-90ae-e3652fc9e255\">SimpleImputer</label><div class=\"sk-toggleable__content\"><pre>SimpleImputer()</pre></div></div></div><div class=\"sk-item\"><div class=\"sk-estimator sk-toggleable\"><input class=\"sk-toggleable__control sk-hidden--visually\" id=\"84a32424-1538-439b-a654-f29df19f7660\" type=\"checkbox\" ><label class=\"sk-toggleable__label\" for=\"84a32424-1538-439b-a654-f29df19f7660\">StandardScaler</label><div class=\"sk-toggleable__content\"><pre>StandardScaler()</pre></div></div></div></div></div></div></div></div></div></div><div class=\"sk-item\"><div class=\"sk-estimator sk-toggleable\"><input class=\"sk-toggleable__control sk-hidden--visually\" id=\"54a3eb25-14d1-4481-baa9-e7cf15ee18bc\" type=\"checkbox\" ><label class=\"sk-toggleable__label\" for=\"54a3eb25-14d1-4481-baa9-e7cf15ee18bc\">KNeighborsClassifier</label><div class=\"sk-toggleable__content\"><pre>KNeighborsClassifier()</pre></div></div></div></div></div></div></div>"
=======
       "                                 Index(['age', 'hours.per.week'], dtype='object'))])</pre></div></div></div><div class=\"sk-parallel\"><div class=\"sk-parallel-item\"><div class=\"sk-item\"><div class=\"sk-label-container\"><div class=\"sk-label sk-toggleable\"><input class=\"sk-toggleable__control sk-hidden--visually\" id=\"3c5e740d-c928-4604-bfcb-ec185fd887c4\" type=\"checkbox\" ><label class=\"sk-toggleable__label\" for=\"3c5e740d-c928-4604-bfcb-ec185fd887c4\">ordinalpipe</label><div class=\"sk-toggleable__content\"><pre>['education']</pre></div></div></div><div class=\"sk-serial\"><div class=\"sk-item\"><div class=\"sk-serial\"><div class=\"sk-item\"><div class=\"sk-estimator sk-toggleable\"><input class=\"sk-toggleable__control sk-hidden--visually\" id=\"7a51b06d-d2c7-4d16-b849-546cbd92c51c\" type=\"checkbox\" ><label class=\"sk-toggleable__label\" for=\"7a51b06d-d2c7-4d16-b849-546cbd92c51c\">SimpleImputer</label><div class=\"sk-toggleable__content\"><pre>SimpleImputer(strategy='most_frequent')</pre></div></div></div><div class=\"sk-item\"><div class=\"sk-estimator sk-toggleable\"><input class=\"sk-toggleable__control sk-hidden--visually\" id=\"7ea82138-bd26-4310-9b17-a9ec9937a09b\" type=\"checkbox\" ><label class=\"sk-toggleable__label\" for=\"7ea82138-bd26-4310-9b17-a9ec9937a09b\">OrdinalEncoder</label><div class=\"sk-toggleable__content\"><pre>OrdinalEncoder(categories=[['10th', '11th', 'HS-grad', 'Some-college',\n",
       "                            'Assoc-acdm', 'Assoc-voc', 'Bachelors', 'Masters',\n",
       "                            'Doctorate']])</pre></div></div></div><div class=\"sk-item\"><div class=\"sk-estimator sk-toggleable\"><input class=\"sk-toggleable__control sk-hidden--visually\" id=\"52099b5a-c6a6-403f-97a0-a9ffac256a54\" type=\"checkbox\" ><label class=\"sk-toggleable__label\" for=\"52099b5a-c6a6-403f-97a0-a9ffac256a54\">StandardScaler</label><div class=\"sk-toggleable__content\"><pre>StandardScaler()</pre></div></div></div></div></div></div></div></div><div class=\"sk-parallel-item\"><div class=\"sk-item\"><div class=\"sk-label-container\"><div class=\"sk-label sk-toggleable\"><input class=\"sk-toggleable__control sk-hidden--visually\" id=\"1caa1793-90bf-4717-817b-69a59d4c8dd3\" type=\"checkbox\" ><label class=\"sk-toggleable__label\" for=\"1caa1793-90bf-4717-817b-69a59d4c8dd3\">nominalpipe</label><div class=\"sk-toggleable__content\"><pre>['occupation', 'sex']</pre></div></div></div><div class=\"sk-serial\"><div class=\"sk-item\"><div class=\"sk-serial\"><div class=\"sk-item\"><div class=\"sk-estimator sk-toggleable\"><input class=\"sk-toggleable__control sk-hidden--visually\" id=\"4c0d0e36-80b8-451d-90f1-f52538afff18\" type=\"checkbox\" ><label class=\"sk-toggleable__label\" for=\"4c0d0e36-80b8-451d-90f1-f52538afff18\">SimpleImputer</label><div class=\"sk-toggleable__content\"><pre>SimpleImputer(strategy='most_frequent')</pre></div></div></div><div class=\"sk-item\"><div class=\"sk-estimator sk-toggleable\"><input class=\"sk-toggleable__control sk-hidden--visually\" id=\"a0ad5585-5ec0-4199-a3ca-9211093afa08\" type=\"checkbox\" ><label class=\"sk-toggleable__label\" for=\"a0ad5585-5ec0-4199-a3ca-9211093afa08\">OneHotEncoder</label><div class=\"sk-toggleable__content\"><pre>OneHotEncoder(drop='first', sparse=False)</pre></div></div></div><div class=\"sk-item\"><div class=\"sk-estimator sk-toggleable\"><input class=\"sk-toggleable__control sk-hidden--visually\" id=\"cccfc4e4-4a3b-4201-820c-a0140e419a90\" type=\"checkbox\" ><label class=\"sk-toggleable__label\" for=\"cccfc4e4-4a3b-4201-820c-a0140e419a90\">MaxAbsScaler</label><div class=\"sk-toggleable__content\"><pre>MaxAbsScaler()</pre></div></div></div></div></div></div></div></div><div class=\"sk-parallel-item\"><div class=\"sk-item\"><div class=\"sk-label-container\"><div class=\"sk-label sk-toggleable\"><input class=\"sk-toggleable__control sk-hidden--visually\" id=\"914b6e71-6091-4b8a-9c94-50dc8bba346a\" type=\"checkbox\" ><label class=\"sk-toggleable__label\" for=\"914b6e71-6091-4b8a-9c94-50dc8bba346a\">numpipe</label><div class=\"sk-toggleable__content\"><pre>Index(['age', 'hours.per.week'], dtype='object')</pre></div></div></div><div class=\"sk-serial\"><div class=\"sk-item\"><div class=\"sk-serial\"><div class=\"sk-item\"><div class=\"sk-estimator sk-toggleable\"><input class=\"sk-toggleable__control sk-hidden--visually\" id=\"5a154105-25c1-45bc-a072-9c79931fb701\" type=\"checkbox\" ><label class=\"sk-toggleable__label\" for=\"5a154105-25c1-45bc-a072-9c79931fb701\">SimpleImputer</label><div class=\"sk-toggleable__content\"><pre>SimpleImputer()</pre></div></div></div><div class=\"sk-item\"><div class=\"sk-estimator sk-toggleable\"><input class=\"sk-toggleable__control sk-hidden--visually\" id=\"62860a60-6434-4d69-ae03-2fe884ba9c19\" type=\"checkbox\" ><label class=\"sk-toggleable__label\" for=\"62860a60-6434-4d69-ae03-2fe884ba9c19\">StandardScaler</label><div class=\"sk-toggleable__content\"><pre>StandardScaler()</pre></div></div></div></div></div></div></div></div></div></div><div class=\"sk-item\"><div class=\"sk-estimator sk-toggleable\"><input class=\"sk-toggleable__control sk-hidden--visually\" id=\"a2014d87-43b4-4c2d-aee3-30a474b83a84\" type=\"checkbox\" ><label class=\"sk-toggleable__label\" for=\"a2014d87-43b4-4c2d-aee3-30a474b83a84\">KNeighborsClassifier</label><div class=\"sk-toggleable__content\"><pre>KNeighborsClassifier()</pre></div></div></div></div></div></div></div>"
>>>>>>> upstream/master
      ],
      "text/plain": [
       "Pipeline(steps=[('preprocess',\n",
       "                 ColumnTransformer(transformers=[('ordinalpipe',\n",
       "                                                  Pipeline(steps=[('ordimputer',\n",
       "                                                                   SimpleImputer(strategy='most_frequent')),\n",
       "                                                                  ('ordenc',\n",
       "                                                                   OrdinalEncoder(categories=[['10th',\n",
       "                                                                                               '11th',\n",
       "                                                                                               'HS-grad',\n",
       "                                                                                               'Some-college',\n",
       "                                                                                               'Assoc-acdm',\n",
       "                                                                                               'Assoc-voc',\n",
       "                                                                                               'Bachelors',\n",
       "                                                                                               'Masters',\n",
       "                                                                                               'Doctorate']])),\n",
       "                                                                  ('ordnorm',\n",
       "                                                                   StandardScaler())]),\n",
       "                                                  ['education']),\n",
       "                                                 ('nominalpipe',\n",
       "                                                  P...e(steps=[('onehotimputer',\n",
       "                                                                   SimpleImputer(strategy='most_frequent')),\n",
       "                                                                  ('onehotenc',\n",
       "                                                                   OneHotEncoder(drop='first',\n",
       "                                                                                 sparse=False)),\n",
       "                                                                  ('onehotnorm',\n",
       "                                                                   MaxAbsScaler())]),\n",
       "                                                  ['occupation', 'sex']),\n",
       "                                                 ('numpipe',\n",
       "                                                  Pipeline(steps=[('numimputer',\n",
       "                                                                   SimpleImputer()),\n",
       "                                                                  ('numnorm',\n",
       "                                                                   StandardScaler())]),\n",
       "                                                  Index(['age', 'hours.per.week'], dtype='object'))])),\n",
       "                ('model', KNeighborsClassifier())])"
      ]
     },
<<<<<<< HEAD
     "execution_count": 204,
=======
     "execution_count": 114,
>>>>>>> upstream/master
     "metadata": {},
     "output_type": "execute_result"
    }
   ],
   "source": [
    "final_pipe = Pipeline([('preprocess', ct),\n",
    "                      ('model',\n",
    "                       KNeighborsClassifier())])\n",
    "final_pipe"
   ]
  },
  {
   "cell_type": "markdown",
   "metadata": {
    "slideshow": {
     "slide_type": "slide"
    }
   },
   "source": [
    "Fit the full transformer and model pipeline."
   ]
  },
  {
   "cell_type": "code",
<<<<<<< HEAD
   "execution_count": 205,
=======
   "execution_count": 115,
   "id": "8b1470a7",
>>>>>>> upstream/master
   "metadata": {
    "slideshow": {
     "slide_type": "fragment"
    }
   },
   "outputs": [
    {
     "data": {
      "text/html": [
<<<<<<< HEAD
       "<style>div.sk-top-container {color: black;background-color: white;}div.sk-toggleable {background-color: white;}label.sk-toggleable__label {cursor: pointer;display: block;width: 100%;margin-bottom: 0;padding: 0.2em 0.3em;box-sizing: border-box;text-align: center;}div.sk-toggleable__content {max-height: 0;max-width: 0;overflow: hidden;text-align: left;background-color: #f0f8ff;}div.sk-toggleable__content pre {margin: 0.2em;color: black;border-radius: 0.25em;background-color: #f0f8ff;}input.sk-toggleable__control:checked~div.sk-toggleable__content {max-height: 200px;max-width: 100%;overflow: auto;}div.sk-estimator input.sk-toggleable__control:checked~label.sk-toggleable__label {background-color: #d4ebff;}div.sk-label input.sk-toggleable__control:checked~label.sk-toggleable__label {background-color: #d4ebff;}input.sk-hidden--visually {border: 0;clip: rect(1px 1px 1px 1px);clip: rect(1px, 1px, 1px, 1px);height: 1px;margin: -1px;overflow: hidden;padding: 0;position: absolute;width: 1px;}div.sk-estimator {font-family: monospace;background-color: #f0f8ff;margin: 0.25em 0.25em;border: 1px dotted black;border-radius: 0.25em;box-sizing: border-box;}div.sk-estimator:hover {background-color: #d4ebff;}div.sk-parallel-item::after {content: \"\";width: 100%;border-bottom: 1px solid gray;flex-grow: 1;}div.sk-label:hover label.sk-toggleable__label {background-color: #d4ebff;}div.sk-serial::before {content: \"\";position: absolute;border-left: 1px solid gray;box-sizing: border-box;top: 2em;bottom: 0;left: 50%;}div.sk-serial {display: flex;flex-direction: column;align-items: center;background-color: white;}div.sk-item {z-index: 1;}div.sk-parallel {display: flex;align-items: stretch;justify-content: center;background-color: white;}div.sk-parallel-item {display: flex;flex-direction: column;position: relative;background-color: white;}div.sk-parallel-item:first-child::after {align-self: flex-end;width: 50%;}div.sk-parallel-item:last-child::after {align-self: flex-start;width: 50%;}div.sk-parallel-item:only-child::after {width: 0;}div.sk-dashed-wrapped {border: 1px dashed gray;margin: 0.2em;box-sizing: border-box;padding-bottom: 0.1em;background-color: white;position: relative;}div.sk-label label {font-family: monospace;font-weight: bold;background-color: white;display: inline-block;line-height: 1.2em;}div.sk-label-container {position: relative;z-index: 2;text-align: center;}div.sk-container {display: inline-block;position: relative;}</style><div class=\"sk-top-container\"><div class=\"sk-container\"><div class=\"sk-item sk-dashed-wrapped\"><div class=\"sk-label-container\"><div class=\"sk-label sk-toggleable\"><input class=\"sk-toggleable__control sk-hidden--visually\" id=\"b5cbaea6-49b2-483c-8308-3f0b7b19088a\" type=\"checkbox\" ><label class=\"sk-toggleable__label\" for=\"b5cbaea6-49b2-483c-8308-3f0b7b19088a\">Pipeline</label><div class=\"sk-toggleable__content\"><pre>Pipeline(steps=[('preprocess',\n",
=======
       "<style>#sk-a97057f0-3730-4613-a2d8-28da867cd949 {color: black;background-color: white;}#sk-a97057f0-3730-4613-a2d8-28da867cd949 pre{padding: 0;}#sk-a97057f0-3730-4613-a2d8-28da867cd949 div.sk-toggleable {background-color: white;}#sk-a97057f0-3730-4613-a2d8-28da867cd949 label.sk-toggleable__label {cursor: pointer;display: block;width: 100%;margin-bottom: 0;padding: 0.2em 0.3em;box-sizing: border-box;text-align: center;}#sk-a97057f0-3730-4613-a2d8-28da867cd949 div.sk-toggleable__content {max-height: 0;max-width: 0;overflow: hidden;text-align: left;background-color: #f0f8ff;}#sk-a97057f0-3730-4613-a2d8-28da867cd949 div.sk-toggleable__content pre {margin: 0.2em;color: black;border-radius: 0.25em;background-color: #f0f8ff;}#sk-a97057f0-3730-4613-a2d8-28da867cd949 input.sk-toggleable__control:checked~div.sk-toggleable__content {max-height: 200px;max-width: 100%;overflow: auto;}#sk-a97057f0-3730-4613-a2d8-28da867cd949 div.sk-estimator input.sk-toggleable__control:checked~label.sk-toggleable__label {background-color: #d4ebff;}#sk-a97057f0-3730-4613-a2d8-28da867cd949 div.sk-label input.sk-toggleable__control:checked~label.sk-toggleable__label {background-color: #d4ebff;}#sk-a97057f0-3730-4613-a2d8-28da867cd949 input.sk-hidden--visually {border: 0;clip: rect(1px 1px 1px 1px);clip: rect(1px, 1px, 1px, 1px);height: 1px;margin: -1px;overflow: hidden;padding: 0;position: absolute;width: 1px;}#sk-a97057f0-3730-4613-a2d8-28da867cd949 div.sk-estimator {font-family: monospace;background-color: #f0f8ff;margin: 0.25em 0.25em;border: 1px dotted black;border-radius: 0.25em;box-sizing: border-box;}#sk-a97057f0-3730-4613-a2d8-28da867cd949 div.sk-estimator:hover {background-color: #d4ebff;}#sk-a97057f0-3730-4613-a2d8-28da867cd949 div.sk-parallel-item::after {content: \"\";width: 100%;border-bottom: 1px solid gray;flex-grow: 1;}#sk-a97057f0-3730-4613-a2d8-28da867cd949 div.sk-label:hover label.sk-toggleable__label {background-color: #d4ebff;}#sk-a97057f0-3730-4613-a2d8-28da867cd949 div.sk-serial::before {content: \"\";position: absolute;border-left: 1px solid gray;box-sizing: border-box;top: 2em;bottom: 0;left: 50%;}#sk-a97057f0-3730-4613-a2d8-28da867cd949 div.sk-serial {display: flex;flex-direction: column;align-items: center;background-color: white;}#sk-a97057f0-3730-4613-a2d8-28da867cd949 div.sk-item {z-index: 1;}#sk-a97057f0-3730-4613-a2d8-28da867cd949 div.sk-parallel {display: flex;align-items: stretch;justify-content: center;background-color: white;}#sk-a97057f0-3730-4613-a2d8-28da867cd949 div.sk-parallel-item {display: flex;flex-direction: column;position: relative;background-color: white;}#sk-a97057f0-3730-4613-a2d8-28da867cd949 div.sk-parallel-item:first-child::after {align-self: flex-end;width: 50%;}#sk-a97057f0-3730-4613-a2d8-28da867cd949 div.sk-parallel-item:last-child::after {align-self: flex-start;width: 50%;}#sk-a97057f0-3730-4613-a2d8-28da867cd949 div.sk-parallel-item:only-child::after {width: 0;}#sk-a97057f0-3730-4613-a2d8-28da867cd949 div.sk-dashed-wrapped {border: 1px dashed gray;margin: 0.2em;box-sizing: border-box;padding-bottom: 0.1em;background-color: white;position: relative;}#sk-a97057f0-3730-4613-a2d8-28da867cd949 div.sk-label label {font-family: monospace;font-weight: bold;background-color: white;display: inline-block;line-height: 1.2em;}#sk-a97057f0-3730-4613-a2d8-28da867cd949 div.sk-label-container {position: relative;z-index: 2;text-align: center;}#sk-a97057f0-3730-4613-a2d8-28da867cd949 div.sk-container {display: inline-block;position: relative;}</style><div id=\"sk-a97057f0-3730-4613-a2d8-28da867cd949\" class\"sk-top-container\"><div class=\"sk-container\"><div class=\"sk-item sk-dashed-wrapped\"><div class=\"sk-label-container\"><div class=\"sk-label sk-toggleable\"><input class=\"sk-toggleable__control sk-hidden--visually\" id=\"8bc1ecdd-f696-492c-90c4-40050ebf3161\" type=\"checkbox\" ><label class=\"sk-toggleable__label\" for=\"8bc1ecdd-f696-492c-90c4-40050ebf3161\">Pipeline</label><div class=\"sk-toggleable__content\"><pre>Pipeline(steps=[('preprocess',\n",
>>>>>>> upstream/master
       "                 ColumnTransformer(transformers=[('ordinalpipe',\n",
       "                                                  Pipeline(steps=[('ordimputer',\n",
       "                                                                   SimpleImputer(strategy='most_frequent')),\n",
       "                                                                  ('ordenc',\n",
       "                                                                   OrdinalEncoder(categories=[['10th',\n",
       "                                                                                               '11th',\n",
       "                                                                                               'HS-grad',\n",
       "                                                                                               'Some-college',\n",
       "                                                                                               'Assoc-acdm',\n",
       "                                                                                               'Assoc-voc',\n",
       "                                                                                               'Bachelors',\n",
       "                                                                                               'Masters',\n",
       "                                                                                               'Doctorate']])),\n",
       "                                                                  ('ordnorm',\n",
       "                                                                   StandardScaler())]),\n",
       "                                                  ['education']),\n",
       "                                                 ('nominalpipe',\n",
       "                                                  P...e(steps=[('onehotimputer',\n",
       "                                                                   SimpleImputer(strategy='most_frequent')),\n",
       "                                                                  ('onehotenc',\n",
       "                                                                   OneHotEncoder(drop='first',\n",
       "                                                                                 sparse=False)),\n",
       "                                                                  ('onehotnorm',\n",
       "                                                                   MaxAbsScaler())]),\n",
       "                                                  ['occupation', 'sex']),\n",
       "                                                 ('numpipe',\n",
       "                                                  Pipeline(steps=[('numimputer',\n",
       "                                                                   SimpleImputer()),\n",
       "                                                                  ('numnorm',\n",
       "                                                                   StandardScaler())]),\n",
       "                                                  Index(['age', 'hours.per.week'], dtype='object'))])),\n",
<<<<<<< HEAD
       "                ('model', KNeighborsClassifier())])</pre></div></div></div><div class=\"sk-serial\"><div class=\"sk-item sk-dashed-wrapped\"><div class=\"sk-label-container\"><div class=\"sk-label sk-toggleable\"><input class=\"sk-toggleable__control sk-hidden--visually\" id=\"95f853e3-8ddd-41df-b498-c184d4623094\" type=\"checkbox\" ><label class=\"sk-toggleable__label\" for=\"95f853e3-8ddd-41df-b498-c184d4623094\">preprocess: ColumnTransformer</label><div class=\"sk-toggleable__content\"><pre>ColumnTransformer(transformers=[('ordinalpipe',\n",
=======
       "                ('model', KNeighborsClassifier())])</pre></div></div></div><div class=\"sk-serial\"><div class=\"sk-item sk-dashed-wrapped\"><div class=\"sk-label-container\"><div class=\"sk-label sk-toggleable\"><input class=\"sk-toggleable__control sk-hidden--visually\" id=\"b057b875-9cc1-41a3-b322-ea10a658a5f6\" type=\"checkbox\" ><label class=\"sk-toggleable__label\" for=\"b057b875-9cc1-41a3-b322-ea10a658a5f6\">preprocess: ColumnTransformer</label><div class=\"sk-toggleable__content\"><pre>ColumnTransformer(transformers=[('ordinalpipe',\n",
>>>>>>> upstream/master
       "                                 Pipeline(steps=[('ordimputer',\n",
       "                                                  SimpleImputer(strategy='most_frequent')),\n",
       "                                                 ('ordenc',\n",
       "                                                  OrdinalEncoder(categories=[['10th',\n",
       "                                                                              '11th',\n",
       "                                                                              'HS-grad',\n",
       "                                                                              'Some-college',\n",
       "                                                                              'Assoc-acdm',\n",
       "                                                                              'Assoc-voc',\n",
       "                                                                              'Bachelors',\n",
       "                                                                              'Masters',\n",
       "                                                                              'Doctorate']])),\n",
       "                                                 ('ordnorm',\n",
       "                                                  StandardScaler())]),\n",
       "                                 ['education']),\n",
       "                                ('nominalpipe',\n",
       "                                 Pipeline(steps=[('onehotimputer',\n",
       "                                                  SimpleImputer(strategy='most_frequent')),\n",
       "                                                 ('onehotenc',\n",
       "                                                  OneHotEncoder(drop='first',\n",
       "                                                                sparse=False)),\n",
       "                                                 ('onehotnorm',\n",
       "                                                  MaxAbsScaler())]),\n",
       "                                 ['occupation', 'sex']),\n",
       "                                ('numpipe',\n",
       "                                 Pipeline(steps=[('numimputer',\n",
       "                                                  SimpleImputer()),\n",
       "                                                 ('numnorm',\n",
       "                                                  StandardScaler())]),\n",
<<<<<<< HEAD
       "                                 Index(['age', 'hours.per.week'], dtype='object'))])</pre></div></div></div><div class=\"sk-parallel\"><div class=\"sk-parallel-item\"><div class=\"sk-item\"><div class=\"sk-label-container\"><div class=\"sk-label sk-toggleable\"><input class=\"sk-toggleable__control sk-hidden--visually\" id=\"caffe3ea-5dfc-4850-95ff-a55546f184b0\" type=\"checkbox\" ><label class=\"sk-toggleable__label\" for=\"caffe3ea-5dfc-4850-95ff-a55546f184b0\">ordinalpipe</label><div class=\"sk-toggleable__content\"><pre>['education']</pre></div></div></div><div class=\"sk-serial\"><div class=\"sk-item\"><div class=\"sk-serial\"><div class=\"sk-item\"><div class=\"sk-estimator sk-toggleable\"><input class=\"sk-toggleable__control sk-hidden--visually\" id=\"fc772438-ac2a-4f6e-841b-89decd791f51\" type=\"checkbox\" ><label class=\"sk-toggleable__label\" for=\"fc772438-ac2a-4f6e-841b-89decd791f51\">SimpleImputer</label><div class=\"sk-toggleable__content\"><pre>SimpleImputer(strategy='most_frequent')</pre></div></div></div><div class=\"sk-item\"><div class=\"sk-estimator sk-toggleable\"><input class=\"sk-toggleable__control sk-hidden--visually\" id=\"1fd4bc97-19ec-4fa8-8e3a-9ac0ff825923\" type=\"checkbox\" ><label class=\"sk-toggleable__label\" for=\"1fd4bc97-19ec-4fa8-8e3a-9ac0ff825923\">OrdinalEncoder</label><div class=\"sk-toggleable__content\"><pre>OrdinalEncoder(categories=[['10th', '11th', 'HS-grad', 'Some-college',\n",
       "                            'Assoc-acdm', 'Assoc-voc', 'Bachelors', 'Masters',\n",
       "                            'Doctorate']])</pre></div></div></div><div class=\"sk-item\"><div class=\"sk-estimator sk-toggleable\"><input class=\"sk-toggleable__control sk-hidden--visually\" id=\"6fdf7759-c5bc-4f8c-95f8-7e9748d8aef8\" type=\"checkbox\" ><label class=\"sk-toggleable__label\" for=\"6fdf7759-c5bc-4f8c-95f8-7e9748d8aef8\">StandardScaler</label><div class=\"sk-toggleable__content\"><pre>StandardScaler()</pre></div></div></div></div></div></div></div></div><div class=\"sk-parallel-item\"><div class=\"sk-item\"><div class=\"sk-label-container\"><div class=\"sk-label sk-toggleable\"><input class=\"sk-toggleable__control sk-hidden--visually\" id=\"d773dd34-007f-4804-bb4f-52f7d5de6b4e\" type=\"checkbox\" ><label class=\"sk-toggleable__label\" for=\"d773dd34-007f-4804-bb4f-52f7d5de6b4e\">nominalpipe</label><div class=\"sk-toggleable__content\"><pre>['occupation', 'sex']</pre></div></div></div><div class=\"sk-serial\"><div class=\"sk-item\"><div class=\"sk-serial\"><div class=\"sk-item\"><div class=\"sk-estimator sk-toggleable\"><input class=\"sk-toggleable__control sk-hidden--visually\" id=\"4d8124b0-6ed4-4c73-9fbb-ae7f44c84f84\" type=\"checkbox\" ><label class=\"sk-toggleable__label\" for=\"4d8124b0-6ed4-4c73-9fbb-ae7f44c84f84\">SimpleImputer</label><div class=\"sk-toggleable__content\"><pre>SimpleImputer(strategy='most_frequent')</pre></div></div></div><div class=\"sk-item\"><div class=\"sk-estimator sk-toggleable\"><input class=\"sk-toggleable__control sk-hidden--visually\" id=\"8c86f9bf-4de5-4cc6-953e-fbf02d916c1e\" type=\"checkbox\" ><label class=\"sk-toggleable__label\" for=\"8c86f9bf-4de5-4cc6-953e-fbf02d916c1e\">OneHotEncoder</label><div class=\"sk-toggleable__content\"><pre>OneHotEncoder(drop='first', sparse=False)</pre></div></div></div><div class=\"sk-item\"><div class=\"sk-estimator sk-toggleable\"><input class=\"sk-toggleable__control sk-hidden--visually\" id=\"43181af9-fe33-4c79-a8ec-56596a72fbb8\" type=\"checkbox\" ><label class=\"sk-toggleable__label\" for=\"43181af9-fe33-4c79-a8ec-56596a72fbb8\">MaxAbsScaler</label><div class=\"sk-toggleable__content\"><pre>MaxAbsScaler()</pre></div></div></div></div></div></div></div></div><div class=\"sk-parallel-item\"><div class=\"sk-item\"><div class=\"sk-label-container\"><div class=\"sk-label sk-toggleable\"><input class=\"sk-toggleable__control sk-hidden--visually\" id=\"d69340a2-0ff5-40aa-bb5d-cedcfd4fdea1\" type=\"checkbox\" ><label class=\"sk-toggleable__label\" for=\"d69340a2-0ff5-40aa-bb5d-cedcfd4fdea1\">numpipe</label><div class=\"sk-toggleable__content\"><pre>Index(['age', 'hours.per.week'], dtype='object')</pre></div></div></div><div class=\"sk-serial\"><div class=\"sk-item\"><div class=\"sk-serial\"><div class=\"sk-item\"><div class=\"sk-estimator sk-toggleable\"><input class=\"sk-toggleable__control sk-hidden--visually\" id=\"adc981be-b043-4754-801d-39c6fdff1434\" type=\"checkbox\" ><label class=\"sk-toggleable__label\" for=\"adc981be-b043-4754-801d-39c6fdff1434\">SimpleImputer</label><div class=\"sk-toggleable__content\"><pre>SimpleImputer()</pre></div></div></div><div class=\"sk-item\"><div class=\"sk-estimator sk-toggleable\"><input class=\"sk-toggleable__control sk-hidden--visually\" id=\"f12e1863-e797-4584-8ea6-f3bf2c49b38f\" type=\"checkbox\" ><label class=\"sk-toggleable__label\" for=\"f12e1863-e797-4584-8ea6-f3bf2c49b38f\">StandardScaler</label><div class=\"sk-toggleable__content\"><pre>StandardScaler()</pre></div></div></div></div></div></div></div></div></div></div><div class=\"sk-item\"><div class=\"sk-estimator sk-toggleable\"><input class=\"sk-toggleable__control sk-hidden--visually\" id=\"474fb38b-6100-409a-8428-764be93391dd\" type=\"checkbox\" ><label class=\"sk-toggleable__label\" for=\"474fb38b-6100-409a-8428-764be93391dd\">KNeighborsClassifier</label><div class=\"sk-toggleable__content\"><pre>KNeighborsClassifier()</pre></div></div></div></div></div></div></div>"
=======
       "                                 Index(['age', 'hours.per.week'], dtype='object'))])</pre></div></div></div><div class=\"sk-parallel\"><div class=\"sk-parallel-item\"><div class=\"sk-item\"><div class=\"sk-label-container\"><div class=\"sk-label sk-toggleable\"><input class=\"sk-toggleable__control sk-hidden--visually\" id=\"33f7875c-8b6f-4db5-b9e2-70ad95f17a26\" type=\"checkbox\" ><label class=\"sk-toggleable__label\" for=\"33f7875c-8b6f-4db5-b9e2-70ad95f17a26\">ordinalpipe</label><div class=\"sk-toggleable__content\"><pre>['education']</pre></div></div></div><div class=\"sk-serial\"><div class=\"sk-item\"><div class=\"sk-serial\"><div class=\"sk-item\"><div class=\"sk-estimator sk-toggleable\"><input class=\"sk-toggleable__control sk-hidden--visually\" id=\"5a666832-eb0c-4a81-a4bb-0ffb7fe38b2e\" type=\"checkbox\" ><label class=\"sk-toggleable__label\" for=\"5a666832-eb0c-4a81-a4bb-0ffb7fe38b2e\">SimpleImputer</label><div class=\"sk-toggleable__content\"><pre>SimpleImputer(strategy='most_frequent')</pre></div></div></div><div class=\"sk-item\"><div class=\"sk-estimator sk-toggleable\"><input class=\"sk-toggleable__control sk-hidden--visually\" id=\"24b1ca85-a87c-4ee5-9005-83e4a7678129\" type=\"checkbox\" ><label class=\"sk-toggleable__label\" for=\"24b1ca85-a87c-4ee5-9005-83e4a7678129\">OrdinalEncoder</label><div class=\"sk-toggleable__content\"><pre>OrdinalEncoder(categories=[['10th', '11th', 'HS-grad', 'Some-college',\n",
       "                            'Assoc-acdm', 'Assoc-voc', 'Bachelors', 'Masters',\n",
       "                            'Doctorate']])</pre></div></div></div><div class=\"sk-item\"><div class=\"sk-estimator sk-toggleable\"><input class=\"sk-toggleable__control sk-hidden--visually\" id=\"4bca7117-3a06-485c-83ce-6068c143e942\" type=\"checkbox\" ><label class=\"sk-toggleable__label\" for=\"4bca7117-3a06-485c-83ce-6068c143e942\">StandardScaler</label><div class=\"sk-toggleable__content\"><pre>StandardScaler()</pre></div></div></div></div></div></div></div></div><div class=\"sk-parallel-item\"><div class=\"sk-item\"><div class=\"sk-label-container\"><div class=\"sk-label sk-toggleable\"><input class=\"sk-toggleable__control sk-hidden--visually\" id=\"2a2a509d-fafa-43d9-af48-9d4c72bf32cf\" type=\"checkbox\" ><label class=\"sk-toggleable__label\" for=\"2a2a509d-fafa-43d9-af48-9d4c72bf32cf\">nominalpipe</label><div class=\"sk-toggleable__content\"><pre>['occupation', 'sex']</pre></div></div></div><div class=\"sk-serial\"><div class=\"sk-item\"><div class=\"sk-serial\"><div class=\"sk-item\"><div class=\"sk-estimator sk-toggleable\"><input class=\"sk-toggleable__control sk-hidden--visually\" id=\"8fbbca90-fc5d-4e70-b851-b0208a45857f\" type=\"checkbox\" ><label class=\"sk-toggleable__label\" for=\"8fbbca90-fc5d-4e70-b851-b0208a45857f\">SimpleImputer</label><div class=\"sk-toggleable__content\"><pre>SimpleImputer(strategy='most_frequent')</pre></div></div></div><div class=\"sk-item\"><div class=\"sk-estimator sk-toggleable\"><input class=\"sk-toggleable__control sk-hidden--visually\" id=\"3a7519d6-bffa-4893-81ad-9238849e2527\" type=\"checkbox\" ><label class=\"sk-toggleable__label\" for=\"3a7519d6-bffa-4893-81ad-9238849e2527\">OneHotEncoder</label><div class=\"sk-toggleable__content\"><pre>OneHotEncoder(drop='first', sparse=False)</pre></div></div></div><div class=\"sk-item\"><div class=\"sk-estimator sk-toggleable\"><input class=\"sk-toggleable__control sk-hidden--visually\" id=\"8a208a44-771b-4c3b-94dd-f5f319b3e124\" type=\"checkbox\" ><label class=\"sk-toggleable__label\" for=\"8a208a44-771b-4c3b-94dd-f5f319b3e124\">MaxAbsScaler</label><div class=\"sk-toggleable__content\"><pre>MaxAbsScaler()</pre></div></div></div></div></div></div></div></div><div class=\"sk-parallel-item\"><div class=\"sk-item\"><div class=\"sk-label-container\"><div class=\"sk-label sk-toggleable\"><input class=\"sk-toggleable__control sk-hidden--visually\" id=\"d3546a2d-3fe2-47cb-ae76-38ddccd824d0\" type=\"checkbox\" ><label class=\"sk-toggleable__label\" for=\"d3546a2d-3fe2-47cb-ae76-38ddccd824d0\">numpipe</label><div class=\"sk-toggleable__content\"><pre>Index(['age', 'hours.per.week'], dtype='object')</pre></div></div></div><div class=\"sk-serial\"><div class=\"sk-item\"><div class=\"sk-serial\"><div class=\"sk-item\"><div class=\"sk-estimator sk-toggleable\"><input class=\"sk-toggleable__control sk-hidden--visually\" id=\"d18a3e24-0919-4e57-944f-cb419e5cc043\" type=\"checkbox\" ><label class=\"sk-toggleable__label\" for=\"d18a3e24-0919-4e57-944f-cb419e5cc043\">SimpleImputer</label><div class=\"sk-toggleable__content\"><pre>SimpleImputer()</pre></div></div></div><div class=\"sk-item\"><div class=\"sk-estimator sk-toggleable\"><input class=\"sk-toggleable__control sk-hidden--visually\" id=\"ac2f90a2-9e6e-4a98-b666-2d89b1fd7b02\" type=\"checkbox\" ><label class=\"sk-toggleable__label\" for=\"ac2f90a2-9e6e-4a98-b666-2d89b1fd7b02\">StandardScaler</label><div class=\"sk-toggleable__content\"><pre>StandardScaler()</pre></div></div></div></div></div></div></div></div></div></div><div class=\"sk-item\"><div class=\"sk-estimator sk-toggleable\"><input class=\"sk-toggleable__control sk-hidden--visually\" id=\"9d766bcd-34d6-481f-9b69-4f90fe8dddd3\" type=\"checkbox\" ><label class=\"sk-toggleable__label\" for=\"9d766bcd-34d6-481f-9b69-4f90fe8dddd3\">KNeighborsClassifier</label><div class=\"sk-toggleable__content\"><pre>KNeighborsClassifier()</pre></div></div></div></div></div></div></div>"
>>>>>>> upstream/master
      ],
      "text/plain": [
       "Pipeline(steps=[('preprocess',\n",
       "                 ColumnTransformer(transformers=[('ordinalpipe',\n",
       "                                                  Pipeline(steps=[('ordimputer',\n",
       "                                                                   SimpleImputer(strategy='most_frequent')),\n",
       "                                                                  ('ordenc',\n",
       "                                                                   OrdinalEncoder(categories=[['10th',\n",
       "                                                                                               '11th',\n",
       "                                                                                               'HS-grad',\n",
       "                                                                                               'Some-college',\n",
       "                                                                                               'Assoc-acdm',\n",
       "                                                                                               'Assoc-voc',\n",
       "                                                                                               'Bachelors',\n",
       "                                                                                               'Masters',\n",
       "                                                                                               'Doctorate']])),\n",
       "                                                                  ('ordnorm',\n",
       "                                                                   StandardScaler())]),\n",
       "                                                  ['education']),\n",
       "                                                 ('nominalpipe',\n",
       "                                                  P...e(steps=[('onehotimputer',\n",
       "                                                                   SimpleImputer(strategy='most_frequent')),\n",
       "                                                                  ('onehotenc',\n",
       "                                                                   OneHotEncoder(drop='first',\n",
       "                                                                                 sparse=False)),\n",
       "                                                                  ('onehotnorm',\n",
       "                                                                   MaxAbsScaler())]),\n",
       "                                                  ['occupation', 'sex']),\n",
       "                                                 ('numpipe',\n",
       "                                                  Pipeline(steps=[('numimputer',\n",
       "                                                                   SimpleImputer()),\n",
       "                                                                  ('numnorm',\n",
       "                                                                   StandardScaler())]),\n",
       "                                                  Index(['age', 'hours.per.week'], dtype='object'))])),\n",
       "                ('model', KNeighborsClassifier())])"
      ]
     },
<<<<<<< HEAD
     "execution_count": 205,
=======
     "execution_count": 115,
>>>>>>> upstream/master
     "metadata": {},
     "output_type": "execute_result"
    }
   ],
   "source": [
    "final_pipe.fit(X_inc_train, y_inc_train)"
   ]
  },
  {
   "cell_type": "code",
<<<<<<< HEAD
   "execution_count": 206,
=======
   "execution_count": 116,
   "id": "005c9e29",
>>>>>>> upstream/master
   "metadata": {
    "scrolled": true,
    "slideshow": {
     "slide_type": "slide"
    }
   },
   "outputs": [],
   "source": [
    "y_pred = final_pipe.predict(X_inc_test)"
   ]
  },
  {
   "cell_type": "code",
<<<<<<< HEAD
   "execution_count": 207,
=======
   "execution_count": 117,
   "id": "38436858",
>>>>>>> upstream/master
   "metadata": {
    "cell_style": "split",
    "slideshow": {
     "slide_type": "fragment"
    }
   },
   "outputs": [
    {
     "data": {
      "text/plain": [
<<<<<<< HEAD
       "<sklearn.metrics._plot.confusion_matrix.ConfusionMatrixDisplay at 0x7fa9f8504a30>"
      ]
     },
     "execution_count": 207,
=======
       "<sklearn.metrics._plot.confusion_matrix.ConfusionMatrixDisplay at 0x26eaea33760>"
      ]
     },
     "execution_count": 117,
>>>>>>> upstream/master
     "metadata": {},
     "output_type": "execute_result"
    },
    {
     "data": {
<<<<<<< HEAD
      "image/png": "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\n",
=======
      "image/png": "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\n",
>>>>>>> upstream/master
      "text/plain": [
       "<Figure size 432x288 with 2 Axes>"
      ]
     },
     "metadata": {
      "needs_background": "light"
     },
     "output_type": "display_data"
    }
   ],
   "source": [
    "plot_confusion_matrix(final_pipe, X_inc_test,\n",
    "                      y_inc_test)"
   ]
  },
  {
   "cell_type": "markdown",
   "metadata": {
    "cell_style": "split",
    "slideshow": {
     "slide_type": "fragment"
    }
   },
   "source": [
    "Probably needs some tuning. Let's look at the steps of final_pipe."
   ]
  },
  {
   "cell_type": "code",
   "execution_count": 208,
   "metadata": {
    "cell_style": "center",
    "scrolled": true,
    "slideshow": {
     "slide_type": "slide"
    }
   },
   "outputs": [
    {
     "name": "stdout",
     "output_type": "stream",
     "text": [
      "[('preprocess', ColumnTransformer(transformers=[('ordinalpipe',\n",
      "                                 Pipeline(steps=[('ordimputer',\n",
      "                                                  SimpleImputer(strategy='most_frequent')),\n",
      "                                                 ('ordenc',\n",
      "                                                  OrdinalEncoder(categories=[['10th',\n",
      "                                                                              '11th',\n",
      "                                                                              'HS-grad',\n",
      "                                                                              'Some-college',\n",
      "                                                                              'Assoc-acdm',\n",
      "                                                                              'Assoc-voc',\n",
      "                                                                              'Bachelors',\n",
      "                                                                              'Masters',\n",
      "                                                                              'Doctorate']])),\n",
      "                                                 ('ordnorm',\n",
      "                                                  StandardScaler())]),\n",
      "                                 ['education']),\n",
      "                                ('nominalpipe',\n",
      "                                 Pipeline(steps=[('onehotimputer',\n",
      "                                                  SimpleImputer(strategy='most_frequent')),\n",
      "                                                 ('onehotenc',\n",
      "                                                  OneHotEncoder(drop='first',\n",
      "                                                                sparse=False)),\n",
      "                                                 ('onehotnorm',\n",
      "                                                  MaxAbsScaler())]),\n",
      "                                 ['occupation', 'sex']),\n",
      "                                ('numpipe',\n",
      "                                 Pipeline(steps=[('numimputer',\n",
      "                                                  SimpleImputer()),\n",
      "                                                 ('numnorm',\n",
      "                                                  StandardScaler())]),\n",
      "                                 Index(['age', 'hours.per.week'], dtype='object'))])), ('model', KNeighborsClassifier())]\n"
     ]
    }
   ],
   "source": [
    "print(final_pipe.steps)"
   ]
  },
  {
   "cell_type": "code",
<<<<<<< HEAD
   "execution_count": 209,
=======
   "execution_count": 119,
   "id": "5ef65610",
>>>>>>> upstream/master
   "metadata": {
    "slideshow": {
     "slide_type": "slide"
    }
   },
   "outputs": [],
   "source": [
    "# going down each level in estimator with double underscore (level1__level2__estimator__argument)\n",
    "final_pipe_grid = {'preprocess__numpipe__numimputer__strategy': [\"mean\", \"median\"],\n",
    "             'model__n_neighbors': [3, 11, 15],\n",
    "             'model__p': [1, 2]}\n",
    "\n",
    "gs_full_pipe = GridSearchCV(estimator=final_pipe, \n",
    "                       param_grid=final_pipe_grid)"
   ]
  },
  {
   "cell_type": "code",
<<<<<<< HEAD
   "execution_count": 210,
=======
   "execution_count": 120,
   "id": "87c60c5b",
>>>>>>> upstream/master
   "metadata": {
    "cell_style": "split",
    "scrolled": true,
    "slideshow": {
     "slide_type": "subslide"
    }
   },
   "outputs": [
    {
     "data": {
      "text/html": [
<<<<<<< HEAD
       "<style>div.sk-top-container {color: black;background-color: white;}div.sk-toggleable {background-color: white;}label.sk-toggleable__label {cursor: pointer;display: block;width: 100%;margin-bottom: 0;padding: 0.2em 0.3em;box-sizing: border-box;text-align: center;}div.sk-toggleable__content {max-height: 0;max-width: 0;overflow: hidden;text-align: left;background-color: #f0f8ff;}div.sk-toggleable__content pre {margin: 0.2em;color: black;border-radius: 0.25em;background-color: #f0f8ff;}input.sk-toggleable__control:checked~div.sk-toggleable__content {max-height: 200px;max-width: 100%;overflow: auto;}div.sk-estimator input.sk-toggleable__control:checked~label.sk-toggleable__label {background-color: #d4ebff;}div.sk-label input.sk-toggleable__control:checked~label.sk-toggleable__label {background-color: #d4ebff;}input.sk-hidden--visually {border: 0;clip: rect(1px 1px 1px 1px);clip: rect(1px, 1px, 1px, 1px);height: 1px;margin: -1px;overflow: hidden;padding: 0;position: absolute;width: 1px;}div.sk-estimator {font-family: monospace;background-color: #f0f8ff;margin: 0.25em 0.25em;border: 1px dotted black;border-radius: 0.25em;box-sizing: border-box;}div.sk-estimator:hover {background-color: #d4ebff;}div.sk-parallel-item::after {content: \"\";width: 100%;border-bottom: 1px solid gray;flex-grow: 1;}div.sk-label:hover label.sk-toggleable__label {background-color: #d4ebff;}div.sk-serial::before {content: \"\";position: absolute;border-left: 1px solid gray;box-sizing: border-box;top: 2em;bottom: 0;left: 50%;}div.sk-serial {display: flex;flex-direction: column;align-items: center;background-color: white;}div.sk-item {z-index: 1;}div.sk-parallel {display: flex;align-items: stretch;justify-content: center;background-color: white;}div.sk-parallel-item {display: flex;flex-direction: column;position: relative;background-color: white;}div.sk-parallel-item:first-child::after {align-self: flex-end;width: 50%;}div.sk-parallel-item:last-child::after {align-self: flex-start;width: 50%;}div.sk-parallel-item:only-child::after {width: 0;}div.sk-dashed-wrapped {border: 1px dashed gray;margin: 0.2em;box-sizing: border-box;padding-bottom: 0.1em;background-color: white;position: relative;}div.sk-label label {font-family: monospace;font-weight: bold;background-color: white;display: inline-block;line-height: 1.2em;}div.sk-label-container {position: relative;z-index: 2;text-align: center;}div.sk-container {display: inline-block;position: relative;}</style><div class=\"sk-top-container\"><div class=\"sk-container\"><div class=\"sk-item sk-dashed-wrapped\"><div class=\"sk-label-container\"><div class=\"sk-label sk-toggleable\"><input class=\"sk-toggleable__control sk-hidden--visually\" id=\"20487059-6479-43fd-aef6-b32b1e44733f\" type=\"checkbox\" ><label class=\"sk-toggleable__label\" for=\"20487059-6479-43fd-aef6-b32b1e44733f\">GridSearchCV</label><div class=\"sk-toggleable__content\"><pre>GridSearchCV(estimator=Pipeline(steps=[('preprocess',\n",
=======
       "<style>#sk-dca6f2c0-d2df-407e-96d3-1f65bae229d5 {color: black;background-color: white;}#sk-dca6f2c0-d2df-407e-96d3-1f65bae229d5 pre{padding: 0;}#sk-dca6f2c0-d2df-407e-96d3-1f65bae229d5 div.sk-toggleable {background-color: white;}#sk-dca6f2c0-d2df-407e-96d3-1f65bae229d5 label.sk-toggleable__label {cursor: pointer;display: block;width: 100%;margin-bottom: 0;padding: 0.2em 0.3em;box-sizing: border-box;text-align: center;}#sk-dca6f2c0-d2df-407e-96d3-1f65bae229d5 div.sk-toggleable__content {max-height: 0;max-width: 0;overflow: hidden;text-align: left;background-color: #f0f8ff;}#sk-dca6f2c0-d2df-407e-96d3-1f65bae229d5 div.sk-toggleable__content pre {margin: 0.2em;color: black;border-radius: 0.25em;background-color: #f0f8ff;}#sk-dca6f2c0-d2df-407e-96d3-1f65bae229d5 input.sk-toggleable__control:checked~div.sk-toggleable__content {max-height: 200px;max-width: 100%;overflow: auto;}#sk-dca6f2c0-d2df-407e-96d3-1f65bae229d5 div.sk-estimator input.sk-toggleable__control:checked~label.sk-toggleable__label {background-color: #d4ebff;}#sk-dca6f2c0-d2df-407e-96d3-1f65bae229d5 div.sk-label input.sk-toggleable__control:checked~label.sk-toggleable__label {background-color: #d4ebff;}#sk-dca6f2c0-d2df-407e-96d3-1f65bae229d5 input.sk-hidden--visually {border: 0;clip: rect(1px 1px 1px 1px);clip: rect(1px, 1px, 1px, 1px);height: 1px;margin: -1px;overflow: hidden;padding: 0;position: absolute;width: 1px;}#sk-dca6f2c0-d2df-407e-96d3-1f65bae229d5 div.sk-estimator {font-family: monospace;background-color: #f0f8ff;margin: 0.25em 0.25em;border: 1px dotted black;border-radius: 0.25em;box-sizing: border-box;}#sk-dca6f2c0-d2df-407e-96d3-1f65bae229d5 div.sk-estimator:hover {background-color: #d4ebff;}#sk-dca6f2c0-d2df-407e-96d3-1f65bae229d5 div.sk-parallel-item::after {content: \"\";width: 100%;border-bottom: 1px solid gray;flex-grow: 1;}#sk-dca6f2c0-d2df-407e-96d3-1f65bae229d5 div.sk-label:hover label.sk-toggleable__label {background-color: #d4ebff;}#sk-dca6f2c0-d2df-407e-96d3-1f65bae229d5 div.sk-serial::before {content: \"\";position: absolute;border-left: 1px solid gray;box-sizing: border-box;top: 2em;bottom: 0;left: 50%;}#sk-dca6f2c0-d2df-407e-96d3-1f65bae229d5 div.sk-serial {display: flex;flex-direction: column;align-items: center;background-color: white;}#sk-dca6f2c0-d2df-407e-96d3-1f65bae229d5 div.sk-item {z-index: 1;}#sk-dca6f2c0-d2df-407e-96d3-1f65bae229d5 div.sk-parallel {display: flex;align-items: stretch;justify-content: center;background-color: white;}#sk-dca6f2c0-d2df-407e-96d3-1f65bae229d5 div.sk-parallel-item {display: flex;flex-direction: column;position: relative;background-color: white;}#sk-dca6f2c0-d2df-407e-96d3-1f65bae229d5 div.sk-parallel-item:first-child::after {align-self: flex-end;width: 50%;}#sk-dca6f2c0-d2df-407e-96d3-1f65bae229d5 div.sk-parallel-item:last-child::after {align-self: flex-start;width: 50%;}#sk-dca6f2c0-d2df-407e-96d3-1f65bae229d5 div.sk-parallel-item:only-child::after {width: 0;}#sk-dca6f2c0-d2df-407e-96d3-1f65bae229d5 div.sk-dashed-wrapped {border: 1px dashed gray;margin: 0.2em;box-sizing: border-box;padding-bottom: 0.1em;background-color: white;position: relative;}#sk-dca6f2c0-d2df-407e-96d3-1f65bae229d5 div.sk-label label {font-family: monospace;font-weight: bold;background-color: white;display: inline-block;line-height: 1.2em;}#sk-dca6f2c0-d2df-407e-96d3-1f65bae229d5 div.sk-label-container {position: relative;z-index: 2;text-align: center;}#sk-dca6f2c0-d2df-407e-96d3-1f65bae229d5 div.sk-container {display: inline-block;position: relative;}</style><div id=\"sk-dca6f2c0-d2df-407e-96d3-1f65bae229d5\" class\"sk-top-container\"><div class=\"sk-container\"><div class=\"sk-item sk-dashed-wrapped\"><div class=\"sk-label-container\"><div class=\"sk-label sk-toggleable\"><input class=\"sk-toggleable__control sk-hidden--visually\" id=\"3bbd2f34-759d-444b-affc-22907650e793\" type=\"checkbox\" ><label class=\"sk-toggleable__label\" for=\"3bbd2f34-759d-444b-affc-22907650e793\">GridSearchCV</label><div class=\"sk-toggleable__content\"><pre>GridSearchCV(estimator=Pipeline(steps=[('preprocess',\n",
>>>>>>> upstream/master
       "                                        ColumnTransformer(transformers=[('ordinalpipe',\n",
       "                                                                         Pipeline(steps=[('ordimputer',\n",
       "                                                                                          SimpleImputer(strategy='most_frequent')),\n",
       "                                                                                         ('ordenc',\n",
       "                                                                                          OrdinalEncoder(categories=[['10th',\n",
       "                                                                                                                      '11th',\n",
       "                                                                                                                      'HS-grad',\n",
       "                                                                                                                      'Some-college',\n",
       "                                                                                                                      'Assoc-acdm',\n",
       "                                                                                                                      'Assoc-voc',\n",
       "                                                                                                                      'Bachelors',\n",
       "                                                                                                                      'Masters',\n",
       "                                                                                                                      'Doctorate']])),\n",
       "                                                                                         ('ordnorm',\n",
       "                                                                                          StandardScaler())]),\n",
       "                                                                         ['educat...\n",
       "                                                                                         ('onehotnorm',\n",
       "                                                                                          MaxAbsScaler())]),\n",
       "                                                                         ['occupation',\n",
       "                                                                          'sex']),\n",
       "                                                                        ('numpipe',\n",
       "                                                                         Pipeline(steps=[('numimputer',\n",
       "                                                                                          SimpleImputer()),\n",
       "                                                                                         ('numnorm',\n",
       "                                                                                          StandardScaler())]),\n",
       "                                                                         Index(['age', 'hours.per.week'], dtype='object'))])),\n",
       "                                       ('model', KNeighborsClassifier())]),\n",
       "             param_grid={'model__n_neighbors': [3, 11, 15], 'model__p': [1, 2],\n",
       "                         'preprocess__numpipe__numimputer__strategy': ['mean',\n",
<<<<<<< HEAD
       "                                                                       'median']})</pre></div></div></div><div class=\"sk-parallel\"><div class=\"sk-parallel-item\"><div class=\"sk-item\"><div class=\"sk-serial\"><div class=\"sk-item\"><div class=\"sk-serial\"><div class=\"sk-item sk-dashed-wrapped\"><div class=\"sk-label-container\"><div class=\"sk-label sk-toggleable\"><input class=\"sk-toggleable__control sk-hidden--visually\" id=\"04a396b6-202f-4d84-b88c-65249657f465\" type=\"checkbox\" ><label class=\"sk-toggleable__label\" for=\"04a396b6-202f-4d84-b88c-65249657f465\">preprocess: ColumnTransformer</label><div class=\"sk-toggleable__content\"><pre>ColumnTransformer(transformers=[('ordinalpipe',\n",
=======
       "                                                                       'median']})</pre></div></div></div><div class=\"sk-parallel\"><div class=\"sk-parallel-item\"><div class=\"sk-item\"><div class=\"sk-serial\"><div class=\"sk-item\"><div class=\"sk-serial\"><div class=\"sk-item sk-dashed-wrapped\"><div class=\"sk-label-container\"><div class=\"sk-label sk-toggleable\"><input class=\"sk-toggleable__control sk-hidden--visually\" id=\"309b73ac-aebe-4b7b-ae20-3e61b693de52\" type=\"checkbox\" ><label class=\"sk-toggleable__label\" for=\"309b73ac-aebe-4b7b-ae20-3e61b693de52\">preprocess: ColumnTransformer</label><div class=\"sk-toggleable__content\"><pre>ColumnTransformer(transformers=[('ordinalpipe',\n",
>>>>>>> upstream/master
       "                                 Pipeline(steps=[('ordimputer',\n",
       "                                                  SimpleImputer(strategy='most_frequent')),\n",
       "                                                 ('ordenc',\n",
       "                                                  OrdinalEncoder(categories=[['10th',\n",
       "                                                                              '11th',\n",
       "                                                                              'HS-grad',\n",
       "                                                                              'Some-college',\n",
       "                                                                              'Assoc-acdm',\n",
       "                                                                              'Assoc-voc',\n",
       "                                                                              'Bachelors',\n",
       "                                                                              'Masters',\n",
       "                                                                              'Doctorate']])),\n",
       "                                                 ('ordnorm',\n",
       "                                                  StandardScaler())]),\n",
       "                                 ['education']),\n",
       "                                ('nominalpipe',\n",
       "                                 Pipeline(steps=[('onehotimputer',\n",
       "                                                  SimpleImputer(strategy='most_frequent')),\n",
       "                                                 ('onehotenc',\n",
       "                                                  OneHotEncoder(drop='first',\n",
       "                                                                sparse=False)),\n",
       "                                                 ('onehotnorm',\n",
       "                                                  MaxAbsScaler())]),\n",
       "                                 ['occupation', 'sex']),\n",
       "                                ('numpipe',\n",
       "                                 Pipeline(steps=[('numimputer',\n",
       "                                                  SimpleImputer()),\n",
       "                                                 ('numnorm',\n",
       "                                                  StandardScaler())]),\n",
<<<<<<< HEAD
       "                                 Index(['age', 'hours.per.week'], dtype='object'))])</pre></div></div></div><div class=\"sk-parallel\"><div class=\"sk-parallel-item\"><div class=\"sk-item\"><div class=\"sk-label-container\"><div class=\"sk-label sk-toggleable\"><input class=\"sk-toggleable__control sk-hidden--visually\" id=\"57cf3f8e-a8ba-485e-9178-49c066c9e0de\" type=\"checkbox\" ><label class=\"sk-toggleable__label\" for=\"57cf3f8e-a8ba-485e-9178-49c066c9e0de\">ordinalpipe</label><div class=\"sk-toggleable__content\"><pre>['education']</pre></div></div></div><div class=\"sk-serial\"><div class=\"sk-item\"><div class=\"sk-serial\"><div class=\"sk-item\"><div class=\"sk-estimator sk-toggleable\"><input class=\"sk-toggleable__control sk-hidden--visually\" id=\"6239b5b8-7119-49e1-89d4-dc778b328eea\" type=\"checkbox\" ><label class=\"sk-toggleable__label\" for=\"6239b5b8-7119-49e1-89d4-dc778b328eea\">SimpleImputer</label><div class=\"sk-toggleable__content\"><pre>SimpleImputer(strategy='most_frequent')</pre></div></div></div><div class=\"sk-item\"><div class=\"sk-estimator sk-toggleable\"><input class=\"sk-toggleable__control sk-hidden--visually\" id=\"5f92f3e7-a1e9-49e5-b4b7-1b02c506ec16\" type=\"checkbox\" ><label class=\"sk-toggleable__label\" for=\"5f92f3e7-a1e9-49e5-b4b7-1b02c506ec16\">OrdinalEncoder</label><div class=\"sk-toggleable__content\"><pre>OrdinalEncoder(categories=[['10th', '11th', 'HS-grad', 'Some-college',\n",
       "                            'Assoc-acdm', 'Assoc-voc', 'Bachelors', 'Masters',\n",
       "                            'Doctorate']])</pre></div></div></div><div class=\"sk-item\"><div class=\"sk-estimator sk-toggleable\"><input class=\"sk-toggleable__control sk-hidden--visually\" id=\"1336775a-6b3f-4cac-8e07-b07a34553c28\" type=\"checkbox\" ><label class=\"sk-toggleable__label\" for=\"1336775a-6b3f-4cac-8e07-b07a34553c28\">StandardScaler</label><div class=\"sk-toggleable__content\"><pre>StandardScaler()</pre></div></div></div></div></div></div></div></div><div class=\"sk-parallel-item\"><div class=\"sk-item\"><div class=\"sk-label-container\"><div class=\"sk-label sk-toggleable\"><input class=\"sk-toggleable__control sk-hidden--visually\" id=\"b272a428-52d4-4bfe-b586-b549f1fc3e67\" type=\"checkbox\" ><label class=\"sk-toggleable__label\" for=\"b272a428-52d4-4bfe-b586-b549f1fc3e67\">nominalpipe</label><div class=\"sk-toggleable__content\"><pre>['occupation', 'sex']</pre></div></div></div><div class=\"sk-serial\"><div class=\"sk-item\"><div class=\"sk-serial\"><div class=\"sk-item\"><div class=\"sk-estimator sk-toggleable\"><input class=\"sk-toggleable__control sk-hidden--visually\" id=\"952649c0-06de-4085-93c1-f8cf6d478590\" type=\"checkbox\" ><label class=\"sk-toggleable__label\" for=\"952649c0-06de-4085-93c1-f8cf6d478590\">SimpleImputer</label><div class=\"sk-toggleable__content\"><pre>SimpleImputer(strategy='most_frequent')</pre></div></div></div><div class=\"sk-item\"><div class=\"sk-estimator sk-toggleable\"><input class=\"sk-toggleable__control sk-hidden--visually\" id=\"67bf2f9a-4fea-47f9-9492-14b94979be2b\" type=\"checkbox\" ><label class=\"sk-toggleable__label\" for=\"67bf2f9a-4fea-47f9-9492-14b94979be2b\">OneHotEncoder</label><div class=\"sk-toggleable__content\"><pre>OneHotEncoder(drop='first', sparse=False)</pre></div></div></div><div class=\"sk-item\"><div class=\"sk-estimator sk-toggleable\"><input class=\"sk-toggleable__control sk-hidden--visually\" id=\"d1eaee7f-4517-49f3-be20-07f6b8dce528\" type=\"checkbox\" ><label class=\"sk-toggleable__label\" for=\"d1eaee7f-4517-49f3-be20-07f6b8dce528\">MaxAbsScaler</label><div class=\"sk-toggleable__content\"><pre>MaxAbsScaler()</pre></div></div></div></div></div></div></div></div><div class=\"sk-parallel-item\"><div class=\"sk-item\"><div class=\"sk-label-container\"><div class=\"sk-label sk-toggleable\"><input class=\"sk-toggleable__control sk-hidden--visually\" id=\"f6a1e8eb-8664-4754-b89f-0c36022bc1a9\" type=\"checkbox\" ><label class=\"sk-toggleable__label\" for=\"f6a1e8eb-8664-4754-b89f-0c36022bc1a9\">numpipe</label><div class=\"sk-toggleable__content\"><pre>Index(['age', 'hours.per.week'], dtype='object')</pre></div></div></div><div class=\"sk-serial\"><div class=\"sk-item\"><div class=\"sk-serial\"><div class=\"sk-item\"><div class=\"sk-estimator sk-toggleable\"><input class=\"sk-toggleable__control sk-hidden--visually\" id=\"d35340fa-ea10-4799-8a08-50a3f06da0d0\" type=\"checkbox\" ><label class=\"sk-toggleable__label\" for=\"d35340fa-ea10-4799-8a08-50a3f06da0d0\">SimpleImputer</label><div class=\"sk-toggleable__content\"><pre>SimpleImputer()</pre></div></div></div><div class=\"sk-item\"><div class=\"sk-estimator sk-toggleable\"><input class=\"sk-toggleable__control sk-hidden--visually\" id=\"f3ec00fe-02f2-4438-868b-4e70d0da9369\" type=\"checkbox\" ><label class=\"sk-toggleable__label\" for=\"f3ec00fe-02f2-4438-868b-4e70d0da9369\">StandardScaler</label><div class=\"sk-toggleable__content\"><pre>StandardScaler()</pre></div></div></div></div></div></div></div></div></div></div><div class=\"sk-item\"><div class=\"sk-estimator sk-toggleable\"><input class=\"sk-toggleable__control sk-hidden--visually\" id=\"3abf8e71-cef2-4416-887e-e7ac1d96a6d3\" type=\"checkbox\" ><label class=\"sk-toggleable__label\" for=\"3abf8e71-cef2-4416-887e-e7ac1d96a6d3\">KNeighborsClassifier</label><div class=\"sk-toggleable__content\"><pre>KNeighborsClassifier()</pre></div></div></div></div></div></div></div></div></div></div></div></div>"
=======
       "                                 Index(['age', 'hours.per.week'], dtype='object'))])</pre></div></div></div><div class=\"sk-parallel\"><div class=\"sk-parallel-item\"><div class=\"sk-item\"><div class=\"sk-label-container\"><div class=\"sk-label sk-toggleable\"><input class=\"sk-toggleable__control sk-hidden--visually\" id=\"ca15c887-7996-4d50-ad7b-877a625d95af\" type=\"checkbox\" ><label class=\"sk-toggleable__label\" for=\"ca15c887-7996-4d50-ad7b-877a625d95af\">ordinalpipe</label><div class=\"sk-toggleable__content\"><pre>['education']</pre></div></div></div><div class=\"sk-serial\"><div class=\"sk-item\"><div class=\"sk-serial\"><div class=\"sk-item\"><div class=\"sk-estimator sk-toggleable\"><input class=\"sk-toggleable__control sk-hidden--visually\" id=\"4b419c5a-6d82-4f37-aee8-24111e725200\" type=\"checkbox\" ><label class=\"sk-toggleable__label\" for=\"4b419c5a-6d82-4f37-aee8-24111e725200\">SimpleImputer</label><div class=\"sk-toggleable__content\"><pre>SimpleImputer(strategy='most_frequent')</pre></div></div></div><div class=\"sk-item\"><div class=\"sk-estimator sk-toggleable\"><input class=\"sk-toggleable__control sk-hidden--visually\" id=\"c253369b-d2ed-4b1d-9cbc-de65770ae0d5\" type=\"checkbox\" ><label class=\"sk-toggleable__label\" for=\"c253369b-d2ed-4b1d-9cbc-de65770ae0d5\">OrdinalEncoder</label><div class=\"sk-toggleable__content\"><pre>OrdinalEncoder(categories=[['10th', '11th', 'HS-grad', 'Some-college',\n",
       "                            'Assoc-acdm', 'Assoc-voc', 'Bachelors', 'Masters',\n",
       "                            'Doctorate']])</pre></div></div></div><div class=\"sk-item\"><div class=\"sk-estimator sk-toggleable\"><input class=\"sk-toggleable__control sk-hidden--visually\" id=\"45c3f5af-9854-4561-bdad-521862a03856\" type=\"checkbox\" ><label class=\"sk-toggleable__label\" for=\"45c3f5af-9854-4561-bdad-521862a03856\">StandardScaler</label><div class=\"sk-toggleable__content\"><pre>StandardScaler()</pre></div></div></div></div></div></div></div></div><div class=\"sk-parallel-item\"><div class=\"sk-item\"><div class=\"sk-label-container\"><div class=\"sk-label sk-toggleable\"><input class=\"sk-toggleable__control sk-hidden--visually\" id=\"45a43a75-043f-4e15-a5a0-b3b405fe706d\" type=\"checkbox\" ><label class=\"sk-toggleable__label\" for=\"45a43a75-043f-4e15-a5a0-b3b405fe706d\">nominalpipe</label><div class=\"sk-toggleable__content\"><pre>['occupation', 'sex']</pre></div></div></div><div class=\"sk-serial\"><div class=\"sk-item\"><div class=\"sk-serial\"><div class=\"sk-item\"><div class=\"sk-estimator sk-toggleable\"><input class=\"sk-toggleable__control sk-hidden--visually\" id=\"524c6958-92d5-43fd-9928-8d0cc8a3a906\" type=\"checkbox\" ><label class=\"sk-toggleable__label\" for=\"524c6958-92d5-43fd-9928-8d0cc8a3a906\">SimpleImputer</label><div class=\"sk-toggleable__content\"><pre>SimpleImputer(strategy='most_frequent')</pre></div></div></div><div class=\"sk-item\"><div class=\"sk-estimator sk-toggleable\"><input class=\"sk-toggleable__control sk-hidden--visually\" id=\"1a142be7-80e2-400a-9580-614b8f2cd239\" type=\"checkbox\" ><label class=\"sk-toggleable__label\" for=\"1a142be7-80e2-400a-9580-614b8f2cd239\">OneHotEncoder</label><div class=\"sk-toggleable__content\"><pre>OneHotEncoder(drop='first', sparse=False)</pre></div></div></div><div class=\"sk-item\"><div class=\"sk-estimator sk-toggleable\"><input class=\"sk-toggleable__control sk-hidden--visually\" id=\"931867fd-3de6-4470-9bf2-0681baed1946\" type=\"checkbox\" ><label class=\"sk-toggleable__label\" for=\"931867fd-3de6-4470-9bf2-0681baed1946\">MaxAbsScaler</label><div class=\"sk-toggleable__content\"><pre>MaxAbsScaler()</pre></div></div></div></div></div></div></div></div><div class=\"sk-parallel-item\"><div class=\"sk-item\"><div class=\"sk-label-container\"><div class=\"sk-label sk-toggleable\"><input class=\"sk-toggleable__control sk-hidden--visually\" id=\"1dd91fdb-46c5-44fe-b04f-253ccafac1fe\" type=\"checkbox\" ><label class=\"sk-toggleable__label\" for=\"1dd91fdb-46c5-44fe-b04f-253ccafac1fe\">numpipe</label><div class=\"sk-toggleable__content\"><pre>Index(['age', 'hours.per.week'], dtype='object')</pre></div></div></div><div class=\"sk-serial\"><div class=\"sk-item\"><div class=\"sk-serial\"><div class=\"sk-item\"><div class=\"sk-estimator sk-toggleable\"><input class=\"sk-toggleable__control sk-hidden--visually\" id=\"ad5bf1f4-b360-4fc0-8b22-f2409f4e9995\" type=\"checkbox\" ><label class=\"sk-toggleable__label\" for=\"ad5bf1f4-b360-4fc0-8b22-f2409f4e9995\">SimpleImputer</label><div class=\"sk-toggleable__content\"><pre>SimpleImputer()</pre></div></div></div><div class=\"sk-item\"><div class=\"sk-estimator sk-toggleable\"><input class=\"sk-toggleable__control sk-hidden--visually\" id=\"48a01139-db63-4905-8a19-0fd11eec3f94\" type=\"checkbox\" ><label class=\"sk-toggleable__label\" for=\"48a01139-db63-4905-8a19-0fd11eec3f94\">StandardScaler</label><div class=\"sk-toggleable__content\"><pre>StandardScaler()</pre></div></div></div></div></div></div></div></div></div></div><div class=\"sk-item\"><div class=\"sk-estimator sk-toggleable\"><input class=\"sk-toggleable__control sk-hidden--visually\" id=\"33231b3d-b2a5-4775-8ba2-af60e6112a5b\" type=\"checkbox\" ><label class=\"sk-toggleable__label\" for=\"33231b3d-b2a5-4775-8ba2-af60e6112a5b\">KNeighborsClassifier</label><div class=\"sk-toggleable__content\"><pre>KNeighborsClassifier()</pre></div></div></div></div></div></div></div></div></div></div></div></div>"
>>>>>>> upstream/master
      ],
      "text/plain": [
       "GridSearchCV(estimator=Pipeline(steps=[('preprocess',\n",
       "                                        ColumnTransformer(transformers=[('ordinalpipe',\n",
       "                                                                         Pipeline(steps=[('ordimputer',\n",
       "                                                                                          SimpleImputer(strategy='most_frequent')),\n",
       "                                                                                         ('ordenc',\n",
       "                                                                                          OrdinalEncoder(categories=[['10th',\n",
       "                                                                                                                      '11th',\n",
       "                                                                                                                      'HS-grad',\n",
       "                                                                                                                      'Some-college',\n",
       "                                                                                                                      'Assoc-acdm',\n",
       "                                                                                                                      'Assoc-voc',\n",
       "                                                                                                                      'Bachelors',\n",
       "                                                                                                                      'Masters',\n",
       "                                                                                                                      'Doctorate']])),\n",
       "                                                                                         ('ordnorm',\n",
       "                                                                                          StandardScaler())]),\n",
       "                                                                         ['educat...\n",
       "                                                                                         ('onehotnorm',\n",
       "                                                                                          MaxAbsScaler())]),\n",
       "                                                                         ['occupation',\n",
       "                                                                          'sex']),\n",
       "                                                                        ('numpipe',\n",
       "                                                                         Pipeline(steps=[('numimputer',\n",
       "                                                                                          SimpleImputer()),\n",
       "                                                                                         ('numnorm',\n",
       "                                                                                          StandardScaler())]),\n",
       "                                                                         Index(['age', 'hours.per.week'], dtype='object'))])),\n",
       "                                       ('model', KNeighborsClassifier())]),\n",
       "             param_grid={'model__n_neighbors': [3, 11, 15], 'model__p': [1, 2],\n",
       "                         'preprocess__numpipe__numimputer__strategy': ['mean',\n",
       "                                                                       'median']})"
      ]
     },
<<<<<<< HEAD
     "execution_count": 210,
=======
     "execution_count": 120,
>>>>>>> upstream/master
     "metadata": {},
     "output_type": "execute_result"
    }
   ],
   "source": [
    "gs_full_pipe.fit(X_inc_train,y_inc_train)"
   ]
  },
  {
   "cell_type": "code",
   "execution_count": 211,
   "metadata": {
    "cell_style": "split",
    "slideshow": {
     "slide_type": "fragment"
    }
   },
   "outputs": [
    {
     "data": {
      "text/plain": [
       "0.7958208589949625"
      ]
     },
     "execution_count": 211,
     "metadata": {},
     "output_type": "execute_result"
    }
   ],
   "source": [
    "gs_full_pipe.best_score_"
   ]
  },
  {
   "cell_type": "code",
   "execution_count": 212,
   "metadata": {
    "cell_style": "split",
    "slideshow": {
     "slide_type": "fragment"
    }
   },
   "outputs": [
    {
     "data": {
      "text/plain": [
       "{'model__n_neighbors': 15,\n",
       " 'model__p': 1,\n",
       " 'preprocess__numpipe__numimputer__strategy': 'mean'}"
      ]
     },
     "execution_count": 212,
     "metadata": {},
     "output_type": "execute_result"
    }
   ],
   "source": [
    "gs_full_pipe.best_params_"
   ]
  },
  {
   "cell_type": "code",
   "execution_count": 213,
   "metadata": {
    "cell_style": "split",
    "slideshow": {
     "slide_type": "fragment"
    }
   },
   "outputs": [
    {
     "data": {
      "text/plain": [
       "<sklearn.metrics._plot.confusion_matrix.ConfusionMatrixDisplay at 0x7faa5928ae50>"
      ]
     },
     "execution_count": 213,
     "metadata": {},
     "output_type": "execute_result"
    },
    {
     "data": {
      "image/png": "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\n",
      "text/plain": [
       "<Figure size 432x288 with 2 Axes>"
      ]
     },
     "metadata": {
      "needs_background": "light"
     },
     "output_type": "display_data"
    }
   ],
   "source": [
    "best_model = gs_full_pipe.best_estimator_\n",
    "y_pred = best_model.predict(X_inc_test)\n",
    "plot_confusion_matrix(best_model,\n",
    "                      X_inc_test,\n",
    "                      y_inc_test)"
   ]
  },
  {
   "cell_type": "markdown",
   "metadata": {
    "slideshow": {
     "slide_type": "slide"
    }
   },
   "source": [
    "Try a different scoring metric due to class imbalance"
   ]
  },
  {
   "cell_type": "code",
<<<<<<< HEAD
   "execution_count": 214,
=======
   "execution_count": 121,
   "id": "e22f8ba4",
>>>>>>> upstream/master
   "metadata": {
    "slideshow": {
     "slide_type": "fragment"
    }
   },
   "outputs": [],
   "source": [
    "# going down each level in estimator with double underscore (level1__level2__estimator__argument)\n",
    "final_pipe_grid = {'preprocess__numpipe__numimputer__strategy': [\"mean\", \"median\"],\n",
    "             'model__n_neighbors': [3, 11, 15],\n",
    "             'model__p': [1, 2]}\n",
    "\n",
    "gs_full_pipe2 = GridSearchCV(estimator=final_pipe, \n",
    "                       param_grid=final_pipe_grid, scoring = 'roc_auc')"
   ]
  },
  {
   "cell_type": "code",
   "execution_count": 215,
   "metadata": {
    "slideshow": {
     "slide_type": "subslide"
    }
   },
   "outputs": [
    {
     "data": {
      "text/plain": [
       "<sklearn.metrics._plot.confusion_matrix.ConfusionMatrixDisplay at 0x7fa9f80c6c40>"
      ]
     },
     "execution_count": 215,
     "metadata": {},
     "output_type": "execute_result"
    },
    {
     "data": {
      "image/png": "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\n",
      "text/plain": [
       "<Figure size 432x288 with 2 Axes>"
      ]
     },
     "metadata": {
      "needs_background": "light"
     },
     "output_type": "display_data"
    }
   ],
   "source": [
    "gs_full_pipe2.fit(X_inc_train, y_inc_train)\n",
    "best_model2 = gs_full_pipe2.best_estimator_\n",
    "plot_confusion_matrix(best_model2,\n",
    "                      X_inc_test,\n",
    "                      y_inc_test)"
   ]
  },
  {
   "cell_type": "markdown",
   "metadata": {
    "slideshow": {
     "slide_type": "slide"
    }
   },
   "source": [
    "Scoring made a difference, but not that much. In some case will make a *huge* difference.\n",
    "\n",
    "Probably would do much better with a better classifier and a better tuning range:\n",
    "- But now you see how to address hyperparameters inside column transformers\n",
    "- At any level of the full pipeline\n",
    "- Change metrics you are tuning on"
   ]
  },
  {
   "cell_type": "markdown",
   "metadata": {
    "slideshow": {
     "slide_type": "slide"
    }
   },
   "source": [
    "#### Feature Union"
   ]
  },
  {
   "cell_type": "markdown",
   "metadata": {
    "cell_style": "split",
    "slideshow": {
     "slide_type": "slide"
    }
   },
   "source": [
    "Given a subset of features:\n",
    "- Want to transform feature subset in multiple ways (in parallel)\n",
    "- Keep all of these transformed subsets as features\n",
    "- **Feature Union** of multiple transformers"
   ]
  },
  {
   "cell_type": "markdown",
   "metadata": {
    "cell_style": "split",
    "slideshow": {
     "slide_type": "fragment"
    }
   },
   "source": [
    "- E.g. PolynomialFeatures\n",
    "- Function transformer (transform features according to function)"
   ]
  },
  {
   "cell_type": "code",
<<<<<<< HEAD
   "execution_count": 216,
=======
   "execution_count": 122,
   "id": "755ea694",
>>>>>>> upstream/master
   "metadata": {
    "slideshow": {
     "slide_type": "skip"
    }
   },
   "outputs": [],
   "source": [
    "from scipy.stats import norm\n",
    "X = np.linspace(-1.7*np.pi, 1.5*np.pi, 100)\n",
    "np.random.shuffle(X)\n",
    "epsilon = norm.rvs(loc = 0, scale = 3.5, size = 100)\n",
    "y = 5*np.sin(2*X) - 3*np.cos(X) + 2*X + .3*X**2 + epsilon\n",
    "data_df = pd.DataFrame()\n",
    "data_df['X'] = X\n",
    "data_df['y'] = y"
   ]
  },
  {
   "cell_type": "code",
<<<<<<< HEAD
   "execution_count": 217,
=======
   "execution_count": 123,
   "id": "a7af5435",
>>>>>>> upstream/master
   "metadata": {
    "cell_style": "split",
    "scrolled": true,
    "slideshow": {
     "slide_type": "slide"
    }
   },
   "outputs": [
    {
     "data": {
      "text/html": [
       "<div>\n",
       "<style scoped>\n",
       "    .dataframe tbody tr th:only-of-type {\n",
       "        vertical-align: middle;\n",
       "    }\n",
       "\n",
       "    .dataframe tbody tr th {\n",
       "        vertical-align: top;\n",
       "    }\n",
       "\n",
       "    .dataframe thead th {\n",
       "        text-align: right;\n",
       "    }\n",
       "</style>\n",
       "<table border=\"1\" class=\"dataframe\">\n",
       "  <thead>\n",
       "    <tr style=\"text-align: right;\">\n",
       "      <th></th>\n",
       "      <th>X</th>\n",
       "      <th>y</th>\n",
       "    </tr>\n",
       "  </thead>\n",
       "  <tbody>\n",
       "    <tr>\n",
       "      <th>0</th>\n",
<<<<<<< HEAD
       "      <td>0.447439</td>\n",
       "      <td>4.241884</td>\n",
       "    </tr>\n",
       "    <tr>\n",
       "      <th>1</th>\n",
       "      <td>4.204657</td>\n",
       "      <td>24.162809</td>\n",
       "    </tr>\n",
       "    <tr>\n",
       "      <th>2</th>\n",
       "      <td>-0.974211</td>\n",
       "      <td>-11.499437</td>\n",
       "    </tr>\n",
       "    <tr>\n",
       "      <th>3</th>\n",
       "      <td>-4.528336</td>\n",
       "      <td>-3.588609</td>\n",
       "    </tr>\n",
       "    <tr>\n",
       "      <th>4</th>\n",
       "      <td>-4.934522</td>\n",
       "      <td>-0.537348</td>\n",
=======
       "      <td>-4.832975</td>\n",
       "      <td>3.339544</td>\n",
       "    </tr>\n",
       "    <tr>\n",
       "      <th>1</th>\n",
       "      <td>0.447439</td>\n",
       "      <td>-2.084307</td>\n",
       "    </tr>\n",
       "    <tr>\n",
       "      <th>2</th>\n",
       "      <td>2.681460</td>\n",
       "      <td>3.403228</td>\n",
       "    </tr>\n",
       "    <tr>\n",
       "      <th>3</th>\n",
       "      <td>-5.036068</td>\n",
       "      <td>-4.103896</td>\n",
       "    </tr>\n",
       "    <tr>\n",
       "      <th>4</th>\n",
       "      <td>-5.137615</td>\n",
       "      <td>-2.410525</td>\n",
>>>>>>> upstream/master
       "    </tr>\n",
       "    <tr>\n",
       "      <th>...</th>\n",
       "      <td>...</td>\n",
       "      <td>...</td>\n",
       "    </tr>\n",
       "    <tr>\n",
       "      <th>95</th>\n",
<<<<<<< HEAD
       "      <td>-1.177304</td>\n",
       "      <td>-3.878700</td>\n",
       "    </tr>\n",
       "    <tr>\n",
       "      <th>96</th>\n",
       "      <td>-3.005140</td>\n",
       "      <td>5.324026</td>\n",
       "    </tr>\n",
       "    <tr>\n",
       "      <th>97</th>\n",
       "      <td>-5.036068</td>\n",
       "      <td>-2.774869</td>\n",
       "    </tr>\n",
       "    <tr>\n",
       "      <th>98</th>\n",
       "      <td>0.345893</td>\n",
       "      <td>-2.952885</td>\n",
       "    </tr>\n",
       "    <tr>\n",
       "      <th>99</th>\n",
       "      <td>4.306203</td>\n",
       "      <td>16.886370</td>\n",
=======
       "      <td>4.509296</td>\n",
       "      <td>18.030099</td>\n",
       "    </tr>\n",
       "    <tr>\n",
       "      <th>96</th>\n",
       "      <td>-3.614418</td>\n",
       "      <td>1.873178</td>\n",
       "    </tr>\n",
       "    <tr>\n",
       "      <th>97</th>\n",
       "      <td>-4.223697</td>\n",
       "      <td>3.066421</td>\n",
       "    </tr>\n",
       "    <tr>\n",
       "      <th>98</th>\n",
       "      <td>4.103110</td>\n",
       "      <td>18.779806</td>\n",
       "    </tr>\n",
       "    <tr>\n",
       "      <th>99</th>\n",
       "      <td>-0.872665</td>\n",
       "      <td>-9.534307</td>\n",
>>>>>>> upstream/master
       "    </tr>\n",
       "  </tbody>\n",
       "</table>\n",
       "<p>100 rows × 2 columns</p>\n",
       "</div>"
      ],
      "text/plain": [
       "           X          y\n",
<<<<<<< HEAD
       "0   0.447439   4.241884\n",
       "1   4.204657  24.162809\n",
       "2  -0.974211 -11.499437\n",
       "3  -4.528336  -3.588609\n",
       "4  -4.934522  -0.537348\n",
       "..       ...        ...\n",
       "95 -1.177304  -3.878700\n",
       "96 -3.005140   5.324026\n",
       "97 -5.036068  -2.774869\n",
       "98  0.345893  -2.952885\n",
       "99  4.306203  16.886370\n",
=======
       "0  -4.832975   3.339544\n",
       "1   0.447439  -2.084307\n",
       "2   2.681460   3.403228\n",
       "3  -5.036068  -4.103896\n",
       "4  -5.137615  -2.410525\n",
       "..       ...        ...\n",
       "95  4.509296  18.030099\n",
       "96 -3.614418   1.873178\n",
       "97 -4.223697   3.066421\n",
       "98  4.103110  18.779806\n",
       "99 -0.872665  -9.534307\n",
>>>>>>> upstream/master
       "\n",
       "[100 rows x 2 columns]"
      ]
     },
<<<<<<< HEAD
     "execution_count": 217,
=======
     "execution_count": 123,
>>>>>>> upstream/master
     "metadata": {},
     "output_type": "execute_result"
    }
   ],
   "source": [
    "data_df"
   ]
  },
  {
   "cell_type": "code",
<<<<<<< HEAD
   "execution_count": 218,
=======
   "execution_count": 124,
   "id": "f00cb403",
>>>>>>> upstream/master
   "metadata": {
    "cell_style": "split",
    "slideshow": {
     "slide_type": "fragment"
    }
   },
   "outputs": [
    {
     "data": {
<<<<<<< HEAD
      "image/png": "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\n",
=======
      "image/png": "iVBORw0KGgoAAAANSUhEUgAAAYcAAAEGCAYAAACO8lkDAAAAOXRFWHRTb2Z0d2FyZQBNYXRwbG90bGliIHZlcnNpb24zLjQuMywgaHR0cHM6Ly9tYXRwbG90bGliLm9yZy/MnkTPAAAACXBIWXMAAAsTAAALEwEAmpwYAAAeC0lEQVR4nO3de5BU1Z0H8O93EBxFUB4jsAiMk5D4iqvWLJIyGKOJUWLFV+Vhao2buJn8oaKbp4nZTap2U2U2Rjeo62ZQ42OzUWuNqxtZE19bYpUSB5coiA9EUHDAAS0eKiIzv/1juvHS3bfndve995x77/dTRcH0vM6lu+/vnN8553doZhAREQlqc90AERHxj4KDiIhUUXAQEZEqCg4iIlJFwUFERKrs47oBcZg8ebJ1dna6boaISKYsW7Zss5l11PpcLoJDZ2cn+vr6XDdDRCRTSK4L+5zSSiIiUkXBQUREqig4iIhIFQUHERGp4iw4kJxB8lGSq0iuJHlp6fGfkNxAcnnpz3xXbRQRKSqXq5V2A/i2mT1NchyAZSQfLH3uGjO7ymHbRES8NjRkWLvlbWzathNTxrejc9JYtLUxtp/vLDiYWT+A/tK/t5NcBWC6q/aIiGTF0JDhgZUb8a27lmPn+0NoH92Gq794DE47cmpsAcKLOQeSnQCOBbC09NDFJJ8heTPJCSHf00Oyj2TfwMBAWk0VEXFu7Za39wQGANj5/hC+dddyrN3ydmy/w3lwIHkAgLsBXGZm2wDcAOBDAI7B8MjiF7W+z8x6zazbzLo7Ompu8BMRyaVN23buCQxlO98fwhvbd8b2O5wGB5KjMRwYfmNmvwMAM9tkZoNmNgRgEYA5LtsoIuKbKePb0T5679t3++g2HDyuPbbf4XK1EgHcBGCVmV0deHxa4MvOBrAi7baJiPisc9JYXP3FY/YEiPKcQ+eksbH9DperlU4AcD6AZ0kuLz32QwDnkTwGgAFYC+CbLhonIuKrtjbitCOn4rAF8/DG9p04eFy+Vis9DqDWlSxOuy0iIlnT1kZ0dRyAro4Dkvn5ifxUERHJNAUHERGpkovzHEREfJL07uU0KDiIiMQojd3LaVBaSUQkRmnsXk6DgoOISIzS2L2cBgUHEZEYpbF7OQ0KDiIiMUpj93IaNCEtIhKjNHYvp0HBQUQkZknvXk6D0koiIlJFIwcRkSblYbNbGAUHEZEm5GWzWxillUREmpCXzW5hFBxERJoQ92a3oSHDmoEdeOLlzVgzsANDQxZHM5umtJKISBPKm92CAaLZzW4+pqg0chARaULUzW5RRgQ+pqicjRxIzgBwG4CpAIYA9JrZL0lOBHAngE4MHxP6RTN7y1U7RURqqdzsNnV8OwaHgKWvbNmzcglApBFBvRSVq70SLkcOuwF828wOBzAXwEUkjwBwOYCHzWw2gIdLH4uIeKe82W1O5yQ8178dn7t2Cc5btBTzFy7BAys34tU3o40IfKzH5Cw4mFm/mT1d+vd2AKsATAdwJoBbS192K4CznDRQRCSisLTQpm3vRZq09rEekxcT0iQ7ARwLYCmAKWbWDwwHEJIHu2ybiMhIm93C0kLv7Npdd9I6+HOPmDYO918yDwM7/KjH5Dw4kDwAwN0ALjOzbWS0/wySPQB6AGDmzJnJNVBECi3KSqKwlUszJw6PCCq/t3PSWC9XKAXRzN1aWpKjAfwewB/M7OrSYy8AOKk0apgG4H/N7KP1fk53d7f19fUl32ARKZw1Azswf+GSqhv/4gXz9kwW17vRA8Npp8oKrVF+btJILjOz7lqfc7laiQBuArCqHBhK7gNwAYArS3/f66B5IiIAoq0kGqlMd60KrT6uUApymVY6AcD5AJ4lubz02A8xHBTuInkhgFcBfMFN80REom92i1KmOzjHsP+YfTBr0n5Yt+Xduj/XFWfBwcweBxCWWDslzbaIiIQprySqNW/QiFqpp3866yhc+8hLWLflXS9WKAU5nXOIi+YcRCRJ5R5/Kye7hc0x3NkzF+++P+hkhZKXcw4iIlkRx8luYXMM774/iLldk1ttYuwUHEREUtBsoT5XBwqp8J6ISAqa2QVdnqeYv3DvshxplPPWnIOISANa6ck3OneR9F4IzTmIiMSg1V3Njc5duNwLobSSiEgNtc5hSPvcBZfVWjVyEBGpEDZC6Bg3JtWefK09Fj8792hsefu9PZ9PanJawUFEpELYCOHOnrmxHQ0aRbAsx6ZtO/H+oOHv7312r01zSRXqU1pJRKRCeAnuwdTPXSjPU0wZ346e2/v2lNtIOqWlkYOISIWwPQlTxrfj+EMnhRbYS1Lak9MaOYiIVKi3J6Hck5/bNRldHQekVu4i7clpjRxERCqMVILbhbgKAEalTXAiIhkRRwHAIG2CExHJgTgKAEb+XYn/BhERyRwFBxERqaLgICIiVZwGB5I3k3yD5IrAYz8huYHk8tKf+S7bKCL5VquGkrifkL4FwHUAbqt4/Bozuyr95ohIkbRaZTXJdrk44CfI6cjBzB4D8KbLNohIcaVdZTUKlwf8BPk653AxyWdKaacJtb6AZA/JPpJ9AwMDabdPRHKgXkkKV3wJWD4GhxsAfAjAMQD6Afyi1heZWa+ZdZtZd0dHR4rNE5G8cHleQhhfApZ3wcHMNpnZoJkNAVgEYI7rNolIPjVzrnPSfAlYriekq5CcZmb9pQ/PBrCi3teLiDRLNZTCOQ0OJH8L4CQAk0muB/BjACeRPAaAAVgL4Juu2ici+ZdmSYoofAlYToODmZ1X4+GbUm+IiAj8WEIK+BGwvEsriYi44OueB1e8m5AWEXHBlyWkvlBwEBGBP0tIfaHgICICf5aQ+kLBQUQEfu55cEkT0iIi8GcJqS8UHERESnxYQuoLpZVERKSKgoOIiFRRcBARkSoKDiIiUkXBQUREqig4iIhIFS1lFZFC8KXialYoOIhI7qniauOUVhKR3FPF1cZp5CAiuRdWcfXFTdsBQCmmGjRyEJHcC6u4+uyGbZi/cAkeWLkRQ0PmqHV+chocSN5M8g2SKwKPTST5IMmXSn9PcNlGkawaGjKsGdiBJ17ejDUDOwp986tVcXXBybPxu6fXK8UUwnVa6RYA1wG4LfDY5QAeNrMrSV5e+vj7DtomklmagN1bsOLqi5u249kN23D7k+vQv3X4IJ/yoT4quPcBpyMHM3sMwJsVD58J4NbSv28FcFaabRLJA03AVitXXP3IlHG46fE1ewIDUOxDfcL4OOcwxcz6AaD098G1vohkD8k+kn0DAwOpNlDEd0U98jJKKk2H+kTjOq3UNDPrBdALAN3d3cVNporUUJ6ADQaIvPeOo6bSdKhPND6OHDaRnAYApb/fcNwekcwpYu+4kVRaOcU0t2syujoOUGCowceRw30ALgBwZenve902RyR7itg7rpVKm7D/GAxsf08lM5rgNDiQ/C2AkwBMJrkewI8xHBTuInkhgFcBfMFdCyUpqnOTvKIdeVmZSpt2YDu++vFZuODXf9KKrSbQLPvp+u7ubuvr63PdDIlIyywlCZWvqwWnfBi9j62pmndZvGBeYQLmSEguM7PuWp/zMa0kOReWGz5Mb1ppQWUq7Z1dg6ErtvQ6G5mPE9KSc0VdZulSUXZLByeaOyeNrVkyI88rtuKk4CCpC6tzozdtMsrplvkLl+C8RUsLU0uoiCu24qQ5B0md5hzStWZgB+YvXFLI3Ht54UNRVmw1SnMO4pUiLrN0qV4az5fgkNTqtaKt2IqTgoM4oTdtenzfLa2RpJ805yCSc77n3lUk0E8aOYjknO9pvCykvYpIwUGkAHxO4/me9ioqpZVEpK7KPRK7dw/FumfC97RXUWnkICKhKieLZ03aD5ecPBs/+q8VsU0e+572KiqNHEQkVOVk8RlHT98TGID4Jo9VQts/Cg4iEqpyspiESp8UxIjBgeTFJCek0RgR8UtYqZPKjzV5nD9RRg5TATxF8i6Sp5HUeE+kIConi//7zxvwT2cdpcnjAohUW6kUEE4F8DUA3QDuAnCTmb2cbPOiUW0lkeRU1ieaOWF/vPrWO5o8zoGWayuZmZHcCGAjgN0AJgD4T5IPmtn34muqiPim1h4JX/dMSHxGDA4kF2D4LOfNAG4E8F0ze59kG4CXACQSHEiuBbAdwCCA3WHRTURE4hdl5DAZwDlmti74oJkNkTwjmWbt8Skz25zw7xCRlOjs8OwYMTiY2T/U+dyqeJsjeaYbQ7HFWX1Vr6Xk+bxD2gD8kaQB+JWZ9QY/SbIHQA8AzJw500HzpBEqyyxxnR2u11I6fN4Ed4KZHQfgdAAXkTwx+Ekz6zWzbjPr7ujocNNCiUxlmSWus8P1WkqHt8HBzF4v/f0GgHsAzHHbImlFXDcGaV1lIb20zpKO6+xwvZbS4WVwIDmW5LjyvzG8x2JF3L/H1ZukiOK6MUhryimZ+QuX4LxFSzF/4RI8sHJjKq/9uKqv6rWUjkib4NJGsgvDowVgeF7kP8zsp2Ff38wmOE2OpUt5Yj+sGdiB+QuXVJ2dsLjBvH+zKjfUNfNe0WspPvU2wXkZHBrVTHCI602iF2p0cdwYpDVPvLwZ5y1aWvX4HT3HY27XZActao5eS/FoeYd0HrV6NGH5xTmw/b1YVmAUQdhpZBp5pScvp64FX0t6/SSjsMGhlTdJcLTwt/O6dP5tCzTySlc571/5/53Vwnl6/STHywnpNLQyOVa5lK6VybGiT4prWWK6yqeuLV4wD3f0HI/FC+Zl+kaq109yCjtyaOVowmBK6u5l67Hg5NlY+MhLDffE1OtpPb0njQtL7zXDdUpHr5/kFDY4AM2/SYIpqf6tO3H7k+vQc2IXjp1xEGZNGhv5DRLXjtEsy0sOvIh86Nzo9ZOcwqaVWlGZknrrnV04bOp4fPIjBzd0/q0288S39l3S50NKR6+f5BR65NCsVlJSQer11P+/dJ2ykPp8SOnE9V6UagoOTYojb5u3lSPNqvV/6UPKQurzpXMT5xyKfKCwm+B8Eedmnjz1tF3v5E1Cnp4fIHoAz9t154k2wXksrl6PTz3tOG4GPqQs4uTT8xOXKCmdPF53UWhCOifinBxsZe9FXIXd8lZcLcnJW5d7Zcqdm7ldk2suxqh33WHtLvreH19o5JATcfW0W+3ptbo8NzjqWHR+N35077NYt+XdzM/HJDUS8r1nHnbdm7btxPMbt1e1+9TDp+CPqzZ5ez1FouCQE3FNDrZ6c2/lJljrRvezc4/G9IPaMXHsvpnOVTfy/DSSlvN9r0zYde8/ZhS+dstTVe2+s2eu19dTJEor5URc671b3XvRSjqo1o3u+3c/g4lj921o/4iPoj4/jablfN8rE3bduwaHara7f6vf11MkGjnkhC97L1pZnlvvRtc5aeye3vS0A9sxOAS8sT07q1+iPj+NjgR8WU4aJuy61255u2a7px24n9fXUyQKDjniw96LVoJU2I1u6vj2PemmCfuPwVc/Pgu/fHjvWlZZyElHeX6iBshyUMzCXpla1x3W7iOnjff+eopC+xykSpS9F1Hz4o3kz8MmVz86ZRw+d+3wnoeLPvVh3PT4mlztfwgK299x/yXz8MKm6gnc046cCgCZPPgm7HWmg3zSo30O0pCReriNbH5qZCVN2Khj6Stb9twsSeRq/0OlsB71qDbUTTdlcYdw2OtMO5794G1wIHkagF8CGAXgRjO70nGTpCRqXryZlTS1bgyV6aY856SjBMiyuINicJTXzLxO0juhtdM6XV4GB5KjAFwP4DMA1gN4iuR9Zvac25YJEH25alxr+4O96buXrcelp8yumnPIU046SoAE4g2KwVFeM/M6Se+38H0/Rx75upR1DoDVZrbGzHYBuAPAmY7bVEi1dqtGXa4a1y7n4Oll13zpL3H6UVNx/yX5OMksqqRLUwdHeeccd8iewABE282ddPluH8qDF42XIwcA0wG8Fvh4PYDjg19AsgdADwDMnDkzvZYVSFhv7dTDp1Tlxa/7yrEwA554eXMiK2lq9aY/dHBxctJJl6YOjvKamddJuhZW3mptZYGvwaHWK36vZVVm1gugFxherdTqL1Q+s1pYb63cWy/fqKaOb8dz/dv3rCgKDvlVaz8+SU7Utjqvk3Tay/f9HHnka1ppPYAZgY8PAfB6Ur8srmJxeVOvtxYsuDZktVfSrN3y9oiF2cQPwbRVeV6nkRRW0mkvnfiWPl9HDk8BmE3yUAAbAHwZwFeS+mW+16dxJWpvTUP+7KtMW00d345Tj5iKgR3RRnxJp7104lv6vAwOZrab5MUA/oDhpaw3m9nKpH6fbm61RZ0z0JA/H1qd1wl+f1xp2lo/p8jvyTR5GRwAwMwWA1icxu8q6s1tpDdw1N5aFko4SHriWnaq5atuqXwGivUiDAaE3YNWdV5Cs9eskgdSFtcRr3k8KtY3Kp8xgqLkM2sFwQUnz8btT65D/9adLc2zqORBMrK4ii6uNK3SvW4pOJQU4eZWa+J94SMv4cJPdOH6R1dn8o2XxZtnVPVGtAC8ve640rRFTff6wtelrJKAsJ4YS/eUrL3xml2CnJUzisNW0b2y+W2vl17HtexUy1fd0sihhrz1RsvX00bW7ImZZfON18wS5CzNL4UF81ff9HvpdVxp2qKke32l4FAhSzePKCoLqlUWrSuf0XzucdMz98ZrJiedpT0t4ecv79PQgUAuntO40rRFSPf6SsGhQpZuHlEEr6d/607c9sQ69JzYhWNnHIRZpfpHWQoIQfVy0mGjvyxNcoYtEZ4yft8RT8zLQ8dG3NKcQwXfD2xvVOX19G/diYUPr8Z+Y0ZlvpxFWE565oT9Q3PycVWKTUOwGm2wAu3MibWve3AovIyJSKM0cqiQtxUSebueoHqH14eN/rK2YS8sreLqQCApDgWHClm7eYwkb9dTqdbNc6TUUR4mOV0cCCTFouBQIW8rJPJ2PVGMdJPM6yRn3jsCki6Vz3Agb0tlfZO3FWeNUBkTaUS98hkKDikr8o0rTbpJioysXnDQaqURxL2b1tezcLOyazgqHTIk0hrNOdSRRC/fx3X2Gs20TqlCyRsFhzoqe/kT9h+D5zduQ/voNnQ2uYHMxxUledv4lzYFV8kjpZXqCPbypx3YjvPnzkLvY2vw9Vv6mi52FncxsTjSQVE3/uUt9RQXX1OFIq3QyKGOYC//nOMOwcJHXmq5dx3n0tK4eqxRRjPqHYfzMVUo0irvRg4kf0JyA8nlpT/zXbUl2MsnEVtZjbgmS+PqsUYZzah3HC6sJAfB0BGWRmHiO19HDteY2VWuGxHs5Q/seA83LlnjxVxBefLzxU3bY+mxRhnN5LV3HMdEcq3NZ5eeMhuX3bkcb72zq2qEpVGYZIF3IwfflHv5fzVrohcHjwQPuFnx+rbYisiNNJrJUsG6qJo9LKhSsEDer/+mGz0nduG2J4aPXq01wtIoTLLA1+BwMclnSN5MckKtLyDZQ7KPZN/AwEDiDQqrkBm1p9dMGqHW9wRvLHcvW48FJ89OJWBl4VSuRv+P47xJl4Nr++hRWPjwavRv/SDdWJl+zFvlX8knJ2klkg8BmFrjU1cAuAHAPwKw0t+/APD1yi80s14AvcDwDunEGhvQaE2eYMpi96DhR/c+i3Vb3o2URghLPXSMG7PnxtK/dSduf3IdLvxEF46ePh6zp4xLbH297zWamknVJJEqizK57+NyZpFKTkYOZvZpMzuqxp97zWyTmQ2a2RCARQDmuGhjqypTFt+4vQ9f6p6JaQe2R+qhhvVqx4xq2yu90791J256fA1mTxmX+E5gn3cdNzMKSCJVFmWElYVRmIh3E9Ikp5lZf+nDswGscNmeZtW6WS185CVc+IkuXP/o6hF7qGG92nd2DaryZg3NjAKSqGIaZYTl+yhMBPAwOAD4Z5LHYDittBbAN522pklhNyuW3v8j9VDDUg9Txrfj+EMn6cZSoZlUTVI36Sjpx7yWDZf88G5C2szON7OPmdnRZvb5wCgiU8JSFmbR0gj1Ug8+p3dcaTZVk/T/pfYzSFapZHdCak2Q/uzcozH9oHZMHLtvpB6qyk43Ju3/r5H2SGg/g/hO5zk4opt7fkW58a8Z2IH5C5dUpboWq6CheELnOTii9E9+RVkdlYX9DEp7SRgfJ6RFvBdldZTv+xmU9pJ6NHIQaUKUPRK+72dQGQ+pRyMHkSZE2SPh+36GvBZTlHgoOIg0IeqN3+f9DL6nvcQtpZVEmpT1BQe+p73ELY0cRBoQx/kPvvA97SVuKTiIRJTH1T0+p73ELaWVRCLS6h4pEgUHkYiysKlNJC5KK4lElNTqnjzNY0h+aOQgElESq3viOsdaJG4qvCfSgLiLKao4n7hUr/Ce0koxU4rAT40+L2FfH/fqHu1SFl8pOMQoj0sd86DR5yXN51G7lMVXTuYcSH6B5EqSQyS7Kz73A5KrSb5A8rMu2tcsn5Y6qhTzBxp9XtJ8HrVLWXzlauSwAsA5AH4VfJDkEQC+DOBIAH8B4CGSHzGzwfSb2LhWUwRxpaQ0gtlbo89Lmqke7VIWXzkJDma2CgDIqjfAmQDuMLP3ALxCcjWAOQCeSLeFzWklRRDnDT2s53tYQSc5G31e0k71aJey+Mi3pazTAbwW+Hh96bEqJHtI9pHsGxgYSKVxI2klRRBnKkObtfbW6POiVI9IgiMHkg8BmFrjU1eY2b1h31bjsZrJcjPrBdALDC9lbaqRMWslRTBSKqORlJMmOffW6POiVI9IgsHBzD7dxLetBzAj8PEhAF6Pp0XpaDZFUO+G3mjKKcpBNEXT6POiVI8UnW9ppfsAfJnkviQPBTAbwJ8ctykV9VIZjaacyj3fxQvm4Y6e47F4wbzCTkaLSHOcTEiTPBvAtQA6ANxPcrmZfdbMVpK8C8BzAHYDuCgrK5VaVS+V0czqGfV8RaQVrlYr3QPgnpDP/RTAT9NtkR/CbuiaQxCRtPmWVpIatHpGRNKm8hkZoNUzIpI2BYeM0BxC8lQ0UeQDCg4iUMkRkUqacxBB/R3qKmIoRaSRgwjCd6hv2rYTz2/crhGFFI5GDiL4YLlwUPvoNuw/ZpQ3ZdhF0qTgIILw5cK7BodUxFAKSWklEYQvF1675W1tQJRC0shBpKS8XHhu12R0dRyAtjZqA6IUlkYOInVoA6IUlYKDyAi0AVGKSGklERGpouAgIiJVFBxERKSKgoOIiFRRcBARkSo0y34RMZIDANa5bkeCJgPY7LoRKSvaNRfteoHiXbOP1zvLzDpqfSIXwSHvSPaZWbfrdqSpaNdctOsFinfNWbtepZVERKSKgoOIiFRRcMiGXtcNcKBo11y06wWKd82Zul7NOYiISBWNHEREpIqCg4iIVFFwyBiS3yFpJCe7bkuSSP6c5PMknyF5D8mDXLcpKSRPI/kCydUkL3fdniSRnEHyUZKrSK4keanrNqWF5CiS/0fy967bEoWCQ4aQnAHgMwBedd2WFDwI4CgzOxrAiwB+4Lg9iSA5CsD1AE4HcASA80ge4bZVidoN4NtmdjiAuQAuyvn1Bl0KYJXrRkSl4JAt1wD4HoDcryIwsz+a2e7Sh08COMRlexI0B8BqM1tjZrsA3AHgTMdtSoyZ9ZvZ06V/b8fwzXK621Ylj+QhAD4H4EbXbYlKwSEjSH4ewAYz+7PrtjjwdQD/47oRCZkO4LXAx+tRgJslAJDsBHAsgKWOm5KGf8Fwx25ohK/zhk6C8wjJhwBMrfGpKwD8EMCp6bYoWfWu18zuLX3NFRhORfwmzbalqNZ5o7kfGZI8AMDdAC4zs22u25MkkmcAeMPMlpE8yXFzIlNw8IiZfbrW4yQ/BuBQAH8mCQynWJ4mOcfMNqbYxFiFXW8ZyQsAnAHgFMvvhpz1AGYEPj4EwOuO2pIKkqMxHBh+Y2a/c92eFJwA4PMk5wNoBzCe5L+b2V87bldd2gSXQSTXAug2M98qPMaG5GkArgbwSTMbcN2epJDcB8MT7qcA2ADgKQBfMbOVThuWEA73bm4F8KaZXea4OakrjRy+Y2ZnOG7KiDTnIL66DsA4AA+SXE7y31w3KAmlSfeLAfwBw5Ozd+U1MJScAOB8ACeXntflpR61eEYjBxERqaKRg4iIVFFwEBGRKgoOIiJSRcFBRESqKDiIiEgVBQeRBJSqj75CcmLp4wmlj2e5bptIFAoOIgkws9cA3ADgytJDVwLoNbN17lolEp32OYgkpFQmYhmAmwF8A8CxpcqrIt5TbSWRhJjZ+yS/C+ABAKcqMEiWKK0kkqzTAfQDOMp1Q0QaoeAgkhCSx2D45L65AP6O5DS3LRKJTsFBJAGl6qM3YPi8glcB/BzAVW5bJRKdgoNIMr4B4FUze7D08b8COIzkJx22SSQyrVYSEZEqGjmIiEgVBQcREami4CAiIlUUHEREpIqCg4iIVFFwEBGRKgoOIiJS5f8B48kRcwHAPWkAAAAASUVORK5CYII=\n",
>>>>>>> upstream/master
      "text/plain": [
       "<Figure size 432x288 with 1 Axes>"
      ]
     },
     "metadata": {
      "needs_background": "light"
     },
     "output_type": "display_data"
    }
   ],
   "source": [
    "sns.scatterplot(x = 'X', y = 'y', data = \n",
    "                data_df)\n",
    "plt.show()"
   ]
  },
  {
   "cell_type": "code",
<<<<<<< HEAD
   "execution_count": 219,
=======
   "execution_count": 125,
   "id": "7aabad37",
>>>>>>> upstream/master
   "metadata": {
    "cell_style": "center",
    "slideshow": {
     "slide_type": "fragment"
    }
   },
   "outputs": [],
   "source": [
    "X_reshape = data_df['X'].values.reshape(-1,1)\n",
    "y = data_df['y']"
   ]
  },
  {
   "cell_type": "code",
<<<<<<< HEAD
   "execution_count": 220,
=======
   "execution_count": 126,
   "id": "f8a4e2ab",
>>>>>>> upstream/master
   "metadata": {
    "slideshow": {
     "slide_type": "fragment"
    }
   },
   "outputs": [],
   "source": [
    "X_train, X_test, y_train, y_test = train_test_split(X_reshape, y, test_size = 0.2)"
   ]
  },
  {
   "cell_type": "code",
<<<<<<< HEAD
   "execution_count": 221,
=======
   "execution_count": 129,
   "id": "5af57cb2",
>>>>>>> upstream/master
   "metadata": {
    "slideshow": {
     "slide_type": "slide"
    }
   },
   "outputs": [],
   "source": [
    "from sklearn.preprocessing import PolynomialFeatures\n",
    "from sklearn.preprocessing import FunctionTransformer\n",
    "from sklearn.pipeline import FeatureUnion\n",
    "from sklearn.linear_model import Ridge\n",
    "from sklearn.metrics import mean_absolute_error"
   ]
  },
  {
   "cell_type": "markdown",
   "metadata": {},
   "source": [
    "Let's also define two custom functions:"
   ]
  },
  {
   "cell_type": "code",
<<<<<<< HEAD
   "execution_count": 222,
=======
   "execution_count": 131,
   "id": "f8d68d6b",
>>>>>>> upstream/master
   "metadata": {
    "cell_style": "split"
   },
   "outputs": [],
   "source": [
    "def sinefunc(x, c = 1):\n",
    "    return np.sin(c*x)"
   ]
  },
  {
   "cell_type": "code",
<<<<<<< HEAD
   "execution_count": 223,
=======
   "execution_count": 132,
   "id": "41e5d738",
>>>>>>> upstream/master
   "metadata": {
    "cell_style": "split"
   },
   "outputs": [],
   "source": [
    "def cosfunc(x, d = 1):\n",
    "    return np.cos(d*x)"
   ]
  },
  {
   "cell_type": "code",
<<<<<<< HEAD
   "execution_count": 224,
=======
   "execution_count": 134,
   "id": "8ecbe537",
>>>>>>> upstream/master
   "metadata": {
    "cell_style": "center",
    "slideshow": {
     "slide_type": "slide"
    }
   },
   "outputs": [],
   "source": [
    "transformer_list = [('poly', PolynomialFeatures(include_bias = False)), \n",
    "                     ('sine', FunctionTransformer(sinefunc)), \n",
    "                     ('cosine', FunctionTransformer(cosfunc))\n",
    "                   ]\n",
    "\n",
    "# takes in input features, applies transformers in parallel to inputs, concatenates:\n",
    "feat_union = FeatureUnion(transformer_list) "
   ]
  },
  {
   "cell_type": "code",
<<<<<<< HEAD
   "execution_count": 225,
=======
   "execution_count": 144,
   "id": "f4278f84",
>>>>>>> upstream/master
   "metadata": {
    "cell_style": "center",
    "slideshow": {
     "slide_type": "fragment"
    }
   },
   "outputs": [
    {
     "data": {
      "text/html": [
<<<<<<< HEAD
       "<style>div.sk-top-container {color: black;background-color: white;}div.sk-toggleable {background-color: white;}label.sk-toggleable__label {cursor: pointer;display: block;width: 100%;margin-bottom: 0;padding: 0.2em 0.3em;box-sizing: border-box;text-align: center;}div.sk-toggleable__content {max-height: 0;max-width: 0;overflow: hidden;text-align: left;background-color: #f0f8ff;}div.sk-toggleable__content pre {margin: 0.2em;color: black;border-radius: 0.25em;background-color: #f0f8ff;}input.sk-toggleable__control:checked~div.sk-toggleable__content {max-height: 200px;max-width: 100%;overflow: auto;}div.sk-estimator input.sk-toggleable__control:checked~label.sk-toggleable__label {background-color: #d4ebff;}div.sk-label input.sk-toggleable__control:checked~label.sk-toggleable__label {background-color: #d4ebff;}input.sk-hidden--visually {border: 0;clip: rect(1px 1px 1px 1px);clip: rect(1px, 1px, 1px, 1px);height: 1px;margin: -1px;overflow: hidden;padding: 0;position: absolute;width: 1px;}div.sk-estimator {font-family: monospace;background-color: #f0f8ff;margin: 0.25em 0.25em;border: 1px dotted black;border-radius: 0.25em;box-sizing: border-box;}div.sk-estimator:hover {background-color: #d4ebff;}div.sk-parallel-item::after {content: \"\";width: 100%;border-bottom: 1px solid gray;flex-grow: 1;}div.sk-label:hover label.sk-toggleable__label {background-color: #d4ebff;}div.sk-serial::before {content: \"\";position: absolute;border-left: 1px solid gray;box-sizing: border-box;top: 2em;bottom: 0;left: 50%;}div.sk-serial {display: flex;flex-direction: column;align-items: center;background-color: white;}div.sk-item {z-index: 1;}div.sk-parallel {display: flex;align-items: stretch;justify-content: center;background-color: white;}div.sk-parallel-item {display: flex;flex-direction: column;position: relative;background-color: white;}div.sk-parallel-item:first-child::after {align-self: flex-end;width: 50%;}div.sk-parallel-item:last-child::after {align-self: flex-start;width: 50%;}div.sk-parallel-item:only-child::after {width: 0;}div.sk-dashed-wrapped {border: 1px dashed gray;margin: 0.2em;box-sizing: border-box;padding-bottom: 0.1em;background-color: white;position: relative;}div.sk-label label {font-family: monospace;font-weight: bold;background-color: white;display: inline-block;line-height: 1.2em;}div.sk-label-container {position: relative;z-index: 2;text-align: center;}div.sk-container {display: inline-block;position: relative;}</style><div class=\"sk-top-container\"><div class=\"sk-container\"><div class=\"sk-item sk-dashed-wrapped\"><div class=\"sk-label-container\"><div class=\"sk-label sk-toggleable\"><input class=\"sk-toggleable__control sk-hidden--visually\" id=\"df94fde2-fa44-485a-8db8-fd101302af6a\" type=\"checkbox\" ><label class=\"sk-toggleable__label\" for=\"df94fde2-fa44-485a-8db8-fd101302af6a\">Pipeline</label><div class=\"sk-toggleable__content\"><pre>Pipeline(steps=[('feateng',\n",
       "                 FeatureUnion(transformer_list=[('poly',\n",
       "                                                 PolynomialFeatures(include_bias=False)),\n",
       "                                                ('sine',\n",
       "                                                 FunctionTransformer(func=<function sinefunc at 0x7faa397afc10>)),\n",
       "                                                ('cosine',\n",
       "                                                 FunctionTransformer(func=<function cosfunc at 0x7fa9f84ef9d0>))])),\n",
       "                ('scaler', StandardScaler())])</pre></div></div></div><div class=\"sk-serial\"><div class=\"sk-item sk-dashed-wrapped\"><div class=\"sk-label-container\"><div class=\"sk-label sk-toggleable\"><input class=\"sk-toggleable__control sk-hidden--visually\" id=\"ebff429a-f2fb-4ddb-93c0-4df2ee7437f0\" type=\"checkbox\" ><label class=\"sk-toggleable__label\" for=\"ebff429a-f2fb-4ddb-93c0-4df2ee7437f0\">feateng: FeatureUnion</label><div class=\"sk-toggleable__content\"><pre>FeatureUnion(transformer_list=[('poly', PolynomialFeatures(include_bias=False)),\n",
       "                               ('sine',\n",
       "                                FunctionTransformer(func=<function sinefunc at 0x7faa397afc10>)),\n",
       "                               ('cosine',\n",
       "                                FunctionTransformer(func=<function cosfunc at 0x7fa9f84ef9d0>))])</pre></div></div></div><div class=\"sk-parallel\"><div class=\"sk-parallel-item\"><div class=\"sk-item\"><div class=\"sk-label-container\"><div class=\"sk-label sk-toggleable\"><label>poly</label></div></div><div class=\"sk-serial\"><div class=\"sk-item\"><div class=\"sk-estimator sk-toggleable\"><input class=\"sk-toggleable__control sk-hidden--visually\" id=\"0c2bec7b-8164-416b-864e-32e89ead3c9a\" type=\"checkbox\" ><label class=\"sk-toggleable__label\" for=\"0c2bec7b-8164-416b-864e-32e89ead3c9a\">PolynomialFeatures</label><div class=\"sk-toggleable__content\"><pre>PolynomialFeatures(include_bias=False)</pre></div></div></div></div></div></div><div class=\"sk-parallel-item\"><div class=\"sk-item\"><div class=\"sk-label-container\"><div class=\"sk-label sk-toggleable\"><label>sine</label></div></div><div class=\"sk-serial\"><div class=\"sk-item\"><div class=\"sk-estimator sk-toggleable\"><input class=\"sk-toggleable__control sk-hidden--visually\" id=\"d0eb495b-e9b8-46fb-b474-6def2d99be98\" type=\"checkbox\" ><label class=\"sk-toggleable__label\" for=\"d0eb495b-e9b8-46fb-b474-6def2d99be98\">FunctionTransformer</label><div class=\"sk-toggleable__content\"><pre>FunctionTransformer(func=<function sinefunc at 0x7faa397afc10>)</pre></div></div></div></div></div></div><div class=\"sk-parallel-item\"><div class=\"sk-item\"><div class=\"sk-label-container\"><div class=\"sk-label sk-toggleable\"><label>cosine</label></div></div><div class=\"sk-serial\"><div class=\"sk-item\"><div class=\"sk-estimator sk-toggleable\"><input class=\"sk-toggleable__control sk-hidden--visually\" id=\"43e07ba1-c529-4d13-b2a3-c997ee580d6c\" type=\"checkbox\" ><label class=\"sk-toggleable__label\" for=\"43e07ba1-c529-4d13-b2a3-c997ee580d6c\">FunctionTransformer</label><div class=\"sk-toggleable__content\"><pre>FunctionTransformer(func=<function cosfunc at 0x7fa9f84ef9d0>)</pre></div></div></div></div></div></div></div></div><div class=\"sk-item\"><div class=\"sk-estimator sk-toggleable\"><input class=\"sk-toggleable__control sk-hidden--visually\" id=\"927677b0-4de6-44b5-873e-2aec26b8df73\" type=\"checkbox\" ><label class=\"sk-toggleable__label\" for=\"927677b0-4de6-44b5-873e-2aec26b8df73\">StandardScaler</label><div class=\"sk-toggleable__content\"><pre>StandardScaler()</pre></div></div></div></div></div></div></div>"
=======
       "<style>#sk-42463d10-04a5-44a8-b87c-af3c40cc8c90 {color: black;background-color: white;}#sk-42463d10-04a5-44a8-b87c-af3c40cc8c90 pre{padding: 0;}#sk-42463d10-04a5-44a8-b87c-af3c40cc8c90 div.sk-toggleable {background-color: white;}#sk-42463d10-04a5-44a8-b87c-af3c40cc8c90 label.sk-toggleable__label {cursor: pointer;display: block;width: 100%;margin-bottom: 0;padding: 0.2em 0.3em;box-sizing: border-box;text-align: center;}#sk-42463d10-04a5-44a8-b87c-af3c40cc8c90 div.sk-toggleable__content {max-height: 0;max-width: 0;overflow: hidden;text-align: left;background-color: #f0f8ff;}#sk-42463d10-04a5-44a8-b87c-af3c40cc8c90 div.sk-toggleable__content pre {margin: 0.2em;color: black;border-radius: 0.25em;background-color: #f0f8ff;}#sk-42463d10-04a5-44a8-b87c-af3c40cc8c90 input.sk-toggleable__control:checked~div.sk-toggleable__content {max-height: 200px;max-width: 100%;overflow: auto;}#sk-42463d10-04a5-44a8-b87c-af3c40cc8c90 div.sk-estimator input.sk-toggleable__control:checked~label.sk-toggleable__label {background-color: #d4ebff;}#sk-42463d10-04a5-44a8-b87c-af3c40cc8c90 div.sk-label input.sk-toggleable__control:checked~label.sk-toggleable__label {background-color: #d4ebff;}#sk-42463d10-04a5-44a8-b87c-af3c40cc8c90 input.sk-hidden--visually {border: 0;clip: rect(1px 1px 1px 1px);clip: rect(1px, 1px, 1px, 1px);height: 1px;margin: -1px;overflow: hidden;padding: 0;position: absolute;width: 1px;}#sk-42463d10-04a5-44a8-b87c-af3c40cc8c90 div.sk-estimator {font-family: monospace;background-color: #f0f8ff;margin: 0.25em 0.25em;border: 1px dotted black;border-radius: 0.25em;box-sizing: border-box;}#sk-42463d10-04a5-44a8-b87c-af3c40cc8c90 div.sk-estimator:hover {background-color: #d4ebff;}#sk-42463d10-04a5-44a8-b87c-af3c40cc8c90 div.sk-parallel-item::after {content: \"\";width: 100%;border-bottom: 1px solid gray;flex-grow: 1;}#sk-42463d10-04a5-44a8-b87c-af3c40cc8c90 div.sk-label:hover label.sk-toggleable__label {background-color: #d4ebff;}#sk-42463d10-04a5-44a8-b87c-af3c40cc8c90 div.sk-serial::before {content: \"\";position: absolute;border-left: 1px solid gray;box-sizing: border-box;top: 2em;bottom: 0;left: 50%;}#sk-42463d10-04a5-44a8-b87c-af3c40cc8c90 div.sk-serial {display: flex;flex-direction: column;align-items: center;background-color: white;}#sk-42463d10-04a5-44a8-b87c-af3c40cc8c90 div.sk-item {z-index: 1;}#sk-42463d10-04a5-44a8-b87c-af3c40cc8c90 div.sk-parallel {display: flex;align-items: stretch;justify-content: center;background-color: white;}#sk-42463d10-04a5-44a8-b87c-af3c40cc8c90 div.sk-parallel-item {display: flex;flex-direction: column;position: relative;background-color: white;}#sk-42463d10-04a5-44a8-b87c-af3c40cc8c90 div.sk-parallel-item:first-child::after {align-self: flex-end;width: 50%;}#sk-42463d10-04a5-44a8-b87c-af3c40cc8c90 div.sk-parallel-item:last-child::after {align-self: flex-start;width: 50%;}#sk-42463d10-04a5-44a8-b87c-af3c40cc8c90 div.sk-parallel-item:only-child::after {width: 0;}#sk-42463d10-04a5-44a8-b87c-af3c40cc8c90 div.sk-dashed-wrapped {border: 1px dashed gray;margin: 0.2em;box-sizing: border-box;padding-bottom: 0.1em;background-color: white;position: relative;}#sk-42463d10-04a5-44a8-b87c-af3c40cc8c90 div.sk-label label {font-family: monospace;font-weight: bold;background-color: white;display: inline-block;line-height: 1.2em;}#sk-42463d10-04a5-44a8-b87c-af3c40cc8c90 div.sk-label-container {position: relative;z-index: 2;text-align: center;}#sk-42463d10-04a5-44a8-b87c-af3c40cc8c90 div.sk-container {display: inline-block;position: relative;}</style><div id=\"sk-42463d10-04a5-44a8-b87c-af3c40cc8c90\" class\"sk-top-container\"><div class=\"sk-container\"><div class=\"sk-item sk-dashed-wrapped\"><div class=\"sk-label-container\"><div class=\"sk-label sk-toggleable\"><input class=\"sk-toggleable__control sk-hidden--visually\" id=\"9f38eae9-ac6c-43c7-bf6e-0b8a9fedfa81\" type=\"checkbox\" ><label class=\"sk-toggleable__label\" for=\"9f38eae9-ac6c-43c7-bf6e-0b8a9fedfa81\">Pipeline</label><div class=\"sk-toggleable__content\"><pre>Pipeline(steps=[('feateng',\n",
       "                 FeatureUnion(transformer_list=[('poly',\n",
       "                                                 PolynomialFeatures(include_bias=False)),\n",
       "                                                ('sine',\n",
       "                                                 FunctionTransformer(func=<function sinefunc at 0x0000026EAE8EC310>)),\n",
       "                                                ('cosine',\n",
       "                                                 FunctionTransformer(func=<function cosfunc at 0x0000026EAE8EC160>))])),\n",
       "                ('scaler', StandardScaler())])</pre></div></div></div><div class=\"sk-serial\"><div class=\"sk-item sk-dashed-wrapped\"><div class=\"sk-label-container\"><div class=\"sk-label sk-toggleable\"><input class=\"sk-toggleable__control sk-hidden--visually\" id=\"1df30a16-205c-4110-8731-de6f19b383f6\" type=\"checkbox\" ><label class=\"sk-toggleable__label\" for=\"1df30a16-205c-4110-8731-de6f19b383f6\">feateng: FeatureUnion</label><div class=\"sk-toggleable__content\"><pre>FeatureUnion(transformer_list=[('poly', PolynomialFeatures(include_bias=False)),\n",
       "                               ('sine',\n",
       "                                FunctionTransformer(func=<function sinefunc at 0x0000026EAE8EC310>)),\n",
       "                               ('cosine',\n",
       "                                FunctionTransformer(func=<function cosfunc at 0x0000026EAE8EC160>))])</pre></div></div></div><div class=\"sk-parallel\"><div class=\"sk-parallel-item\"><div class=\"sk-item\"><div class=\"sk-label-container\"><div class=\"sk-label sk-toggleable\"><label>poly</label></div></div><div class=\"sk-serial\"><div class=\"sk-item\"><div class=\"sk-estimator sk-toggleable\"><input class=\"sk-toggleable__control sk-hidden--visually\" id=\"94ec4a0b-3712-4944-a6e2-f8e887baa53e\" type=\"checkbox\" ><label class=\"sk-toggleable__label\" for=\"94ec4a0b-3712-4944-a6e2-f8e887baa53e\">PolynomialFeatures</label><div class=\"sk-toggleable__content\"><pre>PolynomialFeatures(include_bias=False)</pre></div></div></div></div></div></div><div class=\"sk-parallel-item\"><div class=\"sk-item\"><div class=\"sk-label-container\"><div class=\"sk-label sk-toggleable\"><label>sine</label></div></div><div class=\"sk-serial\"><div class=\"sk-item\"><div class=\"sk-estimator sk-toggleable\"><input class=\"sk-toggleable__control sk-hidden--visually\" id=\"f19ac91a-852a-40e9-9bd7-e68b80cf0a08\" type=\"checkbox\" ><label class=\"sk-toggleable__label\" for=\"f19ac91a-852a-40e9-9bd7-e68b80cf0a08\">FunctionTransformer</label><div class=\"sk-toggleable__content\"><pre>FunctionTransformer(func=<function sinefunc at 0x0000026EAE8EC310>)</pre></div></div></div></div></div></div><div class=\"sk-parallel-item\"><div class=\"sk-item\"><div class=\"sk-label-container\"><div class=\"sk-label sk-toggleable\"><label>cosine</label></div></div><div class=\"sk-serial\"><div class=\"sk-item\"><div class=\"sk-estimator sk-toggleable\"><input class=\"sk-toggleable__control sk-hidden--visually\" id=\"6a73ffdc-ff4b-4ffb-9cc9-1adc35336338\" type=\"checkbox\" ><label class=\"sk-toggleable__label\" for=\"6a73ffdc-ff4b-4ffb-9cc9-1adc35336338\">FunctionTransformer</label><div class=\"sk-toggleable__content\"><pre>FunctionTransformer(func=<function cosfunc at 0x0000026EAE8EC160>)</pre></div></div></div></div></div></div></div></div><div class=\"sk-item\"><div class=\"sk-estimator sk-toggleable\"><input class=\"sk-toggleable__control sk-hidden--visually\" id=\"f57c4edf-f641-48dd-974a-67e927fcc7f0\" type=\"checkbox\" ><label class=\"sk-toggleable__label\" for=\"f57c4edf-f641-48dd-974a-67e927fcc7f0\">StandardScaler</label><div class=\"sk-toggleable__content\"><pre>StandardScaler()</pre></div></div></div></div></div></div></div>"
>>>>>>> upstream/master
      ],
      "text/plain": [
       "Pipeline(steps=[('feateng',\n",
       "                 FeatureUnion(transformer_list=[('poly',\n",
       "                                                 PolynomialFeatures(include_bias=False)),\n",
       "                                                ('sine',\n",
<<<<<<< HEAD
       "                                                 FunctionTransformer(func=<function sinefunc at 0x7faa397afc10>)),\n",
       "                                                ('cosine',\n",
       "                                                 FunctionTransformer(func=<function cosfunc at 0x7fa9f84ef9d0>))])),\n",
       "                ('scaler', StandardScaler())])"
      ]
     },
     "execution_count": 225,
=======
       "                                                 FunctionTransformer(func=<function sinefunc at 0x0000026EAE8EC310>)),\n",
       "                                                ('cosine',\n",
       "                                                 FunctionTransformer(func=<function cosfunc at 0x0000026EAE8EC160>))])),\n",
       "                ('scaler', StandardScaler())])"
      ]
     },
     "execution_count": 144,
>>>>>>> upstream/master
     "metadata": {},
     "output_type": "execute_result"
    }
   ],
   "source": [
    "steps = [('feateng', feat_union), ('scaler', StandardScaler())]\n",
    "preprocess_pipe = Pipeline(steps)\n",
    "preprocess_pipe"
   ]
  },
  {
   "cell_type": "code",
<<<<<<< HEAD
   "execution_count": 226,
=======
   "execution_count": 136,
   "id": "c32bfbe3",
>>>>>>> upstream/master
   "metadata": {
    "cell_style": "split",
    "scrolled": false,
    "slideshow": {
     "slide_type": "slide"
    }
   },
   "outputs": [
    {
     "data": {
      "text/plain": [
<<<<<<< HEAD
       "array([[ 0.52665941, -0.93470104,  1.01532701,  1.05598742],\n",
       "       [ 0.13422903, -1.04535523, -0.30445882,  1.67796982],\n",
       "       [-0.75765821, -0.13799081, -0.66330654, -1.19482523],\n",
       "       [-1.39981701,  1.51192363,  1.24038529, -0.09920247],\n",
       "       [ 1.09746724, -0.21750088,  0.63216207, -1.10683816]])"
      ]
     },
     "execution_count": 226,
=======
       "array([[-0.92381101, -0.07028256, -0.36513511, -1.14295046],\n",
       "       [ 0.53528443, -0.88279912,  1.32393237,  0.53843059],\n",
       "       [ 1.01033876, -0.08451679,  0.30774479, -1.13568488],\n",
       "       [ 0.46741953, -0.95422   ,  1.26604437,  0.84731625],\n",
       "       [ 0.94247386, -0.23052171,  0.56846115, -1.02485955]])"
      ]
     },
     "execution_count": 136,
>>>>>>> upstream/master
     "metadata": {},
     "output_type": "execute_result"
    }
   ],
   "source": [
    "X_proc = preprocess_pipe.fit_transform(X_train)\n",
    "X_proc[0:5]"
   ]
  },
  {
   "cell_type": "markdown",
   "metadata": {
    "cell_style": "split",
    "slideshow": {
     "slide_type": "fragment"
    }
   },
   "source": [
    "First column is linear in X, second quadratic in X, then the sin and cosine terms.\n",
    "\n",
    "- Check if all standard scaled:"
   ]
  },
  {
   "cell_type": "code",
<<<<<<< HEAD
   "execution_count": 227,
=======
   "execution_count": 137,
   "id": "260429a6",
>>>>>>> upstream/master
   "metadata": {
    "cell_style": "split",
    "slideshow": {
     "slide_type": "fragment"
    }
   },
   "outputs": [
    {
     "name": "stdout",
     "output_type": "stream",
     "text": [
<<<<<<< HEAD
      "[-7.66747776e-17  4.44089210e-17  3.60822483e-17  4.99600361e-17]\n"
=======
      "[-1.94289029e-17  7.07767178e-17 -2.35922393e-17  3.74700271e-17]\n"
>>>>>>> upstream/master
     ]
    }
   ],
   "source": [
    "print(X_proc.mean(axis = 0))"
   ]
  },
  {
   "cell_type": "code",
<<<<<<< HEAD
   "execution_count": 228,
=======
   "execution_count": 138,
   "id": "0a03a636",
>>>>>>> upstream/master
   "metadata": {
    "cell_style": "split",
    "slideshow": {
     "slide_type": "fragment"
    }
   },
   "outputs": [
    {
     "name": "stdout",
     "output_type": "stream",
     "text": [
      "[1. 1. 1. 1.]\n"
     ]
    }
   ],
   "source": [
    "print(X_proc.std(axis = 0))"
   ]
  },
  {
   "cell_type": "markdown",
   "metadata": {
    "slideshow": {
     "slide_type": "slide"
    }
   },
   "source": [
    "Finish pipeline and hyperparameter tune:"
   ]
  },
  {
   "cell_type": "code",
<<<<<<< HEAD
   "execution_count": 229,
=======
   "execution_count": 139,
   "id": "0a8e3508",
>>>>>>> upstream/master
   "metadata": {
    "slideshow": {
     "slide_type": "fragment"
    }
   },
   "outputs": [],
   "source": [
    "steps = [('preprocess', preprocess_pipe), ('ridge', Ridge())]\n",
    "regress_pipe = Pipeline(steps)\n",
    "params = {'preprocess__feateng__poly__degree': [1, 2, 3, 4], \n",
    "          'preprocess__feateng__sine__kw_args': [{'c': 1},{'c': 2},{'c': 3}],\n",
    "          'ridge__alpha': [1e-3, .01, .1, 1, 10, 100]}\n",
    "cv = GridSearchCV(estimator = regress_pipe, param_grid = params, cv = 6)\n",
    "cv.fit(X_train, y_train)\n",
    "best_model = cv.best_estimator_"
   ]
  },
  {
   "cell_type": "code",
<<<<<<< HEAD
   "execution_count": 230,
=======
   "execution_count": 140,
   "id": "a92cbf3c",
>>>>>>> upstream/master
   "metadata": {
    "cell_style": "split",
    "scrolled": false,
    "slideshow": {
     "slide_type": "slide"
    }
   },
   "outputs": [
    {
     "data": {
      "text/plain": [
       "[('preprocess',\n",
       "  Pipeline(steps=[('feateng',\n",
       "                   FeatureUnion(transformer_list=[('poly',\n",
       "                                                   PolynomialFeatures(include_bias=False)),\n",
       "                                                  ('sine',\n",
<<<<<<< HEAD
       "                                                   FunctionTransformer(func=<function sinefunc at 0x7faa397afc10>,\n",
       "                                                                       kw_args={'c': 2})),\n",
       "                                                  ('cosine',\n",
       "                                                   FunctionTransformer(func=<function cosfunc at 0x7fa9f84ef9d0>))])),\n",
=======
       "                                                   FunctionTransformer(func=<function sinefunc at 0x0000026EAE8EC310>,\n",
       "                                                                       kw_args={'c': 2})),\n",
       "                                                  ('cosine',\n",
       "                                                   FunctionTransformer(func=<function cosfunc at 0x0000026EAE8EC160>))])),\n",
>>>>>>> upstream/master
       "                  ('scaler', StandardScaler())])),\n",
       " ('ridge', Ridge(alpha=1))]"
      ]
     },
<<<<<<< HEAD
     "execution_count": 230,
=======
     "execution_count": 140,
>>>>>>> upstream/master
     "metadata": {},
     "output_type": "execute_result"
    }
   ],
   "source": [
    "best_model.steps"
   ]
  },
  {
   "cell_type": "code",
<<<<<<< HEAD
   "execution_count": 231,
=======
   "execution_count": 141,
   "id": "ebb5871b",
>>>>>>> upstream/master
   "metadata": {
    "cell_style": "split",
    "slideshow": {
     "slide_type": "fragment"
    }
   },
   "outputs": [
    {
     "data": {
      "text/plain": [
<<<<<<< HEAD
       "0.8246586618239422"
      ]
     },
     "execution_count": 231,
=======
       "0.8508057676973798"
      ]
     },
     "execution_count": 141,
>>>>>>> upstream/master
     "metadata": {},
     "output_type": "execute_result"
    }
   ],
   "source": [
    "cv.best_score_"
   ]
  },
  {
   "cell_type": "code",
<<<<<<< HEAD
   "execution_count": 232,
=======
   "execution_count": 142,
   "id": "10f614cb",
>>>>>>> upstream/master
   "metadata": {
    "cell_style": "split",
    "slideshow": {
     "slide_type": "fragment"
    }
   },
   "outputs": [
    {
     "data": {
      "text/plain": [
       "{'preprocess__feateng__poly__degree': 2,\n",
       " 'preprocess__feateng__sine__kw_args': {'c': 2},\n",
       " 'ridge__alpha': 1}"
      ]
     },
<<<<<<< HEAD
     "execution_count": 232,
=======
     "execution_count": 142,
>>>>>>> upstream/master
     "metadata": {},
     "output_type": "execute_result"
    }
   ],
   "source": [
    "cv.best_params_"
   ]
  },
  {
   "cell_type": "code",
   "execution_count": 233,
   "metadata": {
    "scrolled": true,
    "slideshow": {
     "slide_type": "slide"
    }
   },
   "outputs": [
    {
     "data": {
      "text/html": [
       "<div>\n",
       "<style scoped>\n",
       "    .dataframe tbody tr th:only-of-type {\n",
       "        vertical-align: middle;\n",
       "    }\n",
       "\n",
       "    .dataframe tbody tr th {\n",
       "        vertical-align: top;\n",
       "    }\n",
       "\n",
       "    .dataframe thead th {\n",
       "        text-align: right;\n",
       "    }\n",
       "</style>\n",
       "<table border=\"1\" class=\"dataframe\">\n",
       "  <thead>\n",
       "    <tr style=\"text-align: right;\">\n",
       "      <th></th>\n",
       "      <th>mean_fit_time</th>\n",
       "      <th>std_fit_time</th>\n",
       "      <th>mean_score_time</th>\n",
       "      <th>std_score_time</th>\n",
       "      <th>param_preprocess__feateng__poly__degree</th>\n",
       "      <th>param_preprocess__feateng__sine__kw_args</th>\n",
       "      <th>param_ridge__alpha</th>\n",
       "      <th>params</th>\n",
       "      <th>split0_test_score</th>\n",
       "      <th>split1_test_score</th>\n",
       "      <th>split2_test_score</th>\n",
       "      <th>split3_test_score</th>\n",
       "      <th>split4_test_score</th>\n",
       "      <th>split5_test_score</th>\n",
       "      <th>mean_test_score</th>\n",
       "      <th>std_test_score</th>\n",
       "      <th>rank_test_score</th>\n",
       "    </tr>\n",
       "  </thead>\n",
       "  <tbody>\n",
       "    <tr>\n",
       "      <th>0</th>\n",
       "      <td>0.003921</td>\n",
       "      <td>0.004668</td>\n",
       "      <td>0.000896</td>\n",
       "      <td>0.000278</td>\n",
       "      <td>1</td>\n",
       "      <td>{'c': 1}</td>\n",
       "      <td>0.001</td>\n",
       "      <td>{'preprocess__feateng__poly__degree': 1, 'prep...</td>\n",
       "      <td>0.489734</td>\n",
       "      <td>0.645446</td>\n",
       "      <td>0.527051</td>\n",
       "      <td>0.160952</td>\n",
       "      <td>0.586259</td>\n",
       "      <td>0.786883</td>\n",
       "      <td>0.532721</td>\n",
       "      <td>0.191600</td>\n",
       "      <td>63</td>\n",
       "    </tr>\n",
       "    <tr>\n",
       "      <th>1</th>\n",
       "      <td>0.001302</td>\n",
       "      <td>0.000079</td>\n",
       "      <td>0.000613</td>\n",
       "      <td>0.000050</td>\n",
       "      <td>1</td>\n",
       "      <td>{'c': 1}</td>\n",
       "      <td>0.01</td>\n",
       "      <td>{'preprocess__feateng__poly__degree': 1, 'prep...</td>\n",
       "      <td>0.489758</td>\n",
       "      <td>0.645415</td>\n",
       "      <td>0.527034</td>\n",
       "      <td>0.161140</td>\n",
       "      <td>0.586234</td>\n",
       "      <td>0.786876</td>\n",
       "      <td>0.532743</td>\n",
       "      <td>0.191533</td>\n",
       "      <td>62</td>\n",
       "    </tr>\n",
       "    <tr>\n",
       "      <th>2</th>\n",
       "      <td>0.000995</td>\n",
       "      <td>0.000061</td>\n",
       "      <td>0.000468</td>\n",
       "      <td>0.000031</td>\n",
       "      <td>1</td>\n",
       "      <td>{'c': 1}</td>\n",
       "      <td>0.1</td>\n",
       "      <td>{'preprocess__feateng__poly__degree': 1, 'prep...</td>\n",
       "      <td>0.489990</td>\n",
       "      <td>0.645098</td>\n",
       "      <td>0.526865</td>\n",
       "      <td>0.163013</td>\n",
       "      <td>0.585990</td>\n",
       "      <td>0.786805</td>\n",
       "      <td>0.532960</td>\n",
       "      <td>0.190861</td>\n",
       "      <td>61</td>\n",
       "    </tr>\n",
       "    <tr>\n",
       "      <th>3</th>\n",
       "      <td>0.000842</td>\n",
       "      <td>0.000047</td>\n",
       "      <td>0.000391</td>\n",
       "      <td>0.000016</td>\n",
       "      <td>1</td>\n",
       "      <td>{'c': 1}</td>\n",
       "      <td>1</td>\n",
       "      <td>{'preprocess__feateng__poly__degree': 1, 'prep...</td>\n",
       "      <td>0.492048</td>\n",
       "      <td>0.641897</td>\n",
       "      <td>0.525133</td>\n",
       "      <td>0.181153</td>\n",
       "      <td>0.583472</td>\n",
       "      <td>0.785928</td>\n",
       "      <td>0.534939</td>\n",
       "      <td>0.184342</td>\n",
       "      <td>57</td>\n",
       "    </tr>\n",
       "    <tr>\n",
       "      <th>4</th>\n",
       "      <td>0.000811</td>\n",
       "      <td>0.000028</td>\n",
       "      <td>0.000378</td>\n",
       "      <td>0.000005</td>\n",
       "      <td>1</td>\n",
       "      <td>{'c': 1}</td>\n",
       "      <td>10</td>\n",
       "      <td>{'preprocess__feateng__poly__degree': 1, 'prep...</td>\n",
       "      <td>0.493894</td>\n",
       "      <td>0.607906</td>\n",
       "      <td>0.504954</td>\n",
       "      <td>0.315051</td>\n",
       "      <td>0.553454</td>\n",
       "      <td>0.765871</td>\n",
       "      <td>0.540188</td>\n",
       "      <td>0.135257</td>\n",
       "      <td>55</td>\n",
       "    </tr>\n",
       "    <tr>\n",
       "      <th>...</th>\n",
       "      <td>...</td>\n",
       "      <td>...</td>\n",
       "      <td>...</td>\n",
       "      <td>...</td>\n",
       "      <td>...</td>\n",
       "      <td>...</td>\n",
       "      <td>...</td>\n",
       "      <td>...</td>\n",
       "      <td>...</td>\n",
       "      <td>...</td>\n",
       "      <td>...</td>\n",
       "      <td>...</td>\n",
       "      <td>...</td>\n",
       "      <td>...</td>\n",
       "      <td>...</td>\n",
       "      <td>...</td>\n",
       "      <td>...</td>\n",
       "    </tr>\n",
       "    <tr>\n",
       "      <th>67</th>\n",
       "      <td>0.000822</td>\n",
       "      <td>0.000029</td>\n",
       "      <td>0.000387</td>\n",
       "      <td>0.000002</td>\n",
       "      <td>4</td>\n",
       "      <td>{'c': 3}</td>\n",
       "      <td>0.01</td>\n",
       "      <td>{'preprocess__feateng__poly__degree': 4, 'prep...</td>\n",
       "      <td>0.581223</td>\n",
       "      <td>0.787047</td>\n",
       "      <td>0.631360</td>\n",
       "      <td>0.464570</td>\n",
       "      <td>0.538038</td>\n",
       "      <td>0.679553</td>\n",
       "      <td>0.613632</td>\n",
       "      <td>0.103051</td>\n",
       "      <td>24</td>\n",
       "    </tr>\n",
       "    <tr>\n",
       "      <th>68</th>\n",
       "      <td>0.000815</td>\n",
       "      <td>0.000005</td>\n",
       "      <td>0.000388</td>\n",
       "      <td>0.000002</td>\n",
       "      <td>4</td>\n",
       "      <td>{'c': 3}</td>\n",
       "      <td>0.1</td>\n",
       "      <td>{'preprocess__feateng__poly__degree': 4, 'prep...</td>\n",
       "      <td>0.599640</td>\n",
       "      <td>0.779695</td>\n",
       "      <td>0.624526</td>\n",
       "      <td>0.450229</td>\n",
       "      <td>0.539161</td>\n",
       "      <td>0.692380</td>\n",
       "      <td>0.614272</td>\n",
       "      <td>0.105148</td>\n",
       "      <td>23</td>\n",
       "    </tr>\n",
       "    <tr>\n",
       "      <th>69</th>\n",
       "      <td>0.000823</td>\n",
       "      <td>0.000033</td>\n",
       "      <td>0.000387</td>\n",
       "      <td>0.000002</td>\n",
       "      <td>4</td>\n",
       "      <td>{'c': 3}</td>\n",
       "      <td>1</td>\n",
       "      <td>{'preprocess__feateng__poly__degree': 4, 'prep...</td>\n",
       "      <td>0.647342</td>\n",
       "      <td>0.753787</td>\n",
       "      <td>0.600030</td>\n",
       "      <td>0.408773</td>\n",
       "      <td>0.539085</td>\n",
       "      <td>0.705398</td>\n",
       "      <td>0.609069</td>\n",
       "      <td>0.113126</td>\n",
       "      <td>33</td>\n",
       "    </tr>\n",
       "    <tr>\n",
       "      <th>70</th>\n",
       "      <td>0.000811</td>\n",
       "      <td>0.000009</td>\n",
       "      <td>0.000387</td>\n",
       "      <td>0.000004</td>\n",
       "      <td>4</td>\n",
       "      <td>{'c': 3}</td>\n",
       "      <td>10</td>\n",
       "      <td>{'preprocess__feateng__poly__degree': 4, 'prep...</td>\n",
       "      <td>0.691658</td>\n",
       "      <td>0.698961</td>\n",
       "      <td>0.583496</td>\n",
       "      <td>0.434373</td>\n",
       "      <td>0.538637</td>\n",
       "      <td>0.710738</td>\n",
       "      <td>0.609644</td>\n",
       "      <td>0.101135</td>\n",
       "      <td>30</td>\n",
       "    </tr>\n",
       "    <tr>\n",
       "      <th>71</th>\n",
       "      <td>0.000811</td>\n",
       "      <td>0.000003</td>\n",
       "      <td>0.000387</td>\n",
       "      <td>0.000002</td>\n",
       "      <td>4</td>\n",
       "      <td>{'c': 3}</td>\n",
       "      <td>100</td>\n",
       "      <td>{'preprocess__feateng__poly__degree': 4, 'prep...</td>\n",
       "      <td>0.452615</td>\n",
       "      <td>0.450007</td>\n",
       "      <td>0.471429</td>\n",
       "      <td>0.513612</td>\n",
       "      <td>0.382783</td>\n",
       "      <td>0.585402</td>\n",
       "      <td>0.475975</td>\n",
       "      <td>0.062338</td>\n",
       "      <td>65</td>\n",
       "    </tr>\n",
       "  </tbody>\n",
       "</table>\n",
       "<p>72 rows × 17 columns</p>\n",
       "</div>"
      ],
      "text/plain": [
       "    mean_fit_time  std_fit_time  mean_score_time  std_score_time  \\\n",
       "0        0.003921      0.004668         0.000896        0.000278   \n",
       "1        0.001302      0.000079         0.000613        0.000050   \n",
       "2        0.000995      0.000061         0.000468        0.000031   \n",
       "3        0.000842      0.000047         0.000391        0.000016   \n",
       "4        0.000811      0.000028         0.000378        0.000005   \n",
       "..            ...           ...              ...             ...   \n",
       "67       0.000822      0.000029         0.000387        0.000002   \n",
       "68       0.000815      0.000005         0.000388        0.000002   \n",
       "69       0.000823      0.000033         0.000387        0.000002   \n",
       "70       0.000811      0.000009         0.000387        0.000004   \n",
       "71       0.000811      0.000003         0.000387        0.000002   \n",
       "\n",
       "   param_preprocess__feateng__poly__degree  \\\n",
       "0                                        1   \n",
       "1                                        1   \n",
       "2                                        1   \n",
       "3                                        1   \n",
       "4                                        1   \n",
       "..                                     ...   \n",
       "67                                       4   \n",
       "68                                       4   \n",
       "69                                       4   \n",
       "70                                       4   \n",
       "71                                       4   \n",
       "\n",
       "   param_preprocess__feateng__sine__kw_args param_ridge__alpha  \\\n",
       "0                                  {'c': 1}              0.001   \n",
       "1                                  {'c': 1}               0.01   \n",
       "2                                  {'c': 1}                0.1   \n",
       "3                                  {'c': 1}                  1   \n",
       "4                                  {'c': 1}                 10   \n",
       "..                                      ...                ...   \n",
       "67                                 {'c': 3}               0.01   \n",
       "68                                 {'c': 3}                0.1   \n",
       "69                                 {'c': 3}                  1   \n",
       "70                                 {'c': 3}                 10   \n",
       "71                                 {'c': 3}                100   \n",
       "\n",
       "                                               params  split0_test_score  \\\n",
       "0   {'preprocess__feateng__poly__degree': 1, 'prep...           0.489734   \n",
       "1   {'preprocess__feateng__poly__degree': 1, 'prep...           0.489758   \n",
       "2   {'preprocess__feateng__poly__degree': 1, 'prep...           0.489990   \n",
       "3   {'preprocess__feateng__poly__degree': 1, 'prep...           0.492048   \n",
       "4   {'preprocess__feateng__poly__degree': 1, 'prep...           0.493894   \n",
       "..                                                ...                ...   \n",
       "67  {'preprocess__feateng__poly__degree': 4, 'prep...           0.581223   \n",
       "68  {'preprocess__feateng__poly__degree': 4, 'prep...           0.599640   \n",
       "69  {'preprocess__feateng__poly__degree': 4, 'prep...           0.647342   \n",
       "70  {'preprocess__feateng__poly__degree': 4, 'prep...           0.691658   \n",
       "71  {'preprocess__feateng__poly__degree': 4, 'prep...           0.452615   \n",
       "\n",
       "    split1_test_score  split2_test_score  split3_test_score  \\\n",
       "0            0.645446           0.527051           0.160952   \n",
       "1            0.645415           0.527034           0.161140   \n",
       "2            0.645098           0.526865           0.163013   \n",
       "3            0.641897           0.525133           0.181153   \n",
       "4            0.607906           0.504954           0.315051   \n",
       "..                ...                ...                ...   \n",
       "67           0.787047           0.631360           0.464570   \n",
       "68           0.779695           0.624526           0.450229   \n",
       "69           0.753787           0.600030           0.408773   \n",
       "70           0.698961           0.583496           0.434373   \n",
       "71           0.450007           0.471429           0.513612   \n",
       "\n",
       "    split4_test_score  split5_test_score  mean_test_score  std_test_score  \\\n",
       "0            0.586259           0.786883         0.532721        0.191600   \n",
       "1            0.586234           0.786876         0.532743        0.191533   \n",
       "2            0.585990           0.786805         0.532960        0.190861   \n",
       "3            0.583472           0.785928         0.534939        0.184342   \n",
       "4            0.553454           0.765871         0.540188        0.135257   \n",
       "..                ...                ...              ...             ...   \n",
       "67           0.538038           0.679553         0.613632        0.103051   \n",
       "68           0.539161           0.692380         0.614272        0.105148   \n",
       "69           0.539085           0.705398         0.609069        0.113126   \n",
       "70           0.538637           0.710738         0.609644        0.101135   \n",
       "71           0.382783           0.585402         0.475975        0.062338   \n",
       "\n",
       "    rank_test_score  \n",
       "0                63  \n",
       "1                62  \n",
       "2                61  \n",
       "3                57  \n",
       "4                55  \n",
       "..              ...  \n",
       "67               24  \n",
       "68               23  \n",
       "69               33  \n",
       "70               30  \n",
       "71               65  \n",
       "\n",
       "[72 rows x 17 columns]"
      ]
     },
     "execution_count": 233,
     "metadata": {},
     "output_type": "execute_result"
    }
   ],
   "source": [
    "pd.DataFrame(cv.cv_results_)"
   ]
  },
  {
   "cell_type": "code",
<<<<<<< HEAD
   "execution_count": 234,
=======
   "execution_count": 145,
   "id": "da436bbb",
>>>>>>> upstream/master
   "metadata": {
    "scrolled": false,
    "slideshow": {
     "slide_type": "slide"
    }
   },
   "outputs": [],
   "source": [
    "best_model.fit(X_train, y_train)\n",
    "y_predictions = best_model.predict(data_df['X'].values.reshape(-1,1))"
   ]
  },
  {
   "cell_type": "code",
<<<<<<< HEAD
   "execution_count": 235,
=======
   "execution_count": 146,
   "id": "5944718d",
>>>>>>> upstream/master
   "metadata": {
    "cell_style": "split",
    "scrolled": true,
    "slideshow": {
     "slide_type": "fragment"
    }
   },
   "outputs": [
    {
     "data": {
<<<<<<< HEAD
      "image/png": "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\n",
=======
      "image/png": "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\n",
>>>>>>> upstream/master
      "text/plain": [
       "<Figure size 432x288 with 1 Axes>"
      ]
     },
     "metadata": {
      "needs_background": "light"
     },
     "output_type": "display_data"
    }
   ],
   "source": [
    "fig, ax = plt.subplots()\n",
    "ax.scatter(X, y_predictions, label = 'fit')\n",
    "ax.scatter(X, y, label = 'data')\n",
    "ax.legend()\n",
    "plt.show()"
   ]
  },
  {
   "cell_type": "code",
<<<<<<< HEAD
   "execution_count": 236,
=======
   "execution_count": 147,
   "id": "e339fc7b",
>>>>>>> upstream/master
   "metadata": {
    "cell_style": "split",
    "slideshow": {
     "slide_type": "fragment"
    }
   },
   "outputs": [],
   "source": [
    "y_pred = best_model.predict(X_test)"
   ]
  },
  {
   "cell_type": "code",
<<<<<<< HEAD
   "execution_count": 237,
=======
   "execution_count": 148,
   "id": "37eed449",
>>>>>>> upstream/master
   "metadata": {
    "cell_style": "split",
    "slideshow": {
     "slide_type": "fragment"
    }
   },
   "outputs": [
    {
     "data": {
      "text/plain": [
<<<<<<< HEAD
       "2.7348740208351985"
      ]
     },
     "execution_count": 237,
=======
       "3.185756610118549"
      ]
     },
     "execution_count": 148,
>>>>>>> upstream/master
     "metadata": {},
     "output_type": "execute_result"
    }
   ],
   "source": [
    "mean_absolute_error(y_pred, y_test)"
   ]
  },
  {
   "cell_type": "markdown",
   "metadata": {
    "cell_style": "split",
    "slideshow": {
     "slide_type": "fragment"
    }
   },
   "source": [
    "Can use Pipelines, FeatureUnions, FunctionTransformers:\n",
    "- to systematically search basis function spaces\n",
    "- Get best fits based off series of functions\n",
    "- Best function selection"
   ]
  },
  {
   "cell_type": "markdown",
   "metadata": {
    "cell_style": "split",
    "slideshow": {
     "slide_type": "fragment"
    }
   },
   "source": [
    "**Obviously very powerful**"
   ]
  },
  {
   "cell_type": "markdown",
   "metadata": {
    "slideshow": {
     "slide_type": "slide"
    }
   },
   "source": [
    "Combining FeatureUnion with ColumnTransformer:\n",
    "- Apply function finding/feature engineering of different kinds to different columns\n",
    "- Input transformed features into various types of predictive models (with regularization/hyperparameter tuning)\n",
    "\n",
    "**Now can start to build very powerful/flexible models**"
   ]
  },
  {
   "cell_type": "markdown",
   "metadata": {
    "cell_style": "split",
    "slideshow": {
     "slide_type": "slide"
    }
   },
   "source": [
    "Kind of like building legos. \n",
    "- Maybe you want some extra pieces\n",
    "- Model/Transformer extensions\n",
    "- Treat models like transformers in FeatureUnion (parallel modeling)\n",
    "- Get an expansion pack!\n"
   ]
  },
  {
   "cell_type": "markdown",
   "metadata": {
    "cell_style": "split",
    "slideshow": {
     "slide_type": "fragment"
    }
   },
   "source": [
    "May be worth exploring **sklego**:\n",
    "<center><img src = \"Images/sklego.png\" width = 300 /></center>\n",
    "\n",
    "<center>https://scikitlego.readthedocs.io/en/latest/index.html</center>"
   ]
  },
  {
   "cell_type": "markdown",
   "metadata": {
    "slideshow": {
     "slide_type": "slide"
    }
   },
   "source": [
    "#### Optimizing tuning strategies"
   ]
  },
  {
   "cell_type": "markdown",
   "metadata": {
    "cell_style": "center",
    "slideshow": {
     "slide_type": "subslide"
    }
   },
   "source": [
    "As models/pipelines get complex:\n",
    "- Lots of hyperparameters to play around with\n",
    "- GridSearch not the best **initial** strategy:\n",
    "    - Takes forever\n",
    "    - Want to sample space more effectively."
   ]
  },
  {
   "cell_type": "markdown",
   "metadata": {
    "slideshow": {
     "slide_type": "slide"
    }
   },
   "source": [
    "Randomized Search CV"
   ]
  },
  {
   "cell_type": "markdown",
   "metadata": {
    "slideshow": {
     "slide_type": "fragment"
    }
   },
   "source": [
    "<img src = \"Images/grid_vs_randomcv.png\" />\n",
    "\n",
    "<center>Often smaller number of random hyperparamter samples better than grid search.</center>"
   ]
  },
  {
   "cell_type": "code",
<<<<<<< HEAD
   "execution_count": 238,
=======
   "execution_count": 149,
   "id": "95794f65",
>>>>>>> upstream/master
   "metadata": {
    "cell_style": "center",
    "slideshow": {
     "slide_type": "slide"
    }
   },
   "outputs": [],
   "source": [
    "from sklearn.model_selection import RandomizedSearchCV"
   ]
  },
  {
   "cell_type": "markdown",
   "metadata": {
    "cell_style": "split",
    "slideshow": {
     "slide_type": "fragment"
    }
   },
   "source": [
    "Basically same syntax as GridSearchCV:\n",
    "- param_distributions: \n",
    "    - can take dict of hyperparameters with value list: uniformly samples\n",
    "    - can take dict of hyperparameters with specified distributions.\n",
    "- n_iter is # of samples to take."
   ]
  },
  {
   "cell_type": "code",
   "execution_count": 239,
   "metadata": {
    "cell_style": "split",
    "slideshow": {
     "slide_type": "fragment"
    }
   },
   "outputs": [
    {
     "data": {
      "text/plain": [
       "{'preprocess__feateng__poly__degree': [1, 2, 3, 4],\n",
       " 'preprocess__feateng__sine__kw_args': [{'c': 1}, {'c': 2}, {'c': 3}],\n",
       " 'ridge__alpha': [0.001, 0.01, 0.1, 1, 10, 100]}"
      ]
     },
     "execution_count": 239,
     "metadata": {},
     "output_type": "execute_result"
    }
   ],
   "source": [
    "# will uniformly random sample this grid.\n",
    "params"
   ]
  },
  {
   "cell_type": "code",
<<<<<<< HEAD
   "execution_count": 240,
=======
   "execution_count": 150,
   "id": "d560fbae",
>>>>>>> upstream/master
   "metadata": {
    "cell_style": "center",
    "slideshow": {
     "slide_type": "slide"
    }
   },
   "outputs": [],
   "source": [
    "random_cv = RandomizedSearchCV(estimator = regress_pipe, param_distributions = params, n_iter = 10, cv = 6)\n",
    "random_cv.fit(X_train, y_train);"
   ]
  },
  {
   "cell_type": "code",
<<<<<<< HEAD
   "execution_count": 241,
=======
   "execution_count": 151,
   "id": "7b8537e1",
>>>>>>> upstream/master
   "metadata": {
    "cell_style": "center",
    "slideshow": {
     "slide_type": "fragment"
    }
   },
   "outputs": [
    {
     "data": {
      "text/html": [
       "<div>\n",
       "<style scoped>\n",
       "    .dataframe tbody tr th:only-of-type {\n",
       "        vertical-align: middle;\n",
       "    }\n",
       "\n",
       "    .dataframe tbody tr th {\n",
       "        vertical-align: top;\n",
       "    }\n",
       "\n",
       "    .dataframe thead th {\n",
       "        text-align: right;\n",
       "    }\n",
       "</style>\n",
       "<table border=\"1\" class=\"dataframe\">\n",
       "  <thead>\n",
       "    <tr style=\"text-align: right;\">\n",
       "      <th></th>\n",
       "      <th>mean_fit_time</th>\n",
       "      <th>std_fit_time</th>\n",
       "      <th>mean_score_time</th>\n",
       "      <th>std_score_time</th>\n",
       "      <th>param_ridge__alpha</th>\n",
       "      <th>param_preprocess__feateng__sine__kw_args</th>\n",
       "      <th>param_preprocess__feateng__poly__degree</th>\n",
       "      <th>params</th>\n",
       "      <th>split0_test_score</th>\n",
       "      <th>split1_test_score</th>\n",
       "      <th>split2_test_score</th>\n",
       "      <th>split3_test_score</th>\n",
       "      <th>split4_test_score</th>\n",
       "      <th>split5_test_score</th>\n",
       "      <th>mean_test_score</th>\n",
       "      <th>std_test_score</th>\n",
       "      <th>rank_test_score</th>\n",
       "    </tr>\n",
       "  </thead>\n",
       "  <tbody>\n",
       "    <tr>\n",
       "      <th>0</th>\n",
<<<<<<< HEAD
       "      <td>0.003580</td>\n",
       "      <td>0.003867</td>\n",
       "      <td>0.001003</td>\n",
       "      <td>0.000431</td>\n",
       "      <td>100</td>\n",
       "      <td>{'c': 1}</td>\n",
       "      <td>1</td>\n",
       "      <td>{'ridge__alpha': 100, 'preprocess__feateng__si...</td>\n",
       "      <td>0.300419</td>\n",
       "      <td>0.354080</td>\n",
       "      <td>0.319412</td>\n",
       "      <td>0.437340</td>\n",
       "      <td>0.313529</td>\n",
       "      <td>0.485387</td>\n",
       "      <td>0.368361</td>\n",
       "      <td>0.069132</td>\n",
       "      <td>10</td>\n",
       "    </tr>\n",
       "    <tr>\n",
       "      <th>1</th>\n",
       "      <td>0.001492</td>\n",
       "      <td>0.000158</td>\n",
       "      <td>0.000696</td>\n",
       "      <td>0.000060</td>\n",
       "      <td>10</td>\n",
       "      <td>{'c': 2}</td>\n",
       "      <td>1</td>\n",
       "      <td>{'ridge__alpha': 10, 'preprocess__feateng__sin...</td>\n",
       "      <td>0.618989</td>\n",
       "      <td>0.819031</td>\n",
       "      <td>0.650214</td>\n",
       "      <td>0.789713</td>\n",
       "      <td>0.816813</td>\n",
       "      <td>0.909030</td>\n",
       "      <td>0.767298</td>\n",
       "      <td>0.101179</td>\n",
       "      <td>3</td>\n",
       "    </tr>\n",
       "    <tr>\n",
       "      <th>2</th>\n",
       "      <td>0.001119</td>\n",
       "      <td>0.000066</td>\n",
       "      <td>0.000510</td>\n",
       "      <td>0.000038</td>\n",
       "      <td>1</td>\n",
       "      <td>{'c': 1}</td>\n",
       "      <td>1</td>\n",
       "      <td>{'ridge__alpha': 1, 'preprocess__feateng__sine...</td>\n",
       "      <td>0.492048</td>\n",
       "      <td>0.641897</td>\n",
       "      <td>0.525133</td>\n",
       "      <td>0.181153</td>\n",
       "      <td>0.583472</td>\n",
       "      <td>0.785928</td>\n",
       "      <td>0.534939</td>\n",
       "      <td>0.184342</td>\n",
       "      <td>6</td>\n",
       "    </tr>\n",
       "    <tr>\n",
       "      <th>3</th>\n",
       "      <td>0.000918</td>\n",
       "      <td>0.000073</td>\n",
       "      <td>0.000431</td>\n",
       "      <td>0.000036</td>\n",
       "      <td>0.01</td>\n",
       "      <td>{'c': 1}</td>\n",
       "      <td>4</td>\n",
       "      <td>{'ridge__alpha': 0.01, 'preprocess__feateng__s...</td>\n",
       "      <td>0.539971</td>\n",
       "      <td>0.769344</td>\n",
       "      <td>0.499686</td>\n",
       "      <td>0.495891</td>\n",
       "      <td>0.577640</td>\n",
       "      <td>0.625219</td>\n",
       "      <td>0.584625</td>\n",
       "      <td>0.093897</td>\n",
       "      <td>5</td>\n",
       "    </tr>\n",
       "    <tr>\n",
       "      <th>4</th>\n",
       "      <td>0.000840</td>\n",
       "      <td>0.000034</td>\n",
       "      <td>0.000392</td>\n",
       "      <td>0.000003</td>\n",
       "      <td>10</td>\n",
       "      <td>{'c': 2}</td>\n",
       "      <td>4</td>\n",
       "      <td>{'ridge__alpha': 10, 'preprocess__feateng__sin...</td>\n",
       "      <td>0.744017</td>\n",
       "      <td>0.853228</td>\n",
       "      <td>0.748142</td>\n",
       "      <td>0.842305</td>\n",
       "      <td>0.813893</td>\n",
       "      <td>0.842345</td>\n",
       "      <td>0.807322</td>\n",
       "      <td>0.044927</td>\n",
       "      <td>2</td>\n",
=======
       "      <td>0.004239</td>\n",
       "      <td>0.001585</td>\n",
       "      <td>0.001795</td>\n",
       "      <td>0.000694</td>\n",
       "      <td>1</td>\n",
       "      <td>{'c': 2}</td>\n",
       "      <td>3</td>\n",
       "      <td>{'ridge__alpha': 1, 'preprocess__feateng__sine...</td>\n",
       "      <td>0.839362</td>\n",
       "      <td>0.791644</td>\n",
       "      <td>0.862772</td>\n",
       "      <td>0.890819</td>\n",
       "      <td>0.859309</td>\n",
       "      <td>0.825772</td>\n",
       "      <td>0.844947</td>\n",
       "      <td>0.031274</td>\n",
       "      <td>1</td>\n",
       "    </tr>\n",
       "    <tr>\n",
       "      <th>1</th>\n",
       "      <td>0.004084</td>\n",
       "      <td>0.000230</td>\n",
       "      <td>0.000996</td>\n",
       "      <td>0.000581</td>\n",
       "      <td>10</td>\n",
       "      <td>{'c': 3}</td>\n",
       "      <td>4</td>\n",
       "      <td>{'ridge__alpha': 10, 'preprocess__feateng__sin...</td>\n",
       "      <td>0.594523</td>\n",
       "      <td>0.692402</td>\n",
       "      <td>0.774128</td>\n",
       "      <td>0.774057</td>\n",
       "      <td>0.713559</td>\n",
       "      <td>0.786671</td>\n",
       "      <td>0.722557</td>\n",
       "      <td>0.066840</td>\n",
       "      <td>5</td>\n",
       "    </tr>\n",
       "    <tr>\n",
       "      <th>2</th>\n",
       "      <td>0.002850</td>\n",
       "      <td>0.000391</td>\n",
       "      <td>0.001697</td>\n",
       "      <td>0.000533</td>\n",
       "      <td>0.01</td>\n",
       "      <td>{'c': 3}</td>\n",
       "      <td>4</td>\n",
       "      <td>{'ridge__alpha': 0.01, 'preprocess__feateng__s...</td>\n",
       "      <td>0.603380</td>\n",
       "      <td>0.719029</td>\n",
       "      <td>0.728367</td>\n",
       "      <td>0.735169</td>\n",
       "      <td>0.773228</td>\n",
       "      <td>0.810345</td>\n",
       "      <td>0.728253</td>\n",
       "      <td>0.063885</td>\n",
       "      <td>3</td>\n",
       "    </tr>\n",
       "    <tr>\n",
       "      <th>3</th>\n",
       "      <td>0.003094</td>\n",
       "      <td>0.000264</td>\n",
       "      <td>0.001350</td>\n",
       "      <td>0.000533</td>\n",
       "      <td>1</td>\n",
       "      <td>{'c': 3}</td>\n",
       "      <td>2</td>\n",
       "      <td>{'ridge__alpha': 1, 'preprocess__feateng__sine...</td>\n",
       "      <td>0.558602</td>\n",
       "      <td>0.609800</td>\n",
       "      <td>0.790114</td>\n",
       "      <td>0.760101</td>\n",
       "      <td>0.832724</td>\n",
       "      <td>0.755758</td>\n",
       "      <td>0.717850</td>\n",
       "      <td>0.098890</td>\n",
       "      <td>7</td>\n",
       "    </tr>\n",
       "    <tr>\n",
       "      <th>4</th>\n",
       "      <td>0.003142</td>\n",
       "      <td>0.000227</td>\n",
       "      <td>0.001517</td>\n",
       "      <td>0.000505</td>\n",
       "      <td>0.01</td>\n",
       "      <td>{'c': 1}</td>\n",
       "      <td>1</td>\n",
       "      <td>{'ridge__alpha': 0.01, 'preprocess__feateng__s...</td>\n",
       "      <td>0.564410</td>\n",
       "      <td>0.445249</td>\n",
       "      <td>0.669555</td>\n",
       "      <td>0.739424</td>\n",
       "      <td>0.199622</td>\n",
       "      <td>0.650034</td>\n",
       "      <td>0.544716</td>\n",
       "      <td>0.179796</td>\n",
       "      <td>10</td>\n",
>>>>>>> upstream/master
       "    </tr>\n",
       "  </tbody>\n",
       "</table>\n",
       "</div>"
      ],
      "text/plain": [
       "   mean_fit_time  std_fit_time  mean_score_time  std_score_time  \\\n",
<<<<<<< HEAD
       "0       0.003580      0.003867         0.001003        0.000431   \n",
       "1       0.001492      0.000158         0.000696        0.000060   \n",
       "2       0.001119      0.000066         0.000510        0.000038   \n",
       "3       0.000918      0.000073         0.000431        0.000036   \n",
       "4       0.000840      0.000034         0.000392        0.000003   \n",
       "\n",
       "  param_ridge__alpha param_preprocess__feateng__sine__kw_args  \\\n",
       "0                100                                 {'c': 1}   \n",
       "1                 10                                 {'c': 2}   \n",
       "2                  1                                 {'c': 1}   \n",
       "3               0.01                                 {'c': 1}   \n",
       "4                 10                                 {'c': 2}   \n",
       "\n",
       "  param_preprocess__feateng__poly__degree  \\\n",
       "0                                       1   \n",
       "1                                       1   \n",
       "2                                       1   \n",
       "3                                       4   \n",
       "4                                       4   \n",
       "\n",
       "                                              params  split0_test_score  \\\n",
       "0  {'ridge__alpha': 100, 'preprocess__feateng__si...           0.300419   \n",
       "1  {'ridge__alpha': 10, 'preprocess__feateng__sin...           0.618989   \n",
       "2  {'ridge__alpha': 1, 'preprocess__feateng__sine...           0.492048   \n",
       "3  {'ridge__alpha': 0.01, 'preprocess__feateng__s...           0.539971   \n",
       "4  {'ridge__alpha': 10, 'preprocess__feateng__sin...           0.744017   \n",
       "\n",
       "   split1_test_score  split2_test_score  split3_test_score  split4_test_score  \\\n",
       "0           0.354080           0.319412           0.437340           0.313529   \n",
       "1           0.819031           0.650214           0.789713           0.816813   \n",
       "2           0.641897           0.525133           0.181153           0.583472   \n",
       "3           0.769344           0.499686           0.495891           0.577640   \n",
       "4           0.853228           0.748142           0.842305           0.813893   \n",
       "\n",
       "   split5_test_score  mean_test_score  std_test_score  rank_test_score  \n",
       "0           0.485387         0.368361        0.069132               10  \n",
       "1           0.909030         0.767298        0.101179                3  \n",
       "2           0.785928         0.534939        0.184342                6  \n",
       "3           0.625219         0.584625        0.093897                5  \n",
       "4           0.842345         0.807322        0.044927                2  "
      ]
     },
     "execution_count": 241,
=======
       "0       0.004239      0.001585         0.001795        0.000694   \n",
       "1       0.004084      0.000230         0.000996        0.000581   \n",
       "2       0.002850      0.000391         0.001697        0.000533   \n",
       "3       0.003094      0.000264         0.001350        0.000533   \n",
       "4       0.003142      0.000227         0.001517        0.000505   \n",
       "\n",
       "  param_ridge__alpha param_preprocess__feateng__sine__kw_args  \\\n",
       "0                  1                                 {'c': 2}   \n",
       "1                 10                                 {'c': 3}   \n",
       "2               0.01                                 {'c': 3}   \n",
       "3                  1                                 {'c': 3}   \n",
       "4               0.01                                 {'c': 1}   \n",
       "\n",
       "  param_preprocess__feateng__poly__degree  \\\n",
       "0                                       3   \n",
       "1                                       4   \n",
       "2                                       4   \n",
       "3                                       2   \n",
       "4                                       1   \n",
       "\n",
       "                                              params  split0_test_score  \\\n",
       "0  {'ridge__alpha': 1, 'preprocess__feateng__sine...           0.839362   \n",
       "1  {'ridge__alpha': 10, 'preprocess__feateng__sin...           0.594523   \n",
       "2  {'ridge__alpha': 0.01, 'preprocess__feateng__s...           0.603380   \n",
       "3  {'ridge__alpha': 1, 'preprocess__feateng__sine...           0.558602   \n",
       "4  {'ridge__alpha': 0.01, 'preprocess__feateng__s...           0.564410   \n",
       "\n",
       "   split1_test_score  split2_test_score  split3_test_score  split4_test_score  \\\n",
       "0           0.791644           0.862772           0.890819           0.859309   \n",
       "1           0.692402           0.774128           0.774057           0.713559   \n",
       "2           0.719029           0.728367           0.735169           0.773228   \n",
       "3           0.609800           0.790114           0.760101           0.832724   \n",
       "4           0.445249           0.669555           0.739424           0.199622   \n",
       "\n",
       "   split5_test_score  mean_test_score  std_test_score  rank_test_score  \n",
       "0           0.825772         0.844947        0.031274                1  \n",
       "1           0.786671         0.722557        0.066840                5  \n",
       "2           0.810345         0.728253        0.063885                3  \n",
       "3           0.755758         0.717850        0.098890                7  \n",
       "4           0.650034         0.544716        0.179796               10  "
      ]
     },
     "execution_count": 151,
>>>>>>> upstream/master
     "metadata": {},
     "output_type": "execute_result"
    }
   ],
   "source": [
    "randomcv_results = pd.DataFrame(random_cv.cv_results_)\n",
    "randomcv_results.head()"
   ]
  },
  {
   "cell_type": "code",
<<<<<<< HEAD
   "execution_count": 242,
=======
   "execution_count": 152,
   "id": "b3ab5118",
>>>>>>> upstream/master
   "metadata": {
    "cell_style": "split",
    "slideshow": {
     "slide_type": "slide"
    }
   },
   "outputs": [
    {
     "data": {
      "text/html": [
<<<<<<< HEAD
       "<style>div.sk-top-container {color: black;background-color: white;}div.sk-toggleable {background-color: white;}label.sk-toggleable__label {cursor: pointer;display: block;width: 100%;margin-bottom: 0;padding: 0.2em 0.3em;box-sizing: border-box;text-align: center;}div.sk-toggleable__content {max-height: 0;max-width: 0;overflow: hidden;text-align: left;background-color: #f0f8ff;}div.sk-toggleable__content pre {margin: 0.2em;color: black;border-radius: 0.25em;background-color: #f0f8ff;}input.sk-toggleable__control:checked~div.sk-toggleable__content {max-height: 200px;max-width: 100%;overflow: auto;}div.sk-estimator input.sk-toggleable__control:checked~label.sk-toggleable__label {background-color: #d4ebff;}div.sk-label input.sk-toggleable__control:checked~label.sk-toggleable__label {background-color: #d4ebff;}input.sk-hidden--visually {border: 0;clip: rect(1px 1px 1px 1px);clip: rect(1px, 1px, 1px, 1px);height: 1px;margin: -1px;overflow: hidden;padding: 0;position: absolute;width: 1px;}div.sk-estimator {font-family: monospace;background-color: #f0f8ff;margin: 0.25em 0.25em;border: 1px dotted black;border-radius: 0.25em;box-sizing: border-box;}div.sk-estimator:hover {background-color: #d4ebff;}div.sk-parallel-item::after {content: \"\";width: 100%;border-bottom: 1px solid gray;flex-grow: 1;}div.sk-label:hover label.sk-toggleable__label {background-color: #d4ebff;}div.sk-serial::before {content: \"\";position: absolute;border-left: 1px solid gray;box-sizing: border-box;top: 2em;bottom: 0;left: 50%;}div.sk-serial {display: flex;flex-direction: column;align-items: center;background-color: white;}div.sk-item {z-index: 1;}div.sk-parallel {display: flex;align-items: stretch;justify-content: center;background-color: white;}div.sk-parallel-item {display: flex;flex-direction: column;position: relative;background-color: white;}div.sk-parallel-item:first-child::after {align-self: flex-end;width: 50%;}div.sk-parallel-item:last-child::after {align-self: flex-start;width: 50%;}div.sk-parallel-item:only-child::after {width: 0;}div.sk-dashed-wrapped {border: 1px dashed gray;margin: 0.2em;box-sizing: border-box;padding-bottom: 0.1em;background-color: white;position: relative;}div.sk-label label {font-family: monospace;font-weight: bold;background-color: white;display: inline-block;line-height: 1.2em;}div.sk-label-container {position: relative;z-index: 2;text-align: center;}div.sk-container {display: inline-block;position: relative;}</style><div class=\"sk-top-container\"><div class=\"sk-container\"><div class=\"sk-item sk-dashed-wrapped\"><div class=\"sk-label-container\"><div class=\"sk-label sk-toggleable\"><input class=\"sk-toggleable__control sk-hidden--visually\" id=\"a9f8cc1d-17ef-4e54-a0e8-4f0b3d38a3ea\" type=\"checkbox\" ><label class=\"sk-toggleable__label\" for=\"a9f8cc1d-17ef-4e54-a0e8-4f0b3d38a3ea\">Pipeline</label><div class=\"sk-toggleable__content\"><pre>Pipeline(steps=[('preprocess',\n",
       "                 Pipeline(steps=[('feateng',\n",
       "                                  FeatureUnion(transformer_list=[('poly',\n",
       "                                                                  PolynomialFeatures(include_bias=False)),\n",
       "                                                                 ('sine',\n",
       "                                                                  FunctionTransformer(func=<function sinefunc at 0x7faa397afc10>,\n",
       "                                                                                      kw_args={'c': 2})),\n",
       "                                                                 ('cosine',\n",
       "                                                                  FunctionTransformer(func=<function cosfunc at 0x7fa9f84ef9d0>))])),\n",
       "                                 ('scaler', StandardScaler())])),\n",
       "                ('ridge', Ridge(alpha=0.001))])</pre></div></div></div><div class=\"sk-serial\"><div class=\"sk-item\"><div class=\"sk-label-container\"><div class=\"sk-label sk-toggleable\"><input class=\"sk-toggleable__control sk-hidden--visually\" id=\"f4889066-4a2e-4bdf-ae11-0c9e61130b73\" type=\"checkbox\" ><label class=\"sk-toggleable__label\" for=\"f4889066-4a2e-4bdf-ae11-0c9e61130b73\">preprocess: Pipeline</label><div class=\"sk-toggleable__content\"><pre>Pipeline(steps=[('feateng',\n",
       "                 FeatureUnion(transformer_list=[('poly',\n",
       "                                                 PolynomialFeatures(include_bias=False)),\n",
       "                                                ('sine',\n",
       "                                                 FunctionTransformer(func=<function sinefunc at 0x7faa397afc10>,\n",
       "                                                                     kw_args={'c': 2})),\n",
       "                                                ('cosine',\n",
       "                                                 FunctionTransformer(func=<function cosfunc at 0x7fa9f84ef9d0>))])),\n",
       "                ('scaler', StandardScaler())])</pre></div></div></div><div class=\"sk-serial\"><div class=\"sk-item sk-dashed-wrapped\"><div class=\"sk-label-container\"><div class=\"sk-label sk-toggleable\"><input class=\"sk-toggleable__control sk-hidden--visually\" id=\"4fc9e4d5-4c65-46c3-8348-a76a88d66c67\" type=\"checkbox\" ><label class=\"sk-toggleable__label\" for=\"4fc9e4d5-4c65-46c3-8348-a76a88d66c67\">feateng: FeatureUnion</label><div class=\"sk-toggleable__content\"><pre>FeatureUnion(transformer_list=[('poly', PolynomialFeatures(include_bias=False)),\n",
       "                               ('sine',\n",
       "                                FunctionTransformer(func=<function sinefunc at 0x7faa397afc10>,\n",
       "                                                    kw_args={'c': 2})),\n",
       "                               ('cosine',\n",
       "                                FunctionTransformer(func=<function cosfunc at 0x7fa9f84ef9d0>))])</pre></div></div></div><div class=\"sk-parallel\"><div class=\"sk-parallel-item\"><div class=\"sk-item\"><div class=\"sk-label-container\"><div class=\"sk-label sk-toggleable\"><label>poly</label></div></div><div class=\"sk-serial\"><div class=\"sk-item\"><div class=\"sk-estimator sk-toggleable\"><input class=\"sk-toggleable__control sk-hidden--visually\" id=\"1d0d2bbb-d852-4842-9da1-36cb474af8b5\" type=\"checkbox\" ><label class=\"sk-toggleable__label\" for=\"1d0d2bbb-d852-4842-9da1-36cb474af8b5\">PolynomialFeatures</label><div class=\"sk-toggleable__content\"><pre>PolynomialFeatures(include_bias=False)</pre></div></div></div></div></div></div><div class=\"sk-parallel-item\"><div class=\"sk-item\"><div class=\"sk-label-container\"><div class=\"sk-label sk-toggleable\"><label>sine</label></div></div><div class=\"sk-serial\"><div class=\"sk-item\"><div class=\"sk-estimator sk-toggleable\"><input class=\"sk-toggleable__control sk-hidden--visually\" id=\"6928595b-359e-4b06-a985-22709c9f4400\" type=\"checkbox\" ><label class=\"sk-toggleable__label\" for=\"6928595b-359e-4b06-a985-22709c9f4400\">FunctionTransformer</label><div class=\"sk-toggleable__content\"><pre>FunctionTransformer(func=<function sinefunc at 0x7faa397afc10>,\n",
       "                    kw_args={'c': 2})</pre></div></div></div></div></div></div><div class=\"sk-parallel-item\"><div class=\"sk-item\"><div class=\"sk-label-container\"><div class=\"sk-label sk-toggleable\"><label>cosine</label></div></div><div class=\"sk-serial\"><div class=\"sk-item\"><div class=\"sk-estimator sk-toggleable\"><input class=\"sk-toggleable__control sk-hidden--visually\" id=\"8bc38dea-d07b-4806-a6e8-9b4c36d925ff\" type=\"checkbox\" ><label class=\"sk-toggleable__label\" for=\"8bc38dea-d07b-4806-a6e8-9b4c36d925ff\">FunctionTransformer</label><div class=\"sk-toggleable__content\"><pre>FunctionTransformer(func=<function cosfunc at 0x7fa9f84ef9d0>)</pre></div></div></div></div></div></div></div></div><div class=\"sk-item\"><div class=\"sk-estimator sk-toggleable\"><input class=\"sk-toggleable__control sk-hidden--visually\" id=\"dac91623-cbb2-4abb-9665-7d97276bf9a6\" type=\"checkbox\" ><label class=\"sk-toggleable__label\" for=\"dac91623-cbb2-4abb-9665-7d97276bf9a6\">StandardScaler</label><div class=\"sk-toggleable__content\"><pre>StandardScaler()</pre></div></div></div></div></div><div class=\"sk-item\"><div class=\"sk-estimator sk-toggleable\"><input class=\"sk-toggleable__control sk-hidden--visually\" id=\"dcff113b-c875-4c9a-921c-a4690571f2a1\" type=\"checkbox\" ><label class=\"sk-toggleable__label\" for=\"dcff113b-c875-4c9a-921c-a4690571f2a1\">Ridge</label><div class=\"sk-toggleable__content\"><pre>Ridge(alpha=0.001)</pre></div></div></div></div></div></div></div>"
=======
       "<style>#sk-057e962b-f1e4-42ba-b6da-4ad4bf84291f {color: black;background-color: white;}#sk-057e962b-f1e4-42ba-b6da-4ad4bf84291f pre{padding: 0;}#sk-057e962b-f1e4-42ba-b6da-4ad4bf84291f div.sk-toggleable {background-color: white;}#sk-057e962b-f1e4-42ba-b6da-4ad4bf84291f label.sk-toggleable__label {cursor: pointer;display: block;width: 100%;margin-bottom: 0;padding: 0.2em 0.3em;box-sizing: border-box;text-align: center;}#sk-057e962b-f1e4-42ba-b6da-4ad4bf84291f div.sk-toggleable__content {max-height: 0;max-width: 0;overflow: hidden;text-align: left;background-color: #f0f8ff;}#sk-057e962b-f1e4-42ba-b6da-4ad4bf84291f div.sk-toggleable__content pre {margin: 0.2em;color: black;border-radius: 0.25em;background-color: #f0f8ff;}#sk-057e962b-f1e4-42ba-b6da-4ad4bf84291f input.sk-toggleable__control:checked~div.sk-toggleable__content {max-height: 200px;max-width: 100%;overflow: auto;}#sk-057e962b-f1e4-42ba-b6da-4ad4bf84291f div.sk-estimator input.sk-toggleable__control:checked~label.sk-toggleable__label {background-color: #d4ebff;}#sk-057e962b-f1e4-42ba-b6da-4ad4bf84291f div.sk-label input.sk-toggleable__control:checked~label.sk-toggleable__label {background-color: #d4ebff;}#sk-057e962b-f1e4-42ba-b6da-4ad4bf84291f input.sk-hidden--visually {border: 0;clip: rect(1px 1px 1px 1px);clip: rect(1px, 1px, 1px, 1px);height: 1px;margin: -1px;overflow: hidden;padding: 0;position: absolute;width: 1px;}#sk-057e962b-f1e4-42ba-b6da-4ad4bf84291f div.sk-estimator {font-family: monospace;background-color: #f0f8ff;margin: 0.25em 0.25em;border: 1px dotted black;border-radius: 0.25em;box-sizing: border-box;}#sk-057e962b-f1e4-42ba-b6da-4ad4bf84291f div.sk-estimator:hover {background-color: #d4ebff;}#sk-057e962b-f1e4-42ba-b6da-4ad4bf84291f div.sk-parallel-item::after {content: \"\";width: 100%;border-bottom: 1px solid gray;flex-grow: 1;}#sk-057e962b-f1e4-42ba-b6da-4ad4bf84291f div.sk-label:hover label.sk-toggleable__label {background-color: #d4ebff;}#sk-057e962b-f1e4-42ba-b6da-4ad4bf84291f div.sk-serial::before {content: \"\";position: absolute;border-left: 1px solid gray;box-sizing: border-box;top: 2em;bottom: 0;left: 50%;}#sk-057e962b-f1e4-42ba-b6da-4ad4bf84291f div.sk-serial {display: flex;flex-direction: column;align-items: center;background-color: white;}#sk-057e962b-f1e4-42ba-b6da-4ad4bf84291f div.sk-item {z-index: 1;}#sk-057e962b-f1e4-42ba-b6da-4ad4bf84291f div.sk-parallel {display: flex;align-items: stretch;justify-content: center;background-color: white;}#sk-057e962b-f1e4-42ba-b6da-4ad4bf84291f div.sk-parallel-item {display: flex;flex-direction: column;position: relative;background-color: white;}#sk-057e962b-f1e4-42ba-b6da-4ad4bf84291f div.sk-parallel-item:first-child::after {align-self: flex-end;width: 50%;}#sk-057e962b-f1e4-42ba-b6da-4ad4bf84291f div.sk-parallel-item:last-child::after {align-self: flex-start;width: 50%;}#sk-057e962b-f1e4-42ba-b6da-4ad4bf84291f div.sk-parallel-item:only-child::after {width: 0;}#sk-057e962b-f1e4-42ba-b6da-4ad4bf84291f div.sk-dashed-wrapped {border: 1px dashed gray;margin: 0.2em;box-sizing: border-box;padding-bottom: 0.1em;background-color: white;position: relative;}#sk-057e962b-f1e4-42ba-b6da-4ad4bf84291f div.sk-label label {font-family: monospace;font-weight: bold;background-color: white;display: inline-block;line-height: 1.2em;}#sk-057e962b-f1e4-42ba-b6da-4ad4bf84291f div.sk-label-container {position: relative;z-index: 2;text-align: center;}#sk-057e962b-f1e4-42ba-b6da-4ad4bf84291f div.sk-container {display: inline-block;position: relative;}</style><div id=\"sk-057e962b-f1e4-42ba-b6da-4ad4bf84291f\" class\"sk-top-container\"><div class=\"sk-container\"><div class=\"sk-item sk-dashed-wrapped\"><div class=\"sk-label-container\"><div class=\"sk-label sk-toggleable\"><input class=\"sk-toggleable__control sk-hidden--visually\" id=\"407beba4-f078-495a-ab7b-bef547de0dcf\" type=\"checkbox\" ><label class=\"sk-toggleable__label\" for=\"407beba4-f078-495a-ab7b-bef547de0dcf\">Pipeline</label><div class=\"sk-toggleable__content\"><pre>Pipeline(steps=[('preprocess',\n",
       "                 Pipeline(steps=[('feateng',\n",
       "                                  FeatureUnion(transformer_list=[('poly',\n",
       "                                                                  PolynomialFeatures(degree=3,\n",
       "                                                                                     include_bias=False)),\n",
       "                                                                 ('sine',\n",
       "                                                                  FunctionTransformer(func=<function sinefunc at 0x0000026EAE8EC310>,\n",
       "                                                                                      kw_args={'c': 2})),\n",
       "                                                                 ('cosine',\n",
       "                                                                  FunctionTransformer(func=<function cosfunc at 0x0000026EAE8EC160>))])),\n",
       "                                 ('scaler', StandardScaler())])),\n",
       "                ('ridge', Ridge(alpha=1))])</pre></div></div></div><div class=\"sk-serial\"><div class=\"sk-item\"><div class=\"sk-label-container\"><div class=\"sk-label sk-toggleable\"><input class=\"sk-toggleable__control sk-hidden--visually\" id=\"5c84a6d1-0b83-4c35-b11e-fab843ff3577\" type=\"checkbox\" ><label class=\"sk-toggleable__label\" for=\"5c84a6d1-0b83-4c35-b11e-fab843ff3577\">preprocess: Pipeline</label><div class=\"sk-toggleable__content\"><pre>Pipeline(steps=[('feateng',\n",
       "                 FeatureUnion(transformer_list=[('poly',\n",
       "                                                 PolynomialFeatures(degree=3,\n",
       "                                                                    include_bias=False)),\n",
       "                                                ('sine',\n",
       "                                                 FunctionTransformer(func=<function sinefunc at 0x0000026EAE8EC310>,\n",
       "                                                                     kw_args={'c': 2})),\n",
       "                                                ('cosine',\n",
       "                                                 FunctionTransformer(func=<function cosfunc at 0x0000026EAE8EC160>))])),\n",
       "                ('scaler', StandardScaler())])</pre></div></div></div><div class=\"sk-serial\"><div class=\"sk-item sk-dashed-wrapped\"><div class=\"sk-label-container\"><div class=\"sk-label sk-toggleable\"><input class=\"sk-toggleable__control sk-hidden--visually\" id=\"09968e5c-492e-4520-990c-05a42acb9757\" type=\"checkbox\" ><label class=\"sk-toggleable__label\" for=\"09968e5c-492e-4520-990c-05a42acb9757\">feateng: FeatureUnion</label><div class=\"sk-toggleable__content\"><pre>FeatureUnion(transformer_list=[('poly',\n",
       "                                PolynomialFeatures(degree=3,\n",
       "                                                   include_bias=False)),\n",
       "                               ('sine',\n",
       "                                FunctionTransformer(func=<function sinefunc at 0x0000026EAE8EC310>,\n",
       "                                                    kw_args={'c': 2})),\n",
       "                               ('cosine',\n",
       "                                FunctionTransformer(func=<function cosfunc at 0x0000026EAE8EC160>))])</pre></div></div></div><div class=\"sk-parallel\"><div class=\"sk-parallel-item\"><div class=\"sk-item\"><div class=\"sk-label-container\"><div class=\"sk-label sk-toggleable\"><label>poly</label></div></div><div class=\"sk-serial\"><div class=\"sk-item\"><div class=\"sk-estimator sk-toggleable\"><input class=\"sk-toggleable__control sk-hidden--visually\" id=\"f95b6db3-d22c-4ce8-976d-10a1add39da7\" type=\"checkbox\" ><label class=\"sk-toggleable__label\" for=\"f95b6db3-d22c-4ce8-976d-10a1add39da7\">PolynomialFeatures</label><div class=\"sk-toggleable__content\"><pre>PolynomialFeatures(degree=3, include_bias=False)</pre></div></div></div></div></div></div><div class=\"sk-parallel-item\"><div class=\"sk-item\"><div class=\"sk-label-container\"><div class=\"sk-label sk-toggleable\"><label>sine</label></div></div><div class=\"sk-serial\"><div class=\"sk-item\"><div class=\"sk-estimator sk-toggleable\"><input class=\"sk-toggleable__control sk-hidden--visually\" id=\"1c1e612a-f118-449f-b7b9-45d4108b55c6\" type=\"checkbox\" ><label class=\"sk-toggleable__label\" for=\"1c1e612a-f118-449f-b7b9-45d4108b55c6\">FunctionTransformer</label><div class=\"sk-toggleable__content\"><pre>FunctionTransformer(func=<function sinefunc at 0x0000026EAE8EC310>,\n",
       "                    kw_args={'c': 2})</pre></div></div></div></div></div></div><div class=\"sk-parallel-item\"><div class=\"sk-item\"><div class=\"sk-label-container\"><div class=\"sk-label sk-toggleable\"><label>cosine</label></div></div><div class=\"sk-serial\"><div class=\"sk-item\"><div class=\"sk-estimator sk-toggleable\"><input class=\"sk-toggleable__control sk-hidden--visually\" id=\"d4000e88-cae8-4032-8762-84426a1d42c1\" type=\"checkbox\" ><label class=\"sk-toggleable__label\" for=\"d4000e88-cae8-4032-8762-84426a1d42c1\">FunctionTransformer</label><div class=\"sk-toggleable__content\"><pre>FunctionTransformer(func=<function cosfunc at 0x0000026EAE8EC160>)</pre></div></div></div></div></div></div></div></div><div class=\"sk-item\"><div class=\"sk-estimator sk-toggleable\"><input class=\"sk-toggleable__control sk-hidden--visually\" id=\"edfcec25-d96d-41fe-bb85-536882481cbe\" type=\"checkbox\" ><label class=\"sk-toggleable__label\" for=\"edfcec25-d96d-41fe-bb85-536882481cbe\">StandardScaler</label><div class=\"sk-toggleable__content\"><pre>StandardScaler()</pre></div></div></div></div></div><div class=\"sk-item\"><div class=\"sk-estimator sk-toggleable\"><input class=\"sk-toggleable__control sk-hidden--visually\" id=\"23a0030a-5ad2-40c8-aa02-188068a32fcf\" type=\"checkbox\" ><label class=\"sk-toggleable__label\" for=\"23a0030a-5ad2-40c8-aa02-188068a32fcf\">Ridge</label><div class=\"sk-toggleable__content\"><pre>Ridge(alpha=1)</pre></div></div></div></div></div></div></div>"
>>>>>>> upstream/master
      ],
      "text/plain": [
       "Pipeline(steps=[('preprocess',\n",
       "                 Pipeline(steps=[('feateng',\n",
       "                                  FeatureUnion(transformer_list=[('poly',\n",
<<<<<<< HEAD
       "                                                                  PolynomialFeatures(include_bias=False)),\n",
       "                                                                 ('sine',\n",
       "                                                                  FunctionTransformer(func=<function sinefunc at 0x7faa397afc10>,\n",
       "                                                                                      kw_args={'c': 2})),\n",
       "                                                                 ('cosine',\n",
       "                                                                  FunctionTransformer(func=<function cosfunc at 0x7fa9f84ef9d0>))])),\n",
       "                                 ('scaler', StandardScaler())])),\n",
       "                ('ridge', Ridge(alpha=0.001))])"
      ]
     },
     "execution_count": 242,
=======
       "                                                                  PolynomialFeatures(degree=3,\n",
       "                                                                                     include_bias=False)),\n",
       "                                                                 ('sine',\n",
       "                                                                  FunctionTransformer(func=<function sinefunc at 0x0000026EAE8EC310>,\n",
       "                                                                                      kw_args={'c': 2})),\n",
       "                                                                 ('cosine',\n",
       "                                                                  FunctionTransformer(func=<function cosfunc at 0x0000026EAE8EC160>))])),\n",
       "                                 ('scaler', StandardScaler())])),\n",
       "                ('ridge', Ridge(alpha=1))])"
      ]
     },
     "execution_count": 152,
>>>>>>> upstream/master
     "metadata": {},
     "output_type": "execute_result"
    }
   ],
   "source": [
    "best_random = random_cv.best_estimator_\n",
    "best_random"
   ]
  },
  {
   "cell_type": "code",
<<<<<<< HEAD
   "execution_count": 243,
=======
   "execution_count": 153,
   "id": "eac9daf0",
>>>>>>> upstream/master
   "metadata": {
    "cell_style": "split",
    "slideshow": {
     "slide_type": "fragment"
    }
   },
   "outputs": [
    {
     "data": {
      "text/plain": [
<<<<<<< HEAD
       "0.8239558934451333"
      ]
     },
     "execution_count": 243,
=======
       "0.8449465192421659"
      ]
     },
     "execution_count": 153,
>>>>>>> upstream/master
     "metadata": {},
     "output_type": "execute_result"
    }
   ],
   "source": [
    "random_cv.best_score_"
   ]
  },
  {
   "cell_type": "markdown",
   "metadata": {
    "slideshow": {
     "slide_type": "slide"
    }
   },
   "source": [
    "Then after promising RandomSearchCV():\n",
    "- GridSearchCV (possibly):\n",
    "    - select best hyperparameter from random search.\n",
    "    - fine step grid search tuning around this point."
   ]
  },
  {
   "cell_type": "markdown",
   "metadata": {
    "slideshow": {
     "slide_type": "slide"
    }
   },
   "source": [
    "This is just the beginning of hyperperparameter tuning strategies:\n",
    "- Principled Bayesian approaches exist, etc.\n",
    "- That being said, RandomSearchCV used well is **very** effective"
   ]
  },
  {
   "cell_type": "code",
   "execution_count": null,
   "metadata": {},
   "outputs": [],
   "source": []
  },
  {
   "cell_type": "code",
   "execution_count": null,
   "metadata": {},
   "outputs": [],
   "source": []
  }
 ],
 "metadata": {
  "celltoolbar": "Slideshow",
  "hide_input": false,
  "kernelspec": {
   "display_name": "Python 3",
   "language": "python",
   "name": "python3"
  },
  "language_info": {
   "codemirror_mode": {
    "name": "ipython",
    "version": 3
   },
   "file_extension": ".py",
   "mimetype": "text/x-python",
   "name": "python",
   "nbconvert_exporter": "python",
   "pygments_lexer": "ipython3",
   "version": "3.8.5"
  },
  "latex_envs": {
   "LaTeX_envs_menu_present": true,
   "autoclose": false,
   "autocomplete": true,
   "bibliofile": "biblio.bib",
   "cite_by": "apalike",
   "current_citInitial": 1,
   "eqLabelWithNumbers": true,
   "eqNumInitial": 1,
   "hotkeys": {
    "equation": "Ctrl-E",
    "itemize": "Ctrl-I"
   },
   "labels_anchors": false,
   "latex_user_defs": false,
   "report_style_numbering": false,
   "user_envs_cfg": false
  },
  "nbTranslate": {
   "displayLangs": [
    "*"
   ],
   "hotkey": "alt-t",
   "langInMainMenu": true,
   "sourceLang": "en",
   "targetLang": "fr",
   "useGoogleTranslate": true
  },
  "toc": {
   "base_numbering": 1,
   "nav_menu": {},
   "number_sections": true,
   "sideBar": true,
   "skip_h1_title": false,
   "title_cell": "Table of Contents",
   "title_sidebar": "TOC",
   "toc_cell": true,
   "toc_position": {
    "height": "calc(100% - 180px)",
    "left": "10px",
    "top": "150px",
    "width": "232px"
   },
   "toc_section_display": true,
   "toc_window_display": false
  }
 },
 "nbformat": 4,
 "nbformat_minor": 5
}
